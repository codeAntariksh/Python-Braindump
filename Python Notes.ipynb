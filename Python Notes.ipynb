{
 "cells": [
  {
   "cell_type": "markdown",
   "id": "03bd284b-8a19-4f13-b1ea-6749c79e3a24",
   "metadata": {},
   "source": [
    "# Python Programming\n"
   ]
  },
  {
   "cell_type": "markdown",
   "id": "8e035437-d76d-40b7-894f-a7a230305041",
   "metadata": {},
   "source": [
    "# Python Basics\n"
   ]
  },
  {
   "cell_type": "markdown",
   "id": "28640598-b711-4afd-bf3f-89ca20b5a977",
   "metadata": {},
   "source": [
    "### Variable Declaration and Initialisation"
   ]
  },
  {
   "cell_type": "code",
   "execution_count": 23,
   "id": "ab9b7058-4bed-442e-8a9f-6f7f972b6c17",
   "metadata": {},
   "outputs": [],
   "source": [
    "a=10\n",
    "b=\"name\"\n",
    "c=25.67\n",
    "d='c'"
   ]
  },
  {
   "cell_type": "code",
   "execution_count": 18,
   "id": "72a323cf-0762-4bd2-a4fb-17f5c519ac2c",
   "metadata": {},
   "outputs": [
    {
     "name": "stdout",
     "output_type": "stream",
     "text": [
      "Puja\n",
      "259\n",
      "987\n"
     ]
    }
   ],
   "source": [
    "name,price,marks=\"Puja\",259,987\n",
    "print(name)\n",
    "print(price)\n",
    "print(marks)"
   ]
  },
  {
   "cell_type": "code",
   "execution_count": 20,
   "id": "963c7ac3-1fe0-4413-9981-ad848276e129",
   "metadata": {},
   "outputs": [
    {
     "ename": "TypeError",
     "evalue": "cannot unpack non-iterable int object",
     "output_type": "error",
     "traceback": [
      "\u001b[1;31m---------------------------------------------------------------------------\u001b[0m",
      "\u001b[1;31mTypeError\u001b[0m                                 Traceback (most recent call last)",
      "Cell \u001b[1;32mIn[20], line 2\u001b[0m\n\u001b[0;32m      1\u001b[0m x\u001b[38;5;241m=\u001b[39my\u001b[38;5;241m=\u001b[39mz\u001b[38;5;241m=\u001b[39m\u001b[38;5;241m56\u001b[39m\n\u001b[1;32m----> 2\u001b[0m a,b,c\u001b[38;5;241m=\u001b[39m\u001b[38;5;241m89\u001b[39m\n\u001b[0;32m      3\u001b[0m \u001b[38;5;28mprint\u001b[39m(x,\u001b[38;5;124m'\u001b[39m\u001b[38;5;124m,\u001b[39m\u001b[38;5;124m'\u001b[39m,y,\u001b[38;5;124m'\u001b[39m\u001b[38;5;124m,\u001b[39m\u001b[38;5;124m'\u001b[39m,z)\n\u001b[0;32m      4\u001b[0m \u001b[38;5;28mprint\u001b[39m(a,\u001b[38;5;124m'\u001b[39m\u001b[38;5;124m,\u001b[39m\u001b[38;5;124m'\u001b[39m,b,\u001b[38;5;124m'\u001b[39m\u001b[38;5;124m,\u001b[39m\u001b[38;5;124m'\u001b[39m,c)\n",
      "\u001b[1;31mTypeError\u001b[0m: cannot unpack non-iterable int object"
     ]
    }
   ],
   "source": [
    "x=y=z=56\n",
    "a,b,c=89\n",
    "print(x,',',y,',',z)\n",
    "print(a,',',b,',',c)\n"
   ]
  },
  {
   "cell_type": "markdown",
   "id": "386687b6-3d93-4cb7-a301-eaf8ae7b7c3d",
   "metadata": {},
   "source": [
    "HENCE INITIALISATION OF SUCH SORT IS NOT POSSIBLE"
   ]
  },
  {
   "cell_type": "markdown",
   "id": "2b4f6a13-8eca-45b3-a45a-3bc3a95326c8",
   "metadata": {},
   "source": [
    "### Dynamic Declaration"
   ]
  },
  {
   "cell_type": "markdown",
   "id": "8cd8cfe5-eb69-4329-80cf-f49560f33a84",
   "metadata": {},
   "source": [
    "In Python, There is Dynamic Declaration, Hence variable's datatype is directly a function of the value type it holds."
   ]
  },
  {
   "cell_type": "code",
   "execution_count": 32,
   "id": "fdce85a8-a10e-4c14-ae08-aca4587fc772",
   "metadata": {},
   "outputs": [
    {
     "name": "stdout",
     "output_type": "stream",
     "text": [
      "<class 'str'>\n"
     ]
    }
   ],
   "source": [
    "a=\"name\"\n",
    "print(type(a))\n"
   ]
  },
  {
   "cell_type": "markdown",
   "id": "37f3c459-1057-47ad-a849-312f9328df83",
   "metadata": {},
   "source": [
    "When I am changing the type of data from string to float. See what happens"
   ]
  },
  {
   "cell_type": "code",
   "execution_count": 50,
   "id": "5ede460e-cc8a-4702-8f6a-345327c79b91",
   "metadata": {},
   "outputs": [
    {
     "name": "stdout",
     "output_type": "stream",
     "text": [
      "<class 'str'>\n",
      "<class 'float'>\n",
      "<class 'int'>\n",
      "<class 'str'>\n",
      "<class 'list'>\n",
      "<class 'bool'>\n"
     ]
    }
   ],
   "source": [
    "a=\"name\"\n",
    "print(type(a))\n",
    "a=56.23\n",
    "print(type(a))\n",
    "a=56\n",
    "print(type(a))\n",
    "a='c'\n",
    "print(type(a))\n",
    "a=[25,\"name\",25.16,'true']\n",
    "print(type(a))\n",
    "a=True\n",
    "print(type(a))"
   ]
  },
  {
   "cell_type": "markdown",
   "id": "85881326-0547-42c9-8851-681af1e175f3",
   "metadata": {},
   "source": [
    "Here we saw how datatype of 'a' changes according to the type of data it holds\n",
    "\n",
    "Also it is interesting to see how the datatype when a='c' displays string instead of character."
   ]
  },
  {
   "cell_type": "markdown",
   "id": "acd2e2af-bedf-47cd-9b4a-0c28584ca56e",
   "metadata": {},
   "source": [
    "## Rules of Declaration"
   ]
  },
  {
   "cell_type": "markdown",
   "id": "a95fced8-91da-478d-9b0c-0c8a6083df77",
   "metadata": {},
   "source": [
    "Same as of C/C++\n",
    "\n",
    "1.Variable must start with alphabet or _\n",
    "\n",
    "2.Case Sensitive\n",
    "\n",
    "3.Keywords Cannot be Used"
   ]
  },
  {
   "cell_type": "code",
   "execution_count": 47,
   "id": "f90f1e0f-5209-4606-8800-e3ac09549540",
   "metadata": {},
   "outputs": [
    {
     "ename": "SyntaxError",
     "evalue": "invalid decimal literal (1301362734.py, line 3)",
     "output_type": "error",
     "traceback": [
      "\u001b[1;36m  Cell \u001b[1;32mIn[47], line 3\u001b[1;36m\u001b[0m\n\u001b[1;33m    1lk=77\u001b[0m\n\u001b[1;37m    ^\u001b[0m\n\u001b[1;31mSyntaxError\u001b[0m\u001b[1;31m:\u001b[0m invalid decimal literal\n"
     ]
    }
   ],
   "source": [
    "a1=26\n",
    "_buy=78\n",
    "1lk=77"
   ]
  },
  {
   "cell_type": "markdown",
   "id": "3e10f777-0625-4919-b881-341caf950d9a",
   "metadata": {},
   "source": [
    "## Python Data Types"
   ]
  },
  {
   "cell_type": "markdown",
   "id": "265b4c4e-6aeb-44aa-b1e8-c803e6289667",
   "metadata": {},
   "source": [
    "In Python there are 4 types of Data Types\n",
    "\n",
    "1.Numeric\n",
    "\n",
    "2.Sequence\n",
    "\n",
    "3.Dictionary\n",
    "\n",
    "4.Set"
   ]
  },
  {
   "cell_type": "markdown",
   "id": "42edb04d-6204-422f-b51d-f1dfed21bdde",
   "metadata": {},
   "source": [
    "## Numeric Data Type"
   ]
  },
  {
   "cell_type": "markdown",
   "id": "65c4e1d0-b19f-4f3d-9f2b-9d49e119b897",
   "metadata": {},
   "source": [
    "4 Classes include int,bool,complex,float"
   ]
  },
  {
   "cell_type": "markdown",
   "id": "fa1db4cf-6cdf-47d1-986a-70f834b866de",
   "metadata": {},
   "source": [
    "### Int Data Type"
   ]
  },
  {
   "cell_type": "markdown",
   "id": "85bdde22-2694-4c4b-9b89-4e527e1e22b7",
   "metadata": {},
   "source": [
    "Unlike C/C++ where size is fixed (4 bytes). Here size is dependent on the basis of the literal Declared"
   ]
  },
  {
   "cell_type": "code",
   "execution_count": 61,
   "id": "4965ce82-b3d3-4c2c-b7e6-d11e2bdeb5eb",
   "metadata": {},
   "outputs": [
    {
     "name": "stdout",
     "output_type": "stream",
     "text": [
      "28\n",
      "32\n"
     ]
    }
   ],
   "source": [
    "a=569\n",
    "b=87541661654511646\n",
    "print(a.__sizeof__())\n",
    "print(b.__sizeof__())"
   ]
  },
  {
   "cell_type": "markdown",
   "id": "962d5ddd-a1c8-4855-a958-42546d386a84",
   "metadata": {},
   "source": [
    "Although Value Assigned Changes when declared, The space declared during initial declaration is not deleted"
   ]
  },
  {
   "cell_type": "code",
   "execution_count": 64,
   "id": "c2571c11-39d5-4d90-9a8b-0cb436d5dcbf",
   "metadata": {},
   "outputs": [
    {
     "name": "stdout",
     "output_type": "stream",
     "text": [
      "22\n"
     ]
    }
   ],
   "source": [
    "a=15 # Initially Value Assigned and 2 blocks of spaces are created with a and 15\n",
    "a=22 # A block of 22 is assigned and A now points to it but the block of 15 is not deleted\n",
    "print(a)\n"
   ]
  },
  {
   "cell_type": "markdown",
   "id": "6cfed453-c60e-41be-8656-b6d62056894e",
   "metadata": {},
   "source": [
    "### Float Datatype"
   ]
  },
  {
   "cell_type": "code",
   "execution_count": 68,
   "id": "3888ef35-03ad-42b2-83df-2bb053f6a604",
   "metadata": {},
   "outputs": [
    {
     "name": "stdout",
     "output_type": "stream",
     "text": [
      "1.91e+16\n"
     ]
    }
   ],
   "source": [
    "a=15.369\n",
    "a=123.166e3\n",
    "a=19.10E15\n",
    "print(a)"
   ]
  },
  {
   "cell_type": "markdown",
   "id": "19e681b7-2ab9-4ab6-a136-167ca990aff2",
   "metadata": {},
   "source": [
    "Here e or E = 10^(). It is a kind of declaration akin to what we generally write\n",
    "\n",
    "Suppose we want to declare a=1.5 * 10^(-9)"
   ]
  },
  {
   "cell_type": "code",
   "execution_count": 71,
   "id": "81048462-a393-409b-bd89-1f9ec88cc0b7",
   "metadata": {},
   "outputs": [
    {
     "name": "stdout",
     "output_type": "stream",
     "text": [
      "1.5e-09\n"
     ]
    }
   ],
   "source": [
    "a=1.5e-9\n",
    "print(a)"
   ]
  },
  {
   "cell_type": "markdown",
   "id": "124cdc68-0d9e-4358-a91c-a4f06d9e8bd8",
   "metadata": {},
   "source": [
    "### Bool Datatype"
   ]
  },
  {
   "cell_type": "markdown",
   "id": "15abae5d-a2f5-45a0-946f-4f9a361286fa",
   "metadata": {},
   "source": [
    "In Bool Datatype, \"True\" with a capital T is used and \"False\" with a capital F is used. \n",
    "\n",
    "Mind it!! Don't write small t!!"
   ]
  },
  {
   "cell_type": "code",
   "execution_count": 75,
   "id": "7323a245-bcd9-48bd-b136-8186bfde87ef",
   "metadata": {},
   "outputs": [
    {
     "ename": "NameError",
     "evalue": "name 'true' is not defined",
     "output_type": "error",
     "traceback": [
      "\u001b[1;31m---------------------------------------------------------------------------\u001b[0m",
      "\u001b[1;31mNameError\u001b[0m                                 Traceback (most recent call last)",
      "Cell \u001b[1;32mIn[75], line 2\u001b[0m\n\u001b[0;32m      1\u001b[0m a\u001b[38;5;241m=\u001b[39m\u001b[38;5;28;01mTrue\u001b[39;00m\n\u001b[1;32m----> 2\u001b[0m b\u001b[38;5;241m=\u001b[39mtrue\n\u001b[0;32m      3\u001b[0m \u001b[38;5;28mprint\u001b[39m(\u001b[38;5;28mtype\u001b[39m(a))\n\u001b[0;32m      4\u001b[0m \u001b[38;5;28mprint\u001b[39m(\u001b[38;5;28mtype\u001b[39m(b))\n",
      "\u001b[1;31mNameError\u001b[0m: name 'true' is not defined"
     ]
    }
   ],
   "source": [
    "a=True\n",
    "b=true\n",
    "print(type(a))\n",
    "print(type(b))"
   ]
  },
  {
   "cell_type": "code",
   "execution_count": 82,
   "id": "a34a8270-a9f8-4d6a-9c03-7eb4084975f1",
   "metadata": {},
   "outputs": [
    {
     "name": "stdout",
     "output_type": "stream",
     "text": [
      "1\n",
      "0\n"
     ]
    }
   ],
   "source": [
    "a=True\n",
    "b=False\n",
    "print(int(a))\n",
    "print(int(b))\n"
   ]
  },
  {
   "cell_type": "markdown",
   "id": "01bc941b-d0e4-49fb-b815-ed0974340cbb",
   "metadata": {},
   "source": [
    "#### (A Slight Introduction to Type Casting)"
   ]
  },
  {
   "cell_type": "code",
   "execution_count": 89,
   "id": "673f9313-03d3-4673-934f-092f4d972140",
   "metadata": {},
   "outputs": [
    {
     "name": "stdout",
     "output_type": "stream",
     "text": [
      "True\n",
      "False\n"
     ]
    }
   ],
   "source": [
    "c=15\n",
    "print(bool(c))\n",
    "d=0\n",
    "print(bool(d))"
   ]
  },
  {
   "cell_type": "markdown",
   "id": "17fbc5ec-c459-49df-bda7-5d9d507bc869",
   "metadata": {},
   "source": [
    "## Complex Datatype"
   ]
  },
  {
   "cell_type": "markdown",
   "id": "38dd5c29-7b78-4264-b9d6-b48d954258a2",
   "metadata": {},
   "source": [
    "In Python Complex Data Type is predefined and can be initialised in the format (a+bj) where a and b are variables or literals"
   ]
  },
  {
   "cell_type": "code",
   "execution_count": 116,
   "id": "83ec64f3-3688-4005-a803-b1d2b8da1b19",
   "metadata": {},
   "outputs": [
    {
     "name": "stdout",
     "output_type": "stream",
     "text": [
      "(25+36.23j) <class 'complex'>\n"
     ]
    }
   ],
   "source": [
    "a=25\n",
    "b=36.23\n",
    "c=complex(a,b)\n",
    "print(c,type(c))"
   ]
  },
  {
   "cell_type": "code",
   "execution_count": 100,
   "id": "329d1f81-4977-4fc9-a5dd-175f9a118839",
   "metadata": {},
   "outputs": [
    {
     "name": "stdout",
     "output_type": "stream",
     "text": [
      "<class 'complex'>\n",
      "<built-in method __sizeof__ of complex object at 0x000001710980DE90>\n"
     ]
    }
   ],
   "source": [
    "a=13+59.24j\n",
    "print(type(a))\n",
    "print(a.__sizeof__)\n"
   ]
  },
  {
   "cell_type": "markdown",
   "id": "e2823bca-936d-4a2b-9076-e8a416c2ecae",
   "metadata": {},
   "source": [
    "Common practices we use are  "
   ]
  },
  {
   "cell_type": "code",
   "execution_count": 109,
   "id": "633d915f-54bc-4427-9997-ea097047b421",
   "metadata": {},
   "outputs": [
    {
     "name": "stdout",
     "output_type": "stream",
     "text": [
      "15.0 78.0\n",
      "(15+12.3j)\n",
      "(45+0j)\n"
     ]
    }
   ],
   "source": [
    "a=15+78j\n",
    "print(a.real , a.imag)\n",
    "c=complex(15,12.3)\n",
    "print(c)\n",
    "d=complex(45)\n",
    "print(d)"
   ]
  },
  {
   "cell_type": "markdown",
   "id": "29888e8a-aea1-4ddb-b540-cb0a0ac43842",
   "metadata": {},
   "source": [
    "So attributes 'real' and 'imag' are used to represent the real and imaginary parts respectively"
   ]
  },
  {
   "cell_type": "markdown",
   "id": "f5a4f14b-f139-4465-867b-e64b0401e031",
   "metadata": {},
   "source": [
    "## Literals"
   ]
  },
  {
   "cell_type": "markdown",
   "id": "2164cf3f-ad0e-407b-aebd-027e11e241cd",
   "metadata": {},
   "source": [
    "##### Integer Literals"
   ]
  },
  {
   "cell_type": "code",
   "execution_count": 137,
   "id": "b74781a9-ef0b-4d38-a6c0-233ace87b7ff",
   "metadata": {},
   "outputs": [
    {
     "name": "stdout",
     "output_type": "stream",
     "text": [
      "<class 'int'> <class 'int'> <class 'int'> <class 'int'>\n"
     ]
    }
   ],
   "source": [
    "a=1256 #here 1256 is a literal\n",
    "b=12_536\n",
    "c=1_2_3_456_7894\n",
    "d=1496_45_63\n",
    "print(type(a),type(b),type(c),type(d))"
   ]
  },
  {
   "cell_type": "markdown",
   "id": "67c2eb4f-809f-4ba6-a158-5795637a5e00",
   "metadata": {},
   "source": [
    "_ can be used almost after every number and number will be declared."
   ]
  },
  {
   "cell_type": "markdown",
   "id": "12545276-a9b6-4a9b-bd4a-3ea87ee7a7f3",
   "metadata": {},
   "source": [
    "##### Float Literals"
   ]
  },
  {
   "cell_type": "code",
   "execution_count": 129,
   "id": "58f2374f-1d8b-4882-b17d-8fd65fd14fc8",
   "metadata": {},
   "outputs": [
    {
     "name": "stdout",
     "output_type": "stream",
     "text": [
      "<class 'float'> <class 'float'>\n",
      "1236.46 1256223894.16\n"
     ]
    }
   ],
   "source": [
    "a=12.3646e2\n",
    "b=12562_23.8_9416e3\n",
    "print(type(a),type(b))\n",
    "print(a,b)"
   ]
  },
  {
   "cell_type": "markdown",
   "id": "fd5e683f-dcf2-4155-87ad-131b8829877e",
   "metadata": {},
   "source": [
    " **NOTE** - But before and after decimal \"_(underscore)\" cannot be used"
   ]
  },
  {
   "cell_type": "code",
   "execution_count": 132,
   "id": "bd842914-4c90-4ab8-b0c8-e3afba0572a4",
   "metadata": {},
   "outputs": [
    {
     "ename": "SyntaxError",
     "evalue": "invalid decimal literal (870224494.py, line 1)",
     "output_type": "error",
     "traceback": [
      "\u001b[1;36m  Cell \u001b[1;32mIn[132], line 1\u001b[1;36m\u001b[0m\n\u001b[1;33m    a=12_365._46\u001b[0m\n\u001b[1;37m            ^\u001b[0m\n\u001b[1;31mSyntaxError\u001b[0m\u001b[1;31m:\u001b[0m invalid decimal literal\n"
     ]
    }
   ],
   "source": [
    "a=12_365._46"
   ]
  },
  {
   "cell_type": "markdown",
   "id": "52514ac1-1d36-40e5-a4a7-8dffa9c2166a",
   "metadata": {},
   "source": [
    "##### Complex Literals"
   ]
  },
  {
   "cell_type": "code",
   "execution_count": 147,
   "id": "3532db24-7a62-4102-9ebc-edb4892a6ebb",
   "metadata": {},
   "outputs": [
    {
     "name": "stdout",
     "output_type": "stream",
     "text": [
      "(598+4.287j)\n"
     ]
    }
   ],
   "source": [
    "a=5_98+4.2_87j\n",
    "print(a)\n"
   ]
  },
  {
   "cell_type": "markdown",
   "id": "4cf8c19b-201c-4a35-a0f4-68163f26ebf8",
   "metadata": {},
   "source": [
    "## Literals and Number System"
   ]
  },
  {
   "cell_type": "markdown",
   "id": "bd331eb9-70dd-4e31-839a-681625d9e66e",
   "metadata": {},
   "source": [
    "When we want to store integers based on Base Conversion, \"0bxxxx\" is denoted where b=base('b' for binary,'o' for octal,'x' or 'X' for hexadecimal)"
   ]
  },
  {
   "cell_type": "code",
   "execution_count": 160,
   "id": "5b4555ba-0df3-4636-be17-196c257a0c4c",
   "metadata": {},
   "outputs": [
    {
     "name": "stdout",
     "output_type": "stream",
     "text": [
      "10\n",
      "83\n",
      "2748\n",
      "11\n"
     ]
    }
   ],
   "source": [
    "a=0b1010\n",
    "print(a)\n",
    "b=0o123\n",
    "print(b)\n",
    "c=0xABC\n",
    "print(c)\n",
    "g=0Xb\n",
    "print(g)"
   ]
  },
  {
   "cell_type": "markdown",
   "id": "8b25be48-4d9f-4da7-a079-7ef5dad36a12",
   "metadata": {},
   "source": [
    "But in terms of Complex Numbers, Only Real Part can be displayed\n"
   ]
  },
  {
   "cell_type": "code",
   "execution_count": 167,
   "id": "2e07baf7-a562-47cc-8833-8f95fc82d4b5",
   "metadata": {},
   "outputs": [
    {
     "name": "stdout",
     "output_type": "stream",
     "text": [
      "(4779+456j) (45+23032.6j)\n"
     ]
    }
   ],
   "source": [
    "a=0x12aB+456j\n",
    "b=0b101101+23.0326e3j\n",
    "print(a,b)"
   ]
  },
  {
   "cell_type": "markdown",
   "id": "e563c7df-bfb6-445c-ad39-524296501518",
   "metadata": {},
   "source": [
    "## Input Taking"
   ]
  },
  {
   "cell_type": "code",
   "execution_count": 173,
   "id": "f8e9a879-4850-4a74-8224-c6eba9dc8cbf",
   "metadata": {},
   "outputs": [
    {
     "name": "stdin",
     "output_type": "stream",
     "text": [
      "Enter a = 15\n",
      "Enter b= 236\n"
     ]
    },
    {
     "name": "stdout",
     "output_type": "stream",
     "text": [
      "Sum of 15 and  236 is  15236\n",
      "<class 'str'> <class 'str'> <class 'str'>\n"
     ]
    }
   ],
   "source": [
    "a=input(\"Enter a =\")\n",
    "b=input(\"Enter b=\")\n",
    "c=a+b\n",
    "print(\"Sum of\",a,\"and \",b,\"is \",c)\n",
    "print(type(a),type(b),type(c))\n"
   ]
  },
  {
   "cell_type": "markdown",
   "id": "bb1883d6-a8f0-4cfd-bb47-d25419fbc1e6",
   "metadata": {},
   "source": [
    "**This Example is mind blowing, these indicates that when we take input, untill typecasted, it is stored as string by default**"
   ]
  },
  {
   "cell_type": "markdown",
   "id": "c8efb19a-797b-45e2-8016-76aecee5bfc9",
   "metadata": {},
   "source": [
    "## TypeCasting"
   ]
  },
  {
   "cell_type": "markdown",
   "id": "023b6d0d-53a6-47e7-8526-1425ef2b630f",
   "metadata": {},
   "source": [
    "**To convert the type of datatype we want to register, we do TypeCasting**"
   ]
  },
  {
   "cell_type": "code",
   "execution_count": 186,
   "id": "340d6e51-71ad-4339-9c6f-b00d69f3556e",
   "metadata": {},
   "outputs": [
    {
     "name": "stdin",
     "output_type": "stream",
     "text": [
      "Enter a= 0b110101\n",
      "Enter b= LOVE\n"
     ]
    },
    {
     "name": "stdout",
     "output_type": "stream",
     "text": [
      "53  +  True  = 54\n"
     ]
    }
   ],
   "source": [
    "a=int(input(\"Enter a=\"),2) #int(number,base)\n",
    "b=bool(input(\"Enter b=\"))\n",
    "c=a+b\n",
    "print(a,\" + \",b,\" =\",c)"
   ]
  },
  {
   "cell_type": "markdown",
   "id": "9ccd271a-253b-457c-9bad-1d1f645f2bd8",
   "metadata": {},
   "source": [
    "**WE USE int(), bool(), float(), complex(), str() for typecasting**"
   ]
  },
  {
   "cell_type": "code",
   "execution_count": 190,
   "id": "643106f8-3da8-459c-96a7-d3c2d33dee5a",
   "metadata": {},
   "outputs": [
    {
     "name": "stdin",
     "output_type": "stream",
     "text": [
      "Enter Real Part= 3.55691\n",
      "Enter Imaginary Part= 61526.62\n"
     ]
    },
    {
     "name": "stdout",
     "output_type": "stream",
     "text": [
      "(3.55691+61526.62j)\n"
     ]
    }
   ],
   "source": [
    "price=complex(float(input(\"Enter Real Part=\")),float(input(\"Enter Imaginary Part=\")))\n",
    "print(price)"
   ]
  },
  {
   "cell_type": "code",
   "execution_count": 194,
   "id": "d8480b55-dbab-464a-8ba4-45712bd89376",
   "metadata": {},
   "outputs": [
    {
     "name": "stdin",
     "output_type": "stream",
     "text": [
      "Real= 152\n",
      "Imag= 256\n",
      "Real= 489\n",
      "Imag= 12\n"
     ]
    },
    {
     "name": "stdout",
     "output_type": "stream",
     "text": [
      "(641+268j)\n"
     ]
    }
   ],
   "source": [
    "a=complex(int(input(\"Real=\")),int(input(\"Imag=\")))\n",
    "b=complex(int(input(\"Real=\")),int(input(\"Imag=\")))\n",
    "c=a+b\n",
    "print(c)"
   ]
  },
  {
   "cell_type": "code",
   "execution_count": 199,
   "id": "65c48c5e-6c0a-452c-9ea2-f34fc0543511",
   "metadata": {},
   "outputs": [
    {
     "name": "stdout",
     "output_type": "stream",
     "text": [
      "(1+15.23j) (10+6j) 26\n"
     ]
    }
   ],
   "source": [
    "i=1\n",
    "f=15.23\n",
    "b=True\n",
    "c=10+6j\n",
    "d='Tim Cheese'\n",
    "x=complex(i,f)\n",
    "y=str(c)\n",
    "s4=\"0b11010\"\n",
    "t=int(s4,2)\n",
    "print(x,y,t)"
   ]
  },
  {
   "cell_type": "markdown",
   "id": "eda157d2-6838-48d3-b277-b6e26facc87f",
   "metadata": {},
   "source": [
    "**For Bool,**\n",
    "\n",
    "only when 0 in int,float = false\n",
    "and if empty string = false,\n",
    "\n",
    "If Unempty String or non-zero int,float then True  "
   ]
  },
  {
   "cell_type": "markdown",
   "id": "a2713341-0d3f-4dd2-b2ce-6a44c66fd81f",
   "metadata": {},
   "source": [
    "**Legal Conversions**\n",
    "\n",
    "Bool from All\n",
    "\n",
    "String from All\n",
    "\n",
    "Complex from All(Valid)\n",
    "\n",
    "Integer from Bool,Float and String(if no)\n",
    "\n",
    "Float from Bool,Float and String(if no)\n"
   ]
  },
  {
   "cell_type": "markdown",
   "id": "2e8e3f02-b68f-47b1-bed5-3d5261e00634",
   "metadata": {},
   "source": [
    "## Base Conversions"
   ]
  },
  {
   "cell_type": "markdown",
   "id": "84834e2b-50cd-43e5-9524-928fbc941b9a",
   "metadata": {},
   "source": [
    "**bin(), oct(), hex() are used and all return string**"
   ]
  },
  {
   "cell_type": "code",
   "execution_count": 214,
   "id": "f0f6da20-be74-4337-a923-e2d2880617a0",
   "metadata": {},
   "outputs": [
    {
     "name": "stdout",
     "output_type": "stream",
     "text": [
      "0b11000001000100\n",
      "0o30104\n",
      "0x3044\n"
     ]
    }
   ],
   "source": [
    "x=12356\n",
    "print(bin(x))\n",
    "print(oct(x))\n",
    "print(hex(x))"
   ]
  },
  {
   "cell_type": "code",
   "execution_count": 216,
   "id": "d06235f7-e476-405e-9b87-bcd2b09e5014",
   "metadata": {},
   "outputs": [
    {
     "name": "stdout",
     "output_type": "stream",
     "text": [
      "0b1\n",
      "0x0\n"
     ]
    }
   ],
   "source": [
    "print(bin(True))\n",
    "print(hex(False))\n"
   ]
  },
  {
   "cell_type": "markdown",
   "id": "cb3d415c-4b34-4bdc-9c8c-4d3a941f992f",
   "metadata": {},
   "source": [
    "**These Base Conversions can only be interpreted from integers and Bool(0 and 1)**"
   ]
  },
  {
   "cell_type": "code",
   "execution_count": 230,
   "id": "c729cfb0-b411-4ad0-ab7f-78de75c206ee",
   "metadata": {},
   "outputs": [
    {
     "ename": "TypeError",
     "evalue": "'complex' object cannot be interpreted as an integer",
     "output_type": "error",
     "traceback": [
      "\u001b[1;31m---------------------------------------------------------------------------\u001b[0m",
      "\u001b[1;31mTypeError\u001b[0m                                 Traceback (most recent call last)",
      "Cell \u001b[1;32mIn[230], line 1\u001b[0m\n\u001b[1;32m----> 1\u001b[0m \u001b[38;5;28mprint\u001b[39m(\u001b[38;5;28moct\u001b[39m(\u001b[38;5;241m23\u001b[39m\u001b[38;5;241m+\u001b[39m\u001b[38;5;241m45\u001b[39mj))\n",
      "\u001b[1;31mTypeError\u001b[0m: 'complex' object cannot be interpreted as an integer"
     ]
    }
   ],
   "source": [
    "print(oct(23+45j))"
   ]
  },
  {
   "cell_type": "code",
   "execution_count": 232,
   "id": "fc73eab1-a60a-4f0d-abfa-85a6d4fe5da9",
   "metadata": {},
   "outputs": [
    {
     "ename": "TypeError",
     "evalue": "'float' object cannot be interpreted as an integer",
     "output_type": "error",
     "traceback": [
      "\u001b[1;31m---------------------------------------------------------------------------\u001b[0m",
      "\u001b[1;31mTypeError\u001b[0m                                 Traceback (most recent call last)",
      "Cell \u001b[1;32mIn[232], line 1\u001b[0m\n\u001b[1;32m----> 1\u001b[0m \u001b[38;5;28mprint\u001b[39m(\u001b[38;5;28mhex\u001b[39m(\u001b[38;5;241m23.45\u001b[39m))\n",
      "\u001b[1;31mTypeError\u001b[0m: 'float' object cannot be interpreted as an integer"
     ]
    }
   ],
   "source": [
    "print(hex(23.45))"
   ]
  },
  {
   "cell_type": "code",
   "execution_count": 234,
   "id": "3e941d94-d00a-4eb4-932b-83dd773dcd89",
   "metadata": {},
   "outputs": [
    {
     "ename": "TypeError",
     "evalue": "'str' object cannot be interpreted as an integer",
     "output_type": "error",
     "traceback": [
      "\u001b[1;31m---------------------------------------------------------------------------\u001b[0m",
      "\u001b[1;31mTypeError\u001b[0m                                 Traceback (most recent call last)",
      "Cell \u001b[1;32mIn[234], line 1\u001b[0m\n\u001b[1;32m----> 1\u001b[0m \u001b[38;5;28mprint\u001b[39m(\u001b[38;5;28mbin\u001b[39m(\u001b[38;5;124m\"\u001b[39m\u001b[38;5;124mabcd\u001b[39m\u001b[38;5;124m\"\u001b[39m))\n",
      "\u001b[1;31mTypeError\u001b[0m: 'str' object cannot be interpreted as an integer"
     ]
    }
   ],
   "source": [
    "print(bin(\"abcd\"))"
   ]
  },
  {
   "cell_type": "code",
   "execution_count": 1,
   "id": "eebcd7f4-7b00-47c1-b909-d35a1c0a0b7b",
   "metadata": {},
   "outputs": [
    {
     "ename": "TypeError",
     "evalue": "'str' object cannot be interpreted as an integer",
     "output_type": "error",
     "traceback": [
      "\u001b[1;31m---------------------------------------------------------------------------\u001b[0m",
      "\u001b[1;31mTypeError\u001b[0m                                 Traceback (most recent call last)",
      "Cell \u001b[1;32mIn[1], line 1\u001b[0m\n\u001b[1;32m----> 1\u001b[0m \u001b[38;5;28mprint\u001b[39m(\u001b[38;5;28mbin\u001b[39m(\u001b[38;5;124m\"\u001b[39m\u001b[38;5;124m5\u001b[39m\u001b[38;5;124m\"\u001b[39m))\n",
      "\u001b[1;31mTypeError\u001b[0m: 'str' object cannot be interpreted as an integer"
     ]
    }
   ],
   "source": [
    "print(bin(\"5\"))"
   ]
  },
  {
   "cell_type": "markdown",
   "id": "9b5eefe8-2bd8-47b6-aa9b-9866c3799374",
   "metadata": {},
   "source": [
    "## Opeators and Expression"
   ]
  },
  {
   "cell_type": "markdown",
   "id": "b25c9955-84d2-4e48-b4e3-1f970f410abd",
   "metadata": {},
   "source": [
    "### Arithmetic Operations"
   ]
  },
  {
   "cell_type": "markdown",
   "id": "af335227-4986-4992-a66a-2ee7203d40bb",
   "metadata": {},
   "source": [
    "+,-,*,/,% are used with standard meaning and \"**\" is used which means power and \"//\" is used which means floor division."
   ]
  },
  {
   "cell_type": "code",
   "execution_count": 7,
   "id": "198366b1-dce9-4742-a5d0-820653b222e2",
   "metadata": {},
   "outputs": [
    {
     "name": "stdout",
     "output_type": "stream",
     "text": [
      "1.5\n",
      "4\n",
      "1\n",
      "429981696\n"
     ]
    }
   ],
   "source": [
    "x=12\n",
    "y=8\n",
    "print(x/y)\n",
    "print(x%y)\n",
    "print(x//y)\n",
    "print(x**y)"
   ]
  },
  {
   "cell_type": "markdown",
   "id": "7f2469b1-9084-4bd2-8c3d-e1bfdcaa6cf0",
   "metadata": {},
   "source": [
    "**// gives the quotient and % gives the remainder**"
   ]
  },
  {
   "cell_type": "markdown",
   "id": "4d4ab8b1-45dd-43a4-9a66-705e5b90b641",
   "metadata": {},
   "source": [
    "## Logical Operators and Precedence"
   ]
  },
  {
   "cell_type": "markdown",
   "id": "6e5212e3-e404-4894-905c-c4feea0b8795",
   "metadata": {},
   "source": [
    "**>> Right Shift, << Left Shift, & Bitwise AND, | Bitwise OR, ^ Bitwise X-OR and ~ Bitwise NOT**"
   ]
  },
  {
   "cell_type": "code",
   "execution_count": 20,
   "id": "96df9d2a-260d-47ce-a34d-9f20065168e8",
   "metadata": {},
   "outputs": [
    {
     "name": "stdout",
     "output_type": "stream",
     "text": [
      "2\n",
      "3\n",
      "-3\n",
      "-0b11\n",
      "0\n",
      "12\n"
     ]
    }
   ],
   "source": [
    "a=2\n",
    "b=3\n",
    "print(a&b)\n",
    "print(a|b)\n",
    "print(~a)\n",
    "print(bin(~a))\n",
    "print(b>>a)\n",
    "print(b<<a)"
   ]
  },
  {
   "cell_type": "markdown",
   "id": "ee63c7fa-7af8-47dc-97f3-616b08ea40f8",
   "metadata": {},
   "source": [
    "### Precedence"
   ]
  },
  {
   "cell_type": "markdown",
   "id": "914dbbd9-db2f-4d16-acaf-0eb20ff4eb94",
   "metadata": {},
   "source": [
    "(),F(),**,*,/,%,+,-,<<,>>,&,^,| are the Precedence"
   ]
  },
  {
   "cell_type": "markdown",
   "id": "681aa70f-a4d0-451e-8922-c2a43175b9f7",
   "metadata": {},
   "source": [
    "****Follows Right to Left Precedence and rest left to right** "
   ]
  },
  {
   "cell_type": "code",
   "execution_count": 27,
   "id": "2529f0ea-835d-40c9-9fe4-8609e31d1564",
   "metadata": {},
   "outputs": [
    {
     "name": "stdin",
     "output_type": "stream",
     "text": [
      "a= 2\n",
      "b= 1\n",
      "c= 3\n"
     ]
    },
    {
     "name": "stdout",
     "output_type": "stream",
     "text": [
      "2\n"
     ]
    }
   ],
   "source": [
    "a=int(input(\"a=\"))\n",
    "b=int(input(\"b=\"))\n",
    "c=int(input(\"c=\"))\n",
    "print(a**b**c) ## a^(b^c) is the operation"
   ]
  },
  {
   "cell_type": "markdown",
   "id": "fc3a0163-db21-4585-8aaa-c301c3cc1048",
   "metadata": {},
   "source": [
    "## Programs using Expression"
   ]
  },
  {
   "cell_type": "markdown",
   "id": "8859cc9f-f587-42ef-b475-de563f8a9017",
   "metadata": {},
   "source": [
    "#### Area of a Triangle"
   ]
  },
  {
   "cell_type": "code",
   "execution_count": 36,
   "id": "aa719b28-ba91-4e08-931d-abf4df7daebb",
   "metadata": {},
   "outputs": [
    {
     "name": "stdin",
     "output_type": "stream",
     "text": [
      "Base= 12\n",
      "Height= 23\n"
     ]
    },
    {
     "name": "stdout",
     "output_type": "stream",
     "text": [
      "Area is= 138.0\n"
     ]
    }
   ],
   "source": [
    "base=float(input(\"Base=\"))\n",
    "Height=float(input(\"Height=\"))\n",
    "Area=(1/2)*base*Height\n",
    "print(\"Area is=\",Area)"
   ]
  },
  {
   "cell_type": "markdown",
   "id": "8f86ca8b-b50e-4bd5-bcbe-23458febd669",
   "metadata": {},
   "source": [
    "#### Perimeter of a Rectangle"
   ]
  },
  {
   "cell_type": "code",
   "execution_count": 40,
   "id": "889c2803-3a19-42b2-9838-37e25b2394f3",
   "metadata": {},
   "outputs": [
    {
     "name": "stdin",
     "output_type": "stream",
     "text": [
      "Length= 15\n",
      "Breadth= 23\n"
     ]
    },
    {
     "name": "stdout",
     "output_type": "stream",
     "text": [
      "Perimeter is  76.0\n"
     ]
    }
   ],
   "source": [
    "l=int(input(\"Length=\"))\n",
    "b=int(input(\"Breadth=\"))\n",
    "peri=2*(l+b)\n",
    "print(\"Perimeter is \",float(peri))"
   ]
  },
  {
   "cell_type": "markdown",
   "id": "17bcda29-6653-4e82-9e0f-1b02f91476ba",
   "metadata": {},
   "source": [
    "#### Quadtratic Roots"
   ]
  },
  {
   "cell_type": "code",
   "execution_count": 45,
   "id": "85e6e665-6b09-49f4-8047-4746d4e56452",
   "metadata": {},
   "outputs": [
    {
     "name": "stdin",
     "output_type": "stream",
     "text": [
      "Enter a= 2\n",
      "Enter b= 10\n",
      "Enter c= 3\n"
     ]
    },
    {
     "name": "stdout",
     "output_type": "stream",
     "text": [
      "Roots are, x1= -0.320550528229663 x2= -4.6794494717703365\n"
     ]
    }
   ],
   "source": [
    "a=float(input(\"Enter a=\"))\n",
    "b=float(input(\"Enter b=\"))\n",
    "c=float(input(\"Enter c=\"))\n",
    "x1=(-b + (b**2-4*a*c)**(0.5))/(2*a)\n",
    "x2=(-b - (b**2-4*a*c)**(0.5))/(2*a)\n",
    "print(\"Roots are, x1=\",x1,\"x2=\",x2)"
   ]
  },
  {
   "cell_type": "markdown",
   "id": "f39482e2-8ee4-454d-9bfb-66df5abeb352",
   "metadata": {},
   "source": [
    "## Assignment Arithmetic Operators"
   ]
  },
  {
   "cell_type": "code",
   "execution_count": 53,
   "id": "558e171d-3c79-4b6e-a686-9ea8772606ca",
   "metadata": {},
   "outputs": [
    {
     "name": "stdout",
     "output_type": "stream",
     "text": [
      "46\n",
      "1.0454545454545454\n"
     ]
    },
    {
     "ename": "TypeError",
     "evalue": "unsupported operand type(s) for &=: 'float' and 'int'",
     "output_type": "error",
     "traceback": [
      "\u001b[1;31m---------------------------------------------------------------------------\u001b[0m",
      "\u001b[1;31mTypeError\u001b[0m                                 Traceback (most recent call last)",
      "Cell \u001b[1;32mIn[53], line 7\u001b[0m\n\u001b[0;32m      5\u001b[0m count\u001b[38;5;241m/\u001b[39m\u001b[38;5;241m=\u001b[39mb\n\u001b[0;32m      6\u001b[0m \u001b[38;5;28mprint\u001b[39m(count)\n\u001b[1;32m----> 7\u001b[0m count\u001b[38;5;241m&\u001b[39m\u001b[38;5;241m=\u001b[39mb\n\u001b[0;32m      8\u001b[0m \u001b[38;5;28mprint\u001b[39m(count)\n\u001b[0;32m      9\u001b[0m count\u001b[38;5;241m^\u001b[39m\u001b[38;5;241m=\u001b[39mb\n",
      "\u001b[1;31mTypeError\u001b[0m: unsupported operand type(s) for &=: 'float' and 'int'"
     ]
    }
   ],
   "source": [
    "count=2\n",
    "b=44\n",
    "count+=b\n",
    "print(count)\n",
    "count/=b\n",
    "print(count)\n",
    "count&=b\n",
    "print(count)\n",
    "count^=b\n",
    "count//=b\n",
    "print(~count)"
   ]
  },
  {
   "cell_type": "markdown",
   "id": "3ce57564-dae4-4efd-9d45-4d2c080b404d",
   "metadata": {},
   "source": [
    "After long division, the count becomes float, hence & operator is invalid"
   ]
  },
  {
   "cell_type": "code",
   "execution_count": 58,
   "id": "dff95aaf-9b49-4c58-8cf1-41a23562adc2",
   "metadata": {},
   "outputs": [
    {
     "name": "stdout",
     "output_type": "stream",
     "text": [
      "46\n",
      "1.0454545454545454\n",
      "-42.95454545454545\n",
      "-1.0\n"
     ]
    }
   ],
   "source": [
    "count=2\n",
    "b=44\n",
    "count+=b\n",
    "print(count)\n",
    "count/=b\n",
    "print(count)\n",
    "count-=b\n",
    "print(count)\n",
    "count//=b\n",
    "print(count)"
   ]
  },
  {
   "cell_type": "markdown",
   "id": "a8adf918-65f2-40e6-acb7-3b108368dae4",
   "metadata": {},
   "source": [
    "## Arithmetic Operators on all Data Types"
   ]
  },
  {
   "cell_type": "markdown",
   "id": "f57f7c4f-578a-44c0-b647-3ebe301386ab",
   "metadata": {},
   "source": [
    "**+,-,*,/,//, * * ,% will work on Integers, Bools and Floats flawlessly.**"
   ]
  },
  {
   "cell_type": "markdown",
   "id": "74163c8d-c9dc-4b79-a9eb-8300966f71d5",
   "metadata": {},
   "source": [
    "**In Complex- %,// do not work since they don't carry any meaning**  "
   ]
  },
  {
   "cell_type": "code",
   "execution_count": 65,
   "id": "c1526f57-4c76-4e6b-88b7-949e26f2df16",
   "metadata": {},
   "outputs": [
    {
     "name": "stdout",
     "output_type": "stream",
     "text": [
      "(-2.0792516652114816-14.174343908113224j)\n"
     ]
    }
   ],
   "source": [
    "a=5+6j\n",
    "b=3+4j\n",
    "print(a**b)"
   ]
  },
  {
   "cell_type": "markdown",
   "id": "7d949c87-c761-4fd6-8046-b5d46fe6ba39",
   "metadata": {},
   "source": [
    "**In Strings, only + and * act as follows**"
   ]
  },
  {
   "cell_type": "code",
   "execution_count": 70,
   "id": "b94759b9-10dc-413a-ba82-603458bd5030",
   "metadata": {},
   "outputs": [
    {
     "name": "stdout",
     "output_type": "stream",
     "text": [
      "hellohihihihellohihihi\n"
     ]
    }
   ],
   "source": [
    "a=\"hello\"\n",
    "b=\"hihihi\"\n",
    "print((a+b)*2)"
   ]
  },
  {
   "cell_type": "markdown",
   "id": "f3709e1c-ef4b-46b8-9b52-1a7d836be22f",
   "metadata": {},
   "source": [
    "**Any integer, float or complex operation with equivalent datatype results in same datatype**"
   ]
  },
  {
   "cell_type": "code",
   "execution_count": 73,
   "id": "e782ed0f-1e16-4adc-93ec-af623ce1f602",
   "metadata": {},
   "outputs": [
    {
     "name": "stdout",
     "output_type": "stream",
     "text": [
      "(1.352941176470588-1.5882352941176472j)\n"
     ]
    }
   ],
   "source": [
    "a=12+2j\n",
    "b=3+5j\n",
    "print(a/b)\n"
   ]
  },
  {
   "cell_type": "markdown",
   "id": "be986b54-08e6-4b3c-8e2c-e3f3c433b4b8",
   "metadata": {},
   "source": [
    "**Any Integer or float operation with Complex number results in class complex**"
   ]
  },
  {
   "cell_type": "code",
   "execution_count": 79,
   "id": "a4d1096c-36ec-4e11-9a62-7530e7775dcd",
   "metadata": {},
   "outputs": [
    {
     "name": "stdout",
     "output_type": "stream",
     "text": [
      "<class 'complex'>\n"
     ]
    }
   ],
   "source": [
    "a=15+6j\n",
    "b=4\n",
    "print(type(a/b))"
   ]
  },
  {
   "cell_type": "markdown",
   "id": "2c713fc7-6ba5-49d3-97e6-bf3319714b5d",
   "metadata": {},
   "source": [
    "Integer ! float = float    when !=+,-,*,/\n",
    "\n",
    "So if either of 2 operands is float then resultant datatype is float\n",
    "\n"
   ]
  },
  {
   "cell_type": "code",
   "execution_count": 87,
   "id": "8fe51bef-0228-47a1-a672-a543516a04ad",
   "metadata": {},
   "outputs": [
    {
     "name": "stdout",
     "output_type": "stream",
     "text": [
      "<class 'float'>\n",
      "<class 'float'>\n"
     ]
    }
   ],
   "source": [
    "a=25.3\n",
    "b=12\n",
    "print(type(a+b))\n",
    "print(type(b//a))"
   ]
  },
  {
   "cell_type": "markdown",
   "id": "f9b01e77-f0d7-45cb-a48e-8f6ab118841c",
   "metadata": {},
   "source": [
    "**In case of Strings, only integer can be multiplied**\n"
   ]
  },
  {
   "cell_type": "code",
   "execution_count": 97,
   "id": "e6d62204-186d-4017-a984-d459748743a0",
   "metadata": {},
   "outputs": [
    {
     "name": "stdout",
     "output_type": "stream",
     "text": [
      "name3\n",
      "namenamename\n"
     ]
    }
   ],
   "source": [
    "a=\"name\"\n",
    "b=\"3\"\n",
    "print(a+b)\n",
    "print(a*int(b))"
   ]
  },
  {
   "cell_type": "markdown",
   "id": "645239b0-1fb3-4687-a8f5-9b0cfb0b46d1",
   "metadata": {},
   "source": [
    "## Conditional Operators"
   ]
  },
  {
   "cell_type": "markdown",
   "id": "fbab063b-6a18-46ea-b8ac-cabddb723758",
   "metadata": {},
   "source": [
    "**Relational, Logical Operators and if-else statement block is executed in sync**"
   ]
  },
  {
   "cell_type": "code",
   "execution_count": 105,
   "id": "fed092bd-592c-4ca4-84c4-f08ae6fa0b7a",
   "metadata": {},
   "outputs": [
    {
     "name": "stdin",
     "output_type": "stream",
     "text": [
      "a= -3\n"
     ]
    },
    {
     "name": "stdout",
     "output_type": "stream",
     "text": [
      "-3 is negative\n"
     ]
    }
   ],
   "source": [
    "a=int(input(\"a=\"))\n",
    "if (a>0):\n",
    "    print(a,\"is positive\")\n",
    "elif (a==0):\n",
    "    print(a,\"is zero\")\n",
    "else:\n",
    "    print(a,\"is negative\")"
   ]
  },
  {
   "cell_type": "code",
   "execution_count": 109,
   "id": "3520c43d-b88d-4aa6-8a0e-5f33bdb16ab9",
   "metadata": {},
   "outputs": [
    {
     "name": "stdin",
     "output_type": "stream",
     "text": [
      "a= 15\n",
      "b= 20\n",
      "c= 4\n"
     ]
    },
    {
     "name": "stdout",
     "output_type": "stream",
     "text": [
      "20 is the greatest\n"
     ]
    }
   ],
   "source": [
    "a=int(input(\"a=\"))\n",
    "b=int(input(\"b=\"))\n",
    "c=int(input(\"c=\"))\n",
    "if (a>b) and (a>c):\n",
    "    print(a,\"is the greatest\")\n",
    "elif (b>c):\n",
    "    print(b,\"is the greatest\")\n",
    "else:\n",
    "    print(c,\"is the greatest\")"
   ]
  },
  {
   "cell_type": "markdown",
   "id": "9e2912e1-2540-4bd9-9e76-7d979e87a07b",
   "metadata": {},
   "source": [
    "## Sample Programs"
   ]
  },
  {
   "cell_type": "markdown",
   "id": "3af1cfb3-8029-4bd7-ab45-c86222395ed3",
   "metadata": {},
   "source": [
    "**Check male or female**\n"
   ]
  },
  {
   "cell_type": "code",
   "execution_count": 115,
   "id": "a4587039-d497-4137-9207-aee70f005dc6",
   "metadata": {},
   "outputs": [
    {
     "name": "stdin",
     "output_type": "stream",
     "text": [
      " male or female= Female\n"
     ]
    },
    {
     "name": "stdout",
     "output_type": "stream",
     "text": [
      "Female\n"
     ]
    }
   ],
   "source": [
    "gender=input(\" male or female=\")\n",
    "if(gender==\"m\" or gender==\"M\" or gender==\"male\" or gender==\"Male\"):\n",
    "    print(\"Male\")\n",
    "elif (gender==\"f\" or gender==\"F\" or gender==\"Female\" or gender==\"female\"):\n",
    "    print(\"Female\")\n",
    "else:\n",
    "    print(\"Incorrect Input\")"
   ]
  },
  {
   "cell_type": "markdown",
   "id": "01a3bb6c-da7b-40fa-b42f-dbeec0b97cb2",
   "metadata": {},
   "source": [
    "**Check Vowel Consonant**"
   ]
  },
  {
   "cell_type": "code",
   "execution_count": 118,
   "id": "ecdb092f-dffb-4d73-8cd2-87319ecdd4e3",
   "metadata": {},
   "outputs": [
    {
     "name": "stdin",
     "output_type": "stream",
     "text": [
      "Enter an alphabet e\n"
     ]
    },
    {
     "name": "stdout",
     "output_type": "stream",
     "text": [
      "vowel\n"
     ]
    }
   ],
   "source": [
    "ch=input(\"Enter an alphabet\")\n",
    "if(ch=='a' or ch=='e' or ch=='i' or ch=='u' or ch==\"A\" or ch==\"E\" or ch==\"I\" or ch==\"O\" or ch==\"U\"):\n",
    "    print(\"vowel\")\n",
    "else:\n",
    "    print(\"Consonant\")"
   ]
  },
  {
   "cell_type": "markdown",
   "id": "558f9d36-c19b-429f-836d-fd537a22fbcf",
   "metadata": {},
   "source": [
    "**Leap Year**"
   ]
  },
  {
   "cell_type": "code",
   "execution_count": 121,
   "id": "5e46d7f6-e4b4-459b-abeb-db6bad3ad6cf",
   "metadata": {},
   "outputs": [
    {
     "name": "stdin",
     "output_type": "stream",
     "text": [
      "Enter Year: 2000\n"
     ]
    },
    {
     "name": "stdout",
     "output_type": "stream",
     "text": [
      "2000 is a leap year\n"
     ]
    }
   ],
   "source": [
    "year=int(input(\"Enter Year:\"))\n",
    "if((year%100!=0 and year%4==0) or year%400==0):\n",
    "    print(year,\"is a leap year\")\n",
    "else:\n",
    "    print(year,\"is not a leap year\")"
   ]
  },
  {
   "cell_type": "markdown",
   "id": "a3d1053a-65c9-4139-a389-1ace9a663660",
   "metadata": {},
   "source": [
    "**Oldest Age**"
   ]
  },
  {
   "cell_type": "code",
   "execution_count": 124,
   "id": "3544f934-2a17-406d-9261-40ef47e1fa44",
   "metadata": {},
   "outputs": [
    {
     "name": "stdin",
     "output_type": "stream",
     "text": [
      "Enter John's age= 23\n",
      "Enter Mark's age= 45\n",
      "Enter Nat's age= 10\n"
     ]
    },
    {
     "name": "stdout",
     "output_type": "stream",
     "text": [
      "Mark is Oldest\n"
     ]
    }
   ],
   "source": [
    "john=int(input(\"Enter John's age=\"))\n",
    "Mark=int(input(\"Enter Mark's age=\"))\n",
    "Nat=int(input(\"Enter Nat's age=\"))\n",
    "if(john>Mark and john>Nat):\n",
    "    print(\"John is the Oldest\")\n",
    "else:\n",
    "    if(Mark>Nat):\n",
    "        print(\"Mark is Oldest\")\n",
    "    else:\n",
    "        print(\"Nat is Oldest\")"
   ]
  },
  {
   "cell_type": "markdown",
   "id": "3842f7ae-8197-491c-bcba-291c902ac7ec",
   "metadata": {},
   "source": [
    "## String Comparision"
   ]
  },
  {
   "cell_type": "markdown",
   "id": "7901195b-4275-42af-8985-7c9566fe9def",
   "metadata": {},
   "source": [
    "**Strings are compared wrt Lexicographic Order**"
   ]
  },
  {
   "cell_type": "markdown",
   "id": "1285f2bf-0c52-4382-89c3-9f8460113e2b",
   "metadata": {},
   "source": [
    "Numbers< Uppercase Letter < Lowercase Letter (As per ASCII Codes)"
   ]
  },
  {
   "cell_type": "markdown",
   "id": "2840d209-ad1b-4aa9-83c0-2076087cc9e0",
   "metadata": {},
   "source": [
    "Also if \"abc\" and \"abcd\" then bigger word>smaller word"
   ]
  },
  {
   "cell_type": "code",
   "execution_count": 138,
   "id": "b7383814-0581-469f-b23e-92ef108f8269",
   "metadata": {},
   "outputs": [
    {
     "data": {
      "text/plain": [
       "True"
      ]
     },
     "execution_count": 138,
     "metadata": {},
     "output_type": "execute_result"
    }
   ],
   "source": [
    "s1=\"software\"\n",
    "s2=\"Hardware\"\n",
    "s1>s2\n"
   ]
  },
  {
   "cell_type": "code",
   "execution_count": 140,
   "id": "371bb427-6d43-4731-9f43-f2ae6698e20a",
   "metadata": {},
   "outputs": [
    {
     "data": {
      "text/plain": [
       "False"
      ]
     },
     "execution_count": 140,
     "metadata": {},
     "output_type": "execute_result"
    }
   ],
   "source": [
    "s1=\"python\"\n",
    "s2=\"pycharm\"\n",
    "s2>s1\n"
   ]
  },
  {
   "cell_type": "code",
   "execution_count": 142,
   "id": "327769ce-b6ff-47d2-906c-46d360a9639e",
   "metadata": {},
   "outputs": [
    {
     "data": {
      "text/plain": [
       "True"
      ]
     },
     "execution_count": 142,
     "metadata": {},
     "output_type": "execute_result"
    }
   ],
   "source": [
    "s1=\"integer\"\n",
    "s2=\"integer\"\n",
    "s1==s2"
   ]
  },
  {
   "cell_type": "code",
   "execution_count": 144,
   "id": "042705da-28cb-41e0-9f00-778001015522",
   "metadata": {},
   "outputs": [
    {
     "data": {
      "text/plain": [
       "False"
      ]
     },
     "execution_count": 144,
     "metadata": {},
     "output_type": "execute_result"
    }
   ],
   "source": [
    "s1=\"print\"\n",
    "s2=\"printer\"\n",
    "s1>s2\n"
   ]
  },
  {
   "cell_type": "markdown",
   "id": "b6ffc02a-b711-44a3-85fb-4c4af52dacd2",
   "metadata": {},
   "source": [
    "## DataType Comparisions"
   ]
  },
  {
   "cell_type": "markdown",
   "id": "1c090e44-b741-4886-be88-77039ce8a001",
   "metadata": {},
   "source": [
    "Integer and Float works with every other relational Operators"
   ]
  },
  {
   "cell_type": "code",
   "execution_count": 162,
   "id": "b97dcdac-e0ad-4f2b-810f-467e2b719d2d",
   "metadata": {},
   "outputs": [
    {
     "data": {
      "text/plain": [
       "False"
      ]
     },
     "execution_count": 162,
     "metadata": {},
     "output_type": "execute_result"
    }
   ],
   "source": [
    "#Bool Comparisions\n",
    "True!=False\n",
    "True>=False\n",
    "True<False\n",
    "#only last condition will return since we are not using print"
   ]
  },
  {
   "cell_type": "markdown",
   "id": "e93ccb8b-c62e-4787-8444-716b5bc41b72",
   "metadata": {},
   "source": [
    "In terms of Complex numbers, Mathematically they cannot be compared and can only be checked Equality both in Mathematics and Computing"
   ]
  },
  {
   "cell_type": "code",
   "execution_count": 166,
   "id": "3e2ddaba-895d-4002-8fa5-6b0bdae0ea29",
   "metadata": {},
   "outputs": [
    {
     "data": {
      "text/plain": [
       "True"
      ]
     },
     "execution_count": 166,
     "metadata": {},
     "output_type": "execute_result"
    }
   ],
   "source": [
    "b=complex(15,23.65)\n",
    "c=complex(2,31.26)\n",
    "b!=c"
   ]
  },
  {
   "cell_type": "markdown",
   "id": "4cb03e27-0461-47ac-9caa-d3a2494b7e3b",
   "metadata": {},
   "source": [
    "## Short Circuit Conditions"
   ]
  },
  {
   "cell_type": "markdown",
   "id": "5f32f109-61d3-4d4e-a073-70e4fab0952e",
   "metadata": {},
   "source": [
    "**Visualisation of AND Short Circuit**"
   ]
  },
  {
   "cell_type": "code",
   "execution_count": 186,
   "id": "4717e4e9-fa53-4d8c-b57f-471baf5c4226",
   "metadata": {},
   "outputs": [
    {
     "name": "stdout",
     "output_type": "stream",
     "text": [
      "1\n",
      "False\n"
     ]
    }
   ],
   "source": [
    "i=1\n",
    "j=2\n",
    "c=(i>=j) and (++i==j)\n",
    "print(i)\n",
    "print(c)"
   ]
  },
  {
   "cell_type": "markdown",
   "id": "33ee57a0-5094-4217-ac42-fa36b84e6b84",
   "metadata": {},
   "source": [
    "Hence you can see that i is not incremented"
   ]
  },
  {
   "cell_type": "markdown",
   "id": "9b287abe-a414-42f7-8360-cf5251df434f",
   "metadata": {},
   "source": [
    "**Visualisation of OR Short Circuit**"
   ]
  },
  {
   "cell_type": "code",
   "execution_count": 190,
   "id": "1624754c-e571-4342-926a-cbf53bc9e2de",
   "metadata": {},
   "outputs": [
    {
     "name": "stdout",
     "output_type": "stream",
     "text": [
      "1\n",
      "True\n"
     ]
    }
   ],
   "source": [
    "i=1\n",
    "j=2\n",
    "c=(i<j) or (++i>j)\n",
    "print(i)\n",
    "print(c)"
   ]
  },
  {
   "cell_type": "markdown",
   "id": "78798769-048b-4ace-9981-b0ca63d30a19",
   "metadata": {},
   "source": [
    "Hence you can see that i is not incremented"
   ]
  },
  {
   "cell_type": "markdown",
   "id": "0ff8e242-aeca-438c-a8e1-f4fbf6c0be01",
   "metadata": {},
   "source": [
    "**Visualisation of Non Boolean Conditions**"
   ]
  },
  {
   "cell_type": "code",
   "execution_count": 196,
   "id": "ad443f22-05be-4dfa-b74c-08c869dbe251",
   "metadata": {},
   "outputs": [
    {
     "name": "stdout",
     "output_type": "stream",
     "text": [
      "5\n",
      "-3\n",
      "0\n",
      "10\n",
      "-12\n"
     ]
    }
   ],
   "source": [
    "print(5 or 10)\n",
    "print(-3 or 12)\n",
    "print(0 and 156)\n",
    "print(5 and 10)\n",
    "print(-12 or 13)"
   ]
  },
  {
   "cell_type": "markdown",
   "id": "7596f75d-9936-4c97-b367-cc9d395fcfaa",
   "metadata": {},
   "source": [
    "**NOTE--** So in case of Boolean it's only True(!0) or False(0) and always displays the number on checking with Short Circuit Conditions Applied"
   ]
  },
  {
   "cell_type": "markdown",
   "id": "96891762-d51b-4f1e-afe2-efee4efc2295",
   "metadata": {},
   "source": [
    "**Comparisions of integer based on Conditional Operators**"
   ]
  },
  {
   "cell_type": "code",
   "execution_count": 208,
   "id": "444ab8d9-51db-42f0-a08a-a08eb9148cb4",
   "metadata": {},
   "outputs": [
    {
     "name": "stdout",
     "output_type": "stream",
     "text": [
      "1010\n",
      "11\n",
      "10 | 3 is= 11\n",
      "10 & 3 is= 2\n",
      "10 ^ 3 is= 9\n",
      "10 . 2^( 3 ) is= 1\n",
      "10 // 2^( 3 ) is= 80\n"
     ]
    }
   ],
   "source": [
    "a=10\n",
    "print(format(a,\"b\"))\n",
    "b=3\n",
    "print(format(b,\"b\"))\n",
    "print(a,\"|\",b,\"is=\",a|b)\n",
    "print(a,\"&\",b,\"is=\",a&b)\n",
    "print(a,\"^\",b,\"is=\",a^b)\n",
    "print(a,\"//\",\"2^(\",b,\") is=\",a>>b)\n",
    "print(a,\".\",\"2^(\",b,\") is=\",a<<b)"
   ]
  },
  {
   "cell_type": "markdown",
   "id": "9dc80460-b53a-49c1-a34d-8dd32b4bd036",
   "metadata": {},
   "source": [
    "Right shift Indication= a>>b--->a/2^b \n",
    "\n",
    "Left shift Indication= a<<b--->a*2^b"
   ]
  },
  {
   "cell_type": "markdown",
   "id": "d8f01d9e-2ea8-46ad-a147-2187c2f8ea01",
   "metadata": {},
   "source": [
    "## Chaining Comparisions"
   ]
  },
  {
   "cell_type": "markdown",
   "id": "54d41f38-ec1b-4e64-9934-7bff9f52b64d",
   "metadata": {},
   "source": [
    "This methodolgy is intrinsic only to Python and is very useful.\n",
    "\n",
    "It can be abbreviated as--\n",
    "\n",
    "a>b and b>c and c>d\n",
    "\n",
    "a>b>c>d"
   ]
  },
  {
   "cell_type": "code",
   "execution_count": 222,
   "id": "552042da-bb02-4bf3-b896-7eccf6f47e0a",
   "metadata": {},
   "outputs": [
    {
     "name": "stdout",
     "output_type": "stream",
     "text": [
      "False\n",
      "True\n"
     ]
    }
   ],
   "source": [
    "a=10\n",
    "b=8\n",
    "c=6\n",
    "d=12\n",
    "print(a>b>c>d) # (a>b and b>c and c>d) \n",
    "print(a>b>c<d) # (a>b and b>c and c<d)"
   ]
  },
  {
   "cell_type": "markdown",
   "id": "884008b6-1b57-4311-94e2-a0c19d31e2e6",
   "metadata": {},
   "source": [
    "## Is and IsNot"
   ]
  },
  {
   "cell_type": "code",
   "execution_count": 227,
   "id": "e3b1820c-e429-4dfc-b681-3ce70d7f2bc9",
   "metadata": {},
   "outputs": [
    {
     "name": "stdout",
     "output_type": "stream",
     "text": [
      "True\n",
      "False\n",
      "2594744252672\n",
      "2594744252672\n"
     ]
    }
   ],
   "source": [
    "a=\"hello\"\n",
    "b=\"hello\"\n",
    "print(a is b)\n",
    "print(a is not b)\n",
    "print(id(a))\n",
    "print(id(b))"
   ]
  },
  {
   "cell_type": "markdown",
   "id": "a0ecf82d-232f-4df4-9993-21799ca68661",
   "metadata": {},
   "source": [
    "**Here is and is not are basically checkers whether variables point to the same literal designated space.**"
   ]
  },
  {
   "cell_type": "code",
   "execution_count": 230,
   "id": "1ea7c39c-4470-45e0-a136-731d3684a103",
   "metadata": {},
   "outputs": [
    {
     "name": "stdout",
     "output_type": "stream",
     "text": [
      "140728769456920\n",
      "140728769456952\n",
      "True\n"
     ]
    }
   ],
   "source": [
    "a=12\n",
    "b=13\n",
    "print(id(a))\n",
    "print(id(b))\n",
    "print(a is not b)"
   ]
  },
  {
   "cell_type": "code",
   "execution_count": null,
   "id": "ea7274b5-d125-46ce-99f7-992c449e147f",
   "metadata": {},
   "outputs": [],
   "source": []
  }
 ],
 "metadata": {
  "kernelspec": {
   "display_name": "Python [conda env:base] *",
   "language": "python",
   "name": "conda-base-py"
  },
  "language_info": {
   "codemirror_mode": {
    "name": "ipython",
    "version": 3
   },
   "file_extension": ".py",
   "mimetype": "text/x-python",
   "name": "python",
   "nbconvert_exporter": "python",
   "pygments_lexer": "ipython3",
   "version": "3.12.7"
  }
 },
 "nbformat": 4,
 "nbformat_minor": 5
}
