{
 "cells": [
  {
   "cell_type": "markdown",
   "id": "03bd284b-8a19-4f13-b1ea-6749c79e3a24",
   "metadata": {},
   "source": [
    "# Python Programming\n"
   ]
  },
  {
   "cell_type": "markdown",
   "id": "8e035437-d76d-40b7-894f-a7a230305041",
   "metadata": {},
   "source": [
    "# Python Basics\n"
   ]
  },
  {
   "cell_type": "markdown",
   "id": "28640598-b711-4afd-bf3f-89ca20b5a977",
   "metadata": {},
   "source": [
    "### Variable Declaration and Initialisation"
   ]
  },
  {
   "cell_type": "code",
   "execution_count": 23,
   "id": "ab9b7058-4bed-442e-8a9f-6f7f972b6c17",
   "metadata": {},
   "outputs": [],
   "source": [
    "a=10\n",
    "b=\"name\"\n",
    "c=25.67\n",
    "d='c'"
   ]
  },
  {
   "cell_type": "code",
   "execution_count": 18,
   "id": "72a323cf-0762-4bd2-a4fb-17f5c519ac2c",
   "metadata": {},
   "outputs": [
    {
     "name": "stdout",
     "output_type": "stream",
     "text": [
      "Puja\n",
      "259\n",
      "987\n"
     ]
    }
   ],
   "source": [
    "name,price,marks=\"Puja\",259,987\n",
    "print(name)\n",
    "print(price)\n",
    "print(marks)"
   ]
  },
  {
   "cell_type": "code",
   "execution_count": 20,
   "id": "963c7ac3-1fe0-4413-9981-ad848276e129",
   "metadata": {},
   "outputs": [
    {
     "ename": "TypeError",
     "evalue": "cannot unpack non-iterable int object",
     "output_type": "error",
     "traceback": [
      "\u001b[1;31m---------------------------------------------------------------------------\u001b[0m",
      "\u001b[1;31mTypeError\u001b[0m                                 Traceback (most recent call last)",
      "Cell \u001b[1;32mIn[20], line 2\u001b[0m\n\u001b[0;32m      1\u001b[0m x\u001b[38;5;241m=\u001b[39my\u001b[38;5;241m=\u001b[39mz\u001b[38;5;241m=\u001b[39m\u001b[38;5;241m56\u001b[39m\n\u001b[1;32m----> 2\u001b[0m a,b,c\u001b[38;5;241m=\u001b[39m\u001b[38;5;241m89\u001b[39m\n\u001b[0;32m      3\u001b[0m \u001b[38;5;28mprint\u001b[39m(x,\u001b[38;5;124m'\u001b[39m\u001b[38;5;124m,\u001b[39m\u001b[38;5;124m'\u001b[39m,y,\u001b[38;5;124m'\u001b[39m\u001b[38;5;124m,\u001b[39m\u001b[38;5;124m'\u001b[39m,z)\n\u001b[0;32m      4\u001b[0m \u001b[38;5;28mprint\u001b[39m(a,\u001b[38;5;124m'\u001b[39m\u001b[38;5;124m,\u001b[39m\u001b[38;5;124m'\u001b[39m,b,\u001b[38;5;124m'\u001b[39m\u001b[38;5;124m,\u001b[39m\u001b[38;5;124m'\u001b[39m,c)\n",
      "\u001b[1;31mTypeError\u001b[0m: cannot unpack non-iterable int object"
     ]
    }
   ],
   "source": [
    "x=y=z=56\n",
    "a,b,c=89\n",
    "print(x,',',y,',',z)\n",
    "print(a,',',b,',',c)\n"
   ]
  },
  {
   "cell_type": "markdown",
   "id": "386687b6-3d93-4cb7-a301-eaf8ae7b7c3d",
   "metadata": {},
   "source": [
    "HENCE INITIALISATION OF SUCH SORT IS NOT POSSIBLE"
   ]
  },
  {
   "cell_type": "markdown",
   "id": "2b4f6a13-8eca-45b3-a45a-3bc3a95326c8",
   "metadata": {},
   "source": [
    "### Dynamic Declaration"
   ]
  },
  {
   "cell_type": "markdown",
   "id": "8cd8cfe5-eb69-4329-80cf-f49560f33a84",
   "metadata": {},
   "source": [
    "In Python, There is Dynamic Declaration, Hence variable's datatype is directly a function of the value type it holds."
   ]
  },
  {
   "cell_type": "code",
   "execution_count": 32,
   "id": "fdce85a8-a10e-4c14-ae08-aca4587fc772",
   "metadata": {},
   "outputs": [
    {
     "name": "stdout",
     "output_type": "stream",
     "text": [
      "<class 'str'>\n"
     ]
    }
   ],
   "source": [
    "a=\"name\"\n",
    "print(type(a))\n"
   ]
  },
  {
   "cell_type": "markdown",
   "id": "37f3c459-1057-47ad-a849-312f9328df83",
   "metadata": {},
   "source": [
    "When I am changing the type of data from string to float. See what happens"
   ]
  },
  {
   "cell_type": "code",
   "execution_count": 50,
   "id": "5ede460e-cc8a-4702-8f6a-345327c79b91",
   "metadata": {},
   "outputs": [
    {
     "name": "stdout",
     "output_type": "stream",
     "text": [
      "<class 'str'>\n",
      "<class 'float'>\n",
      "<class 'int'>\n",
      "<class 'str'>\n",
      "<class 'list'>\n",
      "<class 'bool'>\n"
     ]
    }
   ],
   "source": [
    "a=\"name\"\n",
    "print(type(a))\n",
    "a=56.23\n",
    "print(type(a))\n",
    "a=56\n",
    "print(type(a))\n",
    "a='c'\n",
    "print(type(a))\n",
    "a=[25,\"name\",25.16,'true']\n",
    "print(type(a))\n",
    "a=True\n",
    "print(type(a))"
   ]
  },
  {
   "cell_type": "markdown",
   "id": "85881326-0547-42c9-8851-681af1e175f3",
   "metadata": {},
   "source": [
    "Here we saw how datatype of 'a' changes according to the type of data it holds\n",
    "\n",
    "Also it is interesting to see how the datatype when a='c' displays string instead of character."
   ]
  },
  {
   "cell_type": "markdown",
   "id": "acd2e2af-bedf-47cd-9b4a-0c28584ca56e",
   "metadata": {},
   "source": [
    "## Rules of Declaration"
   ]
  },
  {
   "cell_type": "markdown",
   "id": "a95fced8-91da-478d-9b0c-0c8a6083df77",
   "metadata": {},
   "source": [
    "Same as of C/C++\n",
    "\n",
    "1.Variable must start with alphabet or _\n",
    "\n",
    "2.Case Sensitive\n",
    "\n",
    "3.Keywords Cannot be Used"
   ]
  },
  {
   "cell_type": "code",
   "execution_count": 47,
   "id": "f90f1e0f-5209-4606-8800-e3ac09549540",
   "metadata": {},
   "outputs": [
    {
     "ename": "SyntaxError",
     "evalue": "invalid decimal literal (1301362734.py, line 3)",
     "output_type": "error",
     "traceback": [
      "\u001b[1;36m  Cell \u001b[1;32mIn[47], line 3\u001b[1;36m\u001b[0m\n\u001b[1;33m    1lk=77\u001b[0m\n\u001b[1;37m    ^\u001b[0m\n\u001b[1;31mSyntaxError\u001b[0m\u001b[1;31m:\u001b[0m invalid decimal literal\n"
     ]
    }
   ],
   "source": [
    "a1=26\n",
    "_buy=78\n",
    "1lk=77"
   ]
  },
  {
   "cell_type": "markdown",
   "id": "3e10f777-0625-4919-b881-341caf950d9a",
   "metadata": {},
   "source": [
    "## Python Data Types"
   ]
  },
  {
   "cell_type": "markdown",
   "id": "265b4c4e-6aeb-44aa-b1e8-c803e6289667",
   "metadata": {},
   "source": [
    "In Python there are 4 types of Data Types\n",
    "\n",
    "1.Numeric\n",
    "\n",
    "2.Sequence\n",
    "\n",
    "3.Dictionary\n",
    "\n",
    "4.Set"
   ]
  },
  {
   "cell_type": "markdown",
   "id": "42edb04d-6204-422f-b51d-f1dfed21bdde",
   "metadata": {},
   "source": [
    "## Numeric Data Type"
   ]
  },
  {
   "cell_type": "markdown",
   "id": "65c4e1d0-b19f-4f3d-9f2b-9d49e119b897",
   "metadata": {},
   "source": [
    "4 Classes include int,bool,complex,float"
   ]
  },
  {
   "cell_type": "markdown",
   "id": "fa1db4cf-6cdf-47d1-986a-70f834b866de",
   "metadata": {},
   "source": [
    "### Int Data Type"
   ]
  },
  {
   "cell_type": "markdown",
   "id": "85bdde22-2694-4c4b-9b89-4e527e1e22b7",
   "metadata": {},
   "source": [
    "Unlike C/C++ where size is fixed (4 bytes). Here size is dependent on the basis of the literal Declared"
   ]
  },
  {
   "cell_type": "code",
   "execution_count": 61,
   "id": "4965ce82-b3d3-4c2c-b7e6-d11e2bdeb5eb",
   "metadata": {},
   "outputs": [
    {
     "name": "stdout",
     "output_type": "stream",
     "text": [
      "28\n",
      "32\n"
     ]
    }
   ],
   "source": [
    "a=569\n",
    "b=87541661654511646\n",
    "print(a.__sizeof__())\n",
    "print(b.__sizeof__())"
   ]
  },
  {
   "cell_type": "markdown",
   "id": "962d5ddd-a1c8-4855-a958-42546d386a84",
   "metadata": {},
   "source": [
    "Although Value Assigned Changes when declared, The space declared during initial declaration is not deleted"
   ]
  },
  {
   "cell_type": "code",
   "execution_count": 64,
   "id": "c2571c11-39d5-4d90-9a8b-0cb436d5dcbf",
   "metadata": {},
   "outputs": [
    {
     "name": "stdout",
     "output_type": "stream",
     "text": [
      "22\n"
     ]
    }
   ],
   "source": [
    "a=15 # Initially Value Assigned and 2 blocks of spaces are created with a and 15\n",
    "a=22 # A block of 22 is assigned and A now points to it but the block of 15 is not deleted\n",
    "print(a)\n"
   ]
  },
  {
   "cell_type": "markdown",
   "id": "6cfed453-c60e-41be-8656-b6d62056894e",
   "metadata": {},
   "source": [
    "### Float Datatype"
   ]
  },
  {
   "cell_type": "code",
   "execution_count": 68,
   "id": "3888ef35-03ad-42b2-83df-2bb053f6a604",
   "metadata": {},
   "outputs": [
    {
     "name": "stdout",
     "output_type": "stream",
     "text": [
      "1.91e+16\n"
     ]
    }
   ],
   "source": [
    "a=15.369\n",
    "a=123.166e3\n",
    "a=19.10E15\n",
    "print(a)"
   ]
  },
  {
   "cell_type": "markdown",
   "id": "19e681b7-2ab9-4ab6-a136-167ca990aff2",
   "metadata": {},
   "source": [
    "Here e or E = 10^(). It is a kind of declaration akin to what we generally write\n",
    "\n",
    "Suppose we want to declare a=1.5 * 10^(-9)"
   ]
  },
  {
   "cell_type": "code",
   "execution_count": 71,
   "id": "81048462-a393-409b-bd89-1f9ec88cc0b7",
   "metadata": {},
   "outputs": [
    {
     "name": "stdout",
     "output_type": "stream",
     "text": [
      "1.5e-09\n"
     ]
    }
   ],
   "source": [
    "a=1.5e-9\n",
    "print(a)"
   ]
  },
  {
   "cell_type": "markdown",
   "id": "124cdc68-0d9e-4358-a91c-a4f06d9e8bd8",
   "metadata": {},
   "source": [
    "### Bool Datatype"
   ]
  },
  {
   "cell_type": "markdown",
   "id": "15abae5d-a2f5-45a0-946f-4f9a361286fa",
   "metadata": {},
   "source": [
    "In Bool Datatype, \"True\" with a capital T is used and \"False\" with a capital F is used. \n",
    "\n",
    "Mind it!! Don't write small t!!"
   ]
  },
  {
   "cell_type": "code",
   "execution_count": 75,
   "id": "7323a245-bcd9-48bd-b136-8186bfde87ef",
   "metadata": {},
   "outputs": [
    {
     "ename": "NameError",
     "evalue": "name 'true' is not defined",
     "output_type": "error",
     "traceback": [
      "\u001b[1;31m---------------------------------------------------------------------------\u001b[0m",
      "\u001b[1;31mNameError\u001b[0m                                 Traceback (most recent call last)",
      "Cell \u001b[1;32mIn[75], line 2\u001b[0m\n\u001b[0;32m      1\u001b[0m a\u001b[38;5;241m=\u001b[39m\u001b[38;5;28;01mTrue\u001b[39;00m\n\u001b[1;32m----> 2\u001b[0m b\u001b[38;5;241m=\u001b[39mtrue\n\u001b[0;32m      3\u001b[0m \u001b[38;5;28mprint\u001b[39m(\u001b[38;5;28mtype\u001b[39m(a))\n\u001b[0;32m      4\u001b[0m \u001b[38;5;28mprint\u001b[39m(\u001b[38;5;28mtype\u001b[39m(b))\n",
      "\u001b[1;31mNameError\u001b[0m: name 'true' is not defined"
     ]
    }
   ],
   "source": [
    "a=True\n",
    "b=true\n",
    "print(type(a))\n",
    "print(type(b))"
   ]
  },
  {
   "cell_type": "code",
   "execution_count": 82,
   "id": "a34a8270-a9f8-4d6a-9c03-7eb4084975f1",
   "metadata": {},
   "outputs": [
    {
     "name": "stdout",
     "output_type": "stream",
     "text": [
      "1\n",
      "0\n"
     ]
    }
   ],
   "source": [
    "a=True\n",
    "b=False\n",
    "print(int(a))\n",
    "print(int(b))\n"
   ]
  },
  {
   "cell_type": "markdown",
   "id": "01bc941b-d0e4-49fb-b815-ed0974340cbb",
   "metadata": {},
   "source": [
    "#### (A Slight Introduction to Type Casting)"
   ]
  },
  {
   "cell_type": "code",
   "execution_count": 89,
   "id": "673f9313-03d3-4673-934f-092f4d972140",
   "metadata": {},
   "outputs": [
    {
     "name": "stdout",
     "output_type": "stream",
     "text": [
      "True\n",
      "False\n"
     ]
    }
   ],
   "source": [
    "c=15\n",
    "print(bool(c))\n",
    "d=0\n",
    "print(bool(d))"
   ]
  },
  {
   "cell_type": "markdown",
   "id": "17fbc5ec-c459-49df-bda7-5d9d507bc869",
   "metadata": {},
   "source": [
    "## Complex Datatype"
   ]
  },
  {
   "cell_type": "markdown",
   "id": "38dd5c29-7b78-4264-b9d6-b48d954258a2",
   "metadata": {},
   "source": [
    "In Python Complex Data Type is predefined and can be initialised in the format (a+bj) where a and b are variables or literals"
   ]
  },
  {
   "cell_type": "code",
   "execution_count": 116,
   "id": "83ec64f3-3688-4005-a803-b1d2b8da1b19",
   "metadata": {},
   "outputs": [
    {
     "name": "stdout",
     "output_type": "stream",
     "text": [
      "(25+36.23j) <class 'complex'>\n"
     ]
    }
   ],
   "source": [
    "a=25\n",
    "b=36.23\n",
    "c=complex(a,b)\n",
    "print(c,type(c))"
   ]
  },
  {
   "cell_type": "code",
   "execution_count": 100,
   "id": "329d1f81-4977-4fc9-a5dd-175f9a118839",
   "metadata": {},
   "outputs": [
    {
     "name": "stdout",
     "output_type": "stream",
     "text": [
      "<class 'complex'>\n",
      "<built-in method __sizeof__ of complex object at 0x000001710980DE90>\n"
     ]
    }
   ],
   "source": [
    "a=13+59.24j\n",
    "print(type(a))\n",
    "print(a.__sizeof__)\n"
   ]
  },
  {
   "cell_type": "markdown",
   "id": "e2823bca-936d-4a2b-9076-e8a416c2ecae",
   "metadata": {},
   "source": [
    "Common practices we use are  "
   ]
  },
  {
   "cell_type": "code",
   "execution_count": 109,
   "id": "633d915f-54bc-4427-9997-ea097047b421",
   "metadata": {},
   "outputs": [
    {
     "name": "stdout",
     "output_type": "stream",
     "text": [
      "15.0 78.0\n",
      "(15+12.3j)\n",
      "(45+0j)\n"
     ]
    }
   ],
   "source": [
    "a=15+78j\n",
    "print(a.real , a.imag)\n",
    "c=complex(15,12.3)\n",
    "print(c)\n",
    "d=complex(45)\n",
    "print(d)"
   ]
  },
  {
   "cell_type": "markdown",
   "id": "29888e8a-aea1-4ddb-b540-cb0a0ac43842",
   "metadata": {},
   "source": [
    "So attributes 'real' and 'imag' are used to represent the real and imaginary parts respectively"
   ]
  },
  {
   "cell_type": "markdown",
   "id": "f5a4f14b-f139-4465-867b-e64b0401e031",
   "metadata": {},
   "source": [
    "## Literals"
   ]
  },
  {
   "cell_type": "markdown",
   "id": "2164cf3f-ad0e-407b-aebd-027e11e241cd",
   "metadata": {},
   "source": [
    "##### Integer Literals"
   ]
  },
  {
   "cell_type": "code",
   "execution_count": 137,
   "id": "b74781a9-ef0b-4d38-a6c0-233ace87b7ff",
   "metadata": {},
   "outputs": [
    {
     "name": "stdout",
     "output_type": "stream",
     "text": [
      "<class 'int'> <class 'int'> <class 'int'> <class 'int'>\n"
     ]
    }
   ],
   "source": [
    "a=1256 #here 1256 is a literal\n",
    "b=12_536\n",
    "c=1_2_3_456_7894\n",
    "d=1496_45_63\n",
    "print(type(a),type(b),type(c),type(d))"
   ]
  },
  {
   "cell_type": "markdown",
   "id": "67c2eb4f-809f-4ba6-a158-5795637a5e00",
   "metadata": {},
   "source": [
    "_ can be used almost after every number and number will be declared."
   ]
  },
  {
   "cell_type": "markdown",
   "id": "12545276-a9b6-4a9b-bd4a-3ea87ee7a7f3",
   "metadata": {},
   "source": [
    "##### Float Literals"
   ]
  },
  {
   "cell_type": "code",
   "execution_count": 129,
   "id": "58f2374f-1d8b-4882-b17d-8fd65fd14fc8",
   "metadata": {},
   "outputs": [
    {
     "name": "stdout",
     "output_type": "stream",
     "text": [
      "<class 'float'> <class 'float'>\n",
      "1236.46 1256223894.16\n"
     ]
    }
   ],
   "source": [
    "a=12.3646e2\n",
    "b=12562_23.8_9416e3\n",
    "print(type(a),type(b))\n",
    "print(a,b)"
   ]
  },
  {
   "cell_type": "markdown",
   "id": "fd5e683f-dcf2-4155-87ad-131b8829877e",
   "metadata": {},
   "source": [
    " **NOTE** - But before and after decimal \"_(underscore)\" cannot be used"
   ]
  },
  {
   "cell_type": "code",
   "execution_count": 132,
   "id": "bd842914-4c90-4ab8-b0c8-e3afba0572a4",
   "metadata": {},
   "outputs": [
    {
     "ename": "SyntaxError",
     "evalue": "invalid decimal literal (870224494.py, line 1)",
     "output_type": "error",
     "traceback": [
      "\u001b[1;36m  Cell \u001b[1;32mIn[132], line 1\u001b[1;36m\u001b[0m\n\u001b[1;33m    a=12_365._46\u001b[0m\n\u001b[1;37m            ^\u001b[0m\n\u001b[1;31mSyntaxError\u001b[0m\u001b[1;31m:\u001b[0m invalid decimal literal\n"
     ]
    }
   ],
   "source": [
    "a=12_365._46"
   ]
  },
  {
   "cell_type": "markdown",
   "id": "52514ac1-1d36-40e5-a4a7-8dffa9c2166a",
   "metadata": {},
   "source": [
    "##### Complex Literals"
   ]
  },
  {
   "cell_type": "code",
   "execution_count": 147,
   "id": "3532db24-7a62-4102-9ebc-edb4892a6ebb",
   "metadata": {},
   "outputs": [
    {
     "name": "stdout",
     "output_type": "stream",
     "text": [
      "(598+4.287j)\n"
     ]
    }
   ],
   "source": [
    "a=5_98+4.2_87j\n",
    "print(a)\n"
   ]
  },
  {
   "cell_type": "markdown",
   "id": "4cf8c19b-201c-4a35-a0f4-68163f26ebf8",
   "metadata": {},
   "source": [
    "## Literals and Number System"
   ]
  },
  {
   "cell_type": "markdown",
   "id": "bd331eb9-70dd-4e31-839a-681625d9e66e",
   "metadata": {},
   "source": [
    "When we want to store integers based on Base Conversion, \"0bxxxx\" is denoted where b=base('b' for binary,'o' for octal,'x' or 'X' for hexadecimal)"
   ]
  },
  {
   "cell_type": "code",
   "execution_count": 160,
   "id": "5b4555ba-0df3-4636-be17-196c257a0c4c",
   "metadata": {},
   "outputs": [
    {
     "name": "stdout",
     "output_type": "stream",
     "text": [
      "10\n",
      "83\n",
      "2748\n",
      "11\n"
     ]
    }
   ],
   "source": [
    "a=0b1010\n",
    "print(a)\n",
    "b=0o123\n",
    "print(b)\n",
    "c=0xABC\n",
    "print(c)\n",
    "g=0Xb\n",
    "print(g)"
   ]
  },
  {
   "cell_type": "markdown",
   "id": "8b25be48-4d9f-4da7-a079-7ef5dad36a12",
   "metadata": {},
   "source": [
    "But in terms of Complex Numbers, Only Real Part can be displayed\n"
   ]
  },
  {
   "cell_type": "code",
   "execution_count": 167,
   "id": "2e07baf7-a562-47cc-8833-8f95fc82d4b5",
   "metadata": {},
   "outputs": [
    {
     "name": "stdout",
     "output_type": "stream",
     "text": [
      "(4779+456j) (45+23032.6j)\n"
     ]
    }
   ],
   "source": [
    "a=0x12aB+456j\n",
    "b=0b101101+23.0326e3j\n",
    "print(a,b)"
   ]
  },
  {
   "cell_type": "markdown",
   "id": "e563c7df-bfb6-445c-ad39-524296501518",
   "metadata": {},
   "source": [
    "## Input Taking"
   ]
  },
  {
   "cell_type": "code",
   "execution_count": 173,
   "id": "f8e9a879-4850-4a74-8224-c6eba9dc8cbf",
   "metadata": {},
   "outputs": [
    {
     "name": "stdin",
     "output_type": "stream",
     "text": [
      "Enter a = 15\n",
      "Enter b= 236\n"
     ]
    },
    {
     "name": "stdout",
     "output_type": "stream",
     "text": [
      "Sum of 15 and  236 is  15236\n",
      "<class 'str'> <class 'str'> <class 'str'>\n"
     ]
    }
   ],
   "source": [
    "a=input(\"Enter a =\")\n",
    "b=input(\"Enter b=\")\n",
    "c=a+b\n",
    "print(\"Sum of\",a,\"and \",b,\"is \",c)\n",
    "print(type(a),type(b),type(c))\n"
   ]
  },
  {
   "cell_type": "markdown",
   "id": "bb1883d6-a8f0-4cfd-bb47-d25419fbc1e6",
   "metadata": {},
   "source": [
    "**This Example is mind blowing, these indicates that when we take input, untill typecasted, it is stored as string by default**"
   ]
  },
  {
   "cell_type": "markdown",
   "id": "c8efb19a-797b-45e2-8016-76aecee5bfc9",
   "metadata": {},
   "source": [
    "## TypeCasting"
   ]
  },
  {
   "cell_type": "markdown",
   "id": "023b6d0d-53a6-47e7-8526-1425ef2b630f",
   "metadata": {},
   "source": [
    "**To convert the type of datatype we want to register, we do TypeCasting**"
   ]
  },
  {
   "cell_type": "code",
   "execution_count": 186,
   "id": "340d6e51-71ad-4339-9c6f-b00d69f3556e",
   "metadata": {},
   "outputs": [
    {
     "name": "stdin",
     "output_type": "stream",
     "text": [
      "Enter a= 0b110101\n",
      "Enter b= LOVE\n"
     ]
    },
    {
     "name": "stdout",
     "output_type": "stream",
     "text": [
      "53  +  True  = 54\n"
     ]
    }
   ],
   "source": [
    "a=int(input(\"Enter a=\"),2) #int(number,base)\n",
    "b=bool(input(\"Enter b=\"))\n",
    "c=a+b\n",
    "print(a,\" + \",b,\" =\",c)"
   ]
  },
  {
   "cell_type": "markdown",
   "id": "9ccd271a-253b-457c-9bad-1d1f645f2bd8",
   "metadata": {},
   "source": [
    "**WE USE int(), bool(), float(), complex(), str() for typecasting**"
   ]
  },
  {
   "cell_type": "code",
   "execution_count": 190,
   "id": "643106f8-3da8-459c-96a7-d3c2d33dee5a",
   "metadata": {},
   "outputs": [
    {
     "name": "stdin",
     "output_type": "stream",
     "text": [
      "Enter Real Part= 3.55691\n",
      "Enter Imaginary Part= 61526.62\n"
     ]
    },
    {
     "name": "stdout",
     "output_type": "stream",
     "text": [
      "(3.55691+61526.62j)\n"
     ]
    }
   ],
   "source": [
    "price=complex(float(input(\"Enter Real Part=\")),float(input(\"Enter Imaginary Part=\")))\n",
    "print(price)"
   ]
  },
  {
   "cell_type": "code",
   "execution_count": 194,
   "id": "d8480b55-dbab-464a-8ba4-45712bd89376",
   "metadata": {},
   "outputs": [
    {
     "name": "stdin",
     "output_type": "stream",
     "text": [
      "Real= 152\n",
      "Imag= 256\n",
      "Real= 489\n",
      "Imag= 12\n"
     ]
    },
    {
     "name": "stdout",
     "output_type": "stream",
     "text": [
      "(641+268j)\n"
     ]
    }
   ],
   "source": [
    "a=complex(int(input(\"Real=\")),int(input(\"Imag=\")))\n",
    "b=complex(int(input(\"Real=\")),int(input(\"Imag=\")))\n",
    "c=a+b\n",
    "print(c)"
   ]
  },
  {
   "cell_type": "code",
   "execution_count": 199,
   "id": "65c48c5e-6c0a-452c-9ea2-f34fc0543511",
   "metadata": {},
   "outputs": [
    {
     "name": "stdout",
     "output_type": "stream",
     "text": [
      "(1+15.23j) (10+6j) 26\n"
     ]
    }
   ],
   "source": [
    "i=1\n",
    "f=15.23\n",
    "b=True\n",
    "c=10+6j\n",
    "d='Tim Cheese'\n",
    "x=complex(i,f)\n",
    "y=str(c)\n",
    "s4=\"0b11010\"\n",
    "t=int(s4,2)\n",
    "print(x,y,t)"
   ]
  },
  {
   "cell_type": "markdown",
   "id": "eda157d2-6838-48d3-b277-b6e26facc87f",
   "metadata": {},
   "source": [
    "**For Bool,**\n",
    "\n",
    "only when 0 in int,float = false\n",
    "and if empty string = false,\n",
    "\n",
    "If Unempty String or non-zero int,float then True  "
   ]
  },
  {
   "cell_type": "markdown",
   "id": "a2713341-0d3f-4dd2-b2ce-6a44c66fd81f",
   "metadata": {},
   "source": [
    "**Legal Conversions**\n",
    "\n",
    "Bool from All\n",
    "\n",
    "String from All\n",
    "\n",
    "Complex from All(Valid)\n",
    "\n",
    "Integer from Bool,Float and String(if no)\n",
    "\n",
    "Float from Bool,Float and String(if no)\n"
   ]
  },
  {
   "cell_type": "markdown",
   "id": "2e8e3f02-b68f-47b1-bed5-3d5261e00634",
   "metadata": {},
   "source": [
    "## Base Conversions"
   ]
  },
  {
   "cell_type": "markdown",
   "id": "84834e2b-50cd-43e5-9524-928fbc941b9a",
   "metadata": {},
   "source": [
    "**bin(), oct(), hex() are used and all return string**"
   ]
  },
  {
   "cell_type": "code",
   "execution_count": 214,
   "id": "f0f6da20-be74-4337-a923-e2d2880617a0",
   "metadata": {},
   "outputs": [
    {
     "name": "stdout",
     "output_type": "stream",
     "text": [
      "0b11000001000100\n",
      "0o30104\n",
      "0x3044\n"
     ]
    }
   ],
   "source": [
    "x=12356\n",
    "print(bin(x))\n",
    "print(oct(x))\n",
    "print(hex(x))"
   ]
  },
  {
   "cell_type": "code",
   "execution_count": 216,
   "id": "d06235f7-e476-405e-9b87-bcd2b09e5014",
   "metadata": {},
   "outputs": [
    {
     "name": "stdout",
     "output_type": "stream",
     "text": [
      "0b1\n",
      "0x0\n"
     ]
    }
   ],
   "source": [
    "print(bin(True))\n",
    "print(hex(False))\n"
   ]
  },
  {
   "cell_type": "markdown",
   "id": "cb3d415c-4b34-4bdc-9c8c-4d3a941f992f",
   "metadata": {},
   "source": [
    "**These Base Conversions can only be interpreted from integers and Bool(0 and 1)**"
   ]
  },
  {
   "cell_type": "code",
   "execution_count": 230,
   "id": "c729cfb0-b411-4ad0-ab7f-78de75c206ee",
   "metadata": {},
   "outputs": [
    {
     "ename": "TypeError",
     "evalue": "'complex' object cannot be interpreted as an integer",
     "output_type": "error",
     "traceback": [
      "\u001b[1;31m---------------------------------------------------------------------------\u001b[0m",
      "\u001b[1;31mTypeError\u001b[0m                                 Traceback (most recent call last)",
      "Cell \u001b[1;32mIn[230], line 1\u001b[0m\n\u001b[1;32m----> 1\u001b[0m \u001b[38;5;28mprint\u001b[39m(\u001b[38;5;28moct\u001b[39m(\u001b[38;5;241m23\u001b[39m\u001b[38;5;241m+\u001b[39m\u001b[38;5;241m45\u001b[39mj))\n",
      "\u001b[1;31mTypeError\u001b[0m: 'complex' object cannot be interpreted as an integer"
     ]
    }
   ],
   "source": [
    "print(oct(23+45j))"
   ]
  },
  {
   "cell_type": "code",
   "execution_count": 232,
   "id": "fc73eab1-a60a-4f0d-abfa-85a6d4fe5da9",
   "metadata": {},
   "outputs": [
    {
     "ename": "TypeError",
     "evalue": "'float' object cannot be interpreted as an integer",
     "output_type": "error",
     "traceback": [
      "\u001b[1;31m---------------------------------------------------------------------------\u001b[0m",
      "\u001b[1;31mTypeError\u001b[0m                                 Traceback (most recent call last)",
      "Cell \u001b[1;32mIn[232], line 1\u001b[0m\n\u001b[1;32m----> 1\u001b[0m \u001b[38;5;28mprint\u001b[39m(\u001b[38;5;28mhex\u001b[39m(\u001b[38;5;241m23.45\u001b[39m))\n",
      "\u001b[1;31mTypeError\u001b[0m: 'float' object cannot be interpreted as an integer"
     ]
    }
   ],
   "source": [
    "print(hex(23.45))"
   ]
  },
  {
   "cell_type": "code",
   "execution_count": 234,
   "id": "3e941d94-d00a-4eb4-932b-83dd773dcd89",
   "metadata": {},
   "outputs": [
    {
     "ename": "TypeError",
     "evalue": "'str' object cannot be interpreted as an integer",
     "output_type": "error",
     "traceback": [
      "\u001b[1;31m---------------------------------------------------------------------------\u001b[0m",
      "\u001b[1;31mTypeError\u001b[0m                                 Traceback (most recent call last)",
      "Cell \u001b[1;32mIn[234], line 1\u001b[0m\n\u001b[1;32m----> 1\u001b[0m \u001b[38;5;28mprint\u001b[39m(\u001b[38;5;28mbin\u001b[39m(\u001b[38;5;124m\"\u001b[39m\u001b[38;5;124mabcd\u001b[39m\u001b[38;5;124m\"\u001b[39m))\n",
      "\u001b[1;31mTypeError\u001b[0m: 'str' object cannot be interpreted as an integer"
     ]
    }
   ],
   "source": [
    "print(bin(\"abcd\"))"
   ]
  },
  {
   "cell_type": "code",
   "execution_count": 1,
   "id": "eebcd7f4-7b00-47c1-b909-d35a1c0a0b7b",
   "metadata": {},
   "outputs": [
    {
     "ename": "TypeError",
     "evalue": "'str' object cannot be interpreted as an integer",
     "output_type": "error",
     "traceback": [
      "\u001b[1;31m---------------------------------------------------------------------------\u001b[0m",
      "\u001b[1;31mTypeError\u001b[0m                                 Traceback (most recent call last)",
      "Cell \u001b[1;32mIn[1], line 1\u001b[0m\n\u001b[1;32m----> 1\u001b[0m \u001b[38;5;28mprint\u001b[39m(\u001b[38;5;28mbin\u001b[39m(\u001b[38;5;124m\"\u001b[39m\u001b[38;5;124m5\u001b[39m\u001b[38;5;124m\"\u001b[39m))\n",
      "\u001b[1;31mTypeError\u001b[0m: 'str' object cannot be interpreted as an integer"
     ]
    }
   ],
   "source": [
    "print(bin(\"5\"))"
   ]
  },
  {
   "cell_type": "markdown",
   "id": "9b5eefe8-2bd8-47b6-aa9b-9866c3799374",
   "metadata": {},
   "source": [
    "## Operators and Expression"
   ]
  },
  {
   "cell_type": "markdown",
   "id": "b25c9955-84d2-4e48-b4e3-1f970f410abd",
   "metadata": {},
   "source": [
    "### Arithmetic Operations"
   ]
  },
  {
   "cell_type": "markdown",
   "id": "af335227-4986-4992-a66a-2ee7203d40bb",
   "metadata": {},
   "source": [
    "+,-,*,/,% are used with standard meaning and \"**\" is used which means power and \"//\" is used which means floor division."
   ]
  },
  {
   "cell_type": "code",
   "execution_count": 7,
   "id": "198366b1-dce9-4742-a5d0-820653b222e2",
   "metadata": {},
   "outputs": [
    {
     "name": "stdout",
     "output_type": "stream",
     "text": [
      "1.5\n",
      "4\n",
      "1\n",
      "429981696\n"
     ]
    }
   ],
   "source": [
    "x=12\n",
    "y=8\n",
    "print(x/y)\n",
    "print(x%y)\n",
    "print(x//y)\n",
    "print(x**y)"
   ]
  },
  {
   "cell_type": "markdown",
   "id": "7f2469b1-9084-4bd2-8c3d-e1bfdcaa6cf0",
   "metadata": {},
   "source": [
    "**// gives the quotient and % gives the remainder**"
   ]
  },
  {
   "cell_type": "markdown",
   "id": "4d4ab8b1-45dd-43a4-9a66-705e5b90b641",
   "metadata": {},
   "source": [
    "## Logical Operators and Precedence"
   ]
  },
  {
   "cell_type": "markdown",
   "id": "6e5212e3-e404-4894-905c-c4feea0b8795",
   "metadata": {},
   "source": [
    "**>> Right Shift, << Left Shift, & Bitwise AND, | Bitwise OR, ^ Bitwise X-OR and ~ Bitwise NOT**"
   ]
  },
  {
   "cell_type": "code",
   "execution_count": 20,
   "id": "96df9d2a-260d-47ce-a34d-9f20065168e8",
   "metadata": {},
   "outputs": [
    {
     "name": "stdout",
     "output_type": "stream",
     "text": [
      "2\n",
      "3\n",
      "-3\n",
      "-0b11\n",
      "0\n",
      "12\n"
     ]
    }
   ],
   "source": [
    "a=2\n",
    "b=3\n",
    "print(a&b)\n",
    "print(a|b)\n",
    "print(~a)\n",
    "print(bin(~a))\n",
    "print(b>>a)\n",
    "print(b<<a)"
   ]
  },
  {
   "cell_type": "markdown",
   "id": "ee63c7fa-7af8-47dc-97f3-616b08ea40f8",
   "metadata": {},
   "source": [
    "### Precedence"
   ]
  },
  {
   "cell_type": "markdown",
   "id": "914dbbd9-db2f-4d16-acaf-0eb20ff4eb94",
   "metadata": {},
   "source": [
    "(),F(),**,*,/,%,+,-,<<,>>,&,^,| are the Precedence"
   ]
  },
  {
   "cell_type": "markdown",
   "id": "681aa70f-a4d0-451e-8922-c2a43175b9f7",
   "metadata": {},
   "source": [
    "****Follows Right to Left Precedence and rest left to right** "
   ]
  },
  {
   "cell_type": "code",
   "execution_count": 27,
   "id": "2529f0ea-835d-40c9-9fe4-8609e31d1564",
   "metadata": {},
   "outputs": [
    {
     "name": "stdin",
     "output_type": "stream",
     "text": [
      "a= 2\n",
      "b= 1\n",
      "c= 3\n"
     ]
    },
    {
     "name": "stdout",
     "output_type": "stream",
     "text": [
      "2\n"
     ]
    }
   ],
   "source": [
    "a=int(input(\"a=\"))\n",
    "b=int(input(\"b=\"))\n",
    "c=int(input(\"c=\"))\n",
    "print(a**b**c) ## a^(b^c) is the operation"
   ]
  },
  {
   "cell_type": "markdown",
   "id": "fc3a0163-db21-4585-8aaa-c301c3cc1048",
   "metadata": {},
   "source": [
    "## Programs using Expression"
   ]
  },
  {
   "cell_type": "markdown",
   "id": "8859cc9f-f587-42ef-b475-de563f8a9017",
   "metadata": {},
   "source": [
    "#### Area of a Triangle"
   ]
  },
  {
   "cell_type": "code",
   "execution_count": 36,
   "id": "aa719b28-ba91-4e08-931d-abf4df7daebb",
   "metadata": {},
   "outputs": [
    {
     "name": "stdin",
     "output_type": "stream",
     "text": [
      "Base= 12\n",
      "Height= 23\n"
     ]
    },
    {
     "name": "stdout",
     "output_type": "stream",
     "text": [
      "Area is= 138.0\n"
     ]
    }
   ],
   "source": [
    "base=float(input(\"Base=\"))\n",
    "Height=float(input(\"Height=\"))\n",
    "Area=(1/2)*base*Height\n",
    "print(\"Area is=\",Area)"
   ]
  },
  {
   "cell_type": "markdown",
   "id": "8f86ca8b-b50e-4bd5-bcbe-23458febd669",
   "metadata": {},
   "source": [
    "#### Perimeter of a Rectangle"
   ]
  },
  {
   "cell_type": "code",
   "execution_count": 40,
   "id": "889c2803-3a19-42b2-9838-37e25b2394f3",
   "metadata": {},
   "outputs": [
    {
     "name": "stdin",
     "output_type": "stream",
     "text": [
      "Length= 15\n",
      "Breadth= 23\n"
     ]
    },
    {
     "name": "stdout",
     "output_type": "stream",
     "text": [
      "Perimeter is  76.0\n"
     ]
    }
   ],
   "source": [
    "l=int(input(\"Length=\"))\n",
    "b=int(input(\"Breadth=\"))\n",
    "peri=2*(l+b)\n",
    "print(\"Perimeter is \",float(peri))"
   ]
  },
  {
   "cell_type": "markdown",
   "id": "17bcda29-6653-4e82-9e0f-1b02f91476ba",
   "metadata": {},
   "source": [
    "#### Quadtratic Roots"
   ]
  },
  {
   "cell_type": "code",
   "execution_count": 45,
   "id": "85e6e665-6b09-49f4-8047-4746d4e56452",
   "metadata": {},
   "outputs": [
    {
     "name": "stdin",
     "output_type": "stream",
     "text": [
      "Enter a= 2\n",
      "Enter b= 10\n",
      "Enter c= 3\n"
     ]
    },
    {
     "name": "stdout",
     "output_type": "stream",
     "text": [
      "Roots are, x1= -0.320550528229663 x2= -4.6794494717703365\n"
     ]
    }
   ],
   "source": [
    "a=float(input(\"Enter a=\"))\n",
    "b=float(input(\"Enter b=\"))\n",
    "c=float(input(\"Enter c=\"))\n",
    "x1=(-b + (b**2-4*a*c)**(0.5))/(2*a)\n",
    "x2=(-b - (b**2-4*a*c)**(0.5))/(2*a)\n",
    "print(\"Roots are, x1=\",x1,\"x2=\",x2)"
   ]
  },
  {
   "cell_type": "markdown",
   "id": "f39482e2-8ee4-454d-9bfb-66df5abeb352",
   "metadata": {},
   "source": [
    "## Assignment Arithmetic Operators"
   ]
  },
  {
   "cell_type": "code",
   "execution_count": 53,
   "id": "558e171d-3c79-4b6e-a686-9ea8772606ca",
   "metadata": {},
   "outputs": [
    {
     "name": "stdout",
     "output_type": "stream",
     "text": [
      "46\n",
      "1.0454545454545454\n"
     ]
    },
    {
     "ename": "TypeError",
     "evalue": "unsupported operand type(s) for &=: 'float' and 'int'",
     "output_type": "error",
     "traceback": [
      "\u001b[1;31m---------------------------------------------------------------------------\u001b[0m",
      "\u001b[1;31mTypeError\u001b[0m                                 Traceback (most recent call last)",
      "Cell \u001b[1;32mIn[53], line 7\u001b[0m\n\u001b[0;32m      5\u001b[0m count\u001b[38;5;241m/\u001b[39m\u001b[38;5;241m=\u001b[39mb\n\u001b[0;32m      6\u001b[0m \u001b[38;5;28mprint\u001b[39m(count)\n\u001b[1;32m----> 7\u001b[0m count\u001b[38;5;241m&\u001b[39m\u001b[38;5;241m=\u001b[39mb\n\u001b[0;32m      8\u001b[0m \u001b[38;5;28mprint\u001b[39m(count)\n\u001b[0;32m      9\u001b[0m count\u001b[38;5;241m^\u001b[39m\u001b[38;5;241m=\u001b[39mb\n",
      "\u001b[1;31mTypeError\u001b[0m: unsupported operand type(s) for &=: 'float' and 'int'"
     ]
    }
   ],
   "source": [
    "count=2\n",
    "b=44\n",
    "count+=b\n",
    "print(count)\n",
    "count/=b\n",
    "print(count)\n",
    "count&=b\n",
    "print(count)\n",
    "count^=b\n",
    "count//=b\n",
    "print(~count)"
   ]
  },
  {
   "cell_type": "markdown",
   "id": "3ce57564-dae4-4efd-9d45-4d2c080b404d",
   "metadata": {},
   "source": [
    "After long division, the count becomes float, hence & operator is invalid"
   ]
  },
  {
   "cell_type": "code",
   "execution_count": 58,
   "id": "dff95aaf-9b49-4c58-8cf1-41a23562adc2",
   "metadata": {},
   "outputs": [
    {
     "name": "stdout",
     "output_type": "stream",
     "text": [
      "46\n",
      "1.0454545454545454\n",
      "-42.95454545454545\n",
      "-1.0\n"
     ]
    }
   ],
   "source": [
    "count=2\n",
    "b=44\n",
    "count+=b\n",
    "print(count)\n",
    "count/=b\n",
    "print(count)\n",
    "count-=b\n",
    "print(count)\n",
    "count//=b\n",
    "print(count)"
   ]
  },
  {
   "cell_type": "markdown",
   "id": "a8adf918-65f2-40e6-acb7-3b108368dae4",
   "metadata": {},
   "source": [
    "## Arithmetic Operators on all Data Types"
   ]
  },
  {
   "cell_type": "markdown",
   "id": "f57f7c4f-578a-44c0-b647-3ebe301386ab",
   "metadata": {},
   "source": [
    "**+,-,*,/,//, * * ,% will work on Integers, Bools and Floats flawlessly.**"
   ]
  },
  {
   "cell_type": "markdown",
   "id": "74163c8d-c9dc-4b79-a9eb-8300966f71d5",
   "metadata": {},
   "source": [
    "**In Complex- %,// do not work since they don't carry any meaning**  "
   ]
  },
  {
   "cell_type": "code",
   "execution_count": 65,
   "id": "c1526f57-4c76-4e6b-88b7-949e26f2df16",
   "metadata": {},
   "outputs": [
    {
     "name": "stdout",
     "output_type": "stream",
     "text": [
      "(-2.0792516652114816-14.174343908113224j)\n"
     ]
    }
   ],
   "source": [
    "a=5+6j\n",
    "b=3+4j\n",
    "print(a**b)"
   ]
  },
  {
   "cell_type": "markdown",
   "id": "7d949c87-c761-4fd6-8046-b5d46fe6ba39",
   "metadata": {},
   "source": [
    "**In Strings, only + and * act as follows**"
   ]
  },
  {
   "cell_type": "code",
   "execution_count": 70,
   "id": "b94759b9-10dc-413a-ba82-603458bd5030",
   "metadata": {},
   "outputs": [
    {
     "name": "stdout",
     "output_type": "stream",
     "text": [
      "hellohihihihellohihihi\n"
     ]
    }
   ],
   "source": [
    "a=\"hello\"\n",
    "b=\"hihihi\"\n",
    "print((a+b)*2)"
   ]
  },
  {
   "cell_type": "markdown",
   "id": "f3709e1c-ef4b-46b8-9b52-1a7d836be22f",
   "metadata": {},
   "source": [
    "**Any integer, float or complex operation with equivalent datatype results in same datatype**"
   ]
  },
  {
   "cell_type": "code",
   "execution_count": 73,
   "id": "e782ed0f-1e16-4adc-93ec-af623ce1f602",
   "metadata": {},
   "outputs": [
    {
     "name": "stdout",
     "output_type": "stream",
     "text": [
      "(1.352941176470588-1.5882352941176472j)\n"
     ]
    }
   ],
   "source": [
    "a=12+2j\n",
    "b=3+5j\n",
    "print(a/b)\n"
   ]
  },
  {
   "cell_type": "markdown",
   "id": "be986b54-08e6-4b3c-8e2c-e3f3c433b4b8",
   "metadata": {},
   "source": [
    "**Any Integer or float operation with Complex number results in class complex**"
   ]
  },
  {
   "cell_type": "code",
   "execution_count": 79,
   "id": "a4d1096c-36ec-4e11-9a62-7530e7775dcd",
   "metadata": {},
   "outputs": [
    {
     "name": "stdout",
     "output_type": "stream",
     "text": [
      "<class 'complex'>\n"
     ]
    }
   ],
   "source": [
    "a=15+6j\n",
    "b=4\n",
    "print(type(a/b))"
   ]
  },
  {
   "cell_type": "markdown",
   "id": "2c713fc7-6ba5-49d3-97e6-bf3319714b5d",
   "metadata": {},
   "source": [
    "Integer ! float = float    when !=+,-,*,/\n",
    "\n",
    "So if either of 2 operands is float then resultant datatype is float\n",
    "\n"
   ]
  },
  {
   "cell_type": "code",
   "execution_count": 87,
   "id": "8fe51bef-0228-47a1-a672-a543516a04ad",
   "metadata": {},
   "outputs": [
    {
     "name": "stdout",
     "output_type": "stream",
     "text": [
      "<class 'float'>\n",
      "<class 'float'>\n"
     ]
    }
   ],
   "source": [
    "a=25.3\n",
    "b=12\n",
    "print(type(a+b))\n",
    "print(type(b//a))"
   ]
  },
  {
   "cell_type": "markdown",
   "id": "f9b01e77-f0d7-45cb-a48e-8f6ab118841c",
   "metadata": {},
   "source": [
    "**In case of Strings, only integer can be multiplied**\n"
   ]
  },
  {
   "cell_type": "code",
   "execution_count": 97,
   "id": "e6d62204-186d-4017-a984-d459748743a0",
   "metadata": {},
   "outputs": [
    {
     "name": "stdout",
     "output_type": "stream",
     "text": [
      "name3\n",
      "namenamename\n"
     ]
    }
   ],
   "source": [
    "a=\"name\"\n",
    "b=\"3\"\n",
    "print(a+b)\n",
    "print(a*int(b))"
   ]
  },
  {
   "cell_type": "markdown",
   "id": "645239b0-1fb3-4687-a8f5-9b0cfb0b46d1",
   "metadata": {},
   "source": [
    "## Conditional Operators"
   ]
  },
  {
   "cell_type": "markdown",
   "id": "fbab063b-6a18-46ea-b8ac-cabddb723758",
   "metadata": {},
   "source": [
    "**Relational, Logical Operators and if-else statement block is executed in sync**"
   ]
  },
  {
   "cell_type": "code",
   "execution_count": 105,
   "id": "fed092bd-592c-4ca4-84c4-f08ae6fa0b7a",
   "metadata": {},
   "outputs": [
    {
     "name": "stdin",
     "output_type": "stream",
     "text": [
      "a= -3\n"
     ]
    },
    {
     "name": "stdout",
     "output_type": "stream",
     "text": [
      "-3 is negative\n"
     ]
    }
   ],
   "source": [
    "a=int(input(\"a=\"))\n",
    "if (a>0):\n",
    "    print(a,\"is positive\")\n",
    "elif (a==0):\n",
    "    print(a,\"is zero\")\n",
    "else:\n",
    "    print(a,\"is negative\")"
   ]
  },
  {
   "cell_type": "code",
   "execution_count": 109,
   "id": "3520c43d-b88d-4aa6-8a0e-5f33bdb16ab9",
   "metadata": {},
   "outputs": [
    {
     "name": "stdin",
     "output_type": "stream",
     "text": [
      "a= 15\n",
      "b= 20\n",
      "c= 4\n"
     ]
    },
    {
     "name": "stdout",
     "output_type": "stream",
     "text": [
      "20 is the greatest\n"
     ]
    }
   ],
   "source": [
    "a=int(input(\"a=\"))\n",
    "b=int(input(\"b=\"))\n",
    "c=int(input(\"c=\"))\n",
    "if (a>b) and (a>c):\n",
    "    print(a,\"is the greatest\")\n",
    "elif (b>c):\n",
    "    print(b,\"is the greatest\")\n",
    "else:\n",
    "    print(c,\"is the greatest\")"
   ]
  },
  {
   "cell_type": "markdown",
   "id": "9e2912e1-2540-4bd9-9e76-7d979e87a07b",
   "metadata": {},
   "source": [
    "## Sample Programs"
   ]
  },
  {
   "cell_type": "markdown",
   "id": "3af1cfb3-8029-4bd7-ab45-c86222395ed3",
   "metadata": {},
   "source": [
    "**Check male or female**\n"
   ]
  },
  {
   "cell_type": "code",
   "execution_count": 115,
   "id": "a4587039-d497-4137-9207-aee70f005dc6",
   "metadata": {},
   "outputs": [
    {
     "name": "stdin",
     "output_type": "stream",
     "text": [
      " male or female= Female\n"
     ]
    },
    {
     "name": "stdout",
     "output_type": "stream",
     "text": [
      "Female\n"
     ]
    }
   ],
   "source": [
    "gender=input(\" male or female=\")\n",
    "if(gender==\"m\" or gender==\"M\" or gender==\"male\" or gender==\"Male\"):\n",
    "    print(\"Male\")\n",
    "elif (gender==\"f\" or gender==\"F\" or gender==\"Female\" or gender==\"female\"):\n",
    "    print(\"Female\")\n",
    "else:\n",
    "    print(\"Incorrect Input\")"
   ]
  },
  {
   "cell_type": "markdown",
   "id": "01a3bb6c-da7b-40fa-b42f-dbeec0b97cb2",
   "metadata": {},
   "source": [
    "**Check Vowel Consonant**"
   ]
  },
  {
   "cell_type": "code",
   "execution_count": 2,
   "id": "ecdb092f-dffb-4d73-8cd2-87319ecdd4e3",
   "metadata": {},
   "outputs": [
    {
     "name": "stdin",
     "output_type": "stream",
     "text": [
      "Enter an alphabet b\n"
     ]
    },
    {
     "name": "stdout",
     "output_type": "stream",
     "text": [
      "Consonant\n"
     ]
    }
   ],
   "source": [
    "ch=input(\"Enter an alphabet\")\n",
    "if(ch=='a' or ch=='e' or ch=='i' or ch=='u' or ch==\"A\" or ch==\"E\" or ch==\"I\" or ch==\"O\" or ch==\"U\"):\n",
    "    print(\"vowel\")\n",
    "else:\n",
    "    print(\"Consonant\")"
   ]
  },
  {
   "cell_type": "markdown",
   "id": "558f9d36-c19b-429f-836d-fd537a22fbcf",
   "metadata": {},
   "source": [
    "**Leap Year**"
   ]
  },
  {
   "cell_type": "code",
   "execution_count": 121,
   "id": "5e46d7f6-e4b4-459b-abeb-db6bad3ad6cf",
   "metadata": {},
   "outputs": [
    {
     "name": "stdin",
     "output_type": "stream",
     "text": [
      "Enter Year: 2000\n"
     ]
    },
    {
     "name": "stdout",
     "output_type": "stream",
     "text": [
      "2000 is a leap year\n"
     ]
    }
   ],
   "source": [
    "year=int(input(\"Enter Year:\"))\n",
    "if((year%100!=0 and year%4==0) or year%400==0):\n",
    "    print(year,\"is a leap year\")\n",
    "else:\n",
    "    print(year,\"is not a leap year\")"
   ]
  },
  {
   "cell_type": "markdown",
   "id": "a3d1053a-65c9-4139-a389-1ace9a663660",
   "metadata": {},
   "source": [
    "**Oldest Age**"
   ]
  },
  {
   "cell_type": "code",
   "execution_count": 124,
   "id": "3544f934-2a17-406d-9261-40ef47e1fa44",
   "metadata": {},
   "outputs": [
    {
     "name": "stdin",
     "output_type": "stream",
     "text": [
      "Enter John's age= 23\n",
      "Enter Mark's age= 45\n",
      "Enter Nat's age= 10\n"
     ]
    },
    {
     "name": "stdout",
     "output_type": "stream",
     "text": [
      "Mark is Oldest\n"
     ]
    }
   ],
   "source": [
    "john=int(input(\"Enter John's age=\"))\n",
    "Mark=int(input(\"Enter Mark's age=\"))\n",
    "Nat=int(input(\"Enter Nat's age=\"))\n",
    "if(john>Mark and john>Nat):\n",
    "    print(\"John is the Oldest\")\n",
    "else:\n",
    "    if(Mark>Nat):\n",
    "        print(\"Mark is Oldest\")\n",
    "    else:\n",
    "        print(\"Nat is Oldest\")"
   ]
  },
  {
   "cell_type": "markdown",
   "id": "3842f7ae-8197-491c-bcba-291c902ac7ec",
   "metadata": {},
   "source": [
    "## String Comparision"
   ]
  },
  {
   "cell_type": "markdown",
   "id": "7901195b-4275-42af-8985-7c9566fe9def",
   "metadata": {},
   "source": [
    "**Strings are compared wrt Lexicographic Order**"
   ]
  },
  {
   "cell_type": "markdown",
   "id": "1285f2bf-0c52-4382-89c3-9f8460113e2b",
   "metadata": {},
   "source": [
    "Numbers< Uppercase Letter < Lowercase Letter (As per ASCII Codes)"
   ]
  },
  {
   "cell_type": "markdown",
   "id": "2840d209-ad1b-4aa9-83c0-2076087cc9e0",
   "metadata": {},
   "source": [
    "Also if \"abc\" and \"abcd\" then bigger word>smaller word"
   ]
  },
  {
   "cell_type": "code",
   "execution_count": 138,
   "id": "b7383814-0581-469f-b23e-92ef108f8269",
   "metadata": {},
   "outputs": [
    {
     "data": {
      "text/plain": [
       "True"
      ]
     },
     "execution_count": 138,
     "metadata": {},
     "output_type": "execute_result"
    }
   ],
   "source": [
    "s1=\"software\"\n",
    "s2=\"Hardware\"\n",
    "s1>s2\n"
   ]
  },
  {
   "cell_type": "code",
   "execution_count": 140,
   "id": "371bb427-6d43-4731-9f43-f2ae6698e20a",
   "metadata": {},
   "outputs": [
    {
     "data": {
      "text/plain": [
       "False"
      ]
     },
     "execution_count": 140,
     "metadata": {},
     "output_type": "execute_result"
    }
   ],
   "source": [
    "s1=\"python\"\n",
    "s2=\"pycharm\"\n",
    "s2>s1\n"
   ]
  },
  {
   "cell_type": "code",
   "execution_count": 142,
   "id": "327769ce-b6ff-47d2-906c-46d360a9639e",
   "metadata": {},
   "outputs": [
    {
     "data": {
      "text/plain": [
       "True"
      ]
     },
     "execution_count": 142,
     "metadata": {},
     "output_type": "execute_result"
    }
   ],
   "source": [
    "s1=\"integer\"\n",
    "s2=\"integer\"\n",
    "s1==s2"
   ]
  },
  {
   "cell_type": "code",
   "execution_count": 144,
   "id": "042705da-28cb-41e0-9f00-778001015522",
   "metadata": {},
   "outputs": [
    {
     "data": {
      "text/plain": [
       "False"
      ]
     },
     "execution_count": 144,
     "metadata": {},
     "output_type": "execute_result"
    }
   ],
   "source": [
    "s1=\"print\"\n",
    "s2=\"printer\"\n",
    "s1>s2\n"
   ]
  },
  {
   "cell_type": "markdown",
   "id": "b6ffc02a-b711-44a3-85fb-4c4af52dacd2",
   "metadata": {},
   "source": [
    "## DataType Comparisions"
   ]
  },
  {
   "cell_type": "markdown",
   "id": "1c090e44-b741-4886-be88-77039ce8a001",
   "metadata": {},
   "source": [
    "Integer and Float works with every other relational Operators"
   ]
  },
  {
   "cell_type": "code",
   "execution_count": 162,
   "id": "b97dcdac-e0ad-4f2b-810f-467e2b719d2d",
   "metadata": {},
   "outputs": [
    {
     "data": {
      "text/plain": [
       "False"
      ]
     },
     "execution_count": 162,
     "metadata": {},
     "output_type": "execute_result"
    }
   ],
   "source": [
    "#Bool Comparisions\n",
    "True!=False\n",
    "True>=False\n",
    "True<False\n",
    "#only last condition will return since we are not using print"
   ]
  },
  {
   "cell_type": "markdown",
   "id": "e93ccb8b-c62e-4787-8444-716b5bc41b72",
   "metadata": {},
   "source": [
    "In terms of Complex numbers, Mathematically they cannot be compared and can only be checked Equality both in Mathematics and Computing"
   ]
  },
  {
   "cell_type": "code",
   "execution_count": 166,
   "id": "3e2ddaba-895d-4002-8fa5-6b0bdae0ea29",
   "metadata": {},
   "outputs": [
    {
     "data": {
      "text/plain": [
       "True"
      ]
     },
     "execution_count": 166,
     "metadata": {},
     "output_type": "execute_result"
    }
   ],
   "source": [
    "b=complex(15,23.65)\n",
    "c=complex(2,31.26)\n",
    "b!=c"
   ]
  },
  {
   "cell_type": "markdown",
   "id": "4cb03e27-0461-47ac-9caa-d3a2494b7e3b",
   "metadata": {},
   "source": [
    "## Short Circuit Conditions"
   ]
  },
  {
   "cell_type": "markdown",
   "id": "5f32f109-61d3-4d4e-a073-70e4fab0952e",
   "metadata": {},
   "source": [
    "**Visualisation of AND Short Circuit**"
   ]
  },
  {
   "cell_type": "code",
   "execution_count": 186,
   "id": "4717e4e9-fa53-4d8c-b57f-471baf5c4226",
   "metadata": {},
   "outputs": [
    {
     "name": "stdout",
     "output_type": "stream",
     "text": [
      "1\n",
      "False\n"
     ]
    }
   ],
   "source": [
    "i=1\n",
    "j=2\n",
    "c=(i>=j) and (++i==j)\n",
    "print(i)\n",
    "print(c)"
   ]
  },
  {
   "cell_type": "markdown",
   "id": "33ee57a0-5094-4217-ac42-fa36b84e6b84",
   "metadata": {},
   "source": [
    "Hence you can see that i is not incremented"
   ]
  },
  {
   "cell_type": "markdown",
   "id": "9b287abe-a414-42f7-8360-cf5251df434f",
   "metadata": {},
   "source": [
    "**Visualisation of OR Short Circuit**"
   ]
  },
  {
   "cell_type": "code",
   "execution_count": 190,
   "id": "1624754c-e571-4342-926a-cbf53bc9e2de",
   "metadata": {},
   "outputs": [
    {
     "name": "stdout",
     "output_type": "stream",
     "text": [
      "1\n",
      "True\n"
     ]
    }
   ],
   "source": [
    "i=1\n",
    "j=2\n",
    "c=(i<j) or (++i>j)\n",
    "print(i)\n",
    "print(c)"
   ]
  },
  {
   "cell_type": "markdown",
   "id": "78798769-048b-4ace-9981-b0ca63d30a19",
   "metadata": {},
   "source": [
    "Hence you can see that i is not incremented"
   ]
  },
  {
   "cell_type": "markdown",
   "id": "0ff8e242-aeca-438c-a8e1-f4fbf6c0be01",
   "metadata": {},
   "source": [
    "**Visualisation of Non Boolean Conditions**"
   ]
  },
  {
   "cell_type": "code",
   "execution_count": 196,
   "id": "ad443f22-05be-4dfa-b74c-08c869dbe251",
   "metadata": {},
   "outputs": [
    {
     "name": "stdout",
     "output_type": "stream",
     "text": [
      "5\n",
      "-3\n",
      "0\n",
      "10\n",
      "-12\n"
     ]
    }
   ],
   "source": [
    "print(5 or 10)\n",
    "print(-3 or 12)\n",
    "print(0 and 156)\n",
    "print(5 and 10)\n",
    "print(-12 or 13)"
   ]
  },
  {
   "cell_type": "markdown",
   "id": "7596f75d-9936-4c97-b367-cc9d395fcfaa",
   "metadata": {},
   "source": [
    "**NOTE--** So in case of Boolean it's only True(!0) or False(0) and always displays the number on checking with Short Circuit Conditions Applied"
   ]
  },
  {
   "cell_type": "markdown",
   "id": "96891762-d51b-4f1e-afe2-efee4efc2295",
   "metadata": {},
   "source": [
    "**Comparisions of integer based on Conditional Operators**"
   ]
  },
  {
   "cell_type": "code",
   "execution_count": 208,
   "id": "444ab8d9-51db-42f0-a08a-a08eb9148cb4",
   "metadata": {},
   "outputs": [
    {
     "name": "stdout",
     "output_type": "stream",
     "text": [
      "1010\n",
      "11\n",
      "10 | 3 is= 11\n",
      "10 & 3 is= 2\n",
      "10 ^ 3 is= 9\n",
      "10 . 2^( 3 ) is= 1\n",
      "10 // 2^( 3 ) is= 80\n"
     ]
    }
   ],
   "source": [
    "a=10\n",
    "print(format(a,\"b\"))\n",
    "b=3\n",
    "print(format(b,\"b\"))\n",
    "print(a,\"|\",b,\"is=\",a|b)\n",
    "print(a,\"&\",b,\"is=\",a&b)\n",
    "print(a,\"^\",b,\"is=\",a^b)\n",
    "print(a,\"//\",\"2^(\",b,\") is=\",a>>b)\n",
    "print(a,\".\",\"2^(\",b,\") is=\",a<<b)"
   ]
  },
  {
   "cell_type": "markdown",
   "id": "9dc80460-b53a-49c1-a34d-8dd32b4bd036",
   "metadata": {},
   "source": [
    "Right shift Indication= a>>b--->a/2^b \n",
    "\n",
    "Left shift Indication= a<<b--->a*2^b"
   ]
  },
  {
   "cell_type": "markdown",
   "id": "d8f01d9e-2ea8-46ad-a147-2187c2f8ea01",
   "metadata": {},
   "source": [
    "## Chaining Comparisions"
   ]
  },
  {
   "cell_type": "markdown",
   "id": "54d41f38-ec1b-4e64-9934-7bff9f52b64d",
   "metadata": {},
   "source": [
    "This methodolgy is intrinsic only to Python and is very useful.\n",
    "\n",
    "It can be abbreviated as--\n",
    "\n",
    "a>b and b>c and c>d\n",
    "\n",
    "a>b>c>d"
   ]
  },
  {
   "cell_type": "code",
   "execution_count": 222,
   "id": "552042da-bb02-4bf3-b896-7eccf6f47e0a",
   "metadata": {},
   "outputs": [
    {
     "name": "stdout",
     "output_type": "stream",
     "text": [
      "False\n",
      "True\n"
     ]
    }
   ],
   "source": [
    "a=10\n",
    "b=8\n",
    "c=6\n",
    "d=12\n",
    "print(a>b>c>d) # (a>b and b>c and c>d) \n",
    "print(a>b>c<d) # (a>b and b>c and c<d)"
   ]
  },
  {
   "cell_type": "markdown",
   "id": "884008b6-1b57-4311-94e2-a0c19d31e2e6",
   "metadata": {},
   "source": [
    "## Is and IsNot"
   ]
  },
  {
   "cell_type": "code",
   "execution_count": 227,
   "id": "e3b1820c-e429-4dfc-b681-3ce70d7f2bc9",
   "metadata": {},
   "outputs": [
    {
     "name": "stdout",
     "output_type": "stream",
     "text": [
      "True\n",
      "False\n",
      "2594744252672\n",
      "2594744252672\n"
     ]
    }
   ],
   "source": [
    "a=\"hello\"\n",
    "b=\"hello\"\n",
    "print(a is b)\n",
    "print(a is not b)\n",
    "print(id(a))\n",
    "print(id(b))"
   ]
  },
  {
   "cell_type": "markdown",
   "id": "a0ecf82d-232f-4df4-9993-21799ca68661",
   "metadata": {},
   "source": [
    "**Here is and is not are basically checkers whether variables point to the same literal designated space.**"
   ]
  },
  {
   "cell_type": "code",
   "execution_count": 230,
   "id": "1ea7c39c-4470-45e0-a136-731d3684a103",
   "metadata": {},
   "outputs": [
    {
     "name": "stdout",
     "output_type": "stream",
     "text": [
      "140728769456920\n",
      "140728769456952\n",
      "True\n"
     ]
    }
   ],
   "source": [
    "a=12\n",
    "b=13\n",
    "print(id(a))\n",
    "print(id(b))\n",
    "print(a is not b)"
   ]
  },
  {
   "cell_type": "markdown",
   "id": "ba22496e-5958-435f-a241-9bdf0826c238",
   "metadata": {},
   "source": [
    "# Iteration "
   ]
  },
  {
   "cell_type": "markdown",
   "id": "38deedef-ddb1-4f78-87e6-e3371c3cfa71",
   "metadata": {},
   "source": [
    "There are 2 types of loop in Python\n",
    "1. For Loop (Counter Controlled Loop)\n",
    "2. While Loop (Sentinel Loop)"
   ]
  },
  {
   "cell_type": "markdown",
   "id": "87fb0779-6712-41a9-b9ac-d37cc9040a6a",
   "metadata": {},
   "source": [
    "### While Loop"
   ]
  },
  {
   "cell_type": "markdown",
   "id": "4b17c621-4511-400b-88e9-98a8cf43c48a",
   "metadata": {},
   "source": [
    "General Syntax:\n",
    "while<condition>:\n",
    "   \n",
    "    statement 1\n",
    "    \n",
    "    statement 2\n",
    "    \n",
    "    statement 3\n",
    "\n",
    "statement 4"
   ]
  },
  {
   "cell_type": "code",
   "execution_count": 10,
   "id": "d4692b3a-0b47-4c2e-bb90-7392484ed10a",
   "metadata": {},
   "outputs": [
    {
     "name": "stdout",
     "output_type": "stream",
     "text": [
      "5\n",
      "4\n",
      "3\n",
      "2\n",
      "1\n",
      "This is a sequence\n"
     ]
    }
   ],
   "source": [
    "n=5\n",
    "while(n>0):\n",
    "    print(n)\n",
    "    n-=1\n",
    "print(\"This is a sequence\")"
   ]
  },
  {
   "cell_type": "markdown",
   "id": "2f284cd6-4c48-4ee9-99ce-b87ca065cf2b",
   "metadata": {},
   "source": [
    "### Sample Programs using While Loop"
   ]
  },
  {
   "cell_type": "code",
   "execution_count": 7,
   "id": "efb21568-ed87-463d-bf25-beb735434836",
   "metadata": {},
   "outputs": [
    {
     "name": "stdin",
     "output_type": "stream",
     "text": [
      "Enter a number 12566\n"
     ]
    },
    {
     "name": "stdout",
     "output_type": "stream",
     "text": [
      "The reversed number is 66521\n"
     ]
    }
   ],
   "source": [
    "# Reversing a number\n",
    "n=int(input(\"Enter a number\"))\n",
    "sum=0\n",
    "while(n>0):\n",
    "    r=n%10\n",
    "    sum=sum*10+r\n",
    "    n=n//10\n",
    "print(\"The reversed number is\",sum)"
   ]
  },
  {
   "cell_type": "code",
   "execution_count": 11,
   "id": "c3a2a8e6-77c4-4205-9f35-f1433f52b3bd",
   "metadata": {},
   "outputs": [
    {
     "name": "stdin",
     "output_type": "stream",
     "text": [
      "Enter the number: 125\n"
     ]
    },
    {
     "name": "stdout",
     "output_type": "stream",
     "text": [
      "The Sum of digits is 8  and count=  3\n"
     ]
    }
   ],
   "source": [
    "#Count & Sum of Digits \n",
    "n=int(input(\"Enter the number:\"))\n",
    "count=0\n",
    "sum=0\n",
    "while(n>0):\n",
    "    count+=1\n",
    "    sum+=(n%10)\n",
    "    n//=10\n",
    "print(\"The Sum of digits is\",sum,\" and count= \",count)"
   ]
  },
  {
   "cell_type": "code",
   "execution_count": 15,
   "id": "7108e72d-4d51-482f-89e0-b323b35e6243",
   "metadata": {},
   "outputs": [
    {
     "name": "stdin",
     "output_type": "stream",
     "text": [
      "Enter the number: 1221\n"
     ]
    },
    {
     "name": "stdout",
     "output_type": "stream",
     "text": [
      "Palindrome\n"
     ]
    }
   ],
   "source": [
    "#Palindrome check\n",
    "n=int(input(\"Enter the number:\"))\n",
    "original=n\n",
    "sum=0\n",
    "while(n>0):\n",
    "    r=n%10\n",
    "    sum=sum*10+r\n",
    "    n=n//10\n",
    "if(original == sum):\n",
    "    print(\"Palindrome\")\n",
    "else:\n",
    "    print(\"Not a Palindrome\")"
   ]
  },
  {
   "cell_type": "markdown",
   "id": "44c9770b-2506-4c9f-922b-1aba87fc9f4d",
   "metadata": {},
   "source": [
    "# Infinite Loop"
   ]
  },
  {
   "cell_type": "markdown",
   "id": "fc7088c1-35a9-4bc2-a8c2-3c016946f683",
   "metadata": {},
   "source": [
    "General Syntax:\n",
    "\n",
    "while True:\n",
    "\n",
    "    statement 1\n",
    "    \n",
    "    statement 2\n",
    "    \n",
    "    statement 3"
   ]
  },
  {
   "cell_type": "code",
   "execution_count": 23,
   "id": "bb4e3394-afa3-4730-9af6-41096536487d",
   "metadata": {},
   "outputs": [
    {
     "name": "stdout",
     "output_type": "stream",
     "text": [
      "1\n",
      "2\n",
      "3\n",
      "4\n",
      "5\n",
      "6\n",
      "7\n",
      "8\n",
      "9\n",
      "10\n"
     ]
    }
   ],
   "source": [
    "i=0\n",
    "while True:\n",
    "    i+=1\n",
    "    print(i)\n",
    "    if(i==10):\n",
    "        break"
   ]
  },
  {
   "cell_type": "markdown",
   "id": "3bc84257-ab7b-45c1-93ef-54895a88a249",
   "metadata": {},
   "source": [
    "## Else suite"
   ]
  },
  {
   "cell_type": "markdown",
   "id": "07e817b3-5ce2-4084-9fd0-ac7db7e2bf54",
   "metadata": {},
   "source": [
    "while <condition>:\n",
    "\n",
    "    statement 1\n",
    "    statement 2\n",
    "    \n",
    "else:\n",
    "    statement 3\n",
    "    \n",
    "statement 4"
   ]
  },
  {
   "cell_type": "code",
   "execution_count": 30,
   "id": "9763d803-ccdc-4eba-8fc1-aa0326ffcc5c",
   "metadata": {},
   "outputs": [
    {
     "name": "stdout",
     "output_type": "stream",
     "text": [
      "1\n",
      "2\n",
      "3\n",
      "4\n",
      "End of Loop\n",
      "Loop Terminated\n"
     ]
    }
   ],
   "source": [
    "i=0\n",
    "while(i<4):\n",
    "    i+=1\n",
    "    print(i)\n",
    "else:\n",
    "    print(\"End of Loop\")\n",
    "print(\"Loop Terminated\")"
   ]
  },
  {
   "cell_type": "markdown",
   "id": "81d800fb-8a47-40d8-87c0-388d145f0917",
   "metadata": {},
   "source": [
    "# For Loop / For Each Loop"
   ]
  },
  {
   "cell_type": "markdown",
   "id": "4ec3f566-dacf-4625-a7ee-d33135d4a81a",
   "metadata": {},
   "source": [
    "for variable in sequence:\n",
    "\n"
   ]
  },
  {
   "cell_type": "code",
   "execution_count": 41,
   "id": "6bff267f-78ca-4a44-929e-8aa4897ebd9a",
   "metadata": {},
   "outputs": [
    {
     "name": "stdout",
     "output_type": "stream",
     "text": [
      "1\n",
      "2\n",
      "3\n",
      "4\n",
      "5\n"
     ]
    }
   ],
   "source": [
    "for i in range(1,6,1):\n",
    "    print(i)"
   ]
  },
  {
   "cell_type": "code",
   "execution_count": 43,
   "id": "08a8da6a-6fb6-4bc4-a9f7-6aeed0359a5e",
   "metadata": {},
   "outputs": [
    {
     "name": "stdout",
     "output_type": "stream",
     "text": [
      "p\n",
      "y\n",
      "t\n",
      "h\n",
      "o\n",
      "n\n"
     ]
    }
   ],
   "source": [
    "s1=\"python\"\n",
    "for x in s1:\n",
    "    print(x)"
   ]
  },
  {
   "cell_type": "markdown",
   "id": "6da66322-a6b8-4a13-80b5-718a273fe8c6",
   "metadata": {},
   "source": [
    "## Sample Problems"
   ]
  },
  {
   "cell_type": "code",
   "execution_count": 50,
   "id": "b1ea5dc0-ccad-4844-a6df-75052a3d9bea",
   "metadata": {},
   "outputs": [
    {
     "name": "stdin",
     "output_type": "stream",
     "text": [
      "Enter the number 5\n"
     ]
    },
    {
     "name": "stdout",
     "output_type": "stream",
     "text": [
      "120\n"
     ]
    }
   ],
   "source": [
    "## Factorial\n",
    "n=int(input(\"Enter the number\"))\n",
    "i=n\n",
    "fac=1\n",
    "for i in range(n,1,-1):\n",
    "    fac*=i\n",
    "print(fac)"
   ]
  },
  {
   "cell_type": "code",
   "execution_count": 76,
   "id": "e43a13fe-ccb0-4208-b5df-827a2ca2619d",
   "metadata": {},
   "outputs": [
    {
     "name": "stdin",
     "output_type": "stream",
     "text": [
      "Enter n= 100\n"
     ]
    },
    {
     "name": "stdout",
     "output_type": "stream",
     "text": [
      "The Prime Numbers are:\n",
      "2\n",
      "3\n",
      "5\n",
      "7\n",
      "11\n",
      "13\n",
      "17\n",
      "19\n",
      "23\n",
      "29\n",
      "31\n",
      "37\n",
      "41\n",
      "43\n",
      "47\n",
      "53\n",
      "59\n",
      "61\n",
      "67\n",
      "71\n",
      "73\n",
      "79\n",
      "83\n",
      "89\n",
      "97\n"
     ]
    }
   ],
   "source": [
    "## Prime number\n",
    "n=int(input(\"Enter n=\"))\n",
    "print(\"The Prime Numbers are:\")\n",
    "for i in range(2,n,1):\n",
    "    ct=0\n",
    "    for j in range(1,i+1,1):\n",
    "        if(i%j==0):\n",
    "            ct+=1\n",
    "    if(ct==2):\n",
    "        print(i)\n"
   ]
  },
  {
   "cell_type": "code",
   "execution_count": 68,
   "id": "699ba6a8-081a-4166-b030-df14060df82a",
   "metadata": {},
   "outputs": [
    {
     "name": "stdin",
     "output_type": "stream",
     "text": [
      "Enter no of terms: 5\n"
     ]
    },
    {
     "name": "stdout",
     "output_type": "stream",
     "text": [
      "0\n",
      "1\n",
      "1\n",
      "2\n",
      "3\n",
      "5\n"
     ]
    }
   ],
   "source": [
    "# Fibonacci Series\n",
    "a=0\n",
    "b=1\n",
    "n=int(input(\"Enter no of terms:\"))\n",
    "for i  in range(0,n+1,1):\n",
    "    if(i==0):\n",
    "        print(a)\n",
    "    if(i==1):\n",
    "        print(b)\n",
    "    if(i>1):\n",
    "        next=a+b\n",
    "        print(next)\n",
    "        a=b\n",
    "        b=next\n",
    "    "
   ]
  },
  {
   "cell_type": "markdown",
   "id": "37308110-166a-4944-863b-58116cc34474",
   "metadata": {},
   "source": [
    "Pass keyword is used to pass the iterations when body of loop is empty"
   ]
  },
  {
   "cell_type": "code",
   "execution_count": 71,
   "id": "05a9c99e-b859-43e6-bd94-0d08f7ccb283",
   "metadata": {},
   "outputs": [],
   "source": [
    "for i in range(1,5):\n",
    "    pass"
   ]
  },
  {
   "cell_type": "markdown",
   "id": "fdf3367b-6e7a-4eac-bcfe-397818dd8e0a",
   "metadata": {},
   "source": [
    "Else Suite in For Loop"
   ]
  },
  {
   "cell_type": "code",
   "execution_count": 74,
   "id": "b2906ac5-383c-4c58-b9fb-8ca4738d6c73",
   "metadata": {},
   "outputs": [
    {
     "name": "stdout",
     "output_type": "stream",
     "text": [
      "1\n",
      "2\n"
     ]
    }
   ],
   "source": [
    "for i in range(1,2):\n",
    "    print(i)\n",
    "else:\n",
    "    print(2)"
   ]
  },
  {
   "cell_type": "markdown",
   "id": "49212733-3ad6-4cc8-ba6f-1fa85cef4f71",
   "metadata": {},
   "source": [
    "## Pattern Drawing using  Nested Loops"
   ]
  },
  {
   "cell_type": "code",
   "execution_count": 83,
   "id": "8a708aad-ad7c-44f5-bec2-906aa591bc58",
   "metadata": {},
   "outputs": [
    {
     "name": "stdout",
     "output_type": "stream",
     "text": [
      "*  \n",
      "* *  \n",
      "* * *  \n",
      "* * * *  \n",
      "* * * * *  \n"
     ]
    }
   ],
   "source": [
    "for i in range(1,6):\n",
    "    for j in range(1,6):\n",
    "        if(j<=i):\n",
    "            print(\"*\",end=\" \")\n",
    "    print(\" \")"
   ]
  },
  {
   "cell_type": "code",
   "execution_count": 91,
   "id": "78a4e23d-1e8a-4910-9309-6cfa95e87b9b",
   "metadata": {},
   "outputs": [
    {
     "name": "stdout",
     "output_type": "stream",
     "text": [
      "* * * * *  \n",
      "* * * *  \n",
      "* * *  \n",
      "* *  \n",
      "*  \n"
     ]
    }
   ],
   "source": [
    "for i in range(1,6):\n",
    "    for j in range(1,6):\n",
    "        if(j>=i):\n",
    "            print(\"*\",end=' ')\n",
    "    print(' ')"
   ]
  },
  {
   "cell_type": "code",
   "execution_count": 93,
   "id": "323f7468-ece5-41e5-a269-0c3276f99628",
   "metadata": {},
   "outputs": [
    {
     "name": "stdout",
     "output_type": "stream",
     "text": [
      "* * * * *  \n",
      "  * * * *  \n",
      "    * * *  \n",
      "      * *  \n",
      "        *  \n"
     ]
    }
   ],
   "source": [
    "for i in range(1,6):\n",
    "    for j in range(1,6):\n",
    "        if(j>=i):\n",
    "            print(\"*\",end=' ')\n",
    "        else:\n",
    "            print(\" \",end=' ')\n",
    "    print(' ')"
   ]
  },
  {
   "cell_type": "code",
   "execution_count": 97,
   "id": "55338720-8df2-4398-9247-66cb71746f90",
   "metadata": {},
   "outputs": [
    {
     "name": "stdout",
     "output_type": "stream",
     "text": [
      "        *  \n",
      "      * *  \n",
      "    * * *  \n",
      "  * * * *  \n",
      "* * * * *  \n"
     ]
    }
   ],
   "source": [
    "for i in range(5,0,-1):\n",
    "    for j in range(1,6):\n",
    "        if(j>=i):\n",
    "            print(\"*\",end=' ')\n",
    "        else:\n",
    "            print(\" \",end=' ')\n",
    "    print(' ')\n",
    "            "
   ]
  },
  {
   "cell_type": "markdown",
   "id": "7799110c-6a81-473f-b625-6dd7ed1f65fe",
   "metadata": {},
   "source": [
    "## Match Case"
   ]
  },
  {
   "cell_type": "markdown",
   "id": "1cbc62c5-bd1b-442c-bc5c-008e0a142817",
   "metadata": {},
   "source": [
    "Just Like C/C++ Switch Case  but like if-else"
   ]
  },
  {
   "cell_type": "code",
   "execution_count": 107,
   "id": "523ee46f-a024-417e-a3fa-9f07dcaca6e6",
   "metadata": {},
   "outputs": [
    {
     "name": "stdin",
     "output_type": "stream",
     "text": [
      "ENTER DAY NO= 5\n"
     ]
    },
    {
     "name": "stdout",
     "output_type": "stream",
     "text": [
      "Saturday\n"
     ]
    }
   ],
   "source": [
    "n=int(input(\"ENTER DAY NO=\"))\n",
    "match n:\n",
    "    case 0: print(\"Monday\")\n",
    "    case 1: print(\"Tuesday\")\n",
    "    case 2: print(\"Wednesday\")\n",
    "    case 3: print(\"Thursday\")\n",
    "    case 4: print(\"Friday\")\n",
    "    case 5: print(\"Saturday\")\n",
    "    case 6: print(\"Sunday\")\n",
    "    case _: print(\"Invalid Day Number\")"
   ]
  },
  {
   "cell_type": "markdown",
   "id": "378bfc8a-3fbb-4c01-a485-eb956eb52a22",
   "metadata": {},
   "source": [
    "# String"
   ]
  },
  {
   "cell_type": "markdown",
   "id": "021b01de-5743-4868-9125-17fa1985c35f",
   "metadata": {},
   "source": [
    "String is a sequence of characters.\n",
    "\n",
    "ex:\n",
    "\n",
    "s1='Hello1'\n",
    "    \n",
    "    012345\n",
    "    \n",
    " -6-5-4-3-2-1"
   ]
  },
  {
   "cell_type": "code",
   "execution_count": 119,
   "id": "804fe733-a3f4-4ab0-adca-5aaa74e93c16",
   "metadata": {},
   "outputs": [
    {
     "name": "stdout",
     "output_type": "stream",
     "text": [
      "e\n"
     ]
    },
    {
     "data": {
      "text/plain": [
       "5"
      ]
     },
     "execution_count": 119,
     "metadata": {},
     "output_type": "execute_result"
    }
   ],
   "source": [
    "s1='hello'\n",
    "print(s1[-4])\n",
    "len(s1)"
   ]
  },
  {
   "cell_type": "code",
   "execution_count": 121,
   "id": "601a2834-443e-4514-9765-151f26e0f3f5",
   "metadata": {},
   "outputs": [
    {
     "name": "stdout",
     "output_type": "stream",
     "text": [
      "h\n",
      "E\n",
      "L\n",
      "L\n",
      "o\n"
     ]
    }
   ],
   "source": [
    "s1=\"hELLo\"\n",
    "for x in s1:\n",
    "    print(x)"
   ]
  },
  {
   "cell_type": "code",
   "execution_count": 123,
   "id": "d35412fb-ef5f-4242-aa37-f0d8b34f821c",
   "metadata": {},
   "outputs": [
    {
     "name": "stdout",
     "output_type": "stream",
     "text": [
      "c\n",
      "a\n",
      "t\n"
     ]
    }
   ],
   "source": [
    "s2=\"cat\"\n",
    "for i in range(0,3,1):\n",
    "    print(s2[i])"
   ]
  },
  {
   "cell_type": "markdown",
   "id": "a8d9f2ac-df42-4b9b-a394-1698110b1733",
   "metadata": {},
   "source": [
    "## Declarations"
   ]
  },
  {
   "cell_type": "code",
   "execution_count": 126,
   "id": "96389276-cc5d-49a8-9d70-28500551b5da",
   "metadata": {},
   "outputs": [],
   "source": [
    "s1='Hello'\n",
    "s2='''Hello'''\n",
    "s3=\"Hello\"\n",
    "s4=\"\"\"Hello\"\"\"\n",
    "# Varities Ways of Working with Strings"
   ]
  },
  {
   "cell_type": "markdown",
   "id": "18bb5df3-d2e4-49b8-ac8e-c982bff2894b",
   "metadata": {},
   "source": [
    "## Immutability of Strings"
   ]
  },
  {
   "cell_type": "markdown",
   "id": "0ee44a5b-5d63-42b4-a82a-7ddccbc28c87",
   "metadata": {},
   "source": [
    "Strings are immutable and cannot be changed. If alterations are made it produces a new string"
   ]
  },
  {
   "cell_type": "code",
   "execution_count": 130,
   "id": "b4de624a-7427-4af8-8b9d-f6a7c98361fe",
   "metadata": {},
   "outputs": [
    {
     "ename": "TypeError",
     "evalue": "'str' object does not support item assignment",
     "output_type": "error",
     "traceback": [
      "\u001b[1;31m---------------------------------------------------------------------------\u001b[0m",
      "\u001b[1;31mTypeError\u001b[0m                                 Traceback (most recent call last)",
      "Cell \u001b[1;32mIn[130], line 2\u001b[0m\n\u001b[0;32m      1\u001b[0m s1\u001b[38;5;241m=\u001b[39m\u001b[38;5;124m'\u001b[39m\u001b[38;5;124mHello World\u001b[39m\u001b[38;5;124m'\u001b[39m\n\u001b[1;32m----> 2\u001b[0m s1[\u001b[38;5;241m4\u001b[39m]\u001b[38;5;241m=\u001b[39m\u001b[38;5;124m'\u001b[39m\u001b[38;5;124mk\u001b[39m\u001b[38;5;124m'\u001b[39m\n",
      "\u001b[1;31mTypeError\u001b[0m: 'str' object does not support item assignment"
     ]
    }
   ],
   "source": [
    "s1='Hello World'\n",
    "s1[4]='k'"
   ]
  },
  {
   "cell_type": "markdown",
   "id": "394b2c18-b671-477e-97f7-51bd394b7115",
   "metadata": {},
   "source": [
    "## String Slicing "
   ]
  },
  {
   "cell_type": "code",
   "execution_count": 135,
   "id": "3afdf570-7d23-45ed-82e6-1c3a5e67df9a",
   "metadata": {},
   "outputs": [
    {
     "name": "stdout",
     "output_type": "stream",
     "text": [
      "ello W\n"
     ]
    }
   ],
   "source": [
    "s1=\"Hello World\"\n",
    "print(s1[1:7:1])"
   ]
  },
  {
   "cell_type": "code",
   "execution_count": 137,
   "id": "5c35c88a-c249-451a-acbe-c4d1f673fc84",
   "metadata": {},
   "outputs": [
    {
     "name": "stdout",
     "output_type": "stream",
     "text": [
      "TSEII olle\n"
     ]
    }
   ],
   "source": [
    "s1=\"Hello IIEST\"\n",
    "print(s1[-1:0:-1])"
   ]
  },
  {
   "cell_type": "code",
   "execution_count": 141,
   "id": "04167a07-d118-4171-8666-0b479b837fc0",
   "metadata": {},
   "outputs": [],
   "source": [
    "s1=\"Hello IIEST\"\n",
    "s2=s1[-1:0:-1]\n",
    "# Formed a New String "
   ]
  },
  {
   "cell_type": "code",
   "execution_count": 143,
   "id": "d2a06ab6-8202-4c3f-aeda-3465ced1254d",
   "metadata": {},
   "outputs": [
    {
     "name": "stdout",
     "output_type": "stream",
     "text": [
      "Dog Fight\n"
     ]
    }
   ],
   "source": [
    "s1=\"Dog Fight\"\n",
    "print(s1[:])"
   ]
  },
  {
   "cell_type": "markdown",
   "id": "5314edbb-2ece-4d9a-a5a3-0493510b2155",
   "metadata": {},
   "source": [
    "## String Operations"
   ]
  },
  {
   "cell_type": "code",
   "execution_count": 150,
   "id": "36933b1b-bf13-41b1-a2e5-1c798faf7fe9",
   "metadata": {},
   "outputs": [
    {
     "name": "stdout",
     "output_type": "stream",
     "text": [
      "101011\n"
     ]
    }
   ],
   "source": [
    "s1=\"1010\"\n",
    "s2=\"11\"\n",
    "s3=s1+s2\n",
    "print(s3)\n",
    "## Addition"
   ]
  },
  {
   "cell_type": "code",
   "execution_count": 152,
   "id": "d73b8dc6-d136-4c6b-a25a-1d3cf9ce01f0",
   "metadata": {},
   "outputs": [
    {
     "name": "stdout",
     "output_type": "stream",
     "text": [
      "232323\n"
     ]
    }
   ],
   "source": [
    "s1=\"23\"\n",
    "s2=s1*3\n",
    "print(s2)\n",
    "## Multiplication"
   ]
  },
  {
   "cell_type": "code",
   "execution_count": 154,
   "id": "b00d3352-c9b1-482e-9c4a-e625a4a6a4e2",
   "metadata": {},
   "outputs": [
    {
     "name": "stdout",
     "output_type": "stream",
     "text": [
      "True\n"
     ]
    }
   ],
   "source": [
    "s1=\"Antarikshya\"\n",
    "print(\"Anta\" in s1)"
   ]
  },
  {
   "cell_type": "code",
   "execution_count": 156,
   "id": "c3d1a01c-c57f-44d6-8d94-d1e3ae0e2e80",
   "metadata": {},
   "outputs": [
    {
     "name": "stdout",
     "output_type": "stream",
     "text": [
      "True\n"
     ]
    }
   ],
   "source": [
    "s2=\"Antarikshya\"\n",
    "print(\"A\" in s2)"
   ]
  },
  {
   "cell_type": "markdown",
   "id": "8648f68c-5ee1-45c2-94dc-028a13357795",
   "metadata": {},
   "source": [
    "Strings can be compared by >,<,>=,<=,==,!= in  Lexicographic Order & Length of Strings & ASCII Values"
   ]
  },
  {
   "cell_type": "markdown",
   "id": "abb4165c-5a9d-4077-af78-a2cc7afb7042",
   "metadata": {},
   "source": [
    "## Class String"
   ]
  },
  {
   "cell_type": "code",
   "execution_count": 162,
   "id": "71ffa7ef-5d74-4860-aec9-3a7283c50656",
   "metadata": {},
   "outputs": [
    {
     "name": "stdout",
     "output_type": "stream",
     "text": [
      "<class 'str'>\n"
     ]
    }
   ],
   "source": [
    "s1=\"Antariksh\"\n",
    "print(type(s1))"
   ]
  },
  {
   "cell_type": "markdown",
   "id": "631b7808-3584-4e63-aceb-4fb685567e43",
   "metadata": {},
   "source": [
    "s1,s2,etc are objects of class Str.(Just Like in C++)"
   ]
  },
  {
   "cell_type": "markdown",
   "id": "7fe867fd-8023-4b65-9793-2ce2a84be9a0",
   "metadata": {},
   "source": [
    "## Find & Index of Strings"
   ]
  },
  {
   "cell_type": "markdown",
   "id": "b62de00a-b6de-4002-a3d8-3eaeccad34fc",
   "metadata": {},
   "source": [
    "#### (find, r-find, count, index, r-index)"
   ]
  },
  {
   "cell_type": "code",
   "execution_count": 169,
   "id": "059d9079-2564-4f50-9c2a-d6f2baac2c08",
   "metadata": {},
   "outputs": [
    {
     "name": "stdout",
     "output_type": "stream",
     "text": [
      "0\n"
     ]
    }
   ],
   "source": [
    "s=\"Hello How Are You\"\n",
    "print(s.find(\"H\"))"
   ]
  },
  {
   "cell_type": "code",
   "execution_count": 177,
   "id": "85242f95-b6d9-48c9-8f59-98a7c98499d9",
   "metadata": {},
   "outputs": [
    {
     "name": "stdout",
     "output_type": "stream",
     "text": [
      "6 -1\n"
     ]
    }
   ],
   "source": [
    "s=\"Hello How Are You\"\n",
    "x=s.find(\"How\")\n",
    "y=s.find(\"z\")\n",
    "print(x,y)\n",
    "# returns -1 when not found"
   ]
  },
  {
   "cell_type": "code",
   "execution_count": 181,
   "id": "3b55247e-8e1f-44ba-8ce9-7d2a8e767f71",
   "metadata": {},
   "outputs": [
    {
     "name": "stdout",
     "output_type": "stream",
     "text": [
      "7\n"
     ]
    }
   ],
   "source": [
    "s=\"Hello How Are You\"\n",
    "x=s.find(\"o\",6,9)\n",
    "print(x)"
   ]
  },
  {
   "cell_type": "code",
   "execution_count": 183,
   "id": "c75080b3-6440-4582-92e7-71008ac767fd",
   "metadata": {},
   "outputs": [
    {
     "name": "stdout",
     "output_type": "stream",
     "text": [
      "1\n"
     ]
    }
   ],
   "source": [
    "s=\"kite\"\n",
    "print(s.rfind(\"i\",4,0))"
   ]
  },
  {
   "cell_type": "code",
   "execution_count": 4,
   "id": "635a2483-52f5-4a73-8eb4-22c32fa0fc6c",
   "metadata": {},
   "outputs": [
    {
     "name": "stdout",
     "output_type": "stream",
     "text": [
      "6\n"
     ]
    }
   ],
   "source": [
    "S=\"Hello How are You\"\n",
    "X=S.index('How')\n",
    "print(X)"
   ]
  },
  {
   "cell_type": "markdown",
   "id": "de234fab-3597-4526-af41-8273b85c9bbc",
   "metadata": {},
   "source": [
    "Difference between Behavior of Find and Index\n"
   ]
  },
  {
   "cell_type": "code",
   "execution_count": 6,
   "id": "c8f23de4-e068-4af9-8abf-71c3e05224e0",
   "metadata": {},
   "outputs": [
    {
     "ename": "ValueError",
     "evalue": "substring not found",
     "output_type": "error",
     "traceback": [
      "\u001b[1;31m---------------------------------------------------------------------------\u001b[0m",
      "\u001b[1;31mValueError\u001b[0m                                Traceback (most recent call last)",
      "Cell \u001b[1;32mIn[6], line 2\u001b[0m\n\u001b[0;32m      1\u001b[0m S\u001b[38;5;241m=\u001b[39m\u001b[38;5;124m\"\u001b[39m\u001b[38;5;124mHello How are You\u001b[39m\u001b[38;5;124m\"\u001b[39m\n\u001b[1;32m----> 2\u001b[0m X\u001b[38;5;241m=\u001b[39mS\u001b[38;5;241m.\u001b[39mindex(\u001b[38;5;124m'\u001b[39m\u001b[38;5;124mk\u001b[39m\u001b[38;5;124m'\u001b[39m)\n\u001b[0;32m      3\u001b[0m \u001b[38;5;28mprint\u001b[39m(X)\n",
      "\u001b[1;31mValueError\u001b[0m: substring not found"
     ]
    }
   ],
   "source": [
    "S=\"Hello How are You\"\n",
    "X=S.index('k')\n",
    "print(X)"
   ]
  },
  {
   "cell_type": "markdown",
   "id": "6a3e9aa7-46bc-479d-9881-11d6dc8d24cc",
   "metadata": {},
   "source": [
    "Here it returns error instead of -1"
   ]
  },
  {
   "cell_type": "code",
   "execution_count": 11,
   "id": "f73407fe-43e2-4ac2-9a4f-b6fefb723774",
   "metadata": {},
   "outputs": [
    {
     "name": "stdout",
     "output_type": "stream",
     "text": [
      "7\n"
     ]
    }
   ],
   "source": [
    "S=\"Hello How are You\"\n",
    "X=S.rindex('o',0,15)\n",
    "print(X)"
   ]
  },
  {
   "cell_type": "code",
   "execution_count": 18,
   "id": "d86fd462-1794-40fb-93e3-246f0f01f001",
   "metadata": {},
   "outputs": [
    {
     "name": "stdout",
     "output_type": "stream",
     "text": [
      "3\n"
     ]
    }
   ],
   "source": [
    "S=\"Hello How are You\"\n",
    "X=S.count('o')\n",
    "print(X)"
   ]
  },
  {
   "cell_type": "markdown",
   "id": "b3dd8403-2c23-411b-97fd-e066a707e1ba",
   "metadata": {},
   "source": [
    "### Allignment & Padding"
   ]
  },
  {
   "cell_type": "markdown",
   "id": "f0cbae2b-877e-4c12-87a5-99d242b59a1a",
   "metadata": {},
   "source": [
    "ljust, rjust, zfill, center\n",
    "\n"
   ]
  },
  {
   "cell_type": "code",
   "execution_count": 24,
   "id": "9e0704b2-9adf-49e8-b4ff-87f81e207bdb",
   "metadata": {},
   "outputs": [
    {
     "name": "stdout",
     "output_type": "stream",
     "text": [
      "Hello11111\n",
      "bbbbbHello\n",
      "**Hello***\n",
      "00000Hello\n"
     ]
    }
   ],
   "source": [
    "s=\"Hello\"\n",
    "print(s.ljust(10,'1'))\n",
    "print(s.rjust(10,'b'))\n",
    "print(s.center(10,'*'))\n",
    "print(s.zfill(10))"
   ]
  },
  {
   "cell_type": "markdown",
   "id": "abc5e02a-2b9e-46c3-8e99-679521ee720f",
   "metadata": {},
   "source": [
    "#### Stripping Methods"
   ]
  },
  {
   "cell_type": "markdown",
   "id": "e07cca50-9d77-4889-b4f5-f3a28ee1e4b5",
   "metadata": {},
   "source": [
    "lstrip, rstrip, strip"
   ]
  },
  {
   "cell_type": "code",
   "execution_count": 30,
   "id": "5d4d2627-db1c-4604-b84b-1e0d86f4b466",
   "metadata": {},
   "outputs": [
    {
     "name": "stdout",
     "output_type": "stream",
     "text": [
      "Hellohihihi\n",
      "hihihiHello\n",
      "Hello\n"
     ]
    }
   ],
   "source": [
    "s=\"hihihiHellohihihi\"\n",
    "print(s.lstrip('hi'))\n",
    "print(s.rstrip('hi'))\n",
    "print(s.strip('hi'))"
   ]
  },
  {
   "cell_type": "code",
   "execution_count": 32,
   "id": "1b0972cd-7d13-498f-9fa2-e34fcafc5134",
   "metadata": {},
   "outputs": [
    {
     "name": "stdout",
     "output_type": "stream",
     "text": [
      "Hello\n"
     ]
    }
   ],
   "source": [
    "s=\"Hello\"\n",
    "print(s.lstrip())"
   ]
  },
  {
   "cell_type": "markdown",
   "id": "a2b90be5-bc48-4afe-a00d-5859075e061c",
   "metadata": {},
   "source": [
    "Hence when no characters are passed in the parameter of strip function, no stripping is done and it simply returns the function"
   ]
  },
  {
   "cell_type": "markdown",
   "id": "ae7bcb52-31ba-44d8-b658-03544f27b631",
   "metadata": {},
   "source": [
    "### Joining & Splitting of a String"
   ]
  },
  {
   "cell_type": "markdown",
   "id": "c20c135b-ed82-4339-8d37-78b0b51204b5",
   "metadata": {},
   "source": [
    "replace, join, split, r-split, splitlines"
   ]
  },
  {
   "cell_type": "code",
   "execution_count": 39,
   "id": "7efe299e-6929-4532-9497-95920c4bfa80",
   "metadata": {},
   "outputs": [
    {
     "name": "stdout",
     "output_type": "stream",
     "text": [
      "a,b,c,d-e\n",
      "a-b-c-d-e\n"
     ]
    }
   ],
   "source": [
    "s1=\"a-b-c-d-e\"\n",
    "print(s1.replace('-',',',3)) # replace(old,new,count)\n",
    "print(s1.replace('k','m'))"
   ]
  },
  {
   "cell_type": "code",
   "execution_count": 41,
   "id": "9f9a7d8e-f720-4917-ab94-a290d3f4a554",
   "metadata": {},
   "outputs": [
    {
     "name": "stdout",
     "output_type": "stream",
     "text": [
      "abcd@yahoo.com\n"
     ]
    }
   ],
   "source": [
    "s2=\"abcd@gmail.com\"\n",
    "snew=s2.replace('gmail','yahoo')\n",
    "print(snew)"
   ]
  },
  {
   "cell_type": "code",
   "execution_count": 43,
   "id": "0cba0290-5ade-40f6-9a7d-b5aea4fcb347",
   "metadata": {},
   "outputs": [
    {
     "name": "stdout",
     "output_type": "stream",
     "text": [
      "axyzbxyzc\n"
     ]
    }
   ],
   "source": [
    "s1=\"xyz\"\n",
    "s2=\"abc\"\n",
    "print(s1.join(s2))"
   ]
  },
  {
   "cell_type": "code",
   "execution_count": 49,
   "id": "c2f5cc53-1482-41b1-860c-6d4704fdbab4",
   "metadata": {},
   "outputs": [
    {
     "name": "stdout",
     "output_type": "stream",
     "text": [
      "H/e/l/l/o\n"
     ]
    }
   ],
   "source": [
    "s=\"Hello\"\n",
    "s1=\"/\"\n",
    "print(s1.join(s))"
   ]
  },
  {
   "cell_type": "code",
   "execution_count": 53,
   "id": "987351ab-f08e-4162-89c2-7e8cb91e7033",
   "metadata": {},
   "outputs": [
    {
     "name": "stdout",
     "output_type": "stream",
     "text": [
      "['John', 'Ajay', 'Smith']\n"
     ]
    }
   ],
   "source": [
    "s1=\"John Ajay Smith\"\n",
    "s2=s1.split(\" \")\n",
    "print(s2)"
   ]
  },
  {
   "cell_type": "code",
   "execution_count": 55,
   "id": "307217b1-c0b6-4847-9d9a-274b5f1c5dad",
   "metadata": {},
   "outputs": [
    {
     "name": "stdout",
     "output_type": "stream",
     "text": [
      "['Jo', 'n Ajay Smit', '']\n"
     ]
    }
   ],
   "source": [
    "s1=\"John Ajay Smith\"\n",
    "s2=s1.split(\"h\")\n",
    "print(s2)"
   ]
  },
  {
   "cell_type": "code",
   "execution_count": 57,
   "id": "15cf6853-14bb-4999-938e-071ef100072e",
   "metadata": {},
   "outputs": [
    {
     "name": "stdout",
     "output_type": "stream",
     "text": [
      "['John', 'Smith', 'Ajay']\n"
     ]
    }
   ],
   "source": [
    "s1='John,Smith,Ajay'\n",
    "print(s1.split(\",\"))"
   ]
  },
  {
   "cell_type": "code",
   "execution_count": 59,
   "id": "7c41e660-8e3a-4657-8f11-fc1e0f76ec7e",
   "metadata": {},
   "outputs": [
    {
     "name": "stdout",
     "output_type": "stream",
     "text": [
      "['John', 'Smith', 'Ajay,Parsu,Rupam']\n"
     ]
    }
   ],
   "source": [
    "s1=\"John,Smith,Ajay,Parsu,Rupam\"\n",
    "s2=s1.split(\",\",2)\n",
    "print(s2)"
   ]
  },
  {
   "cell_type": "markdown",
   "id": "5736f142-f35d-4404-8d75-d3abc44e4789",
   "metadata": {},
   "source": [
    "### Prefix & Suffix"
   ]
  },
  {
   "cell_type": "markdown",
   "id": "547723a6-d242-4d03-9a0c-fa9991632dcd",
   "metadata": {},
   "source": [
    "startswith(prefix,start,end)\n",
    "\n",
    "endswith(prefix,start,end)\n",
    "\n",
    "removeprefix(prefix)\n",
    "\n",
    "removesuffix(suffix)\n",
    "\n",
    "partition(sep)\n",
    "\n",
    "rpartition(sep)"
   ]
  },
  {
   "cell_type": "code",
   "execution_count": 67,
   "id": "06fdcf18-17a6-4945-bfde-bd52de00bbe0",
   "metadata": {},
   "outputs": [
    {
     "name": "stdout",
     "output_type": "stream",
     "text": [
      "True\n",
      "True\n",
      "True\n"
     ]
    }
   ],
   "source": [
    "s1=\"python is very easy\"\n",
    "print(s1.startswith(\"python\"))\n",
    "print(s1.endswith(\"easy\"))\n",
    "print(s1.startswith(\"is\",7))"
   ]
  },
  {
   "cell_type": "code",
   "execution_count": 69,
   "id": "7cf8ce65-5f83-456f-b39d-08e466710f9f",
   "metadata": {},
   "outputs": [
    {
     "name": "stdout",
     "output_type": "stream",
     "text": [
      "True\n"
     ]
    }
   ],
   "source": [
    "s1=\"abcd@gmail.com\"\n",
    "print(s1.endswith(\"gmail.com\"))"
   ]
  },
  {
   "cell_type": "code",
   "execution_count": 71,
   "id": "9c83351e-0c71-4679-a3dc-0b3af3f5dbdd",
   "metadata": {},
   "outputs": [
    {
     "name": "stdout",
     "output_type": "stream",
     "text": [
      "thon programming\n"
     ]
    }
   ],
   "source": [
    "s1=\"python programming\"\n",
    "s2=s1.removeprefix(\"py\")\n",
    "print(s2)"
   ]
  },
  {
   "cell_type": "code",
   "execution_count": 73,
   "id": "8aa63222-a6fc-4b2a-9529-07523234f452",
   "metadata": {},
   "outputs": [
    {
     "name": "stdout",
     "output_type": "stream",
     "text": [
      "python programming\n"
     ]
    }
   ],
   "source": [
    "s1=\"python programming\"\n",
    "s2=s1.removeprefix(\"tiu\")\n",
    "print(s2)"
   ]
  },
  {
   "cell_type": "code",
   "execution_count": 77,
   "id": "8aec7708-765e-46d0-ae9c-8769a6dcdf3f",
   "metadata": {},
   "outputs": [
    {
     "name": "stdout",
     "output_type": "stream",
     "text": [
      "python program\n"
     ]
    }
   ],
   "source": [
    "s1=\"python programming\"\n",
    "s2=s1.removesuffix(\"ming\")\n",
    "print(s2)"
   ]
  },
  {
   "cell_type": "code",
   "execution_count": 81,
   "id": "b18e3e6c-bf77-432b-afdc-9d6f6c3033cb",
   "metadata": {},
   "outputs": [
    {
     "name": "stdout",
     "output_type": "stream",
     "text": [
      "('python ', 'is', ' easy')\n"
     ]
    }
   ],
   "source": [
    "s1=\"python is easy\"\n",
    "s2=s1.partition(\"is\")\n",
    "print(s2) ## in Tuple "
   ]
  },
  {
   "cell_type": "markdown",
   "id": "6bf3f2ee-89f2-4842-8da0-1dde9215b0fb",
   "metadata": {},
   "source": [
    "### Case Conversion Methods"
   ]
  },
  {
   "cell_type": "markdown",
   "id": "e3930065-b30d-4186-845a-1106d68a33e6",
   "metadata": {},
   "source": [
    "capitalize()\n",
    "\n",
    "upper()\n",
    "\n",
    "lower()\n",
    "\n",
    "title()\n",
    "\n",
    "swapcase()\n",
    "\n",
    "casefold()"
   ]
  },
  {
   "cell_type": "code",
   "execution_count": 89,
   "id": "06df0036-1cf9-498d-998e-8283931139f3",
   "metadata": {},
   "outputs": [
    {
     "name": "stdout",
     "output_type": "stream",
     "text": [
      "Hello\n",
      "HELLO\n",
      "hello\n"
     ]
    }
   ],
   "source": [
    "s1=\"hello\"\n",
    "print(s1.capitalize())\n",
    "print(s1.upper())\n",
    "s2=\"HelLo\"\n",
    "print(s2.lower())\n"
   ]
  },
  {
   "cell_type": "code",
   "execution_count": 91,
   "id": "2eae24a0-5490-4dc0-8d7f-671d7bff61de",
   "metadata": {},
   "outputs": [
    {
     "name": "stdout",
     "output_type": "stream",
     "text": [
      "Hello How Are You?\n"
     ]
    }
   ],
   "source": [
    "s1=\"Hello How are You?\"\n",
    "print(s1.title())"
   ]
  },
  {
   "cell_type": "code",
   "execution_count": 93,
   "id": "9d06cb1f-e687-4f70-90e0-a537037b1063",
   "metadata": {},
   "outputs": [
    {
     "name": "stdout",
     "output_type": "stream",
     "text": [
      "hELLO hOW ARE yOU?\n"
     ]
    }
   ],
   "source": [
    "s1=\"Hello How are You?\"\n",
    "print(s1.swapcase())"
   ]
  },
  {
   "cell_type": "code",
   "execution_count": 95,
   "id": "5a00f521-7aa6-4e66-98d9-0dc6f93eb5c7",
   "metadata": {},
   "outputs": [
    {
     "name": "stdout",
     "output_type": "stream",
     "text": [
      "hello how are you?\n"
     ]
    }
   ],
   "source": [
    "s1=\"Hello How are You?\"\n",
    "print(s1.casefold())"
   ]
  },
  {
   "cell_type": "markdown",
   "id": "77930aef-3bba-4dca-9efe-28ca6bb65750",
   "metadata": {},
   "source": [
    "### Inquiry Methods"
   ]
  },
  {
   "cell_type": "markdown",
   "id": "5a6f849d-3682-42f3-8e73-e26115b775af",
   "metadata": {},
   "source": [
    "isalpha()\n",
    "\n",
    "islower()\n",
    "\n",
    "isupper()\n",
    "\n",
    "istitle()\n",
    "\n",
    "isspace()\n",
    "\n",
    "isidentifier()\n",
    "\n",
    "isprintable()"
   ]
  },
  {
   "cell_type": "code",
   "execution_count": 103,
   "id": "5037a9d6-940c-43cc-a6b1-3363d926bd7f",
   "metadata": {},
   "outputs": [
    {
     "name": "stdout",
     "output_type": "stream",
     "text": [
      "True\n",
      "False\n"
     ]
    }
   ],
   "source": [
    "s1=\"hello\"\n",
    "s2=\"hel8o\"\n",
    "print(s1.isalpha())\n",
    "print(s2.isalpha())"
   ]
  },
  {
   "cell_type": "code",
   "execution_count": 106,
   "id": "cd1dffad-cd37-4b1b-96d0-bbcf08709c66",
   "metadata": {},
   "outputs": [
    {
     "name": "stdout",
     "output_type": "stream",
     "text": [
      "True\n",
      "True\n"
     ]
    }
   ],
   "source": [
    "s1=\"hello\"\n",
    "s2=\"HELLO\"\n",
    "print(s1.islower())\n",
    "print(s2.isupper())"
   ]
  },
  {
   "cell_type": "code",
   "execution_count": 110,
   "id": "a67830ee-f4d2-4640-ac1b-f9d464928d8c",
   "metadata": {},
   "outputs": [
    {
     "name": "stdout",
     "output_type": "stream",
     "text": [
      "True\n"
     ]
    }
   ],
   "source": [
    "s1=\"Hello\"\n",
    "s2=\"Hello How Are You\"\n",
    "print(s2.istitle())"
   ]
  },
  {
   "cell_type": "code",
   "execution_count": 113,
   "id": "4f856ff2-fbb4-4e1b-bdc2-fcd4f9f650e6",
   "metadata": {},
   "outputs": [
    {
     "name": "stdout",
     "output_type": "stream",
     "text": [
      "0\n",
      "False\n"
     ]
    }
   ],
   "source": [
    "s1=\"\"\n",
    "print(len(s1))\n",
    "print(s1.isspace())"
   ]
  },
  {
   "cell_type": "code",
   "execution_count": 115,
   "id": "f05f5b00-283e-4259-9ea0-971f5d8fb62c",
   "metadata": {},
   "outputs": [
    {
     "name": "stdout",
     "output_type": "stream",
     "text": [
      "3\n",
      "False\n"
     ]
    }
   ],
   "source": [
    "s2=\"Fa \"\n",
    "print(len(s2))\n",
    "print(s2.isspace())"
   ]
  },
  {
   "cell_type": "code",
   "execution_count": 117,
   "id": "2e692549-8392-49cc-aa83-320ef7a16812",
   "metadata": {},
   "outputs": [
    {
     "name": "stdout",
     "output_type": "stream",
     "text": [
      "True\n"
     ]
    }
   ],
   "source": [
    "s=\" \"\n",
    "print(s.isspace())"
   ]
  },
  {
   "cell_type": "code",
   "execution_count": 120,
   "id": "f174d4c2-9d7a-4a3b-9bef-53dfdb9d1192",
   "metadata": {},
   "outputs": [
    {
     "name": "stdout",
     "output_type": "stream",
     "text": [
      "True\n"
     ]
    }
   ],
   "source": [
    "s1=\"Hello Mrs. Jane\"\n",
    "print(s1.isprintable())"
   ]
  },
  {
   "cell_type": "markdown",
   "id": "e0ff04f7-8f7a-417a-b5a5-e9e5dfaadf79",
   "metadata": {},
   "source": [
    "isidentifier gives whether valid identifier"
   ]
  },
  {
   "cell_type": "code",
   "execution_count": 123,
   "id": "4099eb94-193a-4197-ba8c-7ec35470a189",
   "metadata": {},
   "outputs": [
    {
     "name": "stdout",
     "output_type": "stream",
     "text": [
      "False\n"
     ]
    }
   ],
   "source": [
    "s1=\"1num\"\n",
    "print(s1.isidentifier())"
   ]
  },
  {
   "cell_type": "markdown",
   "id": "a8c2a20e-05d2-4072-9a1e-a7454a20e7fa",
   "metadata": {},
   "source": [
    "#### More Inquiry Methods"
   ]
  },
  {
   "cell_type": "markdown",
   "id": "4f653bb8-3bb3-4106-a186-a664e2b79111",
   "metadata": {},
   "source": [
    "isdigit()\n",
    "\n",
    "isdecimal()\n",
    "\n",
    "isnumeric()\n",
    "\n",
    "isascii()\n",
    "\n",
    "isalnum()"
   ]
  },
  {
   "cell_type": "code",
   "execution_count": 136,
   "id": "822c7fc0-0c31-4972-bbf0-b2cdd9f9b777",
   "metadata": {},
   "outputs": [
    {
     "name": "stdout",
     "output_type": "stream",
     "text": [
      "True\n"
     ]
    }
   ],
   "source": [
    "s1=\"565915\" # even in case of subscript/superscript it will give positive if digit\n",
    "print(s1.isdigit())"
   ]
  },
  {
   "cell_type": "code",
   "execution_count": 130,
   "id": "4de10a76-7da5-4168-a848-5b0df153a41d",
   "metadata": {},
   "outputs": [
    {
     "name": "stdout",
     "output_type": "stream",
     "text": [
      "False\n"
     ]
    }
   ],
   "source": [
    "s1=\"23A\"\n",
    "print(s1.isdigit())"
   ]
  },
  {
   "cell_type": "code",
   "execution_count": 134,
   "id": "a9417644-8a5d-4a29-ba93-7f4d38392519",
   "metadata": {},
   "outputs": [
    {
     "name": "stdout",
     "output_type": "stream",
     "text": [
      "False\n"
     ]
    }
   ],
   "source": [
    "s2=\"156.489\" # only plain numbers and decimal (no sub/sup script or letters)\n",
    "print(s2.isdecimal())"
   ]
  },
  {
   "cell_type": "code",
   "execution_count": 138,
   "id": "cee3d954-1e54-46f9-8b17-9e14d0390b64",
   "metadata": {},
   "outputs": [
    {
     "name": "stdout",
     "output_type": "stream",
     "text": [
      "True\n"
     ]
    }
   ],
   "source": [
    "s1=\"565915\" # even in case of subscript/superscript it will give positive if digit\n",
    "print(s1.isnumeric())"
   ]
  },
  {
   "cell_type": "code",
   "execution_count": 140,
   "id": "53c834de-44b3-47e6-b0e7-afe42d3ae515",
   "metadata": {},
   "outputs": [
    {
     "name": "stdout",
     "output_type": "stream",
     "text": [
      "True\n"
     ]
    }
   ],
   "source": [
    "s1=\"61456IEBDHHDeddBI0)\"\n",
    "print(s1.isascii())"
   ]
  },
  {
   "cell_type": "code",
   "execution_count": 142,
   "id": "55b2f7c6-b244-44e1-9d0d-6136c63c4a43",
   "metadata": {},
   "outputs": [
    {
     "name": "stdout",
     "output_type": "stream",
     "text": [
      "True\n"
     ]
    }
   ],
   "source": [
    "s1=\"A12\"\n",
    "print(s1.isalnum())"
   ]
  },
  {
   "cell_type": "markdown",
   "id": "828d764c-180f-4d3f-aba2-96090c79538b",
   "metadata": {},
   "source": [
    "## Formatted Printing"
   ]
  },
  {
   "cell_type": "markdown",
   "id": "97201e36-5e9a-4b55-96c9-28ec8385f2a6",
   "metadata": {},
   "source": [
    "ASCII Codes"
   ]
  },
  {
   "cell_type": "code",
   "execution_count": 146,
   "id": "dea22afe-7a21-4e6a-b024-2b52817741e4",
   "metadata": {},
   "outputs": [
    {
     "data": {
      "text/plain": [
       "65"
      ]
     },
     "execution_count": 146,
     "metadata": {},
     "output_type": "execute_result"
    }
   ],
   "source": [
    "ord('A')"
   ]
  },
  {
   "cell_type": "code",
   "execution_count": 148,
   "id": "3b30d3ba-8814-4a22-a744-47319f8067d5",
   "metadata": {},
   "outputs": [
    {
     "data": {
      "text/plain": [
       "'p'"
      ]
     },
     "execution_count": 148,
     "metadata": {},
     "output_type": "execute_result"
    }
   ],
   "source": [
    "chr(112)"
   ]
  },
  {
   "cell_type": "markdown",
   "id": "41e259a5-a358-4951-9213-68de417a7a6c",
   "metadata": {},
   "source": [
    "### Unicode"
   ]
  },
  {
   "cell_type": "code",
   "execution_count": 8,
   "id": "3eab5075-8904-4e4a-8362-a16a3e997868",
   "metadata": {},
   "outputs": [
    {
     "name": "stdout",
     "output_type": "stream",
     "text": [
      "αβγ\n"
     ]
    }
   ],
   "source": [
    "a=\"\\u03b1\\u03b2\\u03b3\" #from unicode.org\n",
    "print(a)"
   ]
  },
  {
   "cell_type": "markdown",
   "id": "eb66db65-0f9b-4128-aebd-2c8d31d25ff9",
   "metadata": {},
   "source": [
    "### Escape Sequences"
   ]
  },
  {
   "cell_type": "code",
   "execution_count": 13,
   "id": "92faa7f6-bdf0-4187-845d-480d4a4c28d4",
   "metadata": {},
   "outputs": [
    {
     "name": "stdout",
     "output_type": "stream",
     "text": [
      "Hello\n",
      "World\n",
      "World\n",
      "Hello\f",
      "World\n",
      "Hello\tWorld\n",
      "Hello\u000b",
      "World\n",
      "C:\\\n"
     ]
    }
   ],
   "source": [
    "print(\"Hello\\nWorld\")\n",
    "print(\"Hello\\rWorld\")\n",
    "print(\"Hello\\fWorld\")\n",
    "print(\"Hello\\tWorld\")\n",
    "print(\"Hello\\vWorld\")\n",
    "print(\"C:\\\\\")"
   ]
  },
  {
   "cell_type": "code",
   "execution_count": 15,
   "id": "a49bd1b6-ebec-4d3b-91b1-2bf6d96ac881",
   "metadata": {},
   "outputs": [
    {
     "name": "stdout",
     "output_type": "stream",
     "text": [
      "Ajay's\n"
     ]
    }
   ],
   "source": [
    "print('Ajay\\'s')"
   ]
  },
  {
   "cell_type": "markdown",
   "id": "c4558ac3-15d9-4070-b7cb-02e0035bd911",
   "metadata": {},
   "source": [
    "### Print Function"
   ]
  },
  {
   "cell_type": "markdown",
   "id": "c77749c7-13ac-49f5-b5d6-a034423094ea",
   "metadata": {},
   "source": [
    "print('object',sep=\" \",end=\" \",file=\" \")"
   ]
  },
  {
   "cell_type": "code",
   "execution_count": 21,
   "id": "f8e52f52-91ac-459f-8b59-2ea23e435d88",
   "metadata": {},
   "outputs": [
    {
     "name": "stdout",
     "output_type": "stream",
     "text": [
      "Hello World\n"
     ]
    }
   ],
   "source": [
    "print(\"Hello\",end=\" \")\n",
    "print(\"World\")"
   ]
  },
  {
   "cell_type": "code",
   "execution_count": 23,
   "id": "f8e7e4c5-835c-40c2-bd1e-7736b8a85edd",
   "metadata": {},
   "outputs": [
    {
     "name": "stdout",
     "output_type": "stream",
     "text": [
      "Hello,World,Me\n"
     ]
    }
   ],
   "source": [
    "print(\"Hello\",\"World\",\"Me\",sep=\",\")"
   ]
  },
  {
   "cell_type": "markdown",
   "id": "48ee619d-248d-4dd0-afb5-f3a32213043f",
   "metadata": {},
   "source": [
    "### C Style Printing"
   ]
  },
  {
   "cell_type": "code",
   "execution_count": 37,
   "id": "7b4b0ecb-c9d7-44f1-9aa3-3e1c200fd534",
   "metadata": {},
   "outputs": [
    {
     "name": "stdout",
     "output_type": "stream",
     "text": [
      "Cost of memory of 32GB storage is 12.650000\n"
     ]
    }
   ],
   "source": [
    "item=\"memory\"\n",
    "space=32\n",
    "price=12.65\n",
    "print(\"Cost of %s of %dGB storage is %f\"%(item,space,price))"
   ]
  },
  {
   "cell_type": "code",
   "execution_count": 32,
   "id": "46f5799a-56b9-4c7d-89e2-cebb02cca93c",
   "metadata": {},
   "outputs": [
    {
     "name": "stdout",
     "output_type": "stream",
     "text": [
      "125.661000\n"
     ]
    }
   ],
   "source": [
    "price=125.661\n",
    "print('%f'%(price))"
   ]
  },
  {
   "cell_type": "code",
   "execution_count": 34,
   "id": "a0bbfc95-5f86-4d1b-b29f-1869ceb0e6e8",
   "metadata": {},
   "outputs": [
    {
     "name": "stdout",
     "output_type": "stream",
     "text": [
      "My name is Antariksh\n"
     ]
    }
   ],
   "source": [
    "name=\"Antariksh\"\n",
    "print('My name is %s'%(name))"
   ]
  },
  {
   "cell_type": "markdown",
   "id": "192cde95-e1c1-424a-9a44-2dae5c4eb984",
   "metadata": {},
   "source": [
    "### Python Printing"
   ]
  },
  {
   "cell_type": "code",
   "execution_count": 39,
   "id": "6f948c97-c478-45a3-867c-23de5fd6c13d",
   "metadata": {},
   "outputs": [
    {
     "name": "stdout",
     "output_type": "stream",
     "text": [
      "Cost of memory of 32GB storage is 12.65\n"
     ]
    }
   ],
   "source": [
    "item=\"memory\"\n",
    "space=32\n",
    "price=12.65\n",
    "print(\"Cost of {} of {}GB storage is {}\".format(item,space,price))"
   ]
  },
  {
   "cell_type": "code",
   "execution_count": 45,
   "id": "e010f79e-1019-4d27-be05-408bc82ed687",
   "metadata": {},
   "outputs": [
    {
     "name": "stdout",
     "output_type": "stream",
     "text": [
      "start        100 end\n"
     ]
    }
   ],
   "source": [
    "data=100\n",
    "print('start {0:10} end'.format(data))"
   ]
  },
  {
   "cell_type": "code",
   "execution_count": 43,
   "id": "a7bedc28-06bd-4403-89c7-f40b11c24123",
   "metadata": {},
   "outputs": [
    {
     "name": "stdout",
     "output_type": "stream",
     "text": [
      "start    100     end\n"
     ]
    }
   ],
   "source": [
    "data=100\n",
    "print('start {0:^10} end'.format(data))"
   ]
  },
  {
   "cell_type": "markdown",
   "id": "5ac6eabe-8f8e-4717-ada8-fe979982ad67",
   "metadata": {},
   "source": [
    "## Regular Expressions"
   ]
  },
  {
   "cell_type": "markdown",
   "id": "c223fd66-f343-4014-8b89-c7974e760d72",
   "metadata": {},
   "source": [
    "Mainly Pattern Matching & it's related modules "
   ]
  },
  {
   "cell_type": "code",
   "execution_count": 48,
   "id": "c6ffaa11-716e-473e-a491-a00c98abd1b2",
   "metadata": {},
   "outputs": [
    {
     "data": {
      "text/plain": [
       "<re.Match object; span=(0, 3), match='abc'>"
      ]
     },
     "execution_count": 48,
     "metadata": {},
     "output_type": "execute_result"
    }
   ],
   "source": [
    "import re\n",
    "re.match('abc','abcdef')"
   ]
  },
  {
   "cell_type": "code",
   "execution_count": 50,
   "id": "4a9d801c-1f83-4627-a57c-af5d13979f3d",
   "metadata": {},
   "outputs": [
    {
     "data": {
      "text/plain": [
       "['can', 'can', 'can', 'can']"
      ]
     },
     "execution_count": 50,
     "metadata": {},
     "output_type": "execute_result"
    }
   ],
   "source": [
    "import re\n",
    "re.findall('can','can you can a can as a canner')"
   ]
  },
  {
   "cell_type": "code",
   "execution_count": 55,
   "id": "8ed11e7e-c285-4178-a38d-0f74f849cedf",
   "metadata": {},
   "outputs": [
    {
     "data": {
      "text/plain": [
       "(10, 14)"
      ]
     },
     "execution_count": 55,
     "metadata": {},
     "output_type": "execute_result"
    }
   ],
   "source": [
    "import re\n",
    "re.search('very','python is very easy').span()"
   ]
  },
  {
   "cell_type": "markdown",
   "id": "c93b11ba-610d-475d-b879-c302bbabd1ee",
   "metadata": {},
   "source": [
    "### Quantifiers"
   ]
  },
  {
   "cell_type": "markdown",
   "id": "332e75fa-37ec-4a00-a391-e971f2b13591",
   "metadata": {},
   "source": [
    "/+ --> 1 or more\n",
    "\n",
    "/* --> 0 or more\n",
    "\n",
    "? --> 0 or 1\n",
    "\n",
    "{m} --> exactly m times\n",
    "\n",
    "{m,n} --> from m to n times"
   ]
  },
  {
   "cell_type": "code",
   "execution_count": 66,
   "id": "7b641b78-efba-44cb-a047-d4463831f169",
   "metadata": {},
   "outputs": [
    {
     "data": {
      "text/plain": [
       "<re.Match object; span=(0, 2), match='ab'>"
      ]
     },
     "execution_count": 66,
     "metadata": {},
     "output_type": "execute_result"
    }
   ],
   "source": [
    "import re\n",
    "re.fullmatch('(ab)?','ab')"
   ]
  },
  {
   "cell_type": "code",
   "execution_count": 64,
   "id": "4acf42b7-84b3-4682-b927-ec52780381f8",
   "metadata": {},
   "outputs": [
    {
     "data": {
      "text/plain": [
       "<re.Match object; span=(0, 0), match=''>"
      ]
     },
     "execution_count": 64,
     "metadata": {},
     "output_type": "execute_result"
    }
   ],
   "source": [
    "import re\n",
    "re.fullmatch('(ab)?','')"
   ]
  },
  {
   "cell_type": "code",
   "execution_count": 68,
   "id": "5291a542-570d-44c3-a184-2a947d6d7e0e",
   "metadata": {},
   "outputs": [
    {
     "data": {
      "text/plain": [
       "<re.Match object; span=(0, 12), match='abababababab'>"
      ]
     },
     "execution_count": 68,
     "metadata": {},
     "output_type": "execute_result"
    }
   ],
   "source": [
    "import re\n",
    "re.fullmatch('(ab)*','abababababab')"
   ]
  },
  {
   "cell_type": "code",
   "execution_count": 72,
   "id": "782be8cc-790c-487e-9583-4be34ad9419e",
   "metadata": {},
   "outputs": [
    {
     "data": {
      "text/plain": [
       "['abc', 'abcd']"
      ]
     },
     "execution_count": 72,
     "metadata": {},
     "output_type": "execute_result"
    }
   ],
   "source": [
    "import re\n",
    "re.findall('[abcd]+','123 abc iojif abcd')"
   ]
  },
  {
   "cell_type": "markdown",
   "id": "27fb0f6b-ac1b-4f29-ae78-0847b32293f4",
   "metadata": {},
   "source": [
    "## List"
   ]
  },
  {
   "cell_type": "code",
   "execution_count": 2,
   "id": "1dd1b9a9-007b-4eec-a32e-4fd45e2d3dea",
   "metadata": {},
   "outputs": [
    {
     "name": "stdout",
     "output_type": "stream",
     "text": [
      "[0, 1, 2, 3, 4, 5]\n"
     ]
    }
   ],
   "source": [
    "L1=[0,1,2,3,4,5]\n",
    "print(L1)"
   ]
  },
  {
   "cell_type": "code",
   "execution_count": 6,
   "id": "d3324224-7375-4a70-b603-affee1b12bc5",
   "metadata": {},
   "outputs": [
    {
     "name": "stdout",
     "output_type": "stream",
     "text": [
      "['a', 'b', 'c', 'd', 'e']\n",
      "c\n"
     ]
    }
   ],
   "source": [
    "L1=list(('abcde'))\n",
    "print(L1)\n",
    "print(L1[2])"
   ]
  },
  {
   "cell_type": "code",
   "execution_count": 8,
   "id": "6c650456-cc85-4a6a-b0b9-32a02ccc972b",
   "metadata": {},
   "outputs": [
    {
     "name": "stdout",
     "output_type": "stream",
     "text": [
      "a b c d e "
     ]
    }
   ],
   "source": [
    "L=list((\"abcde\"))\n",
    "for i in range(0,5):\n",
    "    print(L[i],end=\" \")"
   ]
  },
  {
   "cell_type": "code",
   "execution_count": 10,
   "id": "63490bd2-54de-42c3-a396-2ab6224294e8",
   "metadata": {},
   "outputs": [
    {
     "name": "stdout",
     "output_type": "stream",
     "text": [
      "['abcde', 56, 24.356, True, (3+4j)]\n"
     ]
    }
   ],
   "source": [
    "list=[\"abcde\",56,24.356,True,3+4j]\n",
    "print(list)"
   ]
  },
  {
   "cell_type": "markdown",
   "id": "f3ccf34a-0a32-4a88-8a0e-01fcfeeeed60",
   "metadata": {},
   "source": [
    "Modifying Lists"
   ]
  },
  {
   "cell_type": "code",
   "execution_count": 12,
   "id": "9e235865-46d4-4e20-987a-18429562eed9",
   "metadata": {},
   "outputs": [
    {
     "name": "stdout",
     "output_type": "stream",
     "text": [
      "['abcde', 56, 24.356, True, (3+4j)]\n",
      "['abcde', 56, 24.356, 'IIT', (3+4j)]\n"
     ]
    }
   ],
   "source": [
    "list=[\"abcde\",56,24.356,True,3+4j]\n",
    "print(list)\n",
    "list[3]=\"IIT\"\n",
    "print(list)"
   ]
  },
  {
   "cell_type": "markdown",
   "id": "1e64db1e-d098-4168-a3a0-a81417e38fc7",
   "metadata": {},
   "source": [
    "## Appending & Removing Lists"
   ]
  },
  {
   "cell_type": "code",
   "execution_count": 16,
   "id": "b7fb599b-d9e7-4f57-9fdb-6e34f1443a9b",
   "metadata": {},
   "outputs": [
    {
     "name": "stdout",
     "output_type": "stream",
     "text": [
      "[256, 345.26, (54+6j), True, 'abcdef']\n"
     ]
    }
   ],
   "source": [
    "L1=['abc',256,345.26,54+6j,True]\n",
    "L1.append(\"abcdef\")\n",
    "L1.remove('abc')\n",
    "print(L1)"
   ]
  },
  {
   "cell_type": "markdown",
   "id": "3b165dc6-0c00-4373-9122-3270d0630957",
   "metadata": {},
   "source": [
    "### Indexing & Slicing"
   ]
  },
  {
   "cell_type": "code",
   "execution_count": 26,
   "id": "a57dbaab-145d-4690-84c8-e3fd3d26577e",
   "metadata": {},
   "outputs": [
    {
     "name": "stdout",
     "output_type": "stream",
     "text": [
      "[48, 1]\n",
      "[25, 79, 49]\n",
      "[1, 79, 48, 36, 25]\n",
      "[49, 3, 1, 79, 48, 36]\n"
     ]
    }
   ],
   "source": [
    "L1=[25,36,48,79,1,3,49]\n",
    "print(L1[2:6:2])\n",
    "print(L1[ : : 3])\n",
    "print(L1[4: :-1])\n",
    "print(L1[6:0:-1])"
   ]
  },
  {
   "cell_type": "code",
   "execution_count": 31,
   "id": "40ad4092-0407-4a51-907c-81eba43f524d",
   "metadata": {},
   "outputs": [
    {
     "name": "stdout",
     "output_type": "stream",
     "text": [
      "[12, 36, 78, [23, 47], 45, 1, 0]\n"
     ]
    }
   ],
   "source": [
    "list=[12,36,78,98,45,1,0]\n",
    "list[3]=[23,47] #Nested List\n",
    "print(list)"
   ]
  },
  {
   "cell_type": "code",
   "execution_count": 33,
   "id": "fccb8bca-e747-4f44-bb25-0fac86d4dcf8",
   "metadata": {},
   "outputs": [
    {
     "name": "stdout",
     "output_type": "stream",
     "text": [
      "[10, 1, 2, 3, 25, 4, 5]\n"
     ]
    }
   ],
   "source": [
    "list=[1,2,3,4,5]\n",
    "list[0:0]=[10]\n",
    "list[4:4]=[25]\n",
    "print(list)"
   ]
  },
  {
   "cell_type": "code",
   "execution_count": 35,
   "id": "dd03bfcb-c1a1-46b8-9b0b-020f07dc8e91",
   "metadata": {},
   "outputs": [
    {
     "name": "stdout",
     "output_type": "stream",
     "text": [
      "[1, 10, 2, 3, 4, 5]\n"
     ]
    }
   ],
   "source": [
    "list=[1,2,3,4,5]\n",
    "list[1:4]=[10,2,3,4]\n",
    "print(list)"
   ]
  },
  {
   "cell_type": "code",
   "execution_count": 37,
   "id": "48649a67-9edd-4830-becb-510e7d886256",
   "metadata": {},
   "outputs": [
    {
     "name": "stdout",
     "output_type": "stream",
     "text": [
      "[10, 2, 11, 4, 12]\n"
     ]
    }
   ],
   "source": [
    "list=[1,2,3,4,5]\n",
    "list[::2]=[10,11,12]\n",
    "print(list)"
   ]
  },
  {
   "cell_type": "code",
   "execution_count": 39,
   "id": "33306b19-1862-4360-99b1-b1200815b46c",
   "metadata": {},
   "outputs": [
    {
     "name": "stdout",
     "output_type": "stream",
     "text": [
      "[14, 13, 12, 11, 10]\n"
     ]
    }
   ],
   "source": [
    "list=[1,2,3,4,5]\n",
    "list[::-1]=[10,11,12,13,14]\n",
    "print(list)"
   ]
  },
  {
   "cell_type": "markdown",
   "id": "8ba5a59f-101d-4ef0-8883-a698af9a16ac",
   "metadata": {},
   "source": [
    "## Operations on List"
   ]
  },
  {
   "cell_type": "code",
   "execution_count": 42,
   "id": "df899cad-7fed-445e-8519-f4fa11417757",
   "metadata": {},
   "outputs": [
    {
     "name": "stdout",
     "output_type": "stream",
     "text": [
      "[1, 2, 3, 4, 5, 6]\n"
     ]
    }
   ],
   "source": [
    "list1=[1,2,3]\n",
    "list2=[4,5,6]\n",
    "list3=list1+list2\n",
    "print(list3)"
   ]
  },
  {
   "cell_type": "code",
   "execution_count": 46,
   "id": "648f7120-e7d8-4b48-a183-89ca0caf397b",
   "metadata": {},
   "outputs": [
    {
     "name": "stdout",
     "output_type": "stream",
     "text": [
      "[1, 2, 3, 4]\n",
      "[1, 2, 3]\n"
     ]
    }
   ],
   "source": [
    "list1=[1,2,3]\n",
    "print(list1+[4])\n",
    "print(list1)\n"
   ]
  },
  {
   "cell_type": "code",
   "execution_count": 50,
   "id": "9878c30e-8147-4732-b834-3cf3740f1730",
   "metadata": {},
   "outputs": [
    {
     "name": "stdout",
     "output_type": "stream",
     "text": [
      "[1, 2, 3, 4, 5, 6]\n"
     ]
    }
   ],
   "source": [
    "list=[1,2,3]\n",
    "list.extend([4,5,6])\n",
    "print(list)"
   ]
  },
  {
   "cell_type": "code",
   "execution_count": 52,
   "id": "ea0b85e1-5900-450a-8b04-c75291cc68fa",
   "metadata": {},
   "outputs": [
    {
     "name": "stdout",
     "output_type": "stream",
     "text": [
      "[1, 2, 3, 1, 2, 3, 1, 2, 3]\n"
     ]
    }
   ],
   "source": [
    "list=[1,2,3]\n",
    "newlist=list*3\n",
    "print(newlist)"
   ]
  },
  {
   "cell_type": "code",
   "execution_count": 54,
   "id": "b0b2cf6f-21d7-4e16-bc4f-effcb1c11744",
   "metadata": {},
   "outputs": [
    {
     "name": "stdout",
     "output_type": "stream",
     "text": [
      "True\n"
     ]
    }
   ],
   "source": [
    "list=[1,[2,3],[4,5],6]\n",
    "print([2,3] in list)"
   ]
  },
  {
   "cell_type": "code",
   "execution_count": 56,
   "id": "e70ed9fc-8ea1-4094-8d13-7849841225ae",
   "metadata": {},
   "outputs": [
    {
     "name": "stdout",
     "output_type": "stream",
     "text": [
      "red\n",
      "blue\n",
      "green\n"
     ]
    }
   ],
   "source": [
    "list=[\"red\",\"blue\",\"green\"]\n",
    "for x in list:\n",
    "    print(x)"
   ]
  },
  {
   "cell_type": "code",
   "execution_count": 58,
   "id": "a9a9701a-aac8-44bf-86d8-5c25fac87a87",
   "metadata": {},
   "outputs": [
    {
     "name": "stdout",
     "output_type": "stream",
     "text": [
      "False\n",
      "True\n",
      "True\n"
     ]
    }
   ],
   "source": [
    "list1=[1,2,3]\n",
    "list2=[1,2,3,4]\n",
    "list3=[2]\n",
    "print(list1>list2)\n",
    "print(list1<list3)\n",
    "print(list2!=list3)"
   ]
  },
  {
   "cell_type": "markdown",
   "id": "b433b7d8-933e-4a1c-bea6-71d730513376",
   "metadata": {},
   "source": [
    "## List Traversals"
   ]
  },
  {
   "cell_type": "code",
   "execution_count": 61,
   "id": "19f9a0df-b8d0-44a3-a9a7-59ce5d4678fc",
   "metadata": {},
   "outputs": [
    {
     "name": "stdout",
     "output_type": "stream",
     "text": [
      "1 2 3 4 5 "
     ]
    }
   ],
   "source": [
    "list=[1,2,3,4,5]\n",
    "for x in list:\n",
    "    print(x,end=\" \")"
   ]
  },
  {
   "cell_type": "code",
   "execution_count": 63,
   "id": "1da6b20b-7cb7-4359-83f1-fbb0f40f3c68",
   "metadata": {},
   "outputs": [
    {
     "name": "stdout",
     "output_type": "stream",
     "text": [
      "5 6 7 8 9 "
     ]
    }
   ],
   "source": [
    "list=[5,6,7,8,9]\n",
    "for i in range(0,5,1):\n",
    "    print(list[i],end=\" \")"
   ]
  },
  {
   "cell_type": "markdown",
   "id": "393794e0-15ed-4c52-aec6-bef871da01ee",
   "metadata": {},
   "source": [
    "## Adding Elements to List "
   ]
  },
  {
   "cell_type": "code",
   "execution_count": 72,
   "id": "638c3c11-7421-44f6-9097-15543d0f225f",
   "metadata": {},
   "outputs": [
    {
     "name": "stdout",
     "output_type": "stream",
     "text": [
      "[1, 2, 3, 4, 5, 6]\n"
     ]
    }
   ],
   "source": [
    "L1=[1,2,3,4,5]\n",
    "L1.append(6) #only one element, if more than one, error.\n",
    "print(L1)"
   ]
  },
  {
   "cell_type": "code",
   "execution_count": 74,
   "id": "2e270a0d-da91-4b55-b5d7-8ee4cb717502",
   "metadata": {},
   "outputs": [
    {
     "name": "stdout",
     "output_type": "stream",
     "text": [
      "[1, 2, 3, 4, 5, 6, 7, 8, 9, 10]\n"
     ]
    }
   ],
   "source": [
    "L1=[1,2,3,4]\n",
    "L1.extend([5,6,7])\n",
    "L1[7:]=[8,9,10]\n",
    "print(L1)"
   ]
  },
  {
   "cell_type": "code",
   "execution_count": 76,
   "id": "f3b63d98-5d8f-4545-b256-574ad09ada80",
   "metadata": {},
   "outputs": [
    {
     "name": "stdout",
     "output_type": "stream",
     "text": [
      "[1, 2, 'p', 'y', 't', 'h', 'o', 'n']\n"
     ]
    }
   ],
   "source": [
    "L1=[1,2]\n",
    "L1.extend('python')\n",
    "print(L1)"
   ]
  },
  {
   "cell_type": "code",
   "execution_count": 98,
   "id": "49fdb36e-694f-4727-bb3e-2318949f1897",
   "metadata": {},
   "outputs": [
    {
     "name": "stdout",
     "output_type": "stream",
     "text": [
      "['python', 1, 'Pycharm', 56, 3, 4]\n"
     ]
    }
   ],
   "source": [
    "L1=[1,2,3,4]\n",
    "L1.insert(0,\"python\")\n",
    "L1[2:3]=[\"Pycharm\",56]\n",
    "print(L1)"
   ]
  },
  {
   "cell_type": "code",
   "execution_count": 94,
   "id": "95a0f98f-8cca-4ef2-a50c-cccaaa9b60e4",
   "metadata": {},
   "outputs": [
    {
     "name": "stdout",
     "output_type": "stream",
     "text": [
      "[1, 2, 3, 4]\n"
     ]
    }
   ],
   "source": [
    "l1=[1,2,3,4]\n",
    "l2=l1.copy() #creates a shallow copy\n",
    "print(l2)"
   ]
  },
  {
   "cell_type": "markdown",
   "id": "a502e357-1870-4736-b82c-fa41c3fb3685",
   "metadata": {},
   "source": [
    "## Removing Elements from a List"
   ]
  },
  {
   "cell_type": "code",
   "execution_count": 105,
   "id": "8b59e052-9e0f-4e97-8cac-9065daa3c7f0",
   "metadata": {},
   "outputs": [
    {
     "name": "stdout",
     "output_type": "stream",
     "text": [
      "[1, 2, 4, 5]\n"
     ]
    }
   ],
   "source": [
    "list=[1,2,3,4,5]\n",
    "list.pop(2) #pop(index)\n",
    "print(list)"
   ]
  },
  {
   "cell_type": "code",
   "execution_count": 107,
   "id": "192a4cb5-3216-47cc-ba25-91ff69fd2380",
   "metadata": {},
   "outputs": [
    {
     "name": "stdout",
     "output_type": "stream",
     "text": [
      "[1, 2, 3]\n"
     ]
    }
   ],
   "source": [
    "list=[1,2,3,4]\n",
    "list.pop()\n",
    "print(list)"
   ]
  },
  {
   "cell_type": "code",
   "execution_count": 111,
   "id": "d2f5302e-7d43-4869-8924-98bd81d8f164",
   "metadata": {},
   "outputs": [
    {
     "name": "stdout",
     "output_type": "stream",
     "text": [
      "[1, 2, 4, 5]\n"
     ]
    }
   ],
   "source": [
    "list=[1,2,3,4,5]\n",
    "list.remove(3)\n",
    "print(list)\n"
   ]
  },
  {
   "cell_type": "code",
   "execution_count": 115,
   "id": "09c20314-086d-4ea1-9a27-07a5488de978",
   "metadata": {},
   "outputs": [
    {
     "name": "stdout",
     "output_type": "stream",
     "text": [
      "[]\n"
     ]
    }
   ],
   "source": [
    "list=[1,2,3]\n",
    "list.clear()\n",
    "print(list)"
   ]
  },
  {
   "cell_type": "code",
   "execution_count": 117,
   "id": "77694c3b-6ca7-4798-a6db-7321f13bcec4",
   "metadata": {},
   "outputs": [
    {
     "name": "stdout",
     "output_type": "stream",
     "text": [
      "[1, 2]\n"
     ]
    }
   ],
   "source": [
    "list=[1,2,3]\n",
    "del list[2]\n",
    "print(list)"
   ]
  },
  {
   "cell_type": "code",
   "execution_count": 121,
   "id": "b527c699-83a5-4504-9712-7aa4aa7c7a07",
   "metadata": {},
   "outputs": [
    {
     "name": "stdout",
     "output_type": "stream",
     "text": [
      "[1, 3, 5, 6]\n"
     ]
    }
   ],
   "source": [
    "list=[1,2,3,4,5,6]\n",
    "del list[1:4:2]\n",
    "print(list)"
   ]
  },
  {
   "cell_type": "markdown",
   "id": "4433841a-2e9b-4ad4-9627-772b10fc6955",
   "metadata": {},
   "source": [
    "## Index,Sort & Reverse"
   ]
  },
  {
   "cell_type": "code",
   "execution_count": 133,
   "id": "ea62b085-5b9c-4cdd-af94-50ed90efa3a2",
   "metadata": {},
   "outputs": [
    {
     "name": "stdout",
     "output_type": "stream",
     "text": [
      "5\n"
     ]
    }
   ],
   "source": [
    "L1=[10,20,30,40,10,20,30,20]\n",
    "print(L1.index(20,2,9))\n",
    "#index(element,start,end)"
   ]
  },
  {
   "cell_type": "code",
   "execution_count": 135,
   "id": "e9b8b3f8-664d-4384-9443-e051b987158e",
   "metadata": {},
   "outputs": [
    {
     "data": {
      "text/plain": [
       "3"
      ]
     },
     "execution_count": 135,
     "metadata": {},
     "output_type": "execute_result"
    }
   ],
   "source": [
    "L1=[10,20,30,40,10,20,30,20]\n",
    "L1.count(20)\n",
    "#count(element)"
   ]
  },
  {
   "cell_type": "code",
   "execution_count": 137,
   "id": "d75c6cd5-3c9f-4bdc-94cb-7b5af3f80a5b",
   "metadata": {},
   "outputs": [
    {
     "name": "stdout",
     "output_type": "stream",
     "text": [
      "[20, 30, 20, 10, 40, 30, 20, 10]\n"
     ]
    }
   ],
   "source": [
    "L1.reverse()\n",
    "print(L1)\n",
    "#reverse()"
   ]
  },
  {
   "cell_type": "code",
   "execution_count": 151,
   "id": "d3a2d89f-643f-4a57-965a-ea8f1bd280d3",
   "metadata": {},
   "outputs": [
    {
     "name": "stdout",
     "output_type": "stream",
     "text": [
      "[10, 20, 30, 40, 50, 60, 70]\n"
     ]
    }
   ],
   "source": [
    "L1=[70,10,60,20,50,30,40]\n",
    "L1.sort() #sort(key=None,reverse=\"False\")\n",
    "print(L1)"
   ]
  },
  {
   "cell_type": "code",
   "execution_count": 147,
   "id": "38a21453-cd31-42c2-8ad2-3a3fef438c54",
   "metadata": {},
   "outputs": [
    {
     "name": "stdout",
     "output_type": "stream",
     "text": [
      "[70, 60, 50, 40, 30, 20, 10]\n"
     ]
    }
   ],
   "source": [
    "L1.sort(reverse=\"True\")\n",
    "print(L1)"
   ]
  },
  {
   "cell_type": "code",
   "execution_count": 149,
   "id": "73cd90f5-ce3c-48fc-950b-b1fb6fbed4c9",
   "metadata": {},
   "outputs": [
    {
     "name": "stdout",
     "output_type": "stream",
     "text": [
      "['python', 'coat', 'cat', 'bus']\n"
     ]
    }
   ],
   "source": [
    "L1=[\"coat\",\"cat\",\"python\",\"bus\"]\n",
    "L1.sort(key=len,reverse=\"True\")\n",
    "print(L1)"
   ]
  },
  {
   "cell_type": "code",
   "execution_count": 153,
   "id": "33c4931b-d180-4bb3-a726-39200f88f1ee",
   "metadata": {},
   "outputs": [
    {
     "name": "stdout",
     "output_type": "stream",
     "text": [
      "['apple', 'Bat', 'Cat', 'dog']\n"
     ]
    }
   ],
   "source": [
    "L1=['Bat','apple','Cat','dog']\n",
    "L1.sort(key=str.lower)\n",
    "print(L1)"
   ]
  },
  {
   "cell_type": "code",
   "execution_count": 155,
   "id": "5d61a114-3053-43e8-bcb2-6c6bf6e69d9f",
   "metadata": {},
   "outputs": [
    {
     "name": "stdout",
     "output_type": "stream",
     "text": [
      "[1, 2, 3, 4, 5]\n"
     ]
    }
   ],
   "source": [
    "L1=[x+1 for x in range(0,5)]\n",
    "print(L1)"
   ]
  },
  {
   "cell_type": "code",
   "execution_count": 161,
   "id": "93cb8e9a-829d-4767-a3a9-6f91a9bc42dd",
   "metadata": {},
   "outputs": [
    {
     "name": "stdout",
     "output_type": "stream",
     "text": [
      "['P', 'Y', 'T', 'H', 'O', 'N']\n"
     ]
    }
   ],
   "source": [
    "L3=[x.upper() for x in \"Python\"]\n",
    "print(L3)"
   ]
  },
  {
   "cell_type": "code",
   "execution_count": 163,
   "id": "c74ae9ee-ff73-4667-9f4d-8ed4e130ae95",
   "metadata": {},
   "outputs": [
    {
     "name": "stdout",
     "output_type": "stream",
     "text": [
      "[1, 2, 3, 4, 5]\n"
     ]
    }
   ],
   "source": [
    "list=[int(x) for x in '12345']\n",
    "print(list)"
   ]
  },
  {
   "cell_type": "code",
   "execution_count": 165,
   "id": "a4e0223b-922d-4e31-b01b-7ebc9c22ac3a",
   "metadata": {},
   "outputs": [
    {
     "name": "stdout",
     "output_type": "stream",
     "text": [
      "['a', 'b', 'c', 'd', 'e']\n"
     ]
    }
   ],
   "source": [
    "list=[x for x in 'ab*cd8e' if x.isalpha()]\n",
    "print(list)"
   ]
  },
  {
   "cell_type": "markdown",
   "id": "b37e5b4e-8339-49a2-8b89-48e4b80490c7",
   "metadata": {},
   "source": [
    "### Nested Lists"
   ]
  },
  {
   "cell_type": "code",
   "execution_count": 168,
   "id": "869994ce-c615-4375-9386-74b5d6a1c362",
   "metadata": {},
   "outputs": [
    {
     "data": {
      "text/plain": [
       "5"
      ]
     },
     "execution_count": 168,
     "metadata": {},
     "output_type": "execute_result"
    }
   ],
   "source": [
    "list=[[1,2],3,[4,5,6]]\n",
    "list[2][1]"
   ]
  },
  {
   "cell_type": "markdown",
   "id": "59304635-a435-4a6b-9d43-5c1125baf1d2",
   "metadata": {},
   "source": [
    "Matrix\n"
   ]
  },
  {
   "cell_type": "code",
   "execution_count": 171,
   "id": "94d7e996-f5cf-4c7b-8071-c4f1f7b83289",
   "metadata": {},
   "outputs": [
    {
     "name": "stdout",
     "output_type": "stream",
     "text": [
      "1 2 3 4 \n",
      "\n",
      "5 6 7 8 \n",
      "\n",
      "9 10 11 12 \n",
      "\n",
      "13 14 15 16 \n",
      "\n"
     ]
    }
   ],
   "source": [
    "L1=[[1,2,3,4],[5,6,7,8],[9,10,11,12],[13,14,15,16]]\n",
    "for x in range(0,4):\n",
    "    for y in range(0,4):\n",
    "        print(L1[x][y],end=\" \")\n",
    "    print(\"\\n\")"
   ]
  },
  {
   "cell_type": "markdown",
   "id": "bb8b5412-924e-4d2a-ab24-df221ee027af",
   "metadata": {},
   "source": [
    "## Tuple"
   ]
  },
  {
   "cell_type": "code",
   "execution_count": 174,
   "id": "edb7b376-6d5c-43ac-9899-b611ccb3dbc3",
   "metadata": {},
   "outputs": [
    {
     "name": "stdout",
     "output_type": "stream",
     "text": [
      "(7, 8.3, 8.3, (2+5j), True)\n"
     ]
    }
   ],
   "source": [
    "tp=(7,8.3,8.3,2+5j,True)\n",
    "#immutable\n",
    "print(tp)"
   ]
  },
  {
   "cell_type": "code",
   "execution_count": 184,
   "id": "a56a4484-3861-4758-908e-a2424aa2c9ac",
   "metadata": {},
   "outputs": [
    {
     "name": "stdout",
     "output_type": "stream",
     "text": [
      "(1, 2, 3, 4, 5) (1, 2, 3, 4, 5) ('p', 'y', 't', 'h', 'o', 'n') (1, 2, 3, 4, 5)\n"
     ]
    }
   ],
   "source": [
    "t1=tuple([1,2,3,4,5])\n",
    "t2=(1,2,3,4,5)\n",
    "t3=tuple('python')\n",
    "t4=tuple(range(1,6))\n",
    "print(t1,t2,t3,t4)"
   ]
  },
  {
   "cell_type": "code",
   "execution_count": 186,
   "id": "d6e86acd-1bf4-4dc4-a03f-415e2a3b1787",
   "metadata": {},
   "outputs": [
    {
     "data": {
      "text/plain": [
       "int"
      ]
     },
     "execution_count": 186,
     "metadata": {},
     "output_type": "execute_result"
    }
   ],
   "source": [
    "t=(3)\n",
    "type(t)"
   ]
  },
  {
   "cell_type": "code",
   "execution_count": 188,
   "id": "70de7470-4ebf-47b4-a29e-2f1aa73c4650",
   "metadata": {},
   "outputs": [
    {
     "data": {
      "text/plain": [
       "tuple"
      ]
     },
     "execution_count": 188,
     "metadata": {},
     "output_type": "execute_result"
    }
   ],
   "source": [
    "t=(3,)\n",
    "type(t)"
   ]
  },
  {
   "cell_type": "code",
   "execution_count": 199,
   "id": "6a1c6716-1aa0-4477-b1e4-45516e349f2e",
   "metadata": {},
   "outputs": [
    {
     "name": "stdout",
     "output_type": "stream",
     "text": [
      "(1, 2, 3, 4, 5)\n"
     ]
    }
   ],
   "source": [
    "T=(*(x for x in range(1,6)),)\n",
    "print(T)"
   ]
  },
  {
   "cell_type": "code",
   "execution_count": 201,
   "id": "4deccbda-97c1-485c-b60a-23cef57d0952",
   "metadata": {},
   "outputs": [
    {
     "name": "stdout",
     "output_type": "stream",
     "text": [
      "(1, 2, 3, 4, 5)\n"
     ]
    }
   ],
   "source": [
    "T2=tuple(x for x in range(1,6))\n",
    "print(T2)"
   ]
  },
  {
   "cell_type": "code",
   "execution_count": 203,
   "id": "44b28c3b-306f-4c1e-b6e4-a4ac38861ab2",
   "metadata": {},
   "outputs": [
    {
     "name": "stdout",
     "output_type": "stream",
     "text": [
      "('P', 'Y', 'T', 'H', 'O', 'N')\n"
     ]
    }
   ],
   "source": [
    "T3=(*(x.upper() for x in \"pYtHoN\"),)\n",
    "print(T3)\n"
   ]
  },
  {
   "cell_type": "code",
   "execution_count": 205,
   "id": "26d7b936-0fc1-4bba-86f6-5027b3167968",
   "metadata": {},
   "outputs": [
    {
     "name": "stdout",
     "output_type": "stream",
     "text": [
      "('a', 'b', 'c', 'j')\n"
     ]
    }
   ],
   "source": [
    "T4=tuple(x for x in \"abc46*j\" if x.isalpha())\n",
    "print(T4)"
   ]
  },
  {
   "cell_type": "code",
   "execution_count": 207,
   "id": "7b2268c5-83c6-4f22-86ac-0e885ed2b356",
   "metadata": {},
   "outputs": [
    {
     "name": "stdout",
     "output_type": "stream",
     "text": [
      "(1, 3, 5)\n"
     ]
    }
   ],
   "source": [
    "tup=(1,2,3,4,5,6)\n",
    "print(tup[0:5:2])"
   ]
  },
  {
   "cell_type": "code",
   "execution_count": 209,
   "id": "2f63f7c7-3844-46df-8a26-efaf596b3408",
   "metadata": {},
   "outputs": [
    {
     "name": "stdout",
     "output_type": "stream",
     "text": [
      "(6, 5, 4, 3, 2, 1)\n"
     ]
    }
   ],
   "source": [
    "tup=(1,2,3,4,5,6)\n",
    "print(tup[5::-1])"
   ]
  },
  {
   "cell_type": "markdown",
   "id": "178263d5-7d22-431f-b830-efe3baabf42e",
   "metadata": {},
   "source": [
    "### Packing & Unpacking in Tuple"
   ]
  },
  {
   "cell_type": "code",
   "execution_count": 214,
   "id": "a6ba08e6-cff1-4f20-9bb1-727d36c21c36",
   "metadata": {},
   "outputs": [
    {
     "name": "stdout",
     "output_type": "stream",
     "text": [
      "(1, 2, 3, 4, 5, 6)\n",
      "(1, 2, 3, 1, 2, 3, 1, 2, 3)\n"
     ]
    }
   ],
   "source": [
    "T1=(1,2,3)\n",
    "T2=(4,5,6)\n",
    "T3=T1+T2\n",
    "T4=T1*3\n",
    "print(T3)\n",
    "print(T4)"
   ]
  },
  {
   "cell_type": "code",
   "execution_count": 216,
   "id": "fe9c5ddc-bfe8-4309-b265-435736ea2366",
   "metadata": {},
   "outputs": [
    {
     "name": "stdout",
     "output_type": "stream",
     "text": [
      "(1, 2, 3, 4, 5)\n"
     ]
    }
   ],
   "source": [
    "T1=1,2,3,4,5 #PACKING\n",
    "print(T1)"
   ]
  },
  {
   "cell_type": "code",
   "execution_count": 222,
   "id": "afe86561-7640-4477-a57a-9285e7017c3d",
   "metadata": {},
   "outputs": [
    {
     "name": "stdout",
     "output_type": "stream",
     "text": [
      "1 2 3 4 5\n"
     ]
    }
   ],
   "source": [
    "T1=1,2,3,4,5\n",
    "a,b,c,d,e=T1 #UNPACKING\n",
    "print(a,b,c,d,e)"
   ]
  },
  {
   "cell_type": "code",
   "execution_count": 224,
   "id": "50fd6ed4-eb72-439c-bc9c-83ad4ccf14dd",
   "metadata": {},
   "outputs": [
    {
     "ename": "ValueError",
     "evalue": "too many values to unpack (expected 3)",
     "output_type": "error",
     "traceback": [
      "\u001b[1;31m---------------------------------------------------------------------------\u001b[0m",
      "\u001b[1;31mValueError\u001b[0m                                Traceback (most recent call last)",
      "Cell \u001b[1;32mIn[224], line 2\u001b[0m\n\u001b[0;32m      1\u001b[0m T1\u001b[38;5;241m=\u001b[39m\u001b[38;5;241m1\u001b[39m,\u001b[38;5;241m2\u001b[39m,\u001b[38;5;241m3\u001b[39m,\u001b[38;5;241m4\u001b[39m,\u001b[38;5;241m5\u001b[39m\n\u001b[1;32m----> 2\u001b[0m a,b,c\u001b[38;5;241m=\u001b[39mT1\n",
      "\u001b[1;31mValueError\u001b[0m: too many values to unpack (expected 3)"
     ]
    }
   ],
   "source": [
    "T1=1,2,3,4,5\n",
    "a,b,c=T1"
   ]
  },
  {
   "cell_type": "code",
   "execution_count": 226,
   "id": "654a5c39-0b77-4329-8c05-471d1f4898a4",
   "metadata": {},
   "outputs": [
    {
     "name": "stdout",
     "output_type": "stream",
     "text": [
      "1 [2, 3, 4] 5\n"
     ]
    }
   ],
   "source": [
    "T1=1,2,3,4,5\n",
    "a,*b,c=T1\n",
    "print(a,b,c)"
   ]
  },
  {
   "cell_type": "code",
   "execution_count": 232,
   "id": "76e2c447-cca5-44e0-92ac-24093c6b98f1",
   "metadata": {},
   "outputs": [
    {
     "name": "stdout",
     "output_type": "stream",
     "text": [
      "1 2 [3, 4, 5, 6]\n"
     ]
    }
   ],
   "source": [
    "T1=1,2,3,4,5,6\n",
    "a,b,*c=T1\n",
    "print(a,b,c)"
   ]
  },
  {
   "cell_type": "code",
   "execution_count": 234,
   "id": "cd032086-9467-4a47-b4f6-aa536c15befd",
   "metadata": {},
   "outputs": [
    {
     "name": "stdout",
     "output_type": "stream",
     "text": [
      "True\n"
     ]
    }
   ],
   "source": [
    "T1=1,2,3,4\n",
    "print(4 in T1)"
   ]
  },
  {
   "cell_type": "markdown",
   "id": "d072908b-83b1-4ea2-8a6e-90c13e56360b",
   "metadata": {},
   "source": [
    "# Sets"
   ]
  },
  {
   "cell_type": "markdown",
   "id": "56149657-785a-4206-ab7a-544faf212ebf",
   "metadata": {},
   "source": [
    "Sets contain mutable unordered-distinct,collection of hetero/homo-genous data\n",
    "\n",
    "Discards Duplicates"
   ]
  },
  {
   "cell_type": "code",
   "execution_count": 248,
   "id": "efad0a2c-07ea-44c8-9926-f722a0c01e97",
   "metadata": {},
   "outputs": [
    {
     "name": "stdout",
     "output_type": "stream",
     "text": [
      "{1, 2, 3}\n",
      "{1, 2, 3, 4, 5, 6}\n",
      "{'p', 'n', 'o', 'y', 'h', 't'}\n",
      "<class 'dict'>\n"
     ]
    }
   ],
   "source": [
    "s1={1,2,3}\n",
    "s2=set([1,2,3,4,5,6])\n",
    "s3=set('python')\n",
    "s4={}\n",
    "print(s1)\n",
    "print(s2)\n",
    "print(s3) ## Unordered\n",
    "print(type(s4))"
   ]
  },
  {
   "cell_type": "code",
   "execution_count": 252,
   "id": "ed6fe51c-7226-46c8-96ca-40d3fd3bc421",
   "metadata": {},
   "outputs": [
    {
     "name": "stdout",
     "output_type": "stream",
     "text": [
      "50\n",
      "20\n",
      "40\n",
      "10\n",
      "60\n",
      "30\n"
     ]
    }
   ],
   "source": [
    "s={10,20,30,40,50,60}\n",
    "for x in s:\n",
    "    print(x)\n",
    "s.add(70)"
   ]
  },
  {
   "cell_type": "code",
   "execution_count": 254,
   "id": "6594aff2-adcc-41db-a1dd-4494b14379fc",
   "metadata": {},
   "outputs": [
    {
     "ename": "TypeError",
     "evalue": "unhashable type: 'list'",
     "output_type": "error",
     "traceback": [
      "\u001b[1;31m---------------------------------------------------------------------------\u001b[0m",
      "\u001b[1;31mTypeError\u001b[0m                                 Traceback (most recent call last)",
      "Cell \u001b[1;32mIn[254], line 1\u001b[0m\n\u001b[1;32m----> 1\u001b[0m a\u001b[38;5;241m=\u001b[39m{\u001b[38;5;241m1\u001b[39m,\u001b[38;5;241m2\u001b[39m,\u001b[38;5;241m3\u001b[39m,[\u001b[38;5;241m1\u001b[39m,\u001b[38;5;241m4\u001b[39m]}\n",
      "\u001b[1;31mTypeError\u001b[0m: unhashable type: 'list'"
     ]
    }
   ],
   "source": [
    "a={1,2,3,[1,4]}"
   ]
  },
  {
   "cell_type": "markdown",
   "id": "f431b7c7-2076-474f-bf6b-9be8dddf853d",
   "metadata": {},
   "source": [
    "So, set cannot contain mutable form of data"
   ]
  },
  {
   "cell_type": "markdown",
   "id": "8820504c-baa5-4102-b412-a6532a7275db",
   "metadata": {},
   "source": [
    "Sets work on the basis of Hashtables"
   ]
  },
  {
   "cell_type": "markdown",
   "id": "a9f96fae-9552-43ce-ab28-ef623734ba4a",
   "metadata": {},
   "source": [
    "### Set Operations"
   ]
  },
  {
   "cell_type": "code",
   "execution_count": 264,
   "id": "4a959bdb-2498-4e74-ad29-6697732102a5",
   "metadata": {},
   "outputs": [
    {
     "name": "stdout",
     "output_type": "stream",
     "text": [
      "{1, 2, 3, 4, 5, 6}\n",
      "{4, 6}\n",
      "{4, 6}\n"
     ]
    }
   ],
   "source": [
    "s1={1,2,3,4,6}\n",
    "s2={4,5,6}\n",
    "s3=s1.union(s2)\n",
    "print(s3)\n",
    "s4=s1.intersection(s2)\n",
    "print(s4)\n",
    "s1.intersection_update(s2) #s1 gets updated\n",
    "print(s1)"
   ]
  },
  {
   "cell_type": "code",
   "execution_count": 270,
   "id": "3472771c-cc52-4086-b6d1-b99855fa4a76",
   "metadata": {},
   "outputs": [
    {
     "name": "stdout",
     "output_type": "stream",
     "text": [
      "{1, 3, 4}\n",
      "{5}\n"
     ]
    }
   ],
   "source": [
    "s1={1,2,3,4}\n",
    "s2={2,5}\n",
    "s3=s1.difference(s2)\n",
    "print(s3)\n",
    "s2.difference_update(s1)\n",
    "print(s2)"
   ]
  },
  {
   "cell_type": "code",
   "execution_count": 276,
   "id": "fe4da205-d314-42a0-b5b3-dc09a0602c01",
   "metadata": {},
   "outputs": [
    {
     "name": "stdout",
     "output_type": "stream",
     "text": [
      "{1, 2, 3, 7, 8, 9}\n",
      "{1, 2, 3, 7, 8, 9}\n"
     ]
    }
   ],
   "source": [
    "s1={1,2,3,4,5,6}\n",
    "s2={4,5,6,7,8,9}\n",
    "s3=s2.symmetric_difference(s1)\n",
    "print(s3)\n",
    "s1.symmetric_difference_update(s2)\n",
    "print(s1)"
   ]
  },
  {
   "cell_type": "markdown",
   "id": "94cbf65f-c249-446d-ba50-bc99506f330d",
   "metadata": {},
   "source": [
    "### Set Operators"
   ]
  },
  {
   "cell_type": "markdown",
   "id": "776b8c84-1f44-4fd0-8fe0-8dd8e12cd0ed",
   "metadata": {},
   "source": [
    "| = Union\n",
    "\n",
    "& = Intersection\n",
    "\n",
    "&= = Intersection_update\n",
    "\n",
    "\"-\" = Difference\n",
    "\n",
    "-= = Difference_update\n",
    "\n",
    "^ = Symmetric Difference\n",
    "\n",
    "^= = Symmetric Difference Update"
   ]
  },
  {
   "cell_type": "code",
   "execution_count": 282,
   "id": "e8caf9f8-a132-4983-a7e1-64cb1ea2a010",
   "metadata": {},
   "outputs": [
    {
     "name": "stdout",
     "output_type": "stream",
     "text": [
      "{1, 2, 3, 4, 5, 6, 7, 8, 9, 10, 11, 12}\n",
      "{6, 7}\n",
      "set()\n",
      "{6, 7, 8, 9, 10, 11, 12}\n"
     ]
    }
   ],
   "source": [
    "s1={1,2,3,4,5,6,7}\n",
    "s2={6,7,8,9,10,11,12}\n",
    "print(s1|s2)\n",
    "s1&=s2\n",
    "print(s1)\n",
    "s1-=s2\n",
    "print(s1)\n",
    "s2^=s1\n",
    "print(s2)"
   ]
  },
  {
   "cell_type": "markdown",
   "id": "92d61a5e-3d20-48f7-83ca-5446559ea4c4",
   "metadata": {},
   "source": [
    "## Set Operations"
   ]
  },
  {
   "cell_type": "code",
   "execution_count": 293,
   "id": "c3552fd0-2d0a-4092-a39e-891fa2fe0417",
   "metadata": {},
   "outputs": [
    {
     "ename": "TypeError",
     "evalue": "unhashable type: 'list'",
     "output_type": "error",
     "traceback": [
      "\u001b[1;31m---------------------------------------------------------------------------\u001b[0m",
      "\u001b[1;31mTypeError\u001b[0m                                 Traceback (most recent call last)",
      "Cell \u001b[1;32mIn[293], line 3\u001b[0m\n\u001b[0;32m      1\u001b[0m s1\u001b[38;5;241m=\u001b[39m{\u001b[38;5;241m10\u001b[39m,\u001b[38;5;241m20\u001b[39m,\u001b[38;5;241m30\u001b[39m,\u001b[38;5;241m40\u001b[39m,\u001b[38;5;241m50\u001b[39m,\u001b[38;5;241m60\u001b[39m}\n\u001b[0;32m      2\u001b[0m s1\u001b[38;5;241m.\u001b[39madd((\u001b[38;5;241m60\u001b[39m,\u001b[38;5;241m70\u001b[39m))\n\u001b[1;32m----> 3\u001b[0m s1\u001b[38;5;241m.\u001b[39madd([\u001b[38;5;241m20\u001b[39m])\n",
      "\u001b[1;31mTypeError\u001b[0m: unhashable type: 'list'"
     ]
    }
   ],
   "source": [
    "s1={10,20,30,40,50,60}\n",
    "s1.add((60,70)) #Tuples can be added\n",
    "s1.add([20]) #Lists can't be added"
   ]
  },
  {
   "cell_type": "code",
   "execution_count": 303,
   "id": "38d9b699-4faa-439e-aada-a72b9958b28c",
   "metadata": {},
   "outputs": [
    {
     "name": "stdout",
     "output_type": "stream",
     "text": [
      "{'p', 40, 10, 50, 20, 'y', 60, 30}\n"
     ]
    }
   ],
   "source": [
    "#update always takes an iterable\n",
    "s1={10,20,30,40}\n",
    "s1.update((50,60))\n",
    "s1.update((\"py\"))\n",
    "print(s1)"
   ]
  },
  {
   "cell_type": "code",
   "execution_count": 305,
   "id": "deabacad-fcf7-4012-bd20-a5be107a5422",
   "metadata": {},
   "outputs": [
    {
     "name": "stdout",
     "output_type": "stream",
     "text": [
      "2085816094208 2085816093760\n"
     ]
    }
   ],
   "source": [
    "#copy makes a shallow copy\n",
    "s1=[10,20,30]\n",
    "s2=s1.copy()\n",
    "print(id(s2),id(s1))"
   ]
  },
  {
   "cell_type": "code",
   "execution_count": 311,
   "id": "42b85144-373e-42a6-ada7-9167122f4dd3",
   "metadata": {},
   "outputs": [
    {
     "name": "stdout",
     "output_type": "stream",
     "text": [
      "{20, 40, 10, 30}\n",
      "{40, 10, 30}\n"
     ]
    }
   ],
   "source": [
    "#pop deletes last element of the unordered set\n",
    "#discard deletes requested element if not there no error i.e returns none\n",
    "s1={10,20,30,40,50}\n",
    "s1.pop()\n",
    "print(s1)\n",
    "s1.discard(20)\n",
    "print(s1)"
   ]
  },
  {
   "cell_type": "code",
   "execution_count": 313,
   "id": "e422d84b-2066-4df9-b357-910ff4dfef7f",
   "metadata": {},
   "outputs": [
    {
     "ename": "KeyError",
     "evalue": "70",
     "output_type": "error",
     "traceback": [
      "\u001b[1;31m---------------------------------------------------------------------------\u001b[0m",
      "\u001b[1;31mKeyError\u001b[0m                                  Traceback (most recent call last)",
      "Cell \u001b[1;32mIn[313], line 3\u001b[0m\n\u001b[0;32m      1\u001b[0m \u001b[38;5;66;03m#remove deletes requested element but if not present it returns error.\u001b[39;00m\n\u001b[0;32m      2\u001b[0m s1\u001b[38;5;241m=\u001b[39m{\u001b[38;5;241m10\u001b[39m,\u001b[38;5;241m20\u001b[39m,\u001b[38;5;241m30\u001b[39m,\u001b[38;5;241m40\u001b[39m,\u001b[38;5;241m50\u001b[39m}\n\u001b[1;32m----> 3\u001b[0m s1\u001b[38;5;241m.\u001b[39mremove(\u001b[38;5;241m70\u001b[39m)\n",
      "\u001b[1;31mKeyError\u001b[0m: 70"
     ]
    }
   ],
   "source": [
    "#remove deletes requested element but if not present it returns error.\n",
    "s1={10,20,30,40,50}\n",
    "s1.remove(70)"
   ]
  },
  {
   "cell_type": "code",
   "execution_count": 315,
   "id": "58c06a23-98dd-4c13-bf3f-0584320d6af8",
   "metadata": {},
   "outputs": [
    {
     "name": "stdout",
     "output_type": "stream",
     "text": [
      "set()\n"
     ]
    }
   ],
   "source": [
    "s1={10,20}\n",
    "s1.clear()\n",
    "print(s1)"
   ]
  },
  {
   "cell_type": "markdown",
   "id": "2d4b4e1e-79e6-4490-b06e-3d29006d6519",
   "metadata": {},
   "source": [
    "## Set Comprehensions"
   ]
  },
  {
   "cell_type": "code",
   "execution_count": 319,
   "id": "0c46a21a-1d06-425c-9d8e-bf3e5cc818cb",
   "metadata": {},
   "outputs": [
    {
     "name": "stdout",
     "output_type": "stream",
     "text": [
      "{'i', 'l', 'm', 'u', 'e', 'a', 'b', 't'} {0, 1, 4, 9, 16} {'i', 'm', 'e', 'd', 'a', 't'}\n"
     ]
    }
   ],
   "source": [
    "s1={ x for x in \"immutable\" }\n",
    "s2={ x**2 for x in range(-4,5)}\n",
    "s3={ x for x in \"immediate\"}\n",
    "print(s1,s2,s3)"
   ]
  },
  {
   "cell_type": "markdown",
   "id": "9c5da899-ba16-4051-9f50-f8ed6e9e6ae5",
   "metadata": {},
   "source": [
    "## Dictionary"
   ]
  },
  {
   "cell_type": "markdown",
   "id": "193f207c-4e2f-4e67-971a-86ae1e67af8e",
   "metadata": {},
   "source": [
    "Dictionaries appear like Pairs of STL with \"key\" & \"value\""
   ]
  },
  {
   "cell_type": "code",
   "execution_count": 323,
   "id": "e8c2a7a9-807a-4d1f-93c0-fe1178b9b07b",
   "metadata": {},
   "outputs": [
    {
     "name": "stdout",
     "output_type": "stream",
     "text": [
      "{1: 'abc', 2: 'bcd', 3: 'cde'}\n"
     ]
    }
   ],
   "source": [
    "d1={1:\"abc\",2:\"bcd\",3:\"cde\"}\n",
    "print(d1)"
   ]
  },
  {
   "cell_type": "code",
   "execution_count": 325,
   "id": "c905df56-9c63-42fd-886d-ffc18fb5b16f",
   "metadata": {},
   "outputs": [
    {
     "data": {
      "text/plain": [
       "'bcd'"
      ]
     },
     "execution_count": 325,
     "metadata": {},
     "output_type": "execute_result"
    }
   ],
   "source": [
    "d1[2]\n"
   ]
  },
  {
   "cell_type": "code",
   "execution_count": 329,
   "id": "bea5dc95-2c71-4fd8-a2ab-fe1932141326",
   "metadata": {},
   "outputs": [
    {
     "data": {
      "text/plain": [
       "'Two'"
      ]
     },
     "execution_count": 329,
     "metadata": {},
     "output_type": "execute_result"
    }
   ],
   "source": [
    "d1[2]=\"Two\"\n",
    "d1[2]"
   ]
  },
  {
   "cell_type": "code",
   "execution_count": 331,
   "id": "08fcad2b-3eb8-4422-ae06-5157663e06e3",
   "metadata": {},
   "outputs": [
    {
     "name": "stdout",
     "output_type": "stream",
     "text": [
      "1\n",
      "2\n",
      "3\n"
     ]
    }
   ],
   "source": [
    "for i in d1:\n",
    "    print(i)"
   ]
  },
  {
   "cell_type": "markdown",
   "id": "e9554935-087e-4780-bc99-fb77f9ff3272",
   "metadata": {},
   "source": [
    "In place of keys, only immutable type of data-type can be taken while in value place, mutable type of data-type can be used"
   ]
  },
  {
   "cell_type": "code",
   "execution_count": 342,
   "id": "63aed2c0-215a-4d73-ac66-bc8ebb1b73da",
   "metadata": {},
   "outputs": [],
   "source": [
    "d2={101:\"John\",102:\"Smith\",103:\"Jessica\",104:\"Kennedy\"}\n",
    "d3={\"abacus\":\"a calculator\",\"tiger\":\"an animal\",\"pen\":\"machine to write\"}\n",
    "d4={(1,2,3):45,(1,4,7,9):78}"
   ]
  },
  {
   "cell_type": "markdown",
   "id": "06eb3239-0560-44d1-b54f-43a7e1c52047",
   "metadata": {},
   "source": [
    "#### Iterable Pair Method of Declairng Dictionaries"
   ]
  },
  {
   "cell_type": "code",
   "execution_count": 346,
   "id": "5c2b8fb8-5a91-4616-b191-0472e91c37bc",
   "metadata": {},
   "outputs": [
    {
     "name": "stdout",
     "output_type": "stream",
     "text": [
      "{1: 'One', 2: 'Two', 3: 'Three', 4: 'Four'}\n"
     ]
    }
   ],
   "source": [
    "d1=dict([(1,\"One\"),(2,\"Two\"),(3,\"Three\"),(4,\"Four\")])\n",
    "print(d1)"
   ]
  },
  {
   "cell_type": "markdown",
   "id": "5f98ed52-4c66-4dd9-a5a1-9dda99c4ce88",
   "metadata": {},
   "source": [
    "#### Zip Function Usage"
   ]
  },
  {
   "cell_type": "code",
   "execution_count": 363,
   "id": "b739aa53-26ec-49d7-96b0-60c982705541",
   "metadata": {},
   "outputs": [
    {
     "name": "stdout",
     "output_type": "stream",
     "text": [
      "{1: 'ONE', 2: 'TWO', 3: 'THREE', 4: 'FOUR'}\n"
     ]
    }
   ],
   "source": [
    "l1=[1,2,3,4]\n",
    "l2=[\"ONE\",\"TWO\",\"THREE\",\"FOUR\",\"FIVE\"]\n",
    "l3=dict(zip(l1,l2))\n",
    "print(l3)"
   ]
  },
  {
   "cell_type": "markdown",
   "id": "fd11675f-f367-4ce3-aef5-415d870ea076",
   "metadata": {},
   "source": [
    "#### Ennumerate Function"
   ]
  },
  {
   "cell_type": "code",
   "execution_count": 368,
   "id": "ec873c23-b16e-4bb6-903f-e398cf316098",
   "metadata": {},
   "outputs": [
    {
     "name": "stdout",
     "output_type": "stream",
     "text": [
      "{1: 'One', 2: 'Two', 3: 'Three', 4: 'Four', 5: 'Five'}\n"
     ]
    }
   ],
   "source": [
    "L1=[\"One\",\"Two\",\"Three\",\"Four\",\"Five\"]\n",
    "d1=dict(enumerate(L1,start=1))\n",
    "print(d1)"
   ]
  },
  {
   "cell_type": "markdown",
   "id": "bb67c7b2-fcd9-447b-8c76-4bfa37eed619",
   "metadata": {},
   "source": [
    "#### Iterable Pair Method Comprehension"
   ]
  },
  {
   "cell_type": "code",
   "execution_count": 374,
   "id": "9eeb06bb-13db-4aef-a5f8-454736d70270",
   "metadata": {},
   "outputs": [
    {
     "name": "stdout",
     "output_type": "stream",
     "text": [
      "{1: 'One', 2: 'Two', 3: 'Three', 4: 'Four'}\n"
     ]
    }
   ],
   "source": [
    "L1=[(1,\"One\"),(2,\"Two\"),(3,\"Three\"),(4,\"Four\")]\n",
    "d1={x:y for x,y in L1}\n",
    "print(d1)"
   ]
  },
  {
   "cell_type": "markdown",
   "id": "74b52934-53a3-4119-90ea-f17f9fe795ea",
   "metadata": {},
   "source": [
    "#### Zip Function Comprehension"
   ]
  },
  {
   "cell_type": "code",
   "execution_count": 377,
   "id": "146e7167-85d6-4409-84a8-a2da8e990e9f",
   "metadata": {},
   "outputs": [
    {
     "name": "stdout",
     "output_type": "stream",
     "text": [
      "{1: 'ONE', 2: 'TWO', 3: 'THREE', 4: 'FOUR', 5: 'FIVE'}\n"
     ]
    }
   ],
   "source": [
    "L1=[1,2,3,4,5]\n",
    "L2=[\"ONE\",\"TWO\",\"THREE\",\"FOUR\",\"FIVE\"]\n",
    "d1={x:y for x,y in zip(L1,L2)}\n",
    "print(d1)"
   ]
  },
  {
   "cell_type": "markdown",
   "id": "104ec043-2f9a-46f1-bdc6-0f50749f3a86",
   "metadata": {},
   "source": [
    "#### Comprehension of Enumerate Function"
   ]
  },
  {
   "cell_type": "code",
   "execution_count": 379,
   "id": "831ac48b-df62-4f3f-a9b7-90257cadd6fd",
   "metadata": {},
   "outputs": [
    {
     "name": "stdout",
     "output_type": "stream",
     "text": [
      "{1: 'ONE', 2: 'TWO', 3: 'THREE', 4: 'FOUR', 5: 'FIVE'}\n"
     ]
    }
   ],
   "source": [
    "L1=[\"ONE\",\"TWO\",\"THREE\",\"FOUR\",\"FIVE\"]\n",
    "D1={x:y for x,y in enumerate(L1,start=1)}\n",
    "print(D1)"
   ]
  },
  {
   "cell_type": "markdown",
   "id": "66691777-96e1-4c8a-9e6c-82ff84dbdbad",
   "metadata": {},
   "source": [
    "### Dictionary Loop Over"
   ]
  },
  {
   "cell_type": "code",
   "execution_count": 2,
   "id": "18d3f3fb-2435-4ccd-b51a-3f88e3fbc181",
   "metadata": {},
   "outputs": [
    {
     "name": "stdout",
     "output_type": "stream",
     "text": [
      "1\n",
      "2\n",
      "3\n",
      "4\n"
     ]
    }
   ],
   "source": [
    "d1={1:\"ONE\",2:\"TWO\",3:\"THREE\",4:\"FOUR\"}\n",
    "#I Want keys so i can write \n",
    "for x in d1:\n",
    "    print(x)"
   ]
  },
  {
   "cell_type": "code",
   "execution_count": 10,
   "id": "e5b53ed2-b051-40e7-bfcf-13cf5f1ec753",
   "metadata": {},
   "outputs": [
    {
     "data": {
      "text/plain": [
       "dict_keys([1, 2, 3, 4])"
      ]
     },
     "execution_count": 10,
     "metadata": {},
     "output_type": "execute_result"
    }
   ],
   "source": [
    "#but I can also use the keys() method\n",
    "d1.keys()\n"
   ]
  },
  {
   "cell_type": "code",
   "execution_count": 16,
   "id": "e390789c-63dd-422c-ac63-0d5ed552b558",
   "metadata": {},
   "outputs": [
    {
     "name": "stdout",
     "output_type": "stream",
     "text": [
      "1\n",
      "2\n",
      "3\n",
      "4\n"
     ]
    }
   ],
   "source": [
    "for x in d1.keys():\n",
    "    print(x)"
   ]
  },
  {
   "cell_type": "code",
   "execution_count": 18,
   "id": "80e7c78c-74bc-42d9-a312-8f1bc113f2c5",
   "metadata": {},
   "outputs": [
    {
     "name": "stdout",
     "output_type": "stream",
     "text": [
      "ONE\n",
      "TWO\n",
      "THREE\n",
      "FOUR\n"
     ]
    }
   ],
   "source": [
    "#Now i want to print values I can write\n",
    "for x in d1:\n",
    "    print(d1[x])"
   ]
  },
  {
   "cell_type": "code",
   "execution_count": 20,
   "id": "f52bdcf7-ecb2-4f12-89bc-1eee4304e553",
   "metadata": {},
   "outputs": [
    {
     "data": {
      "text/plain": [
       "dict_values(['ONE', 'TWO', 'THREE', 'FOUR'])"
      ]
     },
     "execution_count": 20,
     "metadata": {},
     "output_type": "execute_result"
    }
   ],
   "source": [
    "#But I can also use values()\n",
    "d1.values()"
   ]
  },
  {
   "cell_type": "code",
   "execution_count": 22,
   "id": "1d4286c6-5b73-4a6e-8af5-60f290302290",
   "metadata": {},
   "outputs": [
    {
     "name": "stdout",
     "output_type": "stream",
     "text": [
      "ONE\n",
      "TWO\n",
      "THREE\n",
      "FOUR\n"
     ]
    }
   ],
   "source": [
    "for x in d1.values():\n",
    "    print(x)"
   ]
  },
  {
   "cell_type": "code",
   "execution_count": 24,
   "id": "be22b6b0-924b-4924-a174-0d1f61e6cb68",
   "metadata": {},
   "outputs": [
    {
     "name": "stdout",
     "output_type": "stream",
     "text": [
      "1 ONE\n",
      "2 TWO\n",
      "3 THREE\n",
      "4 FOUR\n"
     ]
    }
   ],
   "source": [
    "#for printing items I can write\n",
    "for x in d1:\n",
    "    print(x,d1[x])"
   ]
  },
  {
   "cell_type": "code",
   "execution_count": 26,
   "id": "02f7f5eb-daa9-4a2b-856b-5b20a50c2510",
   "metadata": {},
   "outputs": [
    {
     "name": "stdout",
     "output_type": "stream",
     "text": [
      "1 ONE\n",
      "2 TWO\n",
      "3 THREE\n",
      "4 FOUR\n"
     ]
    }
   ],
   "source": [
    "#i can also use items()\n",
    "for x,y in d1.items():\n",
    "    print(x,y)"
   ]
  },
  {
   "cell_type": "code",
   "execution_count": 32,
   "id": "510c71ba-a76e-47d2-8222-eabe3a1c30c6",
   "metadata": {},
   "outputs": [
    {
     "name": "stdout",
     "output_type": "stream",
     "text": [
      "None\n",
      "{1: 'ONE', 2: 'TWO', 3: 'THREE', 4: 'FOUR'}\n"
     ]
    }
   ],
   "source": [
    "#I can also use gets() to get value of a key but it will not add it into the dictionary\n",
    "print(d1.get(5,\"None\"))\n",
    "print(d1)\n"
   ]
  },
  {
   "cell_type": "code",
   "execution_count": 34,
   "id": "83f8b773-519d-4652-b96d-1a42660d35df",
   "metadata": {},
   "outputs": [
    {
     "data": {
      "text/plain": [
       "'None'"
      ]
     },
     "execution_count": 34,
     "metadata": {},
     "output_type": "execute_result"
    }
   ],
   "source": [
    "#but setdefault() adds it into the dictionary if not present\n",
    "d1.setdefault(5,'None')"
   ]
  },
  {
   "cell_type": "code",
   "execution_count": 36,
   "id": "13540403-7ad8-43d5-8053-d8faea471eb9",
   "metadata": {},
   "outputs": [
    {
     "name": "stdout",
     "output_type": "stream",
     "text": [
      "1 ONE\n",
      "2 TWO\n",
      "3 THREE\n",
      "4 FOUR\n",
      "5 None\n"
     ]
    }
   ],
   "source": [
    "for x,y in d1.items():\n",
    "    print(x,y)"
   ]
  },
  {
   "cell_type": "markdown",
   "id": "cc52644d-4a64-4c4f-bd22-df873f1872af",
   "metadata": {},
   "source": [
    "### More About DICTIONARY Methods"
   ]
  },
  {
   "cell_type": "code",
   "execution_count": 43,
   "id": "74d198ba-8005-406a-bb0c-9e9c965173b9",
   "metadata": {},
   "outputs": [],
   "source": [
    "d1={1:\"ONE\",2:\"TWO\",3:\"THREE\",4:\"FOUR\"}\n",
    "d2={5:\"FIVE\",6:\"SIX\"}\n",
    "d1.update(d2)"
   ]
  },
  {
   "cell_type": "code",
   "execution_count": 45,
   "id": "cfff3dda-e9d9-4bc9-8ce6-b7a1dbe1758d",
   "metadata": {},
   "outputs": [
    {
     "name": "stdout",
     "output_type": "stream",
     "text": [
      "{1: 'ONE', 2: 'TWO', 3: 'THREE', 4: 'FOUR', 5: 'FIVE', 6: 'SIX'}\n"
     ]
    }
   ],
   "source": [
    "print(d1)"
   ]
  },
  {
   "cell_type": "code",
   "execution_count": 47,
   "id": "1dff6b9a-0abc-416d-87b6-d4ad0ee8d2e8",
   "metadata": {},
   "outputs": [],
   "source": [
    "L1=[1,2,3,4]\n",
    "d1=dict.fromkeys(L1,\"Unknown\") ## Using class name not the object d1"
   ]
  },
  {
   "cell_type": "code",
   "execution_count": 49,
   "id": "388205da-1bc5-447d-b4fb-9ca5b2aa272e",
   "metadata": {},
   "outputs": [
    {
     "data": {
      "text/plain": [
       "dict_items([(1, 'Unknown'), (2, 'Unknown'), (3, 'Unknown'), (4, 'Unknown')])"
      ]
     },
     "execution_count": 49,
     "metadata": {},
     "output_type": "execute_result"
    }
   ],
   "source": [
    "d1.items()"
   ]
  },
  {
   "cell_type": "code",
   "execution_count": 51,
   "id": "f9285798-0e5e-4d4a-bc4d-d24ff097c52d",
   "metadata": {},
   "outputs": [
    {
     "name": "stdout",
     "output_type": "stream",
     "text": [
      "False\n"
     ]
    }
   ],
   "source": [
    "d2=d1.copy() #shallow copy\n",
    "print(d2 is d1)"
   ]
  },
  {
   "cell_type": "code",
   "execution_count": 53,
   "id": "9208a336-75c8-455a-b548-43c40a1206b0",
   "metadata": {},
   "outputs": [
    {
     "data": {
      "text/plain": [
       "'TWO'"
      ]
     },
     "execution_count": 53,
     "metadata": {},
     "output_type": "execute_result"
    }
   ],
   "source": [
    "d1={1:\"ONE\",2:\"TWO\",3:\"THREE\",4:\"FOUR\"}\n",
    "d1.pop(2)"
   ]
  },
  {
   "cell_type": "code",
   "execution_count": 61,
   "id": "47afa71d-d2cf-440e-b7ec-1a963097a9aa",
   "metadata": {},
   "outputs": [
    {
     "data": {
      "text/plain": [
       "'Missing'"
      ]
     },
     "execution_count": 61,
     "metadata": {},
     "output_type": "execute_result"
    }
   ],
   "source": [
    "d1.pop(5,\"Missing\") #delete requested key(& value as per key) if not present display the alternate"
   ]
  },
  {
   "cell_type": "code",
   "execution_count": 57,
   "id": "bc1f9bb8-b719-4579-b1ab-50c86f75664a",
   "metadata": {},
   "outputs": [
    {
     "data": {
      "text/plain": [
       "(4, 'FOUR')"
      ]
     },
     "execution_count": 57,
     "metadata": {},
     "output_type": "execute_result"
    }
   ],
   "source": [
    "d1.popitem() #delete recent entry"
   ]
  },
  {
   "cell_type": "code",
   "execution_count": 59,
   "id": "26fabc63-f4f2-4005-bd23-f8c64b0228c3",
   "metadata": {},
   "outputs": [],
   "source": [
    "d1.clear() #deletes/clears entire dictionary"
   ]
  },
  {
   "cell_type": "markdown",
   "id": "645e93d6-bb32-474f-937c-10ccbf844f4d",
   "metadata": {},
   "source": [
    "# Functions"
   ]
  },
  {
   "cell_type": "markdown",
   "id": "5ff7f8ab-0ddf-4095-be84-971e7b4eab8e",
   "metadata": {},
   "source": [
    "Function is a piece of code which performs a specific Task and can be called multiple times.\n",
    "\n",
    "There are built-in functions & user defined functions."
   ]
  },
  {
   "cell_type": "markdown",
   "id": "eadabaa4-995f-43f5-8832-913e22ba78f6",
   "metadata": {},
   "source": [
    "Function name have the same rules as variable name"
   ]
  },
  {
   "cell_type": "markdown",
   "id": "46d11701-90a3-44e6-bd51-8d042b73d13d",
   "metadata": {},
   "source": [
    "#### Based on Positional"
   ]
  },
  {
   "cell_type": "code",
   "execution_count": 14,
   "id": "991c5daf-0715-4924-a193-873dbbe33c3e",
   "metadata": {},
   "outputs": [],
   "source": [
    "def volume_of_cuboid(length,breadth,height): #Formal Parameters/Arguments\n",
    "    vol=length*breadth*height\n",
    "    return vol"
   ]
  },
  {
   "cell_type": "code",
   "execution_count": 10,
   "id": "b7a1bb6c-a5c7-43d6-aafb-92a1019e3b6b",
   "metadata": {},
   "outputs": [
    {
     "name": "stdout",
     "output_type": "stream",
     "text": [
      "Volume is= 3000\n"
     ]
    }
   ],
   "source": [
    "v=volume_of_cuboid(10,15,20) #Actual Parameters/Arguments\n",
    "print(\"Volume is=\",v)"
   ]
  },
  {
   "cell_type": "markdown",
   "id": "1b6266f7-b543-4a22-82ce-93c0debe133d",
   "metadata": {},
   "source": [
    "#### Based on Keyword"
   ]
  },
  {
   "cell_type": "code",
   "execution_count": 22,
   "id": "dd690a35-8df5-4382-b12b-621ee7f56bed",
   "metadata": {},
   "outputs": [
    {
     "name": "stdout",
     "output_type": "stream",
     "text": [
      "10 15 5\n",
      "750\n"
     ]
    }
   ],
   "source": [
    "def volume(leng,bred,heig):\n",
    "    print(leng,bred,heig)\n",
    "    vol=leng*bred*heig\n",
    "    return vol\n",
    "v=volume(bred=15,leng=10,heig=5)\n",
    "print(v)"
   ]
  },
  {
   "cell_type": "markdown",
   "id": "0045780e-bb6d-42b2-8da6-2dfb77a42393",
   "metadata": {},
   "source": [
    "HENCE positional & Keyword gets inter-winded"
   ]
  },
  {
   "cell_type": "code",
   "execution_count": 33,
   "id": "6dd6027c-b112-4fec-a7b9-72a9e6766263",
   "metadata": {},
   "outputs": [
    {
     "ename": "TypeError",
     "evalue": "volume() got multiple values for argument 'leng'",
     "output_type": "error",
     "traceback": [
      "\u001b[1;31m---------------------------------------------------------------------------\u001b[0m",
      "\u001b[1;31mTypeError\u001b[0m                                 Traceback (most recent call last)",
      "Cell \u001b[1;32mIn[33], line 5\u001b[0m\n\u001b[0;32m      3\u001b[0m     vol\u001b[38;5;241m=\u001b[39mleng\u001b[38;5;241m*\u001b[39mbred\u001b[38;5;241m*\u001b[39mheig\n\u001b[0;32m      4\u001b[0m     \u001b[38;5;28;01mreturn\u001b[39;00m vol\n\u001b[1;32m----> 5\u001b[0m v\u001b[38;5;241m=\u001b[39mvolume(\u001b[38;5;241m15\u001b[39m,leng\u001b[38;5;241m=\u001b[39m\u001b[38;5;241m10\u001b[39m,heig\u001b[38;5;241m=\u001b[39m\u001b[38;5;241m5\u001b[39m) \u001b[38;5;66;03m#it takes multiple length values\u001b[39;00m\n\u001b[0;32m      6\u001b[0m \u001b[38;5;28mprint\u001b[39m(v)\n",
      "\u001b[1;31mTypeError\u001b[0m: volume() got multiple values for argument 'leng'"
     ]
    }
   ],
   "source": [
    "def volume(leng,bred,heig):\n",
    "    print(leng,bred,heig)\n",
    "    vol=leng*bred*heig\n",
    "    return vol\n",
    "v=volume(15,leng=10,heig=5) #it takes multiple length values\n",
    "print(v)"
   ]
  },
  {
   "cell_type": "code",
   "execution_count": 27,
   "id": "9f4311fb-b6d8-4d29-bf51-7f8469a1093f",
   "metadata": {},
   "outputs": [
    {
     "ename": "SyntaxError",
     "evalue": "positional argument follows keyword argument (1822415951.py, line 1)",
     "output_type": "error",
     "traceback": [
      "\u001b[1;36m  Cell \u001b[1;32mIn[27], line 1\u001b[1;36m\u001b[0m\n\u001b[1;33m    v=volume(12,bred=7,9)\u001b[0m\n\u001b[1;37m                        ^\u001b[0m\n\u001b[1;31mSyntaxError\u001b[0m\u001b[1;31m:\u001b[0m positional argument follows keyword argument\n"
     ]
    }
   ],
   "source": [
    "v=volume(12,bred=7,9)\n",
    "print(v)"
   ]
  },
  {
   "cell_type": "markdown",
   "id": "93b8e29d-1865-4853-9c4d-652bf649608c",
   "metadata": {},
   "source": [
    "So you can give positional or keyword arguments or mixed (only if keyword on right\n",
    "and positional on left)"
   ]
  },
  {
   "cell_type": "markdown",
   "id": "f7de7e51-18e0-42c1-affd-f0da4866b481",
   "metadata": {},
   "source": [
    "### Default Arguments"
   ]
  },
  {
   "cell_type": "markdown",
   "id": "3ebdce13-e0f1-45d8-bb77-06903d6dd893",
   "metadata": {},
   "source": [
    "Default arguments must be given from right side"
   ]
  },
  {
   "cell_type": "code",
   "execution_count": 44,
   "id": "4aa0228a-97fe-450d-bc70-db7d1c367533",
   "metadata": {},
   "outputs": [],
   "source": [
    "def volume(l=1,b=1,h=1):\n",
    "    v=l*b*h\n",
    "    return v"
   ]
  },
  {
   "cell_type": "code",
   "execution_count": 50,
   "id": "d1451f38-6be0-413c-9b74-332df2ba00cd",
   "metadata": {},
   "outputs": [],
   "source": [
    "v=volume(10,5,3)\n",
    "v=volume(10,5)\n",
    "v=volume(10)\n",
    "v=volume()"
   ]
  },
  {
   "cell_type": "code",
   "execution_count": 56,
   "id": "a7547a7a-0fd2-40dc-a78c-97e2eef168a8",
   "metadata": {},
   "outputs": [
    {
     "name": "stdout",
     "output_type": "stream",
     "text": [
      "1 hello (1, 2, 5)\n",
      "5 15 30.35\n",
      "[10, 12] (12, 25) {23: 'hello'}\n"
     ]
    }
   ],
   "source": [
    "def fun(a=1,b=\"hello\",c=(1,2,5)):\n",
    "    print(a,b,c)\n",
    "fun()\n",
    "fun(5,15,30.35)\n",
    "fun([10,12],(12,25),{23:\"hello\"})"
   ]
  },
  {
   "cell_type": "markdown",
   "id": "459248c4-9ee7-402d-8c7c-6232f73d9378",
   "metadata": {},
   "source": [
    "Important Condition"
   ]
  },
  {
   "cell_type": "markdown",
   "id": "edbfafe4-921c-4823-b040-2193d996bf09",
   "metadata": {},
   "source": [
    "Only creates once and then continues appending. Very important example"
   ]
  },
  {
   "cell_type": "code",
   "execution_count": 59,
   "id": "6d9a3725-83cf-4877-a390-c204661ff437",
   "metadata": {},
   "outputs": [
    {
     "name": "stdout",
     "output_type": "stream",
     "text": [
      "[1, 2, 3, 3]\n",
      "[1, 2, 3, 3, 4]\n",
      "[10, 11, 2]\n",
      "[1, 2, 3, 3, 4, 5]\n"
     ]
    }
   ],
   "source": [
    "def fun(l=[1,2,3]):\n",
    "    l.append(len(l))\n",
    "    print(l)\n",
    "fun()\n",
    "fun()\n",
    "fun([10,11])\n",
    "fun()"
   ]
  },
  {
   "cell_type": "markdown",
   "id": "9ff92eab-f0aa-428b-9c85-fbe2ebedcb2e",
   "metadata": {},
   "source": [
    "#### Positional Only Arguments"
   ]
  },
  {
   "cell_type": "code",
   "execution_count": 69,
   "id": "70c74e91-e94a-434e-9fd7-47823529f07a",
   "metadata": {},
   "outputs": [
    {
     "name": "stdout",
     "output_type": "stream",
     "text": [
      "15 20 30 45\n",
      "15 20 30 45\n",
      "15 20 30 45\n"
     ]
    }
   ],
   "source": [
    "def fun(a,b,/,c,d):\n",
    "    print(a,b,c,d)\n",
    "fun(15,20,30,45)\n",
    "fun(15,20,c=30,d=45)\n",
    "fun(15,20,30,d=45)\n",
    "#fun(before \"/\" should be positional only,/,can be positional or keyword)\n"
   ]
  },
  {
   "cell_type": "code",
   "execution_count": 75,
   "id": "467d35dd-2605-44c2-ae0f-707cb496aabe",
   "metadata": {},
   "outputs": [],
   "source": [
    "#def fun(a,b,c,d,/) --> works where all are positional\n",
    "#def fun(/,a,b,c,d) --> does not work since atleast one must be positional.\n",
    "#def fun(a,/,b,c,d) --> works fine"
   ]
  },
  {
   "cell_type": "markdown",
   "id": "decebfbb-1552-40d4-ab38-d81791b7fefb",
   "metadata": {},
   "source": [
    "So \"/\" is mainly use to force type of arguments (positional or keyword)"
   ]
  },
  {
   "cell_type": "markdown",
   "id": "dde3fa85-5f99-4746-b8ab-294a7c9e0187",
   "metadata": {},
   "source": [
    "#### Keyword Only Arguments"
   ]
  },
  {
   "cell_type": "code",
   "execution_count": 86,
   "id": "1f858728-cd48-4c25-af11-0c7eb792ac2c",
   "metadata": {},
   "outputs": [
    {
     "name": "stdout",
     "output_type": "stream",
     "text": [
      "15 20 30 45\n",
      "15 20 30 45\n",
      "15 20 30 45\n"
     ]
    }
   ],
   "source": [
    "def fun(a,b,*,c,d):\n",
    "    print(a,b,c,d)\n",
    "fun(15,20,c=30,d=45)\n",
    "fun(15,b=20,c=30,d=45)\n",
    "fun(a=15,b=20,c=30,d=45)\n",
    "#fun(before \"*\" can be positional or keyword,*,should be keyword)\n"
   ]
  },
  {
   "cell_type": "code",
   "execution_count": 79,
   "id": "8ca3393e-8aaa-40d0-90b0-0e06cfe66746",
   "metadata": {},
   "outputs": [],
   "source": [
    "#def fun(a,b,c,d,*) --> does not work since all positional and no keyword\n",
    "#def fun(*,a,b,c,d) --> works fine where all are keyword\n",
    "#def fun(a,*,b,c,d) --> works fine"
   ]
  },
  {
   "cell_type": "code",
   "execution_count": 81,
   "id": "037cb62f-2f59-4504-8d28-f74c5eb30d08",
   "metadata": {},
   "outputs": [
    {
     "name": "stdout",
     "output_type": "stream",
     "text": [
      "15 20 35 42 78 9\n"
     ]
    }
   ],
   "source": [
    "def fun(a,b,/,c,d,*,e,f):\n",
    "    print(a,b,c,d,e,f)\n",
    "fun(15,20,c=35,d=42,e=78,f=9)\n"
   ]
  },
  {
   "cell_type": "markdown",
   "id": "f6385e21-f13e-4364-9548-253c51983289",
   "metadata": {},
   "source": [
    "but def fun(a,b,*,/,c,d,e,f) --> Wrong syntax since / comes before *"
   ]
  },
  {
   "cell_type": "markdown",
   "id": "5f9f11ef-b9ca-4696-a204-f254eb9ced12",
   "metadata": {},
   "source": [
    "#### Variable Length Positional Arguments"
   ]
  },
  {
   "cell_type": "code",
   "execution_count": 95,
   "id": "f6238dd0-1b65-4339-885c-fa2a1fab8459",
   "metadata": {},
   "outputs": [
    {
     "name": "stdout",
     "output_type": "stream",
     "text": [
      "True\n"
     ]
    }
   ],
   "source": [
    "def fun(*args): #Variable Length Positional Arguments\n",
    "    for x in args: #Creates Tuple out of the Variable Length Arguments\n",
    "        if(type(x)==bool):\n",
    "            print(x)\n",
    "fun(\"Hello\",15,12.33,True)"
   ]
  },
  {
   "cell_type": "code",
   "execution_count": 97,
   "id": "3dc2e0df-ce8e-40a7-a9e3-581763441dc1",
   "metadata": {},
   "outputs": [],
   "source": [
    "# def fun(a,b,*args): --> a and b must be positional only since args will be given args \n",
    "# def fun(*args,a,b): --> a and b must be keyword only."
   ]
  },
  {
   "cell_type": "code",
   "execution_count": 101,
   "id": "b9ea5cea-5c2c-4a49-87a3-904c9770f17d",
   "metadata": {},
   "outputs": [
    {
     "name": "stdout",
     "output_type": "stream",
     "text": [
      "([1, 2, 3],) 1\n"
     ]
    }
   ],
   "source": [
    "def fun(*args):\n",
    "    print(args,len(args))\n",
    "\n",
    "L1=[1,2,3]\n",
    "fun(L1)"
   ]
  },
  {
   "cell_type": "code",
   "execution_count": 105,
   "id": "9989335b-29dc-475f-a856-3af40cc80c3d",
   "metadata": {},
   "outputs": [
    {
     "name": "stdout",
     "output_type": "stream",
     "text": [
      "(1, 2, 3) 3\n"
     ]
    }
   ],
   "source": [
    "def fun(*args):\n",
    "    print(args,len(args))\n",
    "\n",
    "L1=[1,2,3]\n",
    "fun(*L1) #--> Unpacking"
   ]
  },
  {
   "cell_type": "markdown",
   "id": "aae3822a-a5eb-43b6-b474-80be5066a6ab",
   "metadata": {},
   "source": [
    "#### Variable Length Keyword Arguments"
   ]
  },
  {
   "cell_type": "code",
   "execution_count": 109,
   "id": "6e4ad373-c7ae-4576-b08a-11b3140457c0",
   "metadata": {},
   "outputs": [
    {
     "name": "stdout",
     "output_type": "stream",
     "text": [
      "{'a': 5, 'b': 3}\n"
     ]
    }
   ],
   "source": [
    "def fun(**kwwargs):\n",
    "    print(kwwargs)\n",
    "\n",
    "fun(a=5,b=3)"
   ]
  },
  {
   "cell_type": "markdown",
   "id": "2ddf3824-eb3b-44c8-8f01-9442296be164",
   "metadata": {},
   "source": [
    "Hence it stores this keyword arguments as dictionaries unlike positional arguments as tuples\n"
   ]
  },
  {
   "cell_type": "code",
   "execution_count": 114,
   "id": "c3aacf79-9d47-49eb-9dd5-39bf335f64ad",
   "metadata": {},
   "outputs": [
    {
     "name": "stdout",
     "output_type": "stream",
     "text": [
      "10\n"
     ]
    }
   ],
   "source": [
    "def fun(**kwargs):\n",
    "    for item in kwargs.items():\n",
    "        if(item[0]=='b'):\n",
    "            print(item[1])\n",
    "\n",
    "fun(a=5,b=10,c=15)"
   ]
  },
  {
   "cell_type": "code",
   "execution_count": 120,
   "id": "114a88fd-7878-468b-9c71-2cf4dd2edde0",
   "metadata": {},
   "outputs": [
    {
     "name": "stdout",
     "output_type": "stream",
     "text": [
      "10 15 {'c': 13, 'd': 15}\n"
     ]
    }
   ],
   "source": [
    "def fun(a,b,**kwargs): # both positional and keyword arguments can be passed before variable length keyword argument\n",
    "    print(a,b,kwargs)\n",
    "\n",
    "fun(10,b=15,c=13,d=15)"
   ]
  },
  {
   "cell_type": "code",
   "execution_count": 124,
   "id": "5b13f168-2852-418f-9a39-0309f50aba6c",
   "metadata": {},
   "outputs": [
    {
     "ename": "SyntaxError",
     "evalue": "arguments cannot follow var-keyword argument (1676748722.py, line 1)",
     "output_type": "error",
     "traceback": [
      "\u001b[1;36m  Cell \u001b[1;32mIn[124], line 1\u001b[1;36m\u001b[0m\n\u001b[1;33m    def fun(**kwargs,a,b): # both positional and keyword arguments cannot be passed after variable length keyword argument\u001b[0m\n\u001b[1;37m                     ^\u001b[0m\n\u001b[1;31mSyntaxError\u001b[0m\u001b[1;31m:\u001b[0m arguments cannot follow var-keyword argument\n"
     ]
    }
   ],
   "source": [
    "def fun(**kwargs,a,b): # both positional and keyword arguments cannot be passed after variable length keyword argument\n",
    "    print(a,b,kwargs) \n",
    "\n",
    "fun(a=10,b=15,c=13,d=15) #does not hold any meaning"
   ]
  },
  {
   "cell_type": "code",
   "execution_count": 126,
   "id": "8667e0a9-f2bf-4832-8a40-3b2e62116250",
   "metadata": {},
   "outputs": [
    {
     "ename": "TypeError",
     "evalue": "'c' is an invalid keyword argument for print()",
     "output_type": "error",
     "traceback": [
      "\u001b[1;31m---------------------------------------------------------------------------\u001b[0m",
      "\u001b[1;31mTypeError\u001b[0m                                 Traceback (most recent call last)",
      "Cell \u001b[1;32mIn[126], line 4\u001b[0m\n\u001b[0;32m      1\u001b[0m \u001b[38;5;28;01mdef\u001b[39;00m \u001b[38;5;21mfun\u001b[39m(\u001b[38;5;241m*\u001b[39margs,a,b,\u001b[38;5;241m*\u001b[39m\u001b[38;5;241m*\u001b[39mkwargs):\n\u001b[0;32m      2\u001b[0m     \u001b[38;5;28mprint\u001b[39m(\u001b[38;5;241m*\u001b[39margs,a,b,\u001b[38;5;241m*\u001b[39m\u001b[38;5;241m*\u001b[39mkwargs)\n\u001b[1;32m----> 4\u001b[0m fun(\u001b[38;5;241m10\u001b[39m,\u001b[38;5;241m15\u001b[39m,\u001b[38;5;124m\"\u001b[39m\u001b[38;5;124mhello\u001b[39m\u001b[38;5;124m\"\u001b[39m,a\u001b[38;5;241m=\u001b[39m\u001b[38;5;241m12\u001b[39m,b\u001b[38;5;241m=\u001b[39m\u001b[38;5;241m78\u001b[39m,c\u001b[38;5;241m=\u001b[39m\u001b[38;5;241m35\u001b[39m,d\u001b[38;5;241m=\u001b[39m\u001b[38;5;241m79\u001b[39m,e\u001b[38;5;241m=\u001b[39m\u001b[38;5;28;01mTrue\u001b[39;00m)\n",
      "Cell \u001b[1;32mIn[126], line 2\u001b[0m, in \u001b[0;36mfun\u001b[1;34m(a, b, *args, **kwargs)\u001b[0m\n\u001b[0;32m      1\u001b[0m \u001b[38;5;28;01mdef\u001b[39;00m \u001b[38;5;21mfun\u001b[39m(\u001b[38;5;241m*\u001b[39margs,a,b,\u001b[38;5;241m*\u001b[39m\u001b[38;5;241m*\u001b[39mkwargs):\n\u001b[1;32m----> 2\u001b[0m     \u001b[38;5;28mprint\u001b[39m(\u001b[38;5;241m*\u001b[39margs,a,b,\u001b[38;5;241m*\u001b[39m\u001b[38;5;241m*\u001b[39mkwargs)\n",
      "\u001b[1;31mTypeError\u001b[0m: 'c' is an invalid keyword argument for print()"
     ]
    }
   ],
   "source": [
    "def fun(*args,a,b,**kwargs):\n",
    "    print(*args,a,b,**kwargs)\n",
    "\n",
    "fun(10,15,\"hello\",a=12,b=78,c=35,d=79,e=True)"
   ]
  },
  {
   "cell_type": "markdown",
   "id": "138bb420-b452-4e92-a24f-cd54466d1acd",
   "metadata": {},
   "source": [
    "####  Multiple Returns"
   ]
  },
  {
   "cell_type": "markdown",
   "id": "464587f2-4046-4133-9415-280f293148c5",
   "metadata": {},
   "source": [
    "A Function can return multiple values in the form of a tuple"
   ]
  },
  {
   "cell_type": "code",
   "execution_count": 130,
   "id": "6a97dec5-7cae-47ee-b76f-5553cd7f01b1",
   "metadata": {},
   "outputs": [
    {
     "name": "stdout",
     "output_type": "stream",
     "text": [
      "(6, 6)\n"
     ]
    }
   ],
   "source": [
    "def marks(a,b,c):\n",
    "    suma=a+b+c\n",
    "    mul=a*b*c\n",
    "    return suma,mul\n",
    "\n",
    "print(marks(1,2,3))"
   ]
  },
  {
   "cell_type": "code",
   "execution_count": 132,
   "id": "28b7d7f2-92c2-4875-be3d-d8d6b5c6177b",
   "metadata": {},
   "outputs": [
    {
     "data": {
      "text/plain": [
       "(297, 99.0, 'pass')"
      ]
     },
     "execution_count": 132,
     "metadata": {},
     "output_type": "execute_result"
    }
   ],
   "source": [
    "def marks(phys,chem,math):\n",
    "    total=phys+chem+math\n",
    "    avg=total/3\n",
    "    if(avg>=50):\n",
    "        grade=\"pass\"\n",
    "    else:\n",
    "        grade=\"fail\"\n",
    "    return total,avg,grade\n",
    "\n",
    "marks(100,99,98)"
   ]
  },
  {
   "cell_type": "markdown",
   "id": "dd99be9c-6095-4f79-abfc-8dde9a5ed9bd",
   "metadata": {},
   "source": [
    "## Iterators"
   ]
  },
  {
   "cell_type": "code",
   "execution_count": 5,
   "id": "ed4c0a62-5e8c-4351-8a0d-d67d4ce0147e",
   "metadata": {},
   "outputs": [
    {
     "name": "stdout",
     "output_type": "stream",
     "text": [
      "10\n",
      "12\n",
      "14\n"
     ]
    }
   ],
   "source": [
    "L1=[10,12,14,16]\n",
    "it=iter(L1)\n",
    "print(next(it))\n",
    "print(next(it))\n",
    "print(next(it))"
   ]
  },
  {
   "cell_type": "code",
   "execution_count": 7,
   "id": "85eb59cd-703e-4b2d-858a-e7094f6c45da",
   "metadata": {},
   "outputs": [
    {
     "name": "stdout",
     "output_type": "stream",
     "text": [
      "10\n",
      "python\n",
      "15\n"
     ]
    }
   ],
   "source": [
    "s1={10,15,\"python\"}\n",
    "it=iter(s1)\n",
    "print(next(it))\n",
    "print(next(it))\n",
    "print(next(it))"
   ]
  },
  {
   "cell_type": "code",
   "execution_count": 9,
   "id": "55ffc68c-b792-48be-a2cd-196cd3c55f55",
   "metadata": {},
   "outputs": [
    {
     "name": "stdout",
     "output_type": "stream",
     "text": [
      "1\n",
      "2\n"
     ]
    }
   ],
   "source": [
    "d1={1:\"abc\",2:\"def\",3:\"ghi\"}\n",
    "it=iter(d1)\n",
    "print(next(it))\n",
    "print(next(it))"
   ]
  },
  {
   "cell_type": "markdown",
   "id": "af7a3ab1-c538-4593-9def-f6e1b2ebbadb",
   "metadata": {},
   "source": [
    "## Generators"
   ]
  },
  {
   "cell_type": "code",
   "execution_count": 15,
   "id": "3f2ad8a2-fa6f-49ab-b0e6-4272afafeb9d",
   "metadata": {},
   "outputs": [
    {
     "name": "stdout",
     "output_type": "stream",
     "text": [
      "range(0, 5)\n",
      "0\n",
      "1\n"
     ]
    }
   ],
   "source": [
    "r=range(5) #Generator Function\n",
    "print(r)\n",
    "it=iter(r)\n",
    "print(next(it))\n",
    "print(next(it))"
   ]
  },
  {
   "cell_type": "code",
   "execution_count": 21,
   "id": "f9b4abae-6b8e-4f7f-86be-90213e786206",
   "metadata": {},
   "outputs": [
    {
     "name": "stdout",
     "output_type": "stream",
     "text": [
      "0\n",
      "1\n",
      "2\n",
      "3\n"
     ]
    }
   ],
   "source": [
    "#Writing own Generator Function\n",
    "def myrange(n):\n",
    "    i=0\n",
    "    while(i<n):\n",
    "        yield i #important usage\n",
    "        i+=1\n",
    "\n",
    "m=myrange(5)\n",
    "print(next(m))\n",
    "print(next(m))\n",
    "print(next(m))\n",
    "print(next(m))"
   ]
  },
  {
   "cell_type": "code",
   "execution_count": 27,
   "id": "5bdd0298-41b0-4403-8400-df4c584d312e",
   "metadata": {},
   "outputs": [
    {
     "name": "stdout",
     "output_type": "stream",
     "text": [
      "sun\n",
      "mon\n",
      "tue\n",
      "wed\n",
      "thu\n",
      "fri\n",
      "sat\n",
      "sun\n",
      "mon\n",
      "tue\n"
     ]
    }
   ],
   "source": [
    "li=[\"sun\",\"mon\",\"tue\",\"wed\",\"thu\",\"fri\",\"sat\"]\n",
    "def days():\n",
    "    i=0\n",
    "    while(True):\n",
    "        if(i==7):\n",
    "            i=0\n",
    "        yield li[i]\n",
    "        i+=1\n",
    "\n",
    "m=days()\n",
    "print(next(m))\n",
    "print(next(m))\n",
    "print(next(m))\n",
    "print(next(m))\n",
    "print(next(m))\n",
    "print(next(m))\n",
    "print(next(m))\n",
    "print(next(m))\n",
    "print(next(m))\n",
    "print(next(m))"
   ]
  },
  {
   "cell_type": "markdown",
   "id": "10464cb9-1233-4e46-b69c-802e5edebc71",
   "metadata": {},
   "source": [
    "## Local & Global Variables"
   ]
  },
  {
   "cell_type": "code",
   "execution_count": 32,
   "id": "d8c92619-ef24-4daf-830b-bbbfa55d843d",
   "metadata": {},
   "outputs": [
    {
     "name": "stdout",
     "output_type": "stream",
     "text": [
      "Outside-1: 5.25\n",
      "Local: 10\n",
      "Global: 5.25\n",
      "Outside-2: 5.25\n"
     ]
    }
   ],
   "source": [
    "g=5.25\n",
    "print(\"Outside-1:\",g)\n",
    "\n",
    "def fun():\n",
    "    a=10 #local variable\n",
    "    print(\"Local:\",a)\n",
    "    print(\"Global:\",g)\n",
    "\n",
    "fun()\n",
    "print(\"Outside-2:\",g)"
   ]
  },
  {
   "cell_type": "code",
   "execution_count": 34,
   "id": "9c97cf88-60f0-4f49-90d8-50ad18e440e5",
   "metadata": {},
   "outputs": [
    {
     "name": "stdout",
     "output_type": "stream",
     "text": [
      "Outside-1: 5.25\n",
      "Local: 10\n",
      "Global: 99\n",
      "Outside-2: 5.25\n"
     ]
    }
   ],
   "source": [
    "g=5.25\n",
    "print(\"Outside-1:\",g)\n",
    "\n",
    "def fun():\n",
    "    a=10 #local variable\n",
    "    g=99\n",
    "    print(\"Local:\",a)\n",
    "    print(\"Global:\",g)\n",
    "\n",
    "fun()\n",
    "print(\"Outside-2:\",g)"
   ]
  },
  {
   "cell_type": "code",
   "execution_count": 38,
   "id": "9ffb0173-7cb2-4791-a2c7-cb93c7f70a1b",
   "metadata": {},
   "outputs": [
    {
     "name": "stdout",
     "output_type": "stream",
     "text": [
      "Outside-1: 5.25\n",
      "Local: 10\n",
      "Global: 99\n",
      "Outside-2: 99\n"
     ]
    }
   ],
   "source": [
    "g=5.25\n",
    "print(\"Outside-1:\",g)\n",
    "\n",
    "def fun():\n",
    "    global g #emphasizing usage of Global Variable\n",
    "    a=10 #local variable\n",
    "    g=99\n",
    "    print(\"Local:\",a)\n",
    "    print(\"Global:\",g)\n",
    "\n",
    "fun()\n",
    "print(\"Outside-2:\",g)"
   ]
  },
  {
   "cell_type": "markdown",
   "id": "e06a11e1-c971-4969-93c3-e6ae70fcf5ba",
   "metadata": {},
   "source": [
    "Local Variables can be used only within a function and global variables can be used anywhere and should be declared before func call "
   ]
  },
  {
   "cell_type": "code",
   "execution_count": 47,
   "id": "f89c7f11-b892-4636-8f9e-fdd5ed1e8fe6",
   "metadata": {},
   "outputs": [
    {
     "name": "stdout",
     "output_type": "stream",
     "text": [
      "{'a': 10, 'b': 25.36, 'c': True}\n",
      "{'__name__': '__main__', '__doc__': 'Automatically created module for IPython interactive environment', '__package__': None, '__loader__': None, '__spec__': None, '__builtin__': <module 'builtins' (built-in)>, '__builtins__': <module 'builtins' (built-in)>, '_ih': ['', 'import json\\nimport getpass\\nimport hashlib\\n\\ndef import_pandas_safely():\\n    try:\\n        return __import__(\\'pandas\\')\\n    except ImportError:\\n        return False\\n\\n\\n__pandas = import_pandas_safely()\\n\\n\\ndef is_data_frame(v: str):\\n    obj = eval(v)\\n    if  isinstance(obj, __pandas.core.frame.DataFrame) or isinstance(obj, __pandas.core.series.Series):\\n        return True\\n\\n\\ndef dataframe_columns(var):\\n    df = eval(var)\\n    if isinstance(df, __pandas.core.series.Series):\\n        return [[df.name, str(df.dtype)]]\\n    return list(map(lambda col: [col, str(df[col].dtype)], df.columns))\\n\\n\\ndef dtypes_str(frame):\\n    return str(eval(frame).dtypes)\\n\\ndef dataframe_hash(var):\\n    # Return a hash including the column names and number of rows\\n    df = eval(var)\\n    if isinstance(df, __pandas.core.series.Series):\\n        return hashlib.sha256(f\"{var}-{df.name},{len(df)}\".encode(\\'utf-8\\')).hexdigest()\\n    return hashlib.sha256(f\"{var}-{\\',\\'.join(df.columns)},{len(df)}\".encode(\\'utf-8\\')).hexdigest()\\n\\ndef get_dataframes():\\n    if __pandas is None:\\n        return []\\n    user = getpass.getuser()\\n    values = get_ipython().run_line_magic(\\'who_ls\\', \\'\\')\\n    dataframes = [\\n        {\\n            \"name\": var,\\n            \"type\": type(eval(var)).__name__,\\n            \"hash\": dataframe_hash(var),\\n            \"cols\": dataframe_columns(var),\\n            \"dtypesStr\": dtypes_str(var),\\n        }\\n        for var in values if is_data_frame(var)\\n    ]\\n    result = {\"dataframes\": dataframes, \"user\": user}\\n    return json.dumps(result, ensure_ascii=False)\\n\\n\\nget_dataframes()', 'import json\\nimport getpass\\nimport hashlib\\n\\ndef import_pandas_safely():\\n    try:\\n        return __import__(\\'pandas\\')\\n    except ImportError:\\n        return False\\n\\n\\n__pandas = import_pandas_safely()\\n\\n\\ndef is_data_frame(v: str):\\n    obj = eval(v)\\n    if  isinstance(obj, __pandas.core.frame.DataFrame) or isinstance(obj, __pandas.core.series.Series):\\n        return True\\n\\n\\ndef dataframe_columns(var):\\n    df = eval(var)\\n    if isinstance(df, __pandas.core.series.Series):\\n        return [[df.name, str(df.dtype)]]\\n    return list(map(lambda col: [col, str(df[col].dtype)], df.columns))\\n\\n\\ndef dtypes_str(frame):\\n    return str(eval(frame).dtypes)\\n\\ndef dataframe_hash(var):\\n    # Return a hash including the column names and number of rows\\n    df = eval(var)\\n    if isinstance(df, __pandas.core.series.Series):\\n        return hashlib.sha256(f\"{var}-{df.name},{len(df)}\".encode(\\'utf-8\\')).hexdigest()\\n    return hashlib.sha256(f\"{var}-{\\',\\'.join(df.columns)},{len(df)}\".encode(\\'utf-8\\')).hexdigest()\\n\\ndef get_dataframes():\\n    if __pandas is None:\\n        return []\\n    user = getpass.getuser()\\n    values = get_ipython().run_line_magic(\\'who_ls\\', \\'\\')\\n    dataframes = [\\n        {\\n            \"name\": var,\\n            \"type\": type(eval(var)).__name__,\\n            \"hash\": dataframe_hash(var),\\n            \"cols\": dataframe_columns(var),\\n            \"dtypesStr\": dtypes_str(var),\\n        }\\n        for var in values if is_data_frame(var)\\n    ]\\n    result = {\"dataframes\": dataframes, \"user\": user}\\n    return json.dumps(result, ensure_ascii=False)\\n\\n\\nget_dataframes()', 'L1=[10,12,14,16]\\nit=iter(L1)\\nnext(it)\\nnext(it)\\nnext(it)', 'import json\\nimport getpass\\nimport hashlib\\n\\ndef import_pandas_safely():\\n    try:\\n        return __import__(\\'pandas\\')\\n    except ImportError:\\n        return False\\n\\n\\n__pandas = import_pandas_safely()\\n\\n\\ndef is_data_frame(v: str):\\n    obj = eval(v)\\n    if  isinstance(obj, __pandas.core.frame.DataFrame) or isinstance(obj, __pandas.core.series.Series):\\n        return True\\n\\n\\ndef dataframe_columns(var):\\n    df = eval(var)\\n    if isinstance(df, __pandas.core.series.Series):\\n        return [[df.name, str(df.dtype)]]\\n    return list(map(lambda col: [col, str(df[col].dtype)], df.columns))\\n\\n\\ndef dtypes_str(frame):\\n    return str(eval(frame).dtypes)\\n\\ndef dataframe_hash(var):\\n    # Return a hash including the column names and number of rows\\n    df = eval(var)\\n    if isinstance(df, __pandas.core.series.Series):\\n        return hashlib.sha256(f\"{var}-{df.name},{len(df)}\".encode(\\'utf-8\\')).hexdigest()\\n    return hashlib.sha256(f\"{var}-{\\',\\'.join(df.columns)},{len(df)}\".encode(\\'utf-8\\')).hexdigest()\\n\\ndef get_dataframes():\\n    if __pandas is None:\\n        return []\\n    user = getpass.getuser()\\n    values = get_ipython().run_line_magic(\\'who_ls\\', \\'\\')\\n    dataframes = [\\n        {\\n            \"name\": var,\\n            \"type\": type(eval(var)).__name__,\\n            \"hash\": dataframe_hash(var),\\n            \"cols\": dataframe_columns(var),\\n            \"dtypesStr\": dtypes_str(var),\\n        }\\n        for var in values if is_data_frame(var)\\n    ]\\n    result = {\"dataframes\": dataframes, \"user\": user}\\n    return json.dumps(result, ensure_ascii=False)\\n\\n\\nget_dataframes()', 'L1=[10,12,14,16]\\nit=iter(L1)\\nprint(next(it))\\nprint(next(it))\\nprint(next(it))', 'import json\\nimport getpass\\nimport hashlib\\n\\ndef import_pandas_safely():\\n    try:\\n        return __import__(\\'pandas\\')\\n    except ImportError:\\n        return False\\n\\n\\n__pandas = import_pandas_safely()\\n\\n\\ndef is_data_frame(v: str):\\n    obj = eval(v)\\n    if  isinstance(obj, __pandas.core.frame.DataFrame) or isinstance(obj, __pandas.core.series.Series):\\n        return True\\n\\n\\ndef dataframe_columns(var):\\n    df = eval(var)\\n    if isinstance(df, __pandas.core.series.Series):\\n        return [[df.name, str(df.dtype)]]\\n    return list(map(lambda col: [col, str(df[col].dtype)], df.columns))\\n\\n\\ndef dtypes_str(frame):\\n    return str(eval(frame).dtypes)\\n\\ndef dataframe_hash(var):\\n    # Return a hash including the column names and number of rows\\n    df = eval(var)\\n    if isinstance(df, __pandas.core.series.Series):\\n        return hashlib.sha256(f\"{var}-{df.name},{len(df)}\".encode(\\'utf-8\\')).hexdigest()\\n    return hashlib.sha256(f\"{var}-{\\',\\'.join(df.columns)},{len(df)}\".encode(\\'utf-8\\')).hexdigest()\\n\\ndef get_dataframes():\\n    if __pandas is None:\\n        return []\\n    user = getpass.getuser()\\n    values = get_ipython().run_line_magic(\\'who_ls\\', \\'\\')\\n    dataframes = [\\n        {\\n            \"name\": var,\\n            \"type\": type(eval(var)).__name__,\\n            \"hash\": dataframe_hash(var),\\n            \"cols\": dataframe_columns(var),\\n            \"dtypesStr\": dtypes_str(var),\\n        }\\n        for var in values if is_data_frame(var)\\n    ]\\n    result = {\"dataframes\": dataframes, \"user\": user}\\n    return json.dumps(result, ensure_ascii=False)\\n\\n\\nget_dataframes()', 's1={10,15,\"python\"}\\nit=iter(s1)\\nprint(next(it))\\nprint(next(it))\\nprint(next(it))', 'import json\\nimport getpass\\nimport hashlib\\n\\ndef import_pandas_safely():\\n    try:\\n        return __import__(\\'pandas\\')\\n    except ImportError:\\n        return False\\n\\n\\n__pandas = import_pandas_safely()\\n\\n\\ndef is_data_frame(v: str):\\n    obj = eval(v)\\n    if  isinstance(obj, __pandas.core.frame.DataFrame) or isinstance(obj, __pandas.core.series.Series):\\n        return True\\n\\n\\ndef dataframe_columns(var):\\n    df = eval(var)\\n    if isinstance(df, __pandas.core.series.Series):\\n        return [[df.name, str(df.dtype)]]\\n    return list(map(lambda col: [col, str(df[col].dtype)], df.columns))\\n\\n\\ndef dtypes_str(frame):\\n    return str(eval(frame).dtypes)\\n\\ndef dataframe_hash(var):\\n    # Return a hash including the column names and number of rows\\n    df = eval(var)\\n    if isinstance(df, __pandas.core.series.Series):\\n        return hashlib.sha256(f\"{var}-{df.name},{len(df)}\".encode(\\'utf-8\\')).hexdigest()\\n    return hashlib.sha256(f\"{var}-{\\',\\'.join(df.columns)},{len(df)}\".encode(\\'utf-8\\')).hexdigest()\\n\\ndef get_dataframes():\\n    if __pandas is None:\\n        return []\\n    user = getpass.getuser()\\n    values = get_ipython().run_line_magic(\\'who_ls\\', \\'\\')\\n    dataframes = [\\n        {\\n            \"name\": var,\\n            \"type\": type(eval(var)).__name__,\\n            \"hash\": dataframe_hash(var),\\n            \"cols\": dataframe_columns(var),\\n            \"dtypesStr\": dtypes_str(var),\\n        }\\n        for var in values if is_data_frame(var)\\n    ]\\n    result = {\"dataframes\": dataframes, \"user\": user}\\n    return json.dumps(result, ensure_ascii=False)\\n\\n\\nget_dataframes()', 'd1={1:\"abc\",2:\"def\",3:\"ghi\"}\\nit=iter(d1)\\nprint(next(it))\\nprint(next(it))', 'import json\\nimport getpass\\nimport hashlib\\n\\ndef import_pandas_safely():\\n    try:\\n        return __import__(\\'pandas\\')\\n    except ImportError:\\n        return False\\n\\n\\n__pandas = import_pandas_safely()\\n\\n\\ndef is_data_frame(v: str):\\n    obj = eval(v)\\n    if  isinstance(obj, __pandas.core.frame.DataFrame) or isinstance(obj, __pandas.core.series.Series):\\n        return True\\n\\n\\ndef dataframe_columns(var):\\n    df = eval(var)\\n    if isinstance(df, __pandas.core.series.Series):\\n        return [[df.name, str(df.dtype)]]\\n    return list(map(lambda col: [col, str(df[col].dtype)], df.columns))\\n\\n\\ndef dtypes_str(frame):\\n    return str(eval(frame).dtypes)\\n\\ndef dataframe_hash(var):\\n    # Return a hash including the column names and number of rows\\n    df = eval(var)\\n    if isinstance(df, __pandas.core.series.Series):\\n        return hashlib.sha256(f\"{var}-{df.name},{len(df)}\".encode(\\'utf-8\\')).hexdigest()\\n    return hashlib.sha256(f\"{var}-{\\',\\'.join(df.columns)},{len(df)}\".encode(\\'utf-8\\')).hexdigest()\\n\\ndef get_dataframes():\\n    if __pandas is None:\\n        return []\\n    user = getpass.getuser()\\n    values = get_ipython().run_line_magic(\\'who_ls\\', \\'\\')\\n    dataframes = [\\n        {\\n            \"name\": var,\\n            \"type\": type(eval(var)).__name__,\\n            \"hash\": dataframe_hash(var),\\n            \"cols\": dataframe_columns(var),\\n            \"dtypesStr\": dtypes_str(var),\\n        }\\n        for var in values if is_data_frame(var)\\n    ]\\n    result = {\"dataframes\": dataframes, \"user\": user}\\n    return json.dumps(result, ensure_ascii=False)\\n\\n\\nget_dataframes()', 'import json\\nimport getpass\\nimport hashlib\\n\\ndef import_pandas_safely():\\n    try:\\n        return __import__(\\'pandas\\')\\n    except ImportError:\\n        return False\\n\\n\\n__pandas = import_pandas_safely()\\n\\n\\ndef is_data_frame(v: str):\\n    obj = eval(v)\\n    if  isinstance(obj, __pandas.core.frame.DataFrame) or isinstance(obj, __pandas.core.series.Series):\\n        return True\\n\\n\\ndef dataframe_columns(var):\\n    df = eval(var)\\n    if isinstance(df, __pandas.core.series.Series):\\n        return [[df.name, str(df.dtype)]]\\n    return list(map(lambda col: [col, str(df[col].dtype)], df.columns))\\n\\n\\ndef dtypes_str(frame):\\n    return str(eval(frame).dtypes)\\n\\ndef dataframe_hash(var):\\n    # Return a hash including the column names and number of rows\\n    df = eval(var)\\n    if isinstance(df, __pandas.core.series.Series):\\n        return hashlib.sha256(f\"{var}-{df.name},{len(df)}\".encode(\\'utf-8\\')).hexdigest()\\n    return hashlib.sha256(f\"{var}-{\\',\\'.join(df.columns)},{len(df)}\".encode(\\'utf-8\\')).hexdigest()\\n\\ndef get_dataframes():\\n    if __pandas is None:\\n        return []\\n    user = getpass.getuser()\\n    values = get_ipython().run_line_magic(\\'who_ls\\', \\'\\')\\n    dataframes = [\\n        {\\n            \"name\": var,\\n            \"type\": type(eval(var)).__name__,\\n            \"hash\": dataframe_hash(var),\\n            \"cols\": dataframe_columns(var),\\n            \"dtypesStr\": dtypes_str(var),\\n        }\\n        for var in values if is_data_frame(var)\\n    ]\\n    result = {\"dataframes\": dataframes, \"user\": user}\\n    return json.dumps(result, ensure_ascii=False)\\n\\n\\nget_dataframes()', 'import json\\nimport getpass\\nimport hashlib\\n\\ndef import_pandas_safely():\\n    try:\\n        return __import__(\\'pandas\\')\\n    except ImportError:\\n        return False\\n\\n\\n__pandas = import_pandas_safely()\\n\\n\\ndef is_data_frame(v: str):\\n    obj = eval(v)\\n    if  isinstance(obj, __pandas.core.frame.DataFrame) or isinstance(obj, __pandas.core.series.Series):\\n        return True\\n\\n\\ndef dataframe_columns(var):\\n    df = eval(var)\\n    if isinstance(df, __pandas.core.series.Series):\\n        return [[df.name, str(df.dtype)]]\\n    return list(map(lambda col: [col, str(df[col].dtype)], df.columns))\\n\\n\\ndef dtypes_str(frame):\\n    return str(eval(frame).dtypes)\\n\\ndef dataframe_hash(var):\\n    # Return a hash including the column names and number of rows\\n    df = eval(var)\\n    if isinstance(df, __pandas.core.series.Series):\\n        return hashlib.sha256(f\"{var}-{df.name},{len(df)}\".encode(\\'utf-8\\')).hexdigest()\\n    return hashlib.sha256(f\"{var}-{\\',\\'.join(df.columns)},{len(df)}\".encode(\\'utf-8\\')).hexdigest()\\n\\ndef get_dataframes():\\n    if __pandas is None:\\n        return []\\n    user = getpass.getuser()\\n    values = get_ipython().run_line_magic(\\'who_ls\\', \\'\\')\\n    dataframes = [\\n        {\\n            \"name\": var,\\n            \"type\": type(eval(var)).__name__,\\n            \"hash\": dataframe_hash(var),\\n            \"cols\": dataframe_columns(var),\\n            \"dtypesStr\": dtypes_str(var),\\n        }\\n        for var in values if is_data_frame(var)\\n    ]\\n    result = {\"dataframes\": dataframes, \"user\": user}\\n    return json.dumps(result, ensure_ascii=False)\\n\\n\\nget_dataframes()', 'r=range(5) #Generator Function\\nprint(r)', 'import json\\nimport getpass\\nimport hashlib\\n\\ndef import_pandas_safely():\\n    try:\\n        return __import__(\\'pandas\\')\\n    except ImportError:\\n        return False\\n\\n\\n__pandas = import_pandas_safely()\\n\\n\\ndef is_data_frame(v: str):\\n    obj = eval(v)\\n    if  isinstance(obj, __pandas.core.frame.DataFrame) or isinstance(obj, __pandas.core.series.Series):\\n        return True\\n\\n\\ndef dataframe_columns(var):\\n    df = eval(var)\\n    if isinstance(df, __pandas.core.series.Series):\\n        return [[df.name, str(df.dtype)]]\\n    return list(map(lambda col: [col, str(df[col].dtype)], df.columns))\\n\\n\\ndef dtypes_str(frame):\\n    return str(eval(frame).dtypes)\\n\\ndef dataframe_hash(var):\\n    # Return a hash including the column names and number of rows\\n    df = eval(var)\\n    if isinstance(df, __pandas.core.series.Series):\\n        return hashlib.sha256(f\"{var}-{df.name},{len(df)}\".encode(\\'utf-8\\')).hexdigest()\\n    return hashlib.sha256(f\"{var}-{\\',\\'.join(df.columns)},{len(df)}\".encode(\\'utf-8\\')).hexdigest()\\n\\ndef get_dataframes():\\n    if __pandas is None:\\n        return []\\n    user = getpass.getuser()\\n    values = get_ipython().run_line_magic(\\'who_ls\\', \\'\\')\\n    dataframes = [\\n        {\\n            \"name\": var,\\n            \"type\": type(eval(var)).__name__,\\n            \"hash\": dataframe_hash(var),\\n            \"cols\": dataframe_columns(var),\\n            \"dtypesStr\": dtypes_str(var),\\n        }\\n        for var in values if is_data_frame(var)\\n    ]\\n    result = {\"dataframes\": dataframes, \"user\": user}\\n    return json.dumps(result, ensure_ascii=False)\\n\\n\\nget_dataframes()', 'r=range(5) #Generator Function\\nprint(r)\\nit=iter(r)\\nprint(next(it))\\nprint(next(it))', 'import json\\nimport getpass\\nimport hashlib\\n\\ndef import_pandas_safely():\\n    try:\\n        return __import__(\\'pandas\\')\\n    except ImportError:\\n        return False\\n\\n\\n__pandas = import_pandas_safely()\\n\\n\\ndef is_data_frame(v: str):\\n    obj = eval(v)\\n    if  isinstance(obj, __pandas.core.frame.DataFrame) or isinstance(obj, __pandas.core.series.Series):\\n        return True\\n\\n\\ndef dataframe_columns(var):\\n    df = eval(var)\\n    if isinstance(df, __pandas.core.series.Series):\\n        return [[df.name, str(df.dtype)]]\\n    return list(map(lambda col: [col, str(df[col].dtype)], df.columns))\\n\\n\\ndef dtypes_str(frame):\\n    return str(eval(frame).dtypes)\\n\\ndef dataframe_hash(var):\\n    # Return a hash including the column names and number of rows\\n    df = eval(var)\\n    if isinstance(df, __pandas.core.series.Series):\\n        return hashlib.sha256(f\"{var}-{df.name},{len(df)}\".encode(\\'utf-8\\')).hexdigest()\\n    return hashlib.sha256(f\"{var}-{\\',\\'.join(df.columns)},{len(df)}\".encode(\\'utf-8\\')).hexdigest()\\n\\ndef get_dataframes():\\n    if __pandas is None:\\n        return []\\n    user = getpass.getuser()\\n    values = get_ipython().run_line_magic(\\'who_ls\\', \\'\\')\\n    dataframes = [\\n        {\\n            \"name\": var,\\n            \"type\": type(eval(var)).__name__,\\n            \"hash\": dataframe_hash(var),\\n            \"cols\": dataframe_columns(var),\\n            \"dtypesStr\": dtypes_str(var),\\n        }\\n        for var in values if is_data_frame(var)\\n    ]\\n    result = {\"dataframes\": dataframes, \"user\": user}\\n    return json.dumps(result, ensure_ascii=False)\\n\\n\\nget_dataframes()', '#Writing own Generator Function\\ndef myrange(n):\\n    i=0\\n    while(i<n):\\n        yield i\\n        i+=1\\n\\nm=myrange(5)\\nprint(next(m))\\nprint(next(m))\\nprint(next(m))', 'import json\\nimport getpass\\nimport hashlib\\n\\ndef import_pandas_safely():\\n    try:\\n        return __import__(\\'pandas\\')\\n    except ImportError:\\n        return False\\n\\n\\n__pandas = import_pandas_safely()\\n\\n\\ndef is_data_frame(v: str):\\n    obj = eval(v)\\n    if  isinstance(obj, __pandas.core.frame.DataFrame) or isinstance(obj, __pandas.core.series.Series):\\n        return True\\n\\n\\ndef dataframe_columns(var):\\n    df = eval(var)\\n    if isinstance(df, __pandas.core.series.Series):\\n        return [[df.name, str(df.dtype)]]\\n    return list(map(lambda col: [col, str(df[col].dtype)], df.columns))\\n\\n\\ndef dtypes_str(frame):\\n    return str(eval(frame).dtypes)\\n\\ndef dataframe_hash(var):\\n    # Return a hash including the column names and number of rows\\n    df = eval(var)\\n    if isinstance(df, __pandas.core.series.Series):\\n        return hashlib.sha256(f\"{var}-{df.name},{len(df)}\".encode(\\'utf-8\\')).hexdigest()\\n    return hashlib.sha256(f\"{var}-{\\',\\'.join(df.columns)},{len(df)}\".encode(\\'utf-8\\')).hexdigest()\\n\\ndef get_dataframes():\\n    if __pandas is None:\\n        return []\\n    user = getpass.getuser()\\n    values = get_ipython().run_line_magic(\\'who_ls\\', \\'\\')\\n    dataframes = [\\n        {\\n            \"name\": var,\\n            \"type\": type(eval(var)).__name__,\\n            \"hash\": dataframe_hash(var),\\n            \"cols\": dataframe_columns(var),\\n            \"dtypesStr\": dtypes_str(var),\\n        }\\n        for var in values if is_data_frame(var)\\n    ]\\n    result = {\"dataframes\": dataframes, \"user\": user}\\n    return json.dumps(result, ensure_ascii=False)\\n\\n\\nget_dataframes()', '#Writing own Generator Function\\ndef myrange(n):\\n    i=0\\n    while(i<n):\\n        yield i\\n        i+=1\\n\\nm=myrange(5)\\nprint(next(m))\\nprint(next(m))\\nprint(next(m))\\nprint(next(m))', 'import json\\nimport getpass\\nimport hashlib\\n\\ndef import_pandas_safely():\\n    try:\\n        return __import__(\\'pandas\\')\\n    except ImportError:\\n        return False\\n\\n\\n__pandas = import_pandas_safely()\\n\\n\\ndef is_data_frame(v: str):\\n    obj = eval(v)\\n    if  isinstance(obj, __pandas.core.frame.DataFrame) or isinstance(obj, __pandas.core.series.Series):\\n        return True\\n\\n\\ndef dataframe_columns(var):\\n    df = eval(var)\\n    if isinstance(df, __pandas.core.series.Series):\\n        return [[df.name, str(df.dtype)]]\\n    return list(map(lambda col: [col, str(df[col].dtype)], df.columns))\\n\\n\\ndef dtypes_str(frame):\\n    return str(eval(frame).dtypes)\\n\\ndef dataframe_hash(var):\\n    # Return a hash including the column names and number of rows\\n    df = eval(var)\\n    if isinstance(df, __pandas.core.series.Series):\\n        return hashlib.sha256(f\"{var}-{df.name},{len(df)}\".encode(\\'utf-8\\')).hexdigest()\\n    return hashlib.sha256(f\"{var}-{\\',\\'.join(df.columns)},{len(df)}\".encode(\\'utf-8\\')).hexdigest()\\n\\ndef get_dataframes():\\n    if __pandas is None:\\n        return []\\n    user = getpass.getuser()\\n    values = get_ipython().run_line_magic(\\'who_ls\\', \\'\\')\\n    dataframes = [\\n        {\\n            \"name\": var,\\n            \"type\": type(eval(var)).__name__,\\n            \"hash\": dataframe_hash(var),\\n            \"cols\": dataframe_columns(var),\\n            \"dtypesStr\": dtypes_str(var),\\n        }\\n        for var in values if is_data_frame(var)\\n    ]\\n    result = {\"dataframes\": dataframes, \"user\": user}\\n    return json.dumps(result, ensure_ascii=False)\\n\\n\\nget_dataframes()', '#Writing own Generator Function\\ndef myrange(n):\\n    i=0\\n    while(i<n):\\n        yield i #important usage\\n        i+=1\\n\\nm=myrange(5)\\nprint(next(m))\\nprint(next(m))\\nprint(next(m))\\nprint(next(m))', 'import json\\nimport getpass\\nimport hashlib\\n\\ndef import_pandas_safely():\\n    try:\\n        return __import__(\\'pandas\\')\\n    except ImportError:\\n        return False\\n\\n\\n__pandas = import_pandas_safely()\\n\\n\\ndef is_data_frame(v: str):\\n    obj = eval(v)\\n    if  isinstance(obj, __pandas.core.frame.DataFrame) or isinstance(obj, __pandas.core.series.Series):\\n        return True\\n\\n\\ndef dataframe_columns(var):\\n    df = eval(var)\\n    if isinstance(df, __pandas.core.series.Series):\\n        return [[df.name, str(df.dtype)]]\\n    return list(map(lambda col: [col, str(df[col].dtype)], df.columns))\\n\\n\\ndef dtypes_str(frame):\\n    return str(eval(frame).dtypes)\\n\\ndef dataframe_hash(var):\\n    # Return a hash including the column names and number of rows\\n    df = eval(var)\\n    if isinstance(df, __pandas.core.series.Series):\\n        return hashlib.sha256(f\"{var}-{df.name},{len(df)}\".encode(\\'utf-8\\')).hexdigest()\\n    return hashlib.sha256(f\"{var}-{\\',\\'.join(df.columns)},{len(df)}\".encode(\\'utf-8\\')).hexdigest()\\n\\ndef get_dataframes():\\n    if __pandas is None:\\n        return []\\n    user = getpass.getuser()\\n    values = get_ipython().run_line_magic(\\'who_ls\\', \\'\\')\\n    dataframes = [\\n        {\\n            \"name\": var,\\n            \"type\": type(eval(var)).__name__,\\n            \"hash\": dataframe_hash(var),\\n            \"cols\": dataframe_columns(var),\\n            \"dtypesStr\": dtypes_str(var),\\n        }\\n        for var in values if is_data_frame(var)\\n    ]\\n    result = {\"dataframes\": dataframes, \"user\": user}\\n    return json.dumps(result, ensure_ascii=False)\\n\\n\\nget_dataframes()', 'li=[\"sun\",\"mon\",\"tue\",\"wed\",\"thu\",\"fri\",\"sat\"]\\ndef days():\\n    i=0\\n    while(true):\\n        if(i==7):\\n            i=0\\n        yield li[i]\\n        i+=1\\n\\nm=days()\\nprint(next(m))', 'import json\\nimport getpass\\nimport hashlib\\n\\ndef import_pandas_safely():\\n    try:\\n        return __import__(\\'pandas\\')\\n    except ImportError:\\n        return False\\n\\n\\n__pandas = import_pandas_safely()\\n\\n\\ndef is_data_frame(v: str):\\n    obj = eval(v)\\n    if  isinstance(obj, __pandas.core.frame.DataFrame) or isinstance(obj, __pandas.core.series.Series):\\n        return True\\n\\n\\ndef dataframe_columns(var):\\n    df = eval(var)\\n    if isinstance(df, __pandas.core.series.Series):\\n        return [[df.name, str(df.dtype)]]\\n    return list(map(lambda col: [col, str(df[col].dtype)], df.columns))\\n\\n\\ndef dtypes_str(frame):\\n    return str(eval(frame).dtypes)\\n\\ndef dataframe_hash(var):\\n    # Return a hash including the column names and number of rows\\n    df = eval(var)\\n    if isinstance(df, __pandas.core.series.Series):\\n        return hashlib.sha256(f\"{var}-{df.name},{len(df)}\".encode(\\'utf-8\\')).hexdigest()\\n    return hashlib.sha256(f\"{var}-{\\',\\'.join(df.columns)},{len(df)}\".encode(\\'utf-8\\')).hexdigest()\\n\\ndef get_dataframes():\\n    if __pandas is None:\\n        return []\\n    user = getpass.getuser()\\n    values = get_ipython().run_line_magic(\\'who_ls\\', \\'\\')\\n    dataframes = [\\n        {\\n            \"name\": var,\\n            \"type\": type(eval(var)).__name__,\\n            \"hash\": dataframe_hash(var),\\n            \"cols\": dataframe_columns(var),\\n            \"dtypesStr\": dtypes_str(var),\\n        }\\n        for var in values if is_data_frame(var)\\n    ]\\n    result = {\"dataframes\": dataframes, \"user\": user}\\n    return json.dumps(result, ensure_ascii=False)\\n\\n\\nget_dataframes()', 'li=[\"sun\",\"mon\",\"tue\",\"wed\",\"thu\",\"fri\",\"sat\"]\\ndef days():\\n    i=0\\n    while(True):\\n        if(i==7):\\n            i=0\\n        yield li[i]\\n        i+=1\\n\\nm=days()\\nprint(next(m))', 'import json\\nimport getpass\\nimport hashlib\\n\\ndef import_pandas_safely():\\n    try:\\n        return __import__(\\'pandas\\')\\n    except ImportError:\\n        return False\\n\\n\\n__pandas = import_pandas_safely()\\n\\n\\ndef is_data_frame(v: str):\\n    obj = eval(v)\\n    if  isinstance(obj, __pandas.core.frame.DataFrame) or isinstance(obj, __pandas.core.series.Series):\\n        return True\\n\\n\\ndef dataframe_columns(var):\\n    df = eval(var)\\n    if isinstance(df, __pandas.core.series.Series):\\n        return [[df.name, str(df.dtype)]]\\n    return list(map(lambda col: [col, str(df[col].dtype)], df.columns))\\n\\n\\ndef dtypes_str(frame):\\n    return str(eval(frame).dtypes)\\n\\ndef dataframe_hash(var):\\n    # Return a hash including the column names and number of rows\\n    df = eval(var)\\n    if isinstance(df, __pandas.core.series.Series):\\n        return hashlib.sha256(f\"{var}-{df.name},{len(df)}\".encode(\\'utf-8\\')).hexdigest()\\n    return hashlib.sha256(f\"{var}-{\\',\\'.join(df.columns)},{len(df)}\".encode(\\'utf-8\\')).hexdigest()\\n\\ndef get_dataframes():\\n    if __pandas is None:\\n        return []\\n    user = getpass.getuser()\\n    values = get_ipython().run_line_magic(\\'who_ls\\', \\'\\')\\n    dataframes = [\\n        {\\n            \"name\": var,\\n            \"type\": type(eval(var)).__name__,\\n            \"hash\": dataframe_hash(var),\\n            \"cols\": dataframe_columns(var),\\n            \"dtypesStr\": dtypes_str(var),\\n        }\\n        for var in values if is_data_frame(var)\\n    ]\\n    result = {\"dataframes\": dataframes, \"user\": user}\\n    return json.dumps(result, ensure_ascii=False)\\n\\n\\nget_dataframes()', 'li=[\"sun\",\"mon\",\"tue\",\"wed\",\"thu\",\"fri\",\"sat\"]\\ndef days():\\n    i=0\\n    while(True):\\n        if(i==7):\\n            i=0\\n        yield li[i]\\n        i+=1\\n\\nm=days()\\nprint(next(m))\\nprint(next(m))\\nprint(next(m))\\nprint(next(m))\\nprint(next(m))\\nprint(next(m))\\nprint(next(m))\\nprint(next(m))\\nprint(next(m))\\nprint(next(m))', 'import json\\nimport getpass\\nimport hashlib\\n\\ndef import_pandas_safely():\\n    try:\\n        return __import__(\\'pandas\\')\\n    except ImportError:\\n        return False\\n\\n\\n__pandas = import_pandas_safely()\\n\\n\\ndef is_data_frame(v: str):\\n    obj = eval(v)\\n    if  isinstance(obj, __pandas.core.frame.DataFrame) or isinstance(obj, __pandas.core.series.Series):\\n        return True\\n\\n\\ndef dataframe_columns(var):\\n    df = eval(var)\\n    if isinstance(df, __pandas.core.series.Series):\\n        return [[df.name, str(df.dtype)]]\\n    return list(map(lambda col: [col, str(df[col].dtype)], df.columns))\\n\\n\\ndef dtypes_str(frame):\\n    return str(eval(frame).dtypes)\\n\\ndef dataframe_hash(var):\\n    # Return a hash including the column names and number of rows\\n    df = eval(var)\\n    if isinstance(df, __pandas.core.series.Series):\\n        return hashlib.sha256(f\"{var}-{df.name},{len(df)}\".encode(\\'utf-8\\')).hexdigest()\\n    return hashlib.sha256(f\"{var}-{\\',\\'.join(df.columns)},{len(df)}\".encode(\\'utf-8\\')).hexdigest()\\n\\ndef get_dataframes():\\n    if __pandas is None:\\n        return []\\n    user = getpass.getuser()\\n    values = get_ipython().run_line_magic(\\'who_ls\\', \\'\\')\\n    dataframes = [\\n        {\\n            \"name\": var,\\n            \"type\": type(eval(var)).__name__,\\n            \"hash\": dataframe_hash(var),\\n            \"cols\": dataframe_columns(var),\\n            \"dtypesStr\": dtypes_str(var),\\n        }\\n        for var in values if is_data_frame(var)\\n    ]\\n    result = {\"dataframes\": dataframes, \"user\": user}\\n    return json.dumps(result, ensure_ascii=False)\\n\\n\\nget_dataframes()', 'import json\\nimport getpass\\nimport hashlib\\n\\ndef import_pandas_safely():\\n    try:\\n        return __import__(\\'pandas\\')\\n    except ImportError:\\n        return False\\n\\n\\n__pandas = import_pandas_safely()\\n\\n\\ndef is_data_frame(v: str):\\n    obj = eval(v)\\n    if  isinstance(obj, __pandas.core.frame.DataFrame) or isinstance(obj, __pandas.core.series.Series):\\n        return True\\n\\n\\ndef dataframe_columns(var):\\n    df = eval(var)\\n    if isinstance(df, __pandas.core.series.Series):\\n        return [[df.name, str(df.dtype)]]\\n    return list(map(lambda col: [col, str(df[col].dtype)], df.columns))\\n\\n\\ndef dtypes_str(frame):\\n    return str(eval(frame).dtypes)\\n\\ndef dataframe_hash(var):\\n    # Return a hash including the column names and number of rows\\n    df = eval(var)\\n    if isinstance(df, __pandas.core.series.Series):\\n        return hashlib.sha256(f\"{var}-{df.name},{len(df)}\".encode(\\'utf-8\\')).hexdigest()\\n    return hashlib.sha256(f\"{var}-{\\',\\'.join(df.columns)},{len(df)}\".encode(\\'utf-8\\')).hexdigest()\\n\\ndef get_dataframes():\\n    if __pandas is None:\\n        return []\\n    user = getpass.getuser()\\n    values = get_ipython().run_line_magic(\\'who_ls\\', \\'\\')\\n    dataframes = [\\n        {\\n            \"name\": var,\\n            \"type\": type(eval(var)).__name__,\\n            \"hash\": dataframe_hash(var),\\n            \"cols\": dataframe_columns(var),\\n            \"dtypesStr\": dtypes_str(var),\\n        }\\n        for var in values if is_data_frame(var)\\n    ]\\n    result = {\"dataframes\": dataframes, \"user\": user}\\n    return json.dumps(result, ensure_ascii=False)\\n\\n\\nget_dataframes()', 'g=5.25\\nprint(\"Outside-1:\",g)\\n\\ndef fun():\\n    a=10 #local variable\\n    print(\"Local:\",a)\\n    print(\"Global:\",g)\\n\\nfun()\\nprint(\"Outside-2:\",g)', 'import json\\nimport getpass\\nimport hashlib\\n\\ndef import_pandas_safely():\\n    try:\\n        return __import__(\\'pandas\\')\\n    except ImportError:\\n        return False\\n\\n\\n__pandas = import_pandas_safely()\\n\\n\\ndef is_data_frame(v: str):\\n    obj = eval(v)\\n    if  isinstance(obj, __pandas.core.frame.DataFrame) or isinstance(obj, __pandas.core.series.Series):\\n        return True\\n\\n\\ndef dataframe_columns(var):\\n    df = eval(var)\\n    if isinstance(df, __pandas.core.series.Series):\\n        return [[df.name, str(df.dtype)]]\\n    return list(map(lambda col: [col, str(df[col].dtype)], df.columns))\\n\\n\\ndef dtypes_str(frame):\\n    return str(eval(frame).dtypes)\\n\\ndef dataframe_hash(var):\\n    # Return a hash including the column names and number of rows\\n    df = eval(var)\\n    if isinstance(df, __pandas.core.series.Series):\\n        return hashlib.sha256(f\"{var}-{df.name},{len(df)}\".encode(\\'utf-8\\')).hexdigest()\\n    return hashlib.sha256(f\"{var}-{\\',\\'.join(df.columns)},{len(df)}\".encode(\\'utf-8\\')).hexdigest()\\n\\ndef get_dataframes():\\n    if __pandas is None:\\n        return []\\n    user = getpass.getuser()\\n    values = get_ipython().run_line_magic(\\'who_ls\\', \\'\\')\\n    dataframes = [\\n        {\\n            \"name\": var,\\n            \"type\": type(eval(var)).__name__,\\n            \"hash\": dataframe_hash(var),\\n            \"cols\": dataframe_columns(var),\\n            \"dtypesStr\": dtypes_str(var),\\n        }\\n        for var in values if is_data_frame(var)\\n    ]\\n    result = {\"dataframes\": dataframes, \"user\": user}\\n    return json.dumps(result, ensure_ascii=False)\\n\\n\\nget_dataframes()', 'g=5.25\\nprint(\"Outside-1:\",g)\\n\\ndef fun():\\n    a=10 #local variable\\n    print(\"Local:\",a)\\n    print(\"Global:\",g)\\n\\nfun()\\nprint(\"Outside-2:\",g)', 'import json\\nimport getpass\\nimport hashlib\\n\\ndef import_pandas_safely():\\n    try:\\n        return __import__(\\'pandas\\')\\n    except ImportError:\\n        return False\\n\\n\\n__pandas = import_pandas_safely()\\n\\n\\ndef is_data_frame(v: str):\\n    obj = eval(v)\\n    if  isinstance(obj, __pandas.core.frame.DataFrame) or isinstance(obj, __pandas.core.series.Series):\\n        return True\\n\\n\\ndef dataframe_columns(var):\\n    df = eval(var)\\n    if isinstance(df, __pandas.core.series.Series):\\n        return [[df.name, str(df.dtype)]]\\n    return list(map(lambda col: [col, str(df[col].dtype)], df.columns))\\n\\n\\ndef dtypes_str(frame):\\n    return str(eval(frame).dtypes)\\n\\ndef dataframe_hash(var):\\n    # Return a hash including the column names and number of rows\\n    df = eval(var)\\n    if isinstance(df, __pandas.core.series.Series):\\n        return hashlib.sha256(f\"{var}-{df.name},{len(df)}\".encode(\\'utf-8\\')).hexdigest()\\n    return hashlib.sha256(f\"{var}-{\\',\\'.join(df.columns)},{len(df)}\".encode(\\'utf-8\\')).hexdigest()\\n\\ndef get_dataframes():\\n    if __pandas is None:\\n        return []\\n    user = getpass.getuser()\\n    values = get_ipython().run_line_magic(\\'who_ls\\', \\'\\')\\n    dataframes = [\\n        {\\n            \"name\": var,\\n            \"type\": type(eval(var)).__name__,\\n            \"hash\": dataframe_hash(var),\\n            \"cols\": dataframe_columns(var),\\n            \"dtypesStr\": dtypes_str(var),\\n        }\\n        for var in values if is_data_frame(var)\\n    ]\\n    result = {\"dataframes\": dataframes, \"user\": user}\\n    return json.dumps(result, ensure_ascii=False)\\n\\n\\nget_dataframes()', 'g=5.25\\nprint(\"Outside-1:\",g)\\n\\ndef fun():\\n    a=10 #local variable\\n    g=99\\n    print(\"Local:\",a)\\n    print(\"Global:\",g)\\n\\nfun()\\nprint(\"Outside-2:\",g)', 'import json\\nimport getpass\\nimport hashlib\\n\\ndef import_pandas_safely():\\n    try:\\n        return __import__(\\'pandas\\')\\n    except ImportError:\\n        return False\\n\\n\\n__pandas = import_pandas_safely()\\n\\n\\ndef is_data_frame(v: str):\\n    obj = eval(v)\\n    if  isinstance(obj, __pandas.core.frame.DataFrame) or isinstance(obj, __pandas.core.series.Series):\\n        return True\\n\\n\\ndef dataframe_columns(var):\\n    df = eval(var)\\n    if isinstance(df, __pandas.core.series.Series):\\n        return [[df.name, str(df.dtype)]]\\n    return list(map(lambda col: [col, str(df[col].dtype)], df.columns))\\n\\n\\ndef dtypes_str(frame):\\n    return str(eval(frame).dtypes)\\n\\ndef dataframe_hash(var):\\n    # Return a hash including the column names and number of rows\\n    df = eval(var)\\n    if isinstance(df, __pandas.core.series.Series):\\n        return hashlib.sha256(f\"{var}-{df.name},{len(df)}\".encode(\\'utf-8\\')).hexdigest()\\n    return hashlib.sha256(f\"{var}-{\\',\\'.join(df.columns)},{len(df)}\".encode(\\'utf-8\\')).hexdigest()\\n\\ndef get_dataframes():\\n    if __pandas is None:\\n        return []\\n    user = getpass.getuser()\\n    values = get_ipython().run_line_magic(\\'who_ls\\', \\'\\')\\n    dataframes = [\\n        {\\n            \"name\": var,\\n            \"type\": type(eval(var)).__name__,\\n            \"hash\": dataframe_hash(var),\\n            \"cols\": dataframe_columns(var),\\n            \"dtypesStr\": dtypes_str(var),\\n        }\\n        for var in values if is_data_frame(var)\\n    ]\\n    result = {\"dataframes\": dataframes, \"user\": user}\\n    return json.dumps(result, ensure_ascii=False)\\n\\n\\nget_dataframes()', 'g=5.25\\nprint(\"Outside-1:\",g)\\n\\ndef fun():\\n    global g\\n    a=10 #local variable\\n    g=99\\n    print(\"Local:\",a)\\n    print(\"Global:\",g)\\n\\nfun()\\nprint(\"Outside-2:\",g)', 'import json\\nimport getpass\\nimport hashlib\\n\\ndef import_pandas_safely():\\n    try:\\n        return __import__(\\'pandas\\')\\n    except ImportError:\\n        return False\\n\\n\\n__pandas = import_pandas_safely()\\n\\n\\ndef is_data_frame(v: str):\\n    obj = eval(v)\\n    if  isinstance(obj, __pandas.core.frame.DataFrame) or isinstance(obj, __pandas.core.series.Series):\\n        return True\\n\\n\\ndef dataframe_columns(var):\\n    df = eval(var)\\n    if isinstance(df, __pandas.core.series.Series):\\n        return [[df.name, str(df.dtype)]]\\n    return list(map(lambda col: [col, str(df[col].dtype)], df.columns))\\n\\n\\ndef dtypes_str(frame):\\n    return str(eval(frame).dtypes)\\n\\ndef dataframe_hash(var):\\n    # Return a hash including the column names and number of rows\\n    df = eval(var)\\n    if isinstance(df, __pandas.core.series.Series):\\n        return hashlib.sha256(f\"{var}-{df.name},{len(df)}\".encode(\\'utf-8\\')).hexdigest()\\n    return hashlib.sha256(f\"{var}-{\\',\\'.join(df.columns)},{len(df)}\".encode(\\'utf-8\\')).hexdigest()\\n\\ndef get_dataframes():\\n    if __pandas is None:\\n        return []\\n    user = getpass.getuser()\\n    values = get_ipython().run_line_magic(\\'who_ls\\', \\'\\')\\n    dataframes = [\\n        {\\n            \"name\": var,\\n            \"type\": type(eval(var)).__name__,\\n            \"hash\": dataframe_hash(var),\\n            \"cols\": dataframe_columns(var),\\n            \"dtypesStr\": dtypes_str(var),\\n        }\\n        for var in values if is_data_frame(var)\\n    ]\\n    result = {\"dataframes\": dataframes, \"user\": user}\\n    return json.dumps(result, ensure_ascii=False)\\n\\n\\nget_dataframes()', 'g=5.25\\nprint(\"Outside-1:\",g)\\n\\ndef fun():\\n    global g #emphasizing usage of Global Variable\\n    a=10 #local variable\\n    g=99\\n    print(\"Local:\",a)\\n    print(\"Global:\",g)\\n\\nfun()\\nprint(\"Outside-2:\",g)', 'import json\\nimport getpass\\nimport hashlib\\n\\ndef import_pandas_safely():\\n    try:\\n        return __import__(\\'pandas\\')\\n    except ImportError:\\n        return False\\n\\n\\n__pandas = import_pandas_safely()\\n\\n\\ndef is_data_frame(v: str):\\n    obj = eval(v)\\n    if  isinstance(obj, __pandas.core.frame.DataFrame) or isinstance(obj, __pandas.core.series.Series):\\n        return True\\n\\n\\ndef dataframe_columns(var):\\n    df = eval(var)\\n    if isinstance(df, __pandas.core.series.Series):\\n        return [[df.name, str(df.dtype)]]\\n    return list(map(lambda col: [col, str(df[col].dtype)], df.columns))\\n\\n\\ndef dtypes_str(frame):\\n    return str(eval(frame).dtypes)\\n\\ndef dataframe_hash(var):\\n    # Return a hash including the column names and number of rows\\n    df = eval(var)\\n    if isinstance(df, __pandas.core.series.Series):\\n        return hashlib.sha256(f\"{var}-{df.name},{len(df)}\".encode(\\'utf-8\\')).hexdigest()\\n    return hashlib.sha256(f\"{var}-{\\',\\'.join(df.columns)},{len(df)}\".encode(\\'utf-8\\')).hexdigest()\\n\\ndef get_dataframes():\\n    if __pandas is None:\\n        return []\\n    user = getpass.getuser()\\n    values = get_ipython().run_line_magic(\\'who_ls\\', \\'\\')\\n    dataframes = [\\n        {\\n            \"name\": var,\\n            \"type\": type(eval(var)).__name__,\\n            \"hash\": dataframe_hash(var),\\n            \"cols\": dataframe_columns(var),\\n            \"dtypesStr\": dtypes_str(var),\\n        }\\n        for var in values if is_data_frame(var)\\n    ]\\n    result = {\"dataframes\": dataframes, \"user\": user}\\n    return json.dumps(result, ensure_ascii=False)\\n\\n\\nget_dataframes()', 'import json\\nimport getpass\\nimport hashlib\\n\\ndef import_pandas_safely():\\n    try:\\n        return __import__(\\'pandas\\')\\n    except ImportError:\\n        return False\\n\\n\\n__pandas = import_pandas_safely()\\n\\n\\ndef is_data_frame(v: str):\\n    obj = eval(v)\\n    if  isinstance(obj, __pandas.core.frame.DataFrame) or isinstance(obj, __pandas.core.series.Series):\\n        return True\\n\\n\\ndef dataframe_columns(var):\\n    df = eval(var)\\n    if isinstance(df, __pandas.core.series.Series):\\n        return [[df.name, str(df.dtype)]]\\n    return list(map(lambda col: [col, str(df[col].dtype)], df.columns))\\n\\n\\ndef dtypes_str(frame):\\n    return str(eval(frame).dtypes)\\n\\ndef dataframe_hash(var):\\n    # Return a hash including the column names and number of rows\\n    df = eval(var)\\n    if isinstance(df, __pandas.core.series.Series):\\n        return hashlib.sha256(f\"{var}-{df.name},{len(df)}\".encode(\\'utf-8\\')).hexdigest()\\n    return hashlib.sha256(f\"{var}-{\\',\\'.join(df.columns)},{len(df)}\".encode(\\'utf-8\\')).hexdigest()\\n\\ndef get_dataframes():\\n    if __pandas is None:\\n        return []\\n    user = getpass.getuser()\\n    values = get_ipython().run_line_magic(\\'who_ls\\', \\'\\')\\n    dataframes = [\\n        {\\n            \"name\": var,\\n            \"type\": type(eval(var)).__name__,\\n            \"hash\": dataframe_hash(var),\\n            \"cols\": dataframe_columns(var),\\n            \"dtypesStr\": dtypes_str(var),\\n        }\\n        for var in values if is_data_frame(var)\\n    ]\\n    result = {\"dataframes\": dataframes, \"user\": user}\\n    return json.dumps(result, ensure_ascii=False)\\n\\n\\nget_dataframes()', 'x=10,y=2.5,z=\"False\"\\n\\ndef fun():\\n    a=10,b=25.36,c=True\\n    print(locals)\\n    print(globals)\\n\\nfun()', 'import json\\nimport getpass\\nimport hashlib\\n\\ndef import_pandas_safely():\\n    try:\\n        return __import__(\\'pandas\\')\\n    except ImportError:\\n        return False\\n\\n\\n__pandas = import_pandas_safely()\\n\\n\\ndef is_data_frame(v: str):\\n    obj = eval(v)\\n    if  isinstance(obj, __pandas.core.frame.DataFrame) or isinstance(obj, __pandas.core.series.Series):\\n        return True\\n\\n\\ndef dataframe_columns(var):\\n    df = eval(var)\\n    if isinstance(df, __pandas.core.series.Series):\\n        return [[df.name, str(df.dtype)]]\\n    return list(map(lambda col: [col, str(df[col].dtype)], df.columns))\\n\\n\\ndef dtypes_str(frame):\\n    return str(eval(frame).dtypes)\\n\\ndef dataframe_hash(var):\\n    # Return a hash including the column names and number of rows\\n    df = eval(var)\\n    if isinstance(df, __pandas.core.series.Series):\\n        return hashlib.sha256(f\"{var}-{df.name},{len(df)}\".encode(\\'utf-8\\')).hexdigest()\\n    return hashlib.sha256(f\"{var}-{\\',\\'.join(df.columns)},{len(df)}\".encode(\\'utf-8\\')).hexdigest()\\n\\ndef get_dataframes():\\n    if __pandas is None:\\n        return []\\n    user = getpass.getuser()\\n    values = get_ipython().run_line_magic(\\'who_ls\\', \\'\\')\\n    dataframes = [\\n        {\\n            \"name\": var,\\n            \"type\": type(eval(var)).__name__,\\n            \"hash\": dataframe_hash(var),\\n            \"cols\": dataframe_columns(var),\\n            \"dtypesStr\": dtypes_str(var),\\n        }\\n        for var in values if is_data_frame(var)\\n    ]\\n    result = {\"dataframes\": dataframes, \"user\": user}\\n    return json.dumps(result, ensure_ascii=False)\\n\\n\\nget_dataframes()', 'x=10\\ny=2.5\\nz=\"False\"\\n\\ndef fun():\\n    a=10,b=25.36,c=True\\n    print(locals)\\n    print(globals)\\n\\nfun()', 'import json\\nimport getpass\\nimport hashlib\\n\\ndef import_pandas_safely():\\n    try:\\n        return __import__(\\'pandas\\')\\n    except ImportError:\\n        return False\\n\\n\\n__pandas = import_pandas_safely()\\n\\n\\ndef is_data_frame(v: str):\\n    obj = eval(v)\\n    if  isinstance(obj, __pandas.core.frame.DataFrame) or isinstance(obj, __pandas.core.series.Series):\\n        return True\\n\\n\\ndef dataframe_columns(var):\\n    df = eval(var)\\n    if isinstance(df, __pandas.core.series.Series):\\n        return [[df.name, str(df.dtype)]]\\n    return list(map(lambda col: [col, str(df[col].dtype)], df.columns))\\n\\n\\ndef dtypes_str(frame):\\n    return str(eval(frame).dtypes)\\n\\ndef dataframe_hash(var):\\n    # Return a hash including the column names and number of rows\\n    df = eval(var)\\n    if isinstance(df, __pandas.core.series.Series):\\n        return hashlib.sha256(f\"{var}-{df.name},{len(df)}\".encode(\\'utf-8\\')).hexdigest()\\n    return hashlib.sha256(f\"{var}-{\\',\\'.join(df.columns)},{len(df)}\".encode(\\'utf-8\\')).hexdigest()\\n\\ndef get_dataframes():\\n    if __pandas is None:\\n        return []\\n    user = getpass.getuser()\\n    values = get_ipython().run_line_magic(\\'who_ls\\', \\'\\')\\n    dataframes = [\\n        {\\n            \"name\": var,\\n            \"type\": type(eval(var)).__name__,\\n            \"hash\": dataframe_hash(var),\\n            \"cols\": dataframe_columns(var),\\n            \"dtypesStr\": dtypes_str(var),\\n        }\\n        for var in values if is_data_frame(var)\\n    ]\\n    result = {\"dataframes\": dataframes, \"user\": user}\\n    return json.dumps(result, ensure_ascii=False)\\n\\n\\nget_dataframes()', 'x=10\\ny=2.5\\nz=\"False\"\\n\\ndef fun():\\n    a=10\\n    b=25.36\\n    c=True\\n    print(locals)\\n    print(globals)\\n\\nfun()', 'import json\\nimport getpass\\nimport hashlib\\n\\ndef import_pandas_safely():\\n    try:\\n        return __import__(\\'pandas\\')\\n    except ImportError:\\n        return False\\n\\n\\n__pandas = import_pandas_safely()\\n\\n\\ndef is_data_frame(v: str):\\n    obj = eval(v)\\n    if  isinstance(obj, __pandas.core.frame.DataFrame) or isinstance(obj, __pandas.core.series.Series):\\n        return True\\n\\n\\ndef dataframe_columns(var):\\n    df = eval(var)\\n    if isinstance(df, __pandas.core.series.Series):\\n        return [[df.name, str(df.dtype)]]\\n    return list(map(lambda col: [col, str(df[col].dtype)], df.columns))\\n\\n\\ndef dtypes_str(frame):\\n    return str(eval(frame).dtypes)\\n\\ndef dataframe_hash(var):\\n    # Return a hash including the column names and number of rows\\n    df = eval(var)\\n    if isinstance(df, __pandas.core.series.Series):\\n        return hashlib.sha256(f\"{var}-{df.name},{len(df)}\".encode(\\'utf-8\\')).hexdigest()\\n    return hashlib.sha256(f\"{var}-{\\',\\'.join(df.columns)},{len(df)}\".encode(\\'utf-8\\')).hexdigest()\\n\\ndef get_dataframes():\\n    if __pandas is None:\\n        return []\\n    user = getpass.getuser()\\n    values = get_ipython().run_line_magic(\\'who_ls\\', \\'\\')\\n    dataframes = [\\n        {\\n            \"name\": var,\\n            \"type\": type(eval(var)).__name__,\\n            \"hash\": dataframe_hash(var),\\n            \"cols\": dataframe_columns(var),\\n            \"dtypesStr\": dtypes_str(var),\\n        }\\n        for var in values if is_data_frame(var)\\n    ]\\n    result = {\"dataframes\": dataframes, \"user\": user}\\n    return json.dumps(result, ensure_ascii=False)\\n\\n\\nget_dataframes()', 'x=10\\ny=2.5\\nz=\"False\"\\n\\ndef fun():\\n    a=10\\n    b=25.36\\n    c=True\\n    print(locals())\\n    print(globals())\\n\\nfun()'], '_oh': {1: '{\"dataframes\": [], \"user\": \"ANTARIKSHYA\"}', 2: '{\"dataframes\": [], \"user\": \"ANTARIKSHYA\"}', 3: 14, 4: '{\"dataframes\": [], \"user\": \"ANTARIKSHYA\"}', 6: '{\"dataframes\": [], \"user\": \"ANTARIKSHYA\"}', 8: '{\"dataframes\": [], \"user\": \"ANTARIKSHYA\"}', 10: '{\"dataframes\": [], \"user\": \"ANTARIKSHYA\"}', 11: '{\"dataframes\": [], \"user\": \"ANTARIKSHYA\"}', 12: '{\"dataframes\": [], \"user\": \"ANTARIKSHYA\"}', 14: '{\"dataframes\": [], \"user\": \"ANTARIKSHYA\"}', 16: '{\"dataframes\": [], \"user\": \"ANTARIKSHYA\"}', 18: '{\"dataframes\": [], \"user\": \"ANTARIKSHYA\"}', 20: '{\"dataframes\": [], \"user\": \"ANTARIKSHYA\"}', 22: '{\"dataframes\": [], \"user\": \"ANTARIKSHYA\"}', 24: '{\"dataframes\": [], \"user\": \"ANTARIKSHYA\"}', 26: '{\"dataframes\": [], \"user\": \"ANTARIKSHYA\"}', 28: '{\"dataframes\": [], \"user\": \"ANTARIKSHYA\"}', 29: '{\"dataframes\": [], \"user\": \"ANTARIKSHYA\"}', 31: '{\"dataframes\": [], \"user\": \"ANTARIKSHYA\"}', 33: '{\"dataframes\": [], \"user\": \"ANTARIKSHYA\"}', 35: '{\"dataframes\": [], \"user\": \"ANTARIKSHYA\"}', 37: '{\"dataframes\": [], \"user\": \"ANTARIKSHYA\"}', 39: '{\"dataframes\": [], \"user\": \"ANTARIKSHYA\"}', 40: '{\"dataframes\": [], \"user\": \"ANTARIKSHYA\"}', 42: '{\"dataframes\": [], \"user\": \"ANTARIKSHYA\"}', 44: '{\"dataframes\": [], \"user\": \"ANTARIKSHYA\"}', 46: '{\"dataframes\": [], \"user\": \"ANTARIKSHYA\"}'}, '_dh': [WindowsPath('C:/Users/ANTARIKSHYA/OneDrive/Desktop/MYpython & ML')], 'In': ['', 'import json\\nimport getpass\\nimport hashlib\\n\\ndef import_pandas_safely():\\n    try:\\n        return __import__(\\'pandas\\')\\n    except ImportError:\\n        return False\\n\\n\\n__pandas = import_pandas_safely()\\n\\n\\ndef is_data_frame(v: str):\\n    obj = eval(v)\\n    if  isinstance(obj, __pandas.core.frame.DataFrame) or isinstance(obj, __pandas.core.series.Series):\\n        return True\\n\\n\\ndef dataframe_columns(var):\\n    df = eval(var)\\n    if isinstance(df, __pandas.core.series.Series):\\n        return [[df.name, str(df.dtype)]]\\n    return list(map(lambda col: [col, str(df[col].dtype)], df.columns))\\n\\n\\ndef dtypes_str(frame):\\n    return str(eval(frame).dtypes)\\n\\ndef dataframe_hash(var):\\n    # Return a hash including the column names and number of rows\\n    df = eval(var)\\n    if isinstance(df, __pandas.core.series.Series):\\n        return hashlib.sha256(f\"{var}-{df.name},{len(df)}\".encode(\\'utf-8\\')).hexdigest()\\n    return hashlib.sha256(f\"{var}-{\\',\\'.join(df.columns)},{len(df)}\".encode(\\'utf-8\\')).hexdigest()\\n\\ndef get_dataframes():\\n    if __pandas is None:\\n        return []\\n    user = getpass.getuser()\\n    values = get_ipython().run_line_magic(\\'who_ls\\', \\'\\')\\n    dataframes = [\\n        {\\n            \"name\": var,\\n            \"type\": type(eval(var)).__name__,\\n            \"hash\": dataframe_hash(var),\\n            \"cols\": dataframe_columns(var),\\n            \"dtypesStr\": dtypes_str(var),\\n        }\\n        for var in values if is_data_frame(var)\\n    ]\\n    result = {\"dataframes\": dataframes, \"user\": user}\\n    return json.dumps(result, ensure_ascii=False)\\n\\n\\nget_dataframes()', 'import json\\nimport getpass\\nimport hashlib\\n\\ndef import_pandas_safely():\\n    try:\\n        return __import__(\\'pandas\\')\\n    except ImportError:\\n        return False\\n\\n\\n__pandas = import_pandas_safely()\\n\\n\\ndef is_data_frame(v: str):\\n    obj = eval(v)\\n    if  isinstance(obj, __pandas.core.frame.DataFrame) or isinstance(obj, __pandas.core.series.Series):\\n        return True\\n\\n\\ndef dataframe_columns(var):\\n    df = eval(var)\\n    if isinstance(df, __pandas.core.series.Series):\\n        return [[df.name, str(df.dtype)]]\\n    return list(map(lambda col: [col, str(df[col].dtype)], df.columns))\\n\\n\\ndef dtypes_str(frame):\\n    return str(eval(frame).dtypes)\\n\\ndef dataframe_hash(var):\\n    # Return a hash including the column names and number of rows\\n    df = eval(var)\\n    if isinstance(df, __pandas.core.series.Series):\\n        return hashlib.sha256(f\"{var}-{df.name},{len(df)}\".encode(\\'utf-8\\')).hexdigest()\\n    return hashlib.sha256(f\"{var}-{\\',\\'.join(df.columns)},{len(df)}\".encode(\\'utf-8\\')).hexdigest()\\n\\ndef get_dataframes():\\n    if __pandas is None:\\n        return []\\n    user = getpass.getuser()\\n    values = get_ipython().run_line_magic(\\'who_ls\\', \\'\\')\\n    dataframes = [\\n        {\\n            \"name\": var,\\n            \"type\": type(eval(var)).__name__,\\n            \"hash\": dataframe_hash(var),\\n            \"cols\": dataframe_columns(var),\\n            \"dtypesStr\": dtypes_str(var),\\n        }\\n        for var in values if is_data_frame(var)\\n    ]\\n    result = {\"dataframes\": dataframes, \"user\": user}\\n    return json.dumps(result, ensure_ascii=False)\\n\\n\\nget_dataframes()', 'L1=[10,12,14,16]\\nit=iter(L1)\\nnext(it)\\nnext(it)\\nnext(it)', 'import json\\nimport getpass\\nimport hashlib\\n\\ndef import_pandas_safely():\\n    try:\\n        return __import__(\\'pandas\\')\\n    except ImportError:\\n        return False\\n\\n\\n__pandas = import_pandas_safely()\\n\\n\\ndef is_data_frame(v: str):\\n    obj = eval(v)\\n    if  isinstance(obj, __pandas.core.frame.DataFrame) or isinstance(obj, __pandas.core.series.Series):\\n        return True\\n\\n\\ndef dataframe_columns(var):\\n    df = eval(var)\\n    if isinstance(df, __pandas.core.series.Series):\\n        return [[df.name, str(df.dtype)]]\\n    return list(map(lambda col: [col, str(df[col].dtype)], df.columns))\\n\\n\\ndef dtypes_str(frame):\\n    return str(eval(frame).dtypes)\\n\\ndef dataframe_hash(var):\\n    # Return a hash including the column names and number of rows\\n    df = eval(var)\\n    if isinstance(df, __pandas.core.series.Series):\\n        return hashlib.sha256(f\"{var}-{df.name},{len(df)}\".encode(\\'utf-8\\')).hexdigest()\\n    return hashlib.sha256(f\"{var}-{\\',\\'.join(df.columns)},{len(df)}\".encode(\\'utf-8\\')).hexdigest()\\n\\ndef get_dataframes():\\n    if __pandas is None:\\n        return []\\n    user = getpass.getuser()\\n    values = get_ipython().run_line_magic(\\'who_ls\\', \\'\\')\\n    dataframes = [\\n        {\\n            \"name\": var,\\n            \"type\": type(eval(var)).__name__,\\n            \"hash\": dataframe_hash(var),\\n            \"cols\": dataframe_columns(var),\\n            \"dtypesStr\": dtypes_str(var),\\n        }\\n        for var in values if is_data_frame(var)\\n    ]\\n    result = {\"dataframes\": dataframes, \"user\": user}\\n    return json.dumps(result, ensure_ascii=False)\\n\\n\\nget_dataframes()', 'L1=[10,12,14,16]\\nit=iter(L1)\\nprint(next(it))\\nprint(next(it))\\nprint(next(it))', 'import json\\nimport getpass\\nimport hashlib\\n\\ndef import_pandas_safely():\\n    try:\\n        return __import__(\\'pandas\\')\\n    except ImportError:\\n        return False\\n\\n\\n__pandas = import_pandas_safely()\\n\\n\\ndef is_data_frame(v: str):\\n    obj = eval(v)\\n    if  isinstance(obj, __pandas.core.frame.DataFrame) or isinstance(obj, __pandas.core.series.Series):\\n        return True\\n\\n\\ndef dataframe_columns(var):\\n    df = eval(var)\\n    if isinstance(df, __pandas.core.series.Series):\\n        return [[df.name, str(df.dtype)]]\\n    return list(map(lambda col: [col, str(df[col].dtype)], df.columns))\\n\\n\\ndef dtypes_str(frame):\\n    return str(eval(frame).dtypes)\\n\\ndef dataframe_hash(var):\\n    # Return a hash including the column names and number of rows\\n    df = eval(var)\\n    if isinstance(df, __pandas.core.series.Series):\\n        return hashlib.sha256(f\"{var}-{df.name},{len(df)}\".encode(\\'utf-8\\')).hexdigest()\\n    return hashlib.sha256(f\"{var}-{\\',\\'.join(df.columns)},{len(df)}\".encode(\\'utf-8\\')).hexdigest()\\n\\ndef get_dataframes():\\n    if __pandas is None:\\n        return []\\n    user = getpass.getuser()\\n    values = get_ipython().run_line_magic(\\'who_ls\\', \\'\\')\\n    dataframes = [\\n        {\\n            \"name\": var,\\n            \"type\": type(eval(var)).__name__,\\n            \"hash\": dataframe_hash(var),\\n            \"cols\": dataframe_columns(var),\\n            \"dtypesStr\": dtypes_str(var),\\n        }\\n        for var in values if is_data_frame(var)\\n    ]\\n    result = {\"dataframes\": dataframes, \"user\": user}\\n    return json.dumps(result, ensure_ascii=False)\\n\\n\\nget_dataframes()', 's1={10,15,\"python\"}\\nit=iter(s1)\\nprint(next(it))\\nprint(next(it))\\nprint(next(it))', 'import json\\nimport getpass\\nimport hashlib\\n\\ndef import_pandas_safely():\\n    try:\\n        return __import__(\\'pandas\\')\\n    except ImportError:\\n        return False\\n\\n\\n__pandas = import_pandas_safely()\\n\\n\\ndef is_data_frame(v: str):\\n    obj = eval(v)\\n    if  isinstance(obj, __pandas.core.frame.DataFrame) or isinstance(obj, __pandas.core.series.Series):\\n        return True\\n\\n\\ndef dataframe_columns(var):\\n    df = eval(var)\\n    if isinstance(df, __pandas.core.series.Series):\\n        return [[df.name, str(df.dtype)]]\\n    return list(map(lambda col: [col, str(df[col].dtype)], df.columns))\\n\\n\\ndef dtypes_str(frame):\\n    return str(eval(frame).dtypes)\\n\\ndef dataframe_hash(var):\\n    # Return a hash including the column names and number of rows\\n    df = eval(var)\\n    if isinstance(df, __pandas.core.series.Series):\\n        return hashlib.sha256(f\"{var}-{df.name},{len(df)}\".encode(\\'utf-8\\')).hexdigest()\\n    return hashlib.sha256(f\"{var}-{\\',\\'.join(df.columns)},{len(df)}\".encode(\\'utf-8\\')).hexdigest()\\n\\ndef get_dataframes():\\n    if __pandas is None:\\n        return []\\n    user = getpass.getuser()\\n    values = get_ipython().run_line_magic(\\'who_ls\\', \\'\\')\\n    dataframes = [\\n        {\\n            \"name\": var,\\n            \"type\": type(eval(var)).__name__,\\n            \"hash\": dataframe_hash(var),\\n            \"cols\": dataframe_columns(var),\\n            \"dtypesStr\": dtypes_str(var),\\n        }\\n        for var in values if is_data_frame(var)\\n    ]\\n    result = {\"dataframes\": dataframes, \"user\": user}\\n    return json.dumps(result, ensure_ascii=False)\\n\\n\\nget_dataframes()', 'd1={1:\"abc\",2:\"def\",3:\"ghi\"}\\nit=iter(d1)\\nprint(next(it))\\nprint(next(it))', 'import json\\nimport getpass\\nimport hashlib\\n\\ndef import_pandas_safely():\\n    try:\\n        return __import__(\\'pandas\\')\\n    except ImportError:\\n        return False\\n\\n\\n__pandas = import_pandas_safely()\\n\\n\\ndef is_data_frame(v: str):\\n    obj = eval(v)\\n    if  isinstance(obj, __pandas.core.frame.DataFrame) or isinstance(obj, __pandas.core.series.Series):\\n        return True\\n\\n\\ndef dataframe_columns(var):\\n    df = eval(var)\\n    if isinstance(df, __pandas.core.series.Series):\\n        return [[df.name, str(df.dtype)]]\\n    return list(map(lambda col: [col, str(df[col].dtype)], df.columns))\\n\\n\\ndef dtypes_str(frame):\\n    return str(eval(frame).dtypes)\\n\\ndef dataframe_hash(var):\\n    # Return a hash including the column names and number of rows\\n    df = eval(var)\\n    if isinstance(df, __pandas.core.series.Series):\\n        return hashlib.sha256(f\"{var}-{df.name},{len(df)}\".encode(\\'utf-8\\')).hexdigest()\\n    return hashlib.sha256(f\"{var}-{\\',\\'.join(df.columns)},{len(df)}\".encode(\\'utf-8\\')).hexdigest()\\n\\ndef get_dataframes():\\n    if __pandas is None:\\n        return []\\n    user = getpass.getuser()\\n    values = get_ipython().run_line_magic(\\'who_ls\\', \\'\\')\\n    dataframes = [\\n        {\\n            \"name\": var,\\n            \"type\": type(eval(var)).__name__,\\n            \"hash\": dataframe_hash(var),\\n            \"cols\": dataframe_columns(var),\\n            \"dtypesStr\": dtypes_str(var),\\n        }\\n        for var in values if is_data_frame(var)\\n    ]\\n    result = {\"dataframes\": dataframes, \"user\": user}\\n    return json.dumps(result, ensure_ascii=False)\\n\\n\\nget_dataframes()', 'import json\\nimport getpass\\nimport hashlib\\n\\ndef import_pandas_safely():\\n    try:\\n        return __import__(\\'pandas\\')\\n    except ImportError:\\n        return False\\n\\n\\n__pandas = import_pandas_safely()\\n\\n\\ndef is_data_frame(v: str):\\n    obj = eval(v)\\n    if  isinstance(obj, __pandas.core.frame.DataFrame) or isinstance(obj, __pandas.core.series.Series):\\n        return True\\n\\n\\ndef dataframe_columns(var):\\n    df = eval(var)\\n    if isinstance(df, __pandas.core.series.Series):\\n        return [[df.name, str(df.dtype)]]\\n    return list(map(lambda col: [col, str(df[col].dtype)], df.columns))\\n\\n\\ndef dtypes_str(frame):\\n    return str(eval(frame).dtypes)\\n\\ndef dataframe_hash(var):\\n    # Return a hash including the column names and number of rows\\n    df = eval(var)\\n    if isinstance(df, __pandas.core.series.Series):\\n        return hashlib.sha256(f\"{var}-{df.name},{len(df)}\".encode(\\'utf-8\\')).hexdigest()\\n    return hashlib.sha256(f\"{var}-{\\',\\'.join(df.columns)},{len(df)}\".encode(\\'utf-8\\')).hexdigest()\\n\\ndef get_dataframes():\\n    if __pandas is None:\\n        return []\\n    user = getpass.getuser()\\n    values = get_ipython().run_line_magic(\\'who_ls\\', \\'\\')\\n    dataframes = [\\n        {\\n            \"name\": var,\\n            \"type\": type(eval(var)).__name__,\\n            \"hash\": dataframe_hash(var),\\n            \"cols\": dataframe_columns(var),\\n            \"dtypesStr\": dtypes_str(var),\\n        }\\n        for var in values if is_data_frame(var)\\n    ]\\n    result = {\"dataframes\": dataframes, \"user\": user}\\n    return json.dumps(result, ensure_ascii=False)\\n\\n\\nget_dataframes()', 'import json\\nimport getpass\\nimport hashlib\\n\\ndef import_pandas_safely():\\n    try:\\n        return __import__(\\'pandas\\')\\n    except ImportError:\\n        return False\\n\\n\\n__pandas = import_pandas_safely()\\n\\n\\ndef is_data_frame(v: str):\\n    obj = eval(v)\\n    if  isinstance(obj, __pandas.core.frame.DataFrame) or isinstance(obj, __pandas.core.series.Series):\\n        return True\\n\\n\\ndef dataframe_columns(var):\\n    df = eval(var)\\n    if isinstance(df, __pandas.core.series.Series):\\n        return [[df.name, str(df.dtype)]]\\n    return list(map(lambda col: [col, str(df[col].dtype)], df.columns))\\n\\n\\ndef dtypes_str(frame):\\n    return str(eval(frame).dtypes)\\n\\ndef dataframe_hash(var):\\n    # Return a hash including the column names and number of rows\\n    df = eval(var)\\n    if isinstance(df, __pandas.core.series.Series):\\n        return hashlib.sha256(f\"{var}-{df.name},{len(df)}\".encode(\\'utf-8\\')).hexdigest()\\n    return hashlib.sha256(f\"{var}-{\\',\\'.join(df.columns)},{len(df)}\".encode(\\'utf-8\\')).hexdigest()\\n\\ndef get_dataframes():\\n    if __pandas is None:\\n        return []\\n    user = getpass.getuser()\\n    values = get_ipython().run_line_magic(\\'who_ls\\', \\'\\')\\n    dataframes = [\\n        {\\n            \"name\": var,\\n            \"type\": type(eval(var)).__name__,\\n            \"hash\": dataframe_hash(var),\\n            \"cols\": dataframe_columns(var),\\n            \"dtypesStr\": dtypes_str(var),\\n        }\\n        for var in values if is_data_frame(var)\\n    ]\\n    result = {\"dataframes\": dataframes, \"user\": user}\\n    return json.dumps(result, ensure_ascii=False)\\n\\n\\nget_dataframes()', 'r=range(5) #Generator Function\\nprint(r)', 'import json\\nimport getpass\\nimport hashlib\\n\\ndef import_pandas_safely():\\n    try:\\n        return __import__(\\'pandas\\')\\n    except ImportError:\\n        return False\\n\\n\\n__pandas = import_pandas_safely()\\n\\n\\ndef is_data_frame(v: str):\\n    obj = eval(v)\\n    if  isinstance(obj, __pandas.core.frame.DataFrame) or isinstance(obj, __pandas.core.series.Series):\\n        return True\\n\\n\\ndef dataframe_columns(var):\\n    df = eval(var)\\n    if isinstance(df, __pandas.core.series.Series):\\n        return [[df.name, str(df.dtype)]]\\n    return list(map(lambda col: [col, str(df[col].dtype)], df.columns))\\n\\n\\ndef dtypes_str(frame):\\n    return str(eval(frame).dtypes)\\n\\ndef dataframe_hash(var):\\n    # Return a hash including the column names and number of rows\\n    df = eval(var)\\n    if isinstance(df, __pandas.core.series.Series):\\n        return hashlib.sha256(f\"{var}-{df.name},{len(df)}\".encode(\\'utf-8\\')).hexdigest()\\n    return hashlib.sha256(f\"{var}-{\\',\\'.join(df.columns)},{len(df)}\".encode(\\'utf-8\\')).hexdigest()\\n\\ndef get_dataframes():\\n    if __pandas is None:\\n        return []\\n    user = getpass.getuser()\\n    values = get_ipython().run_line_magic(\\'who_ls\\', \\'\\')\\n    dataframes = [\\n        {\\n            \"name\": var,\\n            \"type\": type(eval(var)).__name__,\\n            \"hash\": dataframe_hash(var),\\n            \"cols\": dataframe_columns(var),\\n            \"dtypesStr\": dtypes_str(var),\\n        }\\n        for var in values if is_data_frame(var)\\n    ]\\n    result = {\"dataframes\": dataframes, \"user\": user}\\n    return json.dumps(result, ensure_ascii=False)\\n\\n\\nget_dataframes()', 'r=range(5) #Generator Function\\nprint(r)\\nit=iter(r)\\nprint(next(it))\\nprint(next(it))', 'import json\\nimport getpass\\nimport hashlib\\n\\ndef import_pandas_safely():\\n    try:\\n        return __import__(\\'pandas\\')\\n    except ImportError:\\n        return False\\n\\n\\n__pandas = import_pandas_safely()\\n\\n\\ndef is_data_frame(v: str):\\n    obj = eval(v)\\n    if  isinstance(obj, __pandas.core.frame.DataFrame) or isinstance(obj, __pandas.core.series.Series):\\n        return True\\n\\n\\ndef dataframe_columns(var):\\n    df = eval(var)\\n    if isinstance(df, __pandas.core.series.Series):\\n        return [[df.name, str(df.dtype)]]\\n    return list(map(lambda col: [col, str(df[col].dtype)], df.columns))\\n\\n\\ndef dtypes_str(frame):\\n    return str(eval(frame).dtypes)\\n\\ndef dataframe_hash(var):\\n    # Return a hash including the column names and number of rows\\n    df = eval(var)\\n    if isinstance(df, __pandas.core.series.Series):\\n        return hashlib.sha256(f\"{var}-{df.name},{len(df)}\".encode(\\'utf-8\\')).hexdigest()\\n    return hashlib.sha256(f\"{var}-{\\',\\'.join(df.columns)},{len(df)}\".encode(\\'utf-8\\')).hexdigest()\\n\\ndef get_dataframes():\\n    if __pandas is None:\\n        return []\\n    user = getpass.getuser()\\n    values = get_ipython().run_line_magic(\\'who_ls\\', \\'\\')\\n    dataframes = [\\n        {\\n            \"name\": var,\\n            \"type\": type(eval(var)).__name__,\\n            \"hash\": dataframe_hash(var),\\n            \"cols\": dataframe_columns(var),\\n            \"dtypesStr\": dtypes_str(var),\\n        }\\n        for var in values if is_data_frame(var)\\n    ]\\n    result = {\"dataframes\": dataframes, \"user\": user}\\n    return json.dumps(result, ensure_ascii=False)\\n\\n\\nget_dataframes()', '#Writing own Generator Function\\ndef myrange(n):\\n    i=0\\n    while(i<n):\\n        yield i\\n        i+=1\\n\\nm=myrange(5)\\nprint(next(m))\\nprint(next(m))\\nprint(next(m))', 'import json\\nimport getpass\\nimport hashlib\\n\\ndef import_pandas_safely():\\n    try:\\n        return __import__(\\'pandas\\')\\n    except ImportError:\\n        return False\\n\\n\\n__pandas = import_pandas_safely()\\n\\n\\ndef is_data_frame(v: str):\\n    obj = eval(v)\\n    if  isinstance(obj, __pandas.core.frame.DataFrame) or isinstance(obj, __pandas.core.series.Series):\\n        return True\\n\\n\\ndef dataframe_columns(var):\\n    df = eval(var)\\n    if isinstance(df, __pandas.core.series.Series):\\n        return [[df.name, str(df.dtype)]]\\n    return list(map(lambda col: [col, str(df[col].dtype)], df.columns))\\n\\n\\ndef dtypes_str(frame):\\n    return str(eval(frame).dtypes)\\n\\ndef dataframe_hash(var):\\n    # Return a hash including the column names and number of rows\\n    df = eval(var)\\n    if isinstance(df, __pandas.core.series.Series):\\n        return hashlib.sha256(f\"{var}-{df.name},{len(df)}\".encode(\\'utf-8\\')).hexdigest()\\n    return hashlib.sha256(f\"{var}-{\\',\\'.join(df.columns)},{len(df)}\".encode(\\'utf-8\\')).hexdigest()\\n\\ndef get_dataframes():\\n    if __pandas is None:\\n        return []\\n    user = getpass.getuser()\\n    values = get_ipython().run_line_magic(\\'who_ls\\', \\'\\')\\n    dataframes = [\\n        {\\n            \"name\": var,\\n            \"type\": type(eval(var)).__name__,\\n            \"hash\": dataframe_hash(var),\\n            \"cols\": dataframe_columns(var),\\n            \"dtypesStr\": dtypes_str(var),\\n        }\\n        for var in values if is_data_frame(var)\\n    ]\\n    result = {\"dataframes\": dataframes, \"user\": user}\\n    return json.dumps(result, ensure_ascii=False)\\n\\n\\nget_dataframes()', '#Writing own Generator Function\\ndef myrange(n):\\n    i=0\\n    while(i<n):\\n        yield i\\n        i+=1\\n\\nm=myrange(5)\\nprint(next(m))\\nprint(next(m))\\nprint(next(m))\\nprint(next(m))', 'import json\\nimport getpass\\nimport hashlib\\n\\ndef import_pandas_safely():\\n    try:\\n        return __import__(\\'pandas\\')\\n    except ImportError:\\n        return False\\n\\n\\n__pandas = import_pandas_safely()\\n\\n\\ndef is_data_frame(v: str):\\n    obj = eval(v)\\n    if  isinstance(obj, __pandas.core.frame.DataFrame) or isinstance(obj, __pandas.core.series.Series):\\n        return True\\n\\n\\ndef dataframe_columns(var):\\n    df = eval(var)\\n    if isinstance(df, __pandas.core.series.Series):\\n        return [[df.name, str(df.dtype)]]\\n    return list(map(lambda col: [col, str(df[col].dtype)], df.columns))\\n\\n\\ndef dtypes_str(frame):\\n    return str(eval(frame).dtypes)\\n\\ndef dataframe_hash(var):\\n    # Return a hash including the column names and number of rows\\n    df = eval(var)\\n    if isinstance(df, __pandas.core.series.Series):\\n        return hashlib.sha256(f\"{var}-{df.name},{len(df)}\".encode(\\'utf-8\\')).hexdigest()\\n    return hashlib.sha256(f\"{var}-{\\',\\'.join(df.columns)},{len(df)}\".encode(\\'utf-8\\')).hexdigest()\\n\\ndef get_dataframes():\\n    if __pandas is None:\\n        return []\\n    user = getpass.getuser()\\n    values = get_ipython().run_line_magic(\\'who_ls\\', \\'\\')\\n    dataframes = [\\n        {\\n            \"name\": var,\\n            \"type\": type(eval(var)).__name__,\\n            \"hash\": dataframe_hash(var),\\n            \"cols\": dataframe_columns(var),\\n            \"dtypesStr\": dtypes_str(var),\\n        }\\n        for var in values if is_data_frame(var)\\n    ]\\n    result = {\"dataframes\": dataframes, \"user\": user}\\n    return json.dumps(result, ensure_ascii=False)\\n\\n\\nget_dataframes()', '#Writing own Generator Function\\ndef myrange(n):\\n    i=0\\n    while(i<n):\\n        yield i #important usage\\n        i+=1\\n\\nm=myrange(5)\\nprint(next(m))\\nprint(next(m))\\nprint(next(m))\\nprint(next(m))', 'import json\\nimport getpass\\nimport hashlib\\n\\ndef import_pandas_safely():\\n    try:\\n        return __import__(\\'pandas\\')\\n    except ImportError:\\n        return False\\n\\n\\n__pandas = import_pandas_safely()\\n\\n\\ndef is_data_frame(v: str):\\n    obj = eval(v)\\n    if  isinstance(obj, __pandas.core.frame.DataFrame) or isinstance(obj, __pandas.core.series.Series):\\n        return True\\n\\n\\ndef dataframe_columns(var):\\n    df = eval(var)\\n    if isinstance(df, __pandas.core.series.Series):\\n        return [[df.name, str(df.dtype)]]\\n    return list(map(lambda col: [col, str(df[col].dtype)], df.columns))\\n\\n\\ndef dtypes_str(frame):\\n    return str(eval(frame).dtypes)\\n\\ndef dataframe_hash(var):\\n    # Return a hash including the column names and number of rows\\n    df = eval(var)\\n    if isinstance(df, __pandas.core.series.Series):\\n        return hashlib.sha256(f\"{var}-{df.name},{len(df)}\".encode(\\'utf-8\\')).hexdigest()\\n    return hashlib.sha256(f\"{var}-{\\',\\'.join(df.columns)},{len(df)}\".encode(\\'utf-8\\')).hexdigest()\\n\\ndef get_dataframes():\\n    if __pandas is None:\\n        return []\\n    user = getpass.getuser()\\n    values = get_ipython().run_line_magic(\\'who_ls\\', \\'\\')\\n    dataframes = [\\n        {\\n            \"name\": var,\\n            \"type\": type(eval(var)).__name__,\\n            \"hash\": dataframe_hash(var),\\n            \"cols\": dataframe_columns(var),\\n            \"dtypesStr\": dtypes_str(var),\\n        }\\n        for var in values if is_data_frame(var)\\n    ]\\n    result = {\"dataframes\": dataframes, \"user\": user}\\n    return json.dumps(result, ensure_ascii=False)\\n\\n\\nget_dataframes()', 'li=[\"sun\",\"mon\",\"tue\",\"wed\",\"thu\",\"fri\",\"sat\"]\\ndef days():\\n    i=0\\n    while(true):\\n        if(i==7):\\n            i=0\\n        yield li[i]\\n        i+=1\\n\\nm=days()\\nprint(next(m))', 'import json\\nimport getpass\\nimport hashlib\\n\\ndef import_pandas_safely():\\n    try:\\n        return __import__(\\'pandas\\')\\n    except ImportError:\\n        return False\\n\\n\\n__pandas = import_pandas_safely()\\n\\n\\ndef is_data_frame(v: str):\\n    obj = eval(v)\\n    if  isinstance(obj, __pandas.core.frame.DataFrame) or isinstance(obj, __pandas.core.series.Series):\\n        return True\\n\\n\\ndef dataframe_columns(var):\\n    df = eval(var)\\n    if isinstance(df, __pandas.core.series.Series):\\n        return [[df.name, str(df.dtype)]]\\n    return list(map(lambda col: [col, str(df[col].dtype)], df.columns))\\n\\n\\ndef dtypes_str(frame):\\n    return str(eval(frame).dtypes)\\n\\ndef dataframe_hash(var):\\n    # Return a hash including the column names and number of rows\\n    df = eval(var)\\n    if isinstance(df, __pandas.core.series.Series):\\n        return hashlib.sha256(f\"{var}-{df.name},{len(df)}\".encode(\\'utf-8\\')).hexdigest()\\n    return hashlib.sha256(f\"{var}-{\\',\\'.join(df.columns)},{len(df)}\".encode(\\'utf-8\\')).hexdigest()\\n\\ndef get_dataframes():\\n    if __pandas is None:\\n        return []\\n    user = getpass.getuser()\\n    values = get_ipython().run_line_magic(\\'who_ls\\', \\'\\')\\n    dataframes = [\\n        {\\n            \"name\": var,\\n            \"type\": type(eval(var)).__name__,\\n            \"hash\": dataframe_hash(var),\\n            \"cols\": dataframe_columns(var),\\n            \"dtypesStr\": dtypes_str(var),\\n        }\\n        for var in values if is_data_frame(var)\\n    ]\\n    result = {\"dataframes\": dataframes, \"user\": user}\\n    return json.dumps(result, ensure_ascii=False)\\n\\n\\nget_dataframes()', 'li=[\"sun\",\"mon\",\"tue\",\"wed\",\"thu\",\"fri\",\"sat\"]\\ndef days():\\n    i=0\\n    while(True):\\n        if(i==7):\\n            i=0\\n        yield li[i]\\n        i+=1\\n\\nm=days()\\nprint(next(m))', 'import json\\nimport getpass\\nimport hashlib\\n\\ndef import_pandas_safely():\\n    try:\\n        return __import__(\\'pandas\\')\\n    except ImportError:\\n        return False\\n\\n\\n__pandas = import_pandas_safely()\\n\\n\\ndef is_data_frame(v: str):\\n    obj = eval(v)\\n    if  isinstance(obj, __pandas.core.frame.DataFrame) or isinstance(obj, __pandas.core.series.Series):\\n        return True\\n\\n\\ndef dataframe_columns(var):\\n    df = eval(var)\\n    if isinstance(df, __pandas.core.series.Series):\\n        return [[df.name, str(df.dtype)]]\\n    return list(map(lambda col: [col, str(df[col].dtype)], df.columns))\\n\\n\\ndef dtypes_str(frame):\\n    return str(eval(frame).dtypes)\\n\\ndef dataframe_hash(var):\\n    # Return a hash including the column names and number of rows\\n    df = eval(var)\\n    if isinstance(df, __pandas.core.series.Series):\\n        return hashlib.sha256(f\"{var}-{df.name},{len(df)}\".encode(\\'utf-8\\')).hexdigest()\\n    return hashlib.sha256(f\"{var}-{\\',\\'.join(df.columns)},{len(df)}\".encode(\\'utf-8\\')).hexdigest()\\n\\ndef get_dataframes():\\n    if __pandas is None:\\n        return []\\n    user = getpass.getuser()\\n    values = get_ipython().run_line_magic(\\'who_ls\\', \\'\\')\\n    dataframes = [\\n        {\\n            \"name\": var,\\n            \"type\": type(eval(var)).__name__,\\n            \"hash\": dataframe_hash(var),\\n            \"cols\": dataframe_columns(var),\\n            \"dtypesStr\": dtypes_str(var),\\n        }\\n        for var in values if is_data_frame(var)\\n    ]\\n    result = {\"dataframes\": dataframes, \"user\": user}\\n    return json.dumps(result, ensure_ascii=False)\\n\\n\\nget_dataframes()', 'li=[\"sun\",\"mon\",\"tue\",\"wed\",\"thu\",\"fri\",\"sat\"]\\ndef days():\\n    i=0\\n    while(True):\\n        if(i==7):\\n            i=0\\n        yield li[i]\\n        i+=1\\n\\nm=days()\\nprint(next(m))\\nprint(next(m))\\nprint(next(m))\\nprint(next(m))\\nprint(next(m))\\nprint(next(m))\\nprint(next(m))\\nprint(next(m))\\nprint(next(m))\\nprint(next(m))', 'import json\\nimport getpass\\nimport hashlib\\n\\ndef import_pandas_safely():\\n    try:\\n        return __import__(\\'pandas\\')\\n    except ImportError:\\n        return False\\n\\n\\n__pandas = import_pandas_safely()\\n\\n\\ndef is_data_frame(v: str):\\n    obj = eval(v)\\n    if  isinstance(obj, __pandas.core.frame.DataFrame) or isinstance(obj, __pandas.core.series.Series):\\n        return True\\n\\n\\ndef dataframe_columns(var):\\n    df = eval(var)\\n    if isinstance(df, __pandas.core.series.Series):\\n        return [[df.name, str(df.dtype)]]\\n    return list(map(lambda col: [col, str(df[col].dtype)], df.columns))\\n\\n\\ndef dtypes_str(frame):\\n    return str(eval(frame).dtypes)\\n\\ndef dataframe_hash(var):\\n    # Return a hash including the column names and number of rows\\n    df = eval(var)\\n    if isinstance(df, __pandas.core.series.Series):\\n        return hashlib.sha256(f\"{var}-{df.name},{len(df)}\".encode(\\'utf-8\\')).hexdigest()\\n    return hashlib.sha256(f\"{var}-{\\',\\'.join(df.columns)},{len(df)}\".encode(\\'utf-8\\')).hexdigest()\\n\\ndef get_dataframes():\\n    if __pandas is None:\\n        return []\\n    user = getpass.getuser()\\n    values = get_ipython().run_line_magic(\\'who_ls\\', \\'\\')\\n    dataframes = [\\n        {\\n            \"name\": var,\\n            \"type\": type(eval(var)).__name__,\\n            \"hash\": dataframe_hash(var),\\n            \"cols\": dataframe_columns(var),\\n            \"dtypesStr\": dtypes_str(var),\\n        }\\n        for var in values if is_data_frame(var)\\n    ]\\n    result = {\"dataframes\": dataframes, \"user\": user}\\n    return json.dumps(result, ensure_ascii=False)\\n\\n\\nget_dataframes()', 'import json\\nimport getpass\\nimport hashlib\\n\\ndef import_pandas_safely():\\n    try:\\n        return __import__(\\'pandas\\')\\n    except ImportError:\\n        return False\\n\\n\\n__pandas = import_pandas_safely()\\n\\n\\ndef is_data_frame(v: str):\\n    obj = eval(v)\\n    if  isinstance(obj, __pandas.core.frame.DataFrame) or isinstance(obj, __pandas.core.series.Series):\\n        return True\\n\\n\\ndef dataframe_columns(var):\\n    df = eval(var)\\n    if isinstance(df, __pandas.core.series.Series):\\n        return [[df.name, str(df.dtype)]]\\n    return list(map(lambda col: [col, str(df[col].dtype)], df.columns))\\n\\n\\ndef dtypes_str(frame):\\n    return str(eval(frame).dtypes)\\n\\ndef dataframe_hash(var):\\n    # Return a hash including the column names and number of rows\\n    df = eval(var)\\n    if isinstance(df, __pandas.core.series.Series):\\n        return hashlib.sha256(f\"{var}-{df.name},{len(df)}\".encode(\\'utf-8\\')).hexdigest()\\n    return hashlib.sha256(f\"{var}-{\\',\\'.join(df.columns)},{len(df)}\".encode(\\'utf-8\\')).hexdigest()\\n\\ndef get_dataframes():\\n    if __pandas is None:\\n        return []\\n    user = getpass.getuser()\\n    values = get_ipython().run_line_magic(\\'who_ls\\', \\'\\')\\n    dataframes = [\\n        {\\n            \"name\": var,\\n            \"type\": type(eval(var)).__name__,\\n            \"hash\": dataframe_hash(var),\\n            \"cols\": dataframe_columns(var),\\n            \"dtypesStr\": dtypes_str(var),\\n        }\\n        for var in values if is_data_frame(var)\\n    ]\\n    result = {\"dataframes\": dataframes, \"user\": user}\\n    return json.dumps(result, ensure_ascii=False)\\n\\n\\nget_dataframes()', 'g=5.25\\nprint(\"Outside-1:\",g)\\n\\ndef fun():\\n    a=10 #local variable\\n    print(\"Local:\",a)\\n    print(\"Global:\",g)\\n\\nfun()\\nprint(\"Outside-2:\",g)', 'import json\\nimport getpass\\nimport hashlib\\n\\ndef import_pandas_safely():\\n    try:\\n        return __import__(\\'pandas\\')\\n    except ImportError:\\n        return False\\n\\n\\n__pandas = import_pandas_safely()\\n\\n\\ndef is_data_frame(v: str):\\n    obj = eval(v)\\n    if  isinstance(obj, __pandas.core.frame.DataFrame) or isinstance(obj, __pandas.core.series.Series):\\n        return True\\n\\n\\ndef dataframe_columns(var):\\n    df = eval(var)\\n    if isinstance(df, __pandas.core.series.Series):\\n        return [[df.name, str(df.dtype)]]\\n    return list(map(lambda col: [col, str(df[col].dtype)], df.columns))\\n\\n\\ndef dtypes_str(frame):\\n    return str(eval(frame).dtypes)\\n\\ndef dataframe_hash(var):\\n    # Return a hash including the column names and number of rows\\n    df = eval(var)\\n    if isinstance(df, __pandas.core.series.Series):\\n        return hashlib.sha256(f\"{var}-{df.name},{len(df)}\".encode(\\'utf-8\\')).hexdigest()\\n    return hashlib.sha256(f\"{var}-{\\',\\'.join(df.columns)},{len(df)}\".encode(\\'utf-8\\')).hexdigest()\\n\\ndef get_dataframes():\\n    if __pandas is None:\\n        return []\\n    user = getpass.getuser()\\n    values = get_ipython().run_line_magic(\\'who_ls\\', \\'\\')\\n    dataframes = [\\n        {\\n            \"name\": var,\\n            \"type\": type(eval(var)).__name__,\\n            \"hash\": dataframe_hash(var),\\n            \"cols\": dataframe_columns(var),\\n            \"dtypesStr\": dtypes_str(var),\\n        }\\n        for var in values if is_data_frame(var)\\n    ]\\n    result = {\"dataframes\": dataframes, \"user\": user}\\n    return json.dumps(result, ensure_ascii=False)\\n\\n\\nget_dataframes()', 'g=5.25\\nprint(\"Outside-1:\",g)\\n\\ndef fun():\\n    a=10 #local variable\\n    print(\"Local:\",a)\\n    print(\"Global:\",g)\\n\\nfun()\\nprint(\"Outside-2:\",g)', 'import json\\nimport getpass\\nimport hashlib\\n\\ndef import_pandas_safely():\\n    try:\\n        return __import__(\\'pandas\\')\\n    except ImportError:\\n        return False\\n\\n\\n__pandas = import_pandas_safely()\\n\\n\\ndef is_data_frame(v: str):\\n    obj = eval(v)\\n    if  isinstance(obj, __pandas.core.frame.DataFrame) or isinstance(obj, __pandas.core.series.Series):\\n        return True\\n\\n\\ndef dataframe_columns(var):\\n    df = eval(var)\\n    if isinstance(df, __pandas.core.series.Series):\\n        return [[df.name, str(df.dtype)]]\\n    return list(map(lambda col: [col, str(df[col].dtype)], df.columns))\\n\\n\\ndef dtypes_str(frame):\\n    return str(eval(frame).dtypes)\\n\\ndef dataframe_hash(var):\\n    # Return a hash including the column names and number of rows\\n    df = eval(var)\\n    if isinstance(df, __pandas.core.series.Series):\\n        return hashlib.sha256(f\"{var}-{df.name},{len(df)}\".encode(\\'utf-8\\')).hexdigest()\\n    return hashlib.sha256(f\"{var}-{\\',\\'.join(df.columns)},{len(df)}\".encode(\\'utf-8\\')).hexdigest()\\n\\ndef get_dataframes():\\n    if __pandas is None:\\n        return []\\n    user = getpass.getuser()\\n    values = get_ipython().run_line_magic(\\'who_ls\\', \\'\\')\\n    dataframes = [\\n        {\\n            \"name\": var,\\n            \"type\": type(eval(var)).__name__,\\n            \"hash\": dataframe_hash(var),\\n            \"cols\": dataframe_columns(var),\\n            \"dtypesStr\": dtypes_str(var),\\n        }\\n        for var in values if is_data_frame(var)\\n    ]\\n    result = {\"dataframes\": dataframes, \"user\": user}\\n    return json.dumps(result, ensure_ascii=False)\\n\\n\\nget_dataframes()', 'g=5.25\\nprint(\"Outside-1:\",g)\\n\\ndef fun():\\n    a=10 #local variable\\n    g=99\\n    print(\"Local:\",a)\\n    print(\"Global:\",g)\\n\\nfun()\\nprint(\"Outside-2:\",g)', 'import json\\nimport getpass\\nimport hashlib\\n\\ndef import_pandas_safely():\\n    try:\\n        return __import__(\\'pandas\\')\\n    except ImportError:\\n        return False\\n\\n\\n__pandas = import_pandas_safely()\\n\\n\\ndef is_data_frame(v: str):\\n    obj = eval(v)\\n    if  isinstance(obj, __pandas.core.frame.DataFrame) or isinstance(obj, __pandas.core.series.Series):\\n        return True\\n\\n\\ndef dataframe_columns(var):\\n    df = eval(var)\\n    if isinstance(df, __pandas.core.series.Series):\\n        return [[df.name, str(df.dtype)]]\\n    return list(map(lambda col: [col, str(df[col].dtype)], df.columns))\\n\\n\\ndef dtypes_str(frame):\\n    return str(eval(frame).dtypes)\\n\\ndef dataframe_hash(var):\\n    # Return a hash including the column names and number of rows\\n    df = eval(var)\\n    if isinstance(df, __pandas.core.series.Series):\\n        return hashlib.sha256(f\"{var}-{df.name},{len(df)}\".encode(\\'utf-8\\')).hexdigest()\\n    return hashlib.sha256(f\"{var}-{\\',\\'.join(df.columns)},{len(df)}\".encode(\\'utf-8\\')).hexdigest()\\n\\ndef get_dataframes():\\n    if __pandas is None:\\n        return []\\n    user = getpass.getuser()\\n    values = get_ipython().run_line_magic(\\'who_ls\\', \\'\\')\\n    dataframes = [\\n        {\\n            \"name\": var,\\n            \"type\": type(eval(var)).__name__,\\n            \"hash\": dataframe_hash(var),\\n            \"cols\": dataframe_columns(var),\\n            \"dtypesStr\": dtypes_str(var),\\n        }\\n        for var in values if is_data_frame(var)\\n    ]\\n    result = {\"dataframes\": dataframes, \"user\": user}\\n    return json.dumps(result, ensure_ascii=False)\\n\\n\\nget_dataframes()', 'g=5.25\\nprint(\"Outside-1:\",g)\\n\\ndef fun():\\n    global g\\n    a=10 #local variable\\n    g=99\\n    print(\"Local:\",a)\\n    print(\"Global:\",g)\\n\\nfun()\\nprint(\"Outside-2:\",g)', 'import json\\nimport getpass\\nimport hashlib\\n\\ndef import_pandas_safely():\\n    try:\\n        return __import__(\\'pandas\\')\\n    except ImportError:\\n        return False\\n\\n\\n__pandas = import_pandas_safely()\\n\\n\\ndef is_data_frame(v: str):\\n    obj = eval(v)\\n    if  isinstance(obj, __pandas.core.frame.DataFrame) or isinstance(obj, __pandas.core.series.Series):\\n        return True\\n\\n\\ndef dataframe_columns(var):\\n    df = eval(var)\\n    if isinstance(df, __pandas.core.series.Series):\\n        return [[df.name, str(df.dtype)]]\\n    return list(map(lambda col: [col, str(df[col].dtype)], df.columns))\\n\\n\\ndef dtypes_str(frame):\\n    return str(eval(frame).dtypes)\\n\\ndef dataframe_hash(var):\\n    # Return a hash including the column names and number of rows\\n    df = eval(var)\\n    if isinstance(df, __pandas.core.series.Series):\\n        return hashlib.sha256(f\"{var}-{df.name},{len(df)}\".encode(\\'utf-8\\')).hexdigest()\\n    return hashlib.sha256(f\"{var}-{\\',\\'.join(df.columns)},{len(df)}\".encode(\\'utf-8\\')).hexdigest()\\n\\ndef get_dataframes():\\n    if __pandas is None:\\n        return []\\n    user = getpass.getuser()\\n    values = get_ipython().run_line_magic(\\'who_ls\\', \\'\\')\\n    dataframes = [\\n        {\\n            \"name\": var,\\n            \"type\": type(eval(var)).__name__,\\n            \"hash\": dataframe_hash(var),\\n            \"cols\": dataframe_columns(var),\\n            \"dtypesStr\": dtypes_str(var),\\n        }\\n        for var in values if is_data_frame(var)\\n    ]\\n    result = {\"dataframes\": dataframes, \"user\": user}\\n    return json.dumps(result, ensure_ascii=False)\\n\\n\\nget_dataframes()', 'g=5.25\\nprint(\"Outside-1:\",g)\\n\\ndef fun():\\n    global g #emphasizing usage of Global Variable\\n    a=10 #local variable\\n    g=99\\n    print(\"Local:\",a)\\n    print(\"Global:\",g)\\n\\nfun()\\nprint(\"Outside-2:\",g)', 'import json\\nimport getpass\\nimport hashlib\\n\\ndef import_pandas_safely():\\n    try:\\n        return __import__(\\'pandas\\')\\n    except ImportError:\\n        return False\\n\\n\\n__pandas = import_pandas_safely()\\n\\n\\ndef is_data_frame(v: str):\\n    obj = eval(v)\\n    if  isinstance(obj, __pandas.core.frame.DataFrame) or isinstance(obj, __pandas.core.series.Series):\\n        return True\\n\\n\\ndef dataframe_columns(var):\\n    df = eval(var)\\n    if isinstance(df, __pandas.core.series.Series):\\n        return [[df.name, str(df.dtype)]]\\n    return list(map(lambda col: [col, str(df[col].dtype)], df.columns))\\n\\n\\ndef dtypes_str(frame):\\n    return str(eval(frame).dtypes)\\n\\ndef dataframe_hash(var):\\n    # Return a hash including the column names and number of rows\\n    df = eval(var)\\n    if isinstance(df, __pandas.core.series.Series):\\n        return hashlib.sha256(f\"{var}-{df.name},{len(df)}\".encode(\\'utf-8\\')).hexdigest()\\n    return hashlib.sha256(f\"{var}-{\\',\\'.join(df.columns)},{len(df)}\".encode(\\'utf-8\\')).hexdigest()\\n\\ndef get_dataframes():\\n    if __pandas is None:\\n        return []\\n    user = getpass.getuser()\\n    values = get_ipython().run_line_magic(\\'who_ls\\', \\'\\')\\n    dataframes = [\\n        {\\n            \"name\": var,\\n            \"type\": type(eval(var)).__name__,\\n            \"hash\": dataframe_hash(var),\\n            \"cols\": dataframe_columns(var),\\n            \"dtypesStr\": dtypes_str(var),\\n        }\\n        for var in values if is_data_frame(var)\\n    ]\\n    result = {\"dataframes\": dataframes, \"user\": user}\\n    return json.dumps(result, ensure_ascii=False)\\n\\n\\nget_dataframes()', 'import json\\nimport getpass\\nimport hashlib\\n\\ndef import_pandas_safely():\\n    try:\\n        return __import__(\\'pandas\\')\\n    except ImportError:\\n        return False\\n\\n\\n__pandas = import_pandas_safely()\\n\\n\\ndef is_data_frame(v: str):\\n    obj = eval(v)\\n    if  isinstance(obj, __pandas.core.frame.DataFrame) or isinstance(obj, __pandas.core.series.Series):\\n        return True\\n\\n\\ndef dataframe_columns(var):\\n    df = eval(var)\\n    if isinstance(df, __pandas.core.series.Series):\\n        return [[df.name, str(df.dtype)]]\\n    return list(map(lambda col: [col, str(df[col].dtype)], df.columns))\\n\\n\\ndef dtypes_str(frame):\\n    return str(eval(frame).dtypes)\\n\\ndef dataframe_hash(var):\\n    # Return a hash including the column names and number of rows\\n    df = eval(var)\\n    if isinstance(df, __pandas.core.series.Series):\\n        return hashlib.sha256(f\"{var}-{df.name},{len(df)}\".encode(\\'utf-8\\')).hexdigest()\\n    return hashlib.sha256(f\"{var}-{\\',\\'.join(df.columns)},{len(df)}\".encode(\\'utf-8\\')).hexdigest()\\n\\ndef get_dataframes():\\n    if __pandas is None:\\n        return []\\n    user = getpass.getuser()\\n    values = get_ipython().run_line_magic(\\'who_ls\\', \\'\\')\\n    dataframes = [\\n        {\\n            \"name\": var,\\n            \"type\": type(eval(var)).__name__,\\n            \"hash\": dataframe_hash(var),\\n            \"cols\": dataframe_columns(var),\\n            \"dtypesStr\": dtypes_str(var),\\n        }\\n        for var in values if is_data_frame(var)\\n    ]\\n    result = {\"dataframes\": dataframes, \"user\": user}\\n    return json.dumps(result, ensure_ascii=False)\\n\\n\\nget_dataframes()', 'x=10,y=2.5,z=\"False\"\\n\\ndef fun():\\n    a=10,b=25.36,c=True\\n    print(locals)\\n    print(globals)\\n\\nfun()', 'import json\\nimport getpass\\nimport hashlib\\n\\ndef import_pandas_safely():\\n    try:\\n        return __import__(\\'pandas\\')\\n    except ImportError:\\n        return False\\n\\n\\n__pandas = import_pandas_safely()\\n\\n\\ndef is_data_frame(v: str):\\n    obj = eval(v)\\n    if  isinstance(obj, __pandas.core.frame.DataFrame) or isinstance(obj, __pandas.core.series.Series):\\n        return True\\n\\n\\ndef dataframe_columns(var):\\n    df = eval(var)\\n    if isinstance(df, __pandas.core.series.Series):\\n        return [[df.name, str(df.dtype)]]\\n    return list(map(lambda col: [col, str(df[col].dtype)], df.columns))\\n\\n\\ndef dtypes_str(frame):\\n    return str(eval(frame).dtypes)\\n\\ndef dataframe_hash(var):\\n    # Return a hash including the column names and number of rows\\n    df = eval(var)\\n    if isinstance(df, __pandas.core.series.Series):\\n        return hashlib.sha256(f\"{var}-{df.name},{len(df)}\".encode(\\'utf-8\\')).hexdigest()\\n    return hashlib.sha256(f\"{var}-{\\',\\'.join(df.columns)},{len(df)}\".encode(\\'utf-8\\')).hexdigest()\\n\\ndef get_dataframes():\\n    if __pandas is None:\\n        return []\\n    user = getpass.getuser()\\n    values = get_ipython().run_line_magic(\\'who_ls\\', \\'\\')\\n    dataframes = [\\n        {\\n            \"name\": var,\\n            \"type\": type(eval(var)).__name__,\\n            \"hash\": dataframe_hash(var),\\n            \"cols\": dataframe_columns(var),\\n            \"dtypesStr\": dtypes_str(var),\\n        }\\n        for var in values if is_data_frame(var)\\n    ]\\n    result = {\"dataframes\": dataframes, \"user\": user}\\n    return json.dumps(result, ensure_ascii=False)\\n\\n\\nget_dataframes()', 'x=10\\ny=2.5\\nz=\"False\"\\n\\ndef fun():\\n    a=10,b=25.36,c=True\\n    print(locals)\\n    print(globals)\\n\\nfun()', 'import json\\nimport getpass\\nimport hashlib\\n\\ndef import_pandas_safely():\\n    try:\\n        return __import__(\\'pandas\\')\\n    except ImportError:\\n        return False\\n\\n\\n__pandas = import_pandas_safely()\\n\\n\\ndef is_data_frame(v: str):\\n    obj = eval(v)\\n    if  isinstance(obj, __pandas.core.frame.DataFrame) or isinstance(obj, __pandas.core.series.Series):\\n        return True\\n\\n\\ndef dataframe_columns(var):\\n    df = eval(var)\\n    if isinstance(df, __pandas.core.series.Series):\\n        return [[df.name, str(df.dtype)]]\\n    return list(map(lambda col: [col, str(df[col].dtype)], df.columns))\\n\\n\\ndef dtypes_str(frame):\\n    return str(eval(frame).dtypes)\\n\\ndef dataframe_hash(var):\\n    # Return a hash including the column names and number of rows\\n    df = eval(var)\\n    if isinstance(df, __pandas.core.series.Series):\\n        return hashlib.sha256(f\"{var}-{df.name},{len(df)}\".encode(\\'utf-8\\')).hexdigest()\\n    return hashlib.sha256(f\"{var}-{\\',\\'.join(df.columns)},{len(df)}\".encode(\\'utf-8\\')).hexdigest()\\n\\ndef get_dataframes():\\n    if __pandas is None:\\n        return []\\n    user = getpass.getuser()\\n    values = get_ipython().run_line_magic(\\'who_ls\\', \\'\\')\\n    dataframes = [\\n        {\\n            \"name\": var,\\n            \"type\": type(eval(var)).__name__,\\n            \"hash\": dataframe_hash(var),\\n            \"cols\": dataframe_columns(var),\\n            \"dtypesStr\": dtypes_str(var),\\n        }\\n        for var in values if is_data_frame(var)\\n    ]\\n    result = {\"dataframes\": dataframes, \"user\": user}\\n    return json.dumps(result, ensure_ascii=False)\\n\\n\\nget_dataframes()', 'x=10\\ny=2.5\\nz=\"False\"\\n\\ndef fun():\\n    a=10\\n    b=25.36\\n    c=True\\n    print(locals)\\n    print(globals)\\n\\nfun()', 'import json\\nimport getpass\\nimport hashlib\\n\\ndef import_pandas_safely():\\n    try:\\n        return __import__(\\'pandas\\')\\n    except ImportError:\\n        return False\\n\\n\\n__pandas = import_pandas_safely()\\n\\n\\ndef is_data_frame(v: str):\\n    obj = eval(v)\\n    if  isinstance(obj, __pandas.core.frame.DataFrame) or isinstance(obj, __pandas.core.series.Series):\\n        return True\\n\\n\\ndef dataframe_columns(var):\\n    df = eval(var)\\n    if isinstance(df, __pandas.core.series.Series):\\n        return [[df.name, str(df.dtype)]]\\n    return list(map(lambda col: [col, str(df[col].dtype)], df.columns))\\n\\n\\ndef dtypes_str(frame):\\n    return str(eval(frame).dtypes)\\n\\ndef dataframe_hash(var):\\n    # Return a hash including the column names and number of rows\\n    df = eval(var)\\n    if isinstance(df, __pandas.core.series.Series):\\n        return hashlib.sha256(f\"{var}-{df.name},{len(df)}\".encode(\\'utf-8\\')).hexdigest()\\n    return hashlib.sha256(f\"{var}-{\\',\\'.join(df.columns)},{len(df)}\".encode(\\'utf-8\\')).hexdigest()\\n\\ndef get_dataframes():\\n    if __pandas is None:\\n        return []\\n    user = getpass.getuser()\\n    values = get_ipython().run_line_magic(\\'who_ls\\', \\'\\')\\n    dataframes = [\\n        {\\n            \"name\": var,\\n            \"type\": type(eval(var)).__name__,\\n            \"hash\": dataframe_hash(var),\\n            \"cols\": dataframe_columns(var),\\n            \"dtypesStr\": dtypes_str(var),\\n        }\\n        for var in values if is_data_frame(var)\\n    ]\\n    result = {\"dataframes\": dataframes, \"user\": user}\\n    return json.dumps(result, ensure_ascii=False)\\n\\n\\nget_dataframes()', 'x=10\\ny=2.5\\nz=\"False\"\\n\\ndef fun():\\n    a=10\\n    b=25.36\\n    c=True\\n    print(locals())\\n    print(globals())\\n\\nfun()'], 'Out': {1: '{\"dataframes\": [], \"user\": \"ANTARIKSHYA\"}', 2: '{\"dataframes\": [], \"user\": \"ANTARIKSHYA\"}', 3: 14, 4: '{\"dataframes\": [], \"user\": \"ANTARIKSHYA\"}', 6: '{\"dataframes\": [], \"user\": \"ANTARIKSHYA\"}', 8: '{\"dataframes\": [], \"user\": \"ANTARIKSHYA\"}', 10: '{\"dataframes\": [], \"user\": \"ANTARIKSHYA\"}', 11: '{\"dataframes\": [], \"user\": \"ANTARIKSHYA\"}', 12: '{\"dataframes\": [], \"user\": \"ANTARIKSHYA\"}', 14: '{\"dataframes\": [], \"user\": \"ANTARIKSHYA\"}', 16: '{\"dataframes\": [], \"user\": \"ANTARIKSHYA\"}', 18: '{\"dataframes\": [], \"user\": \"ANTARIKSHYA\"}', 20: '{\"dataframes\": [], \"user\": \"ANTARIKSHYA\"}', 22: '{\"dataframes\": [], \"user\": \"ANTARIKSHYA\"}', 24: '{\"dataframes\": [], \"user\": \"ANTARIKSHYA\"}', 26: '{\"dataframes\": [], \"user\": \"ANTARIKSHYA\"}', 28: '{\"dataframes\": [], \"user\": \"ANTARIKSHYA\"}', 29: '{\"dataframes\": [], \"user\": \"ANTARIKSHYA\"}', 31: '{\"dataframes\": [], \"user\": \"ANTARIKSHYA\"}', 33: '{\"dataframes\": [], \"user\": \"ANTARIKSHYA\"}', 35: '{\"dataframes\": [], \"user\": \"ANTARIKSHYA\"}', 37: '{\"dataframes\": [], \"user\": \"ANTARIKSHYA\"}', 39: '{\"dataframes\": [], \"user\": \"ANTARIKSHYA\"}', 40: '{\"dataframes\": [], \"user\": \"ANTARIKSHYA\"}', 42: '{\"dataframes\": [], \"user\": \"ANTARIKSHYA\"}', 44: '{\"dataframes\": [], \"user\": \"ANTARIKSHYA\"}', 46: '{\"dataframes\": [], \"user\": \"ANTARIKSHYA\"}'}, 'get_ipython': <bound method InteractiveShell.get_ipython of <ipykernel.zmqshell.ZMQInteractiveShell object at 0x0000028FAE4A4470>>, 'exit': <IPython.core.autocall.ZMQExitAutocall object at 0x0000028FAE4A44D0>, 'quit': <IPython.core.autocall.ZMQExitAutocall object at 0x0000028FAE4A44D0>, 'open': <function open at 0x0000028FAC480860>, '_': '{\"dataframes\": [], \"user\": \"ANTARIKSHYA\"}', '__': '{\"dataframes\": [], \"user\": \"ANTARIKSHYA\"}', '___': '{\"dataframes\": [], \"user\": \"ANTARIKSHYA\"}', '__session__': 'C:\\\\Users\\\\ANTARIKSHYA\\\\OneDrive\\\\Desktop\\\\MYpython & ML\\\\Python Notes.ipynb', '_i': '\\nimport json\\nimport getpass\\nimport hashlib\\n\\ndef import_pandas_safely():\\n    try:\\n        return __import__(\\'pandas\\')\\n    except ImportError:\\n        return False\\n\\n\\n__pandas = import_pandas_safely()\\n\\n\\ndef is_data_frame(v: str):\\n    obj = eval(v)\\n    if  isinstance(obj, __pandas.core.frame.DataFrame) or isinstance(obj, __pandas.core.series.Series):\\n        return True\\n\\n\\ndef dataframe_columns(var):\\n    df = eval(var)\\n    if isinstance(df, __pandas.core.series.Series):\\n        return [[df.name, str(df.dtype)]]\\n    return list(map(lambda col: [col, str(df[col].dtype)], df.columns))\\n\\n\\ndef dtypes_str(frame):\\n    return str(eval(frame).dtypes)\\n\\ndef dataframe_hash(var):\\n    # Return a hash including the column names and number of rows\\n    df = eval(var)\\n    if isinstance(df, __pandas.core.series.Series):\\n        return hashlib.sha256(f\"{var}-{df.name},{len(df)}\".encode(\\'utf-8\\')).hexdigest()\\n    return hashlib.sha256(f\"{var}-{\\',\\'.join(df.columns)},{len(df)}\".encode(\\'utf-8\\')).hexdigest()\\n\\ndef get_dataframes():\\n    if __pandas is None:\\n        return []\\n    user = getpass.getuser()\\n    values = %who_ls\\n    dataframes = [\\n        {\\n            \"name\": var,\\n            \"type\": type(eval(var)).__name__,\\n            \"hash\": dataframe_hash(var),\\n            \"cols\": dataframe_columns(var),\\n            \"dtypesStr\": dtypes_str(var),\\n        }\\n        for var in values if is_data_frame(var)\\n    ]\\n    result = {\"dataframes\": dataframes, \"user\": user}\\n    return json.dumps(result, ensure_ascii=False)\\n\\n\\nget_dataframes()', '_ii': 'x=10\\ny=2.5\\nz=\"False\"\\n\\ndef fun():\\n    a=10\\n    b=25.36\\n    c=True\\n    print(locals)\\n    print(globals)\\n\\nfun()', '_iii': '\\nimport json\\nimport getpass\\nimport hashlib\\n\\ndef import_pandas_safely():\\n    try:\\n        return __import__(\\'pandas\\')\\n    except ImportError:\\n        return False\\n\\n\\n__pandas = import_pandas_safely()\\n\\n\\ndef is_data_frame(v: str):\\n    obj = eval(v)\\n    if  isinstance(obj, __pandas.core.frame.DataFrame) or isinstance(obj, __pandas.core.series.Series):\\n        return True\\n\\n\\ndef dataframe_columns(var):\\n    df = eval(var)\\n    if isinstance(df, __pandas.core.series.Series):\\n        return [[df.name, str(df.dtype)]]\\n    return list(map(lambda col: [col, str(df[col].dtype)], df.columns))\\n\\n\\ndef dtypes_str(frame):\\n    return str(eval(frame).dtypes)\\n\\ndef dataframe_hash(var):\\n    # Return a hash including the column names and number of rows\\n    df = eval(var)\\n    if isinstance(df, __pandas.core.series.Series):\\n        return hashlib.sha256(f\"{var}-{df.name},{len(df)}\".encode(\\'utf-8\\')).hexdigest()\\n    return hashlib.sha256(f\"{var}-{\\',\\'.join(df.columns)},{len(df)}\".encode(\\'utf-8\\')).hexdigest()\\n\\ndef get_dataframes():\\n    if __pandas is None:\\n        return []\\n    user = getpass.getuser()\\n    values = %who_ls\\n    dataframes = [\\n        {\\n            \"name\": var,\\n            \"type\": type(eval(var)).__name__,\\n            \"hash\": dataframe_hash(var),\\n            \"cols\": dataframe_columns(var),\\n            \"dtypesStr\": dtypes_str(var),\\n        }\\n        for var in values if is_data_frame(var)\\n    ]\\n    result = {\"dataframes\": dataframes, \"user\": user}\\n    return json.dumps(result, ensure_ascii=False)\\n\\n\\nget_dataframes()', '_i1': '\\nimport json\\nimport getpass\\nimport hashlib\\n\\ndef import_pandas_safely():\\n    try:\\n        return __import__(\\'pandas\\')\\n    except ImportError:\\n        return False\\n\\n\\n__pandas = import_pandas_safely()\\n\\n\\ndef is_data_frame(v: str):\\n    obj = eval(v)\\n    if  isinstance(obj, __pandas.core.frame.DataFrame) or isinstance(obj, __pandas.core.series.Series):\\n        return True\\n\\n\\ndef dataframe_columns(var):\\n    df = eval(var)\\n    if isinstance(df, __pandas.core.series.Series):\\n        return [[df.name, str(df.dtype)]]\\n    return list(map(lambda col: [col, str(df[col].dtype)], df.columns))\\n\\n\\ndef dtypes_str(frame):\\n    return str(eval(frame).dtypes)\\n\\ndef dataframe_hash(var):\\n    # Return a hash including the column names and number of rows\\n    df = eval(var)\\n    if isinstance(df, __pandas.core.series.Series):\\n        return hashlib.sha256(f\"{var}-{df.name},{len(df)}\".encode(\\'utf-8\\')).hexdigest()\\n    return hashlib.sha256(f\"{var}-{\\',\\'.join(df.columns)},{len(df)}\".encode(\\'utf-8\\')).hexdigest()\\n\\ndef get_dataframes():\\n    if __pandas is None:\\n        return []\\n    user = getpass.getuser()\\n    values = %who_ls\\n    dataframes = [\\n        {\\n            \"name\": var,\\n            \"type\": type(eval(var)).__name__,\\n            \"hash\": dataframe_hash(var),\\n            \"cols\": dataframe_columns(var),\\n            \"dtypesStr\": dtypes_str(var),\\n        }\\n        for var in values if is_data_frame(var)\\n    ]\\n    result = {\"dataframes\": dataframes, \"user\": user}\\n    return json.dumps(result, ensure_ascii=False)\\n\\n\\nget_dataframes()', 'json': <module 'json' from 'C:\\\\Users\\\\ANTARIKSHYA\\\\anaconda3\\\\Lib\\\\json\\\\__init__.py'>, 'getpass': <module 'getpass' from 'C:\\\\Users\\\\ANTARIKSHYA\\\\anaconda3\\\\Lib\\\\getpass.py'>, 'hashlib': <module 'hashlib' from 'C:\\\\Users\\\\ANTARIKSHYA\\\\anaconda3\\\\Lib\\\\hashlib.py'>, 'import_pandas_safely': <function import_pandas_safely at 0x0000028FB0F27380>, '__pandas': <module 'pandas' from 'C:\\\\Users\\\\ANTARIKSHYA\\\\anaconda3\\\\Lib\\\\site-packages\\\\pandas\\\\__init__.py'>, 'is_data_frame': <function is_data_frame at 0x0000028FB0F272E0>, 'dataframe_columns': <function dataframe_columns at 0x0000028FB0F27740>, 'dtypes_str': <function dtypes_str at 0x0000028FB0F27060>, 'dataframe_hash': <function dataframe_hash at 0x0000028FB0F27EC0>, 'get_dataframes': <function get_dataframes at 0x0000028FB0F26FC0>, '_1': '{\"dataframes\": [], \"user\": \"ANTARIKSHYA\"}', '_i2': '\\nimport json\\nimport getpass\\nimport hashlib\\n\\ndef import_pandas_safely():\\n    try:\\n        return __import__(\\'pandas\\')\\n    except ImportError:\\n        return False\\n\\n\\n__pandas = import_pandas_safely()\\n\\n\\ndef is_data_frame(v: str):\\n    obj = eval(v)\\n    if  isinstance(obj, __pandas.core.frame.DataFrame) or isinstance(obj, __pandas.core.series.Series):\\n        return True\\n\\n\\ndef dataframe_columns(var):\\n    df = eval(var)\\n    if isinstance(df, __pandas.core.series.Series):\\n        return [[df.name, str(df.dtype)]]\\n    return list(map(lambda col: [col, str(df[col].dtype)], df.columns))\\n\\n\\ndef dtypes_str(frame):\\n    return str(eval(frame).dtypes)\\n\\ndef dataframe_hash(var):\\n    # Return a hash including the column names and number of rows\\n    df = eval(var)\\n    if isinstance(df, __pandas.core.series.Series):\\n        return hashlib.sha256(f\"{var}-{df.name},{len(df)}\".encode(\\'utf-8\\')).hexdigest()\\n    return hashlib.sha256(f\"{var}-{\\',\\'.join(df.columns)},{len(df)}\".encode(\\'utf-8\\')).hexdigest()\\n\\ndef get_dataframes():\\n    if __pandas is None:\\n        return []\\n    user = getpass.getuser()\\n    values = %who_ls\\n    dataframes = [\\n        {\\n            \"name\": var,\\n            \"type\": type(eval(var)).__name__,\\n            \"hash\": dataframe_hash(var),\\n            \"cols\": dataframe_columns(var),\\n            \"dtypesStr\": dtypes_str(var),\\n        }\\n        for var in values if is_data_frame(var)\\n    ]\\n    result = {\"dataframes\": dataframes, \"user\": user}\\n    return json.dumps(result, ensure_ascii=False)\\n\\n\\nget_dataframes()', '_2': '{\"dataframes\": [], \"user\": \"ANTARIKSHYA\"}', '_i3': 'L1=[10,12,14,16]\\nit=iter(L1)\\nnext(it)\\nnext(it)\\nnext(it)', 'L1': [10, 12, 14, 16], 'it': <range_iterator object at 0x0000028FAFD63A50>, '_3': 14, '_i4': '\\nimport json\\nimport getpass\\nimport hashlib\\n\\ndef import_pandas_safely():\\n    try:\\n        return __import__(\\'pandas\\')\\n    except ImportError:\\n        return False\\n\\n\\n__pandas = import_pandas_safely()\\n\\n\\ndef is_data_frame(v: str):\\n    obj = eval(v)\\n    if  isinstance(obj, __pandas.core.frame.DataFrame) or isinstance(obj, __pandas.core.series.Series):\\n        return True\\n\\n\\ndef dataframe_columns(var):\\n    df = eval(var)\\n    if isinstance(df, __pandas.core.series.Series):\\n        return [[df.name, str(df.dtype)]]\\n    return list(map(lambda col: [col, str(df[col].dtype)], df.columns))\\n\\n\\ndef dtypes_str(frame):\\n    return str(eval(frame).dtypes)\\n\\ndef dataframe_hash(var):\\n    # Return a hash including the column names and number of rows\\n    df = eval(var)\\n    if isinstance(df, __pandas.core.series.Series):\\n        return hashlib.sha256(f\"{var}-{df.name},{len(df)}\".encode(\\'utf-8\\')).hexdigest()\\n    return hashlib.sha256(f\"{var}-{\\',\\'.join(df.columns)},{len(df)}\".encode(\\'utf-8\\')).hexdigest()\\n\\ndef get_dataframes():\\n    if __pandas is None:\\n        return []\\n    user = getpass.getuser()\\n    values = %who_ls\\n    dataframes = [\\n        {\\n            \"name\": var,\\n            \"type\": type(eval(var)).__name__,\\n            \"hash\": dataframe_hash(var),\\n            \"cols\": dataframe_columns(var),\\n            \"dtypesStr\": dtypes_str(var),\\n        }\\n        for var in values if is_data_frame(var)\\n    ]\\n    result = {\"dataframes\": dataframes, \"user\": user}\\n    return json.dumps(result, ensure_ascii=False)\\n\\n\\nget_dataframes()', '_4': '{\"dataframes\": [], \"user\": \"ANTARIKSHYA\"}', '_i5': 'L1=[10,12,14,16]\\nit=iter(L1)\\nprint(next(it))\\nprint(next(it))\\nprint(next(it))', '_i6': '\\nimport json\\nimport getpass\\nimport hashlib\\n\\ndef import_pandas_safely():\\n    try:\\n        return __import__(\\'pandas\\')\\n    except ImportError:\\n        return False\\n\\n\\n__pandas = import_pandas_safely()\\n\\n\\ndef is_data_frame(v: str):\\n    obj = eval(v)\\n    if  isinstance(obj, __pandas.core.frame.DataFrame) or isinstance(obj, __pandas.core.series.Series):\\n        return True\\n\\n\\ndef dataframe_columns(var):\\n    df = eval(var)\\n    if isinstance(df, __pandas.core.series.Series):\\n        return [[df.name, str(df.dtype)]]\\n    return list(map(lambda col: [col, str(df[col].dtype)], df.columns))\\n\\n\\ndef dtypes_str(frame):\\n    return str(eval(frame).dtypes)\\n\\ndef dataframe_hash(var):\\n    # Return a hash including the column names and number of rows\\n    df = eval(var)\\n    if isinstance(df, __pandas.core.series.Series):\\n        return hashlib.sha256(f\"{var}-{df.name},{len(df)}\".encode(\\'utf-8\\')).hexdigest()\\n    return hashlib.sha256(f\"{var}-{\\',\\'.join(df.columns)},{len(df)}\".encode(\\'utf-8\\')).hexdigest()\\n\\ndef get_dataframes():\\n    if __pandas is None:\\n        return []\\n    user = getpass.getuser()\\n    values = %who_ls\\n    dataframes = [\\n        {\\n            \"name\": var,\\n            \"type\": type(eval(var)).__name__,\\n            \"hash\": dataframe_hash(var),\\n            \"cols\": dataframe_columns(var),\\n            \"dtypesStr\": dtypes_str(var),\\n        }\\n        for var in values if is_data_frame(var)\\n    ]\\n    result = {\"dataframes\": dataframes, \"user\": user}\\n    return json.dumps(result, ensure_ascii=False)\\n\\n\\nget_dataframes()', '_6': '{\"dataframes\": [], \"user\": \"ANTARIKSHYA\"}', '_i7': 's1={10,15,\"python\"}\\nit=iter(s1)\\nprint(next(it))\\nprint(next(it))\\nprint(next(it))', 's1': {10, 'python', 15}, '_i8': '\\nimport json\\nimport getpass\\nimport hashlib\\n\\ndef import_pandas_safely():\\n    try:\\n        return __import__(\\'pandas\\')\\n    except ImportError:\\n        return False\\n\\n\\n__pandas = import_pandas_safely()\\n\\n\\ndef is_data_frame(v: str):\\n    obj = eval(v)\\n    if  isinstance(obj, __pandas.core.frame.DataFrame) or isinstance(obj, __pandas.core.series.Series):\\n        return True\\n\\n\\ndef dataframe_columns(var):\\n    df = eval(var)\\n    if isinstance(df, __pandas.core.series.Series):\\n        return [[df.name, str(df.dtype)]]\\n    return list(map(lambda col: [col, str(df[col].dtype)], df.columns))\\n\\n\\ndef dtypes_str(frame):\\n    return str(eval(frame).dtypes)\\n\\ndef dataframe_hash(var):\\n    # Return a hash including the column names and number of rows\\n    df = eval(var)\\n    if isinstance(df, __pandas.core.series.Series):\\n        return hashlib.sha256(f\"{var}-{df.name},{len(df)}\".encode(\\'utf-8\\')).hexdigest()\\n    return hashlib.sha256(f\"{var}-{\\',\\'.join(df.columns)},{len(df)}\".encode(\\'utf-8\\')).hexdigest()\\n\\ndef get_dataframes():\\n    if __pandas is None:\\n        return []\\n    user = getpass.getuser()\\n    values = %who_ls\\n    dataframes = [\\n        {\\n            \"name\": var,\\n            \"type\": type(eval(var)).__name__,\\n            \"hash\": dataframe_hash(var),\\n            \"cols\": dataframe_columns(var),\\n            \"dtypesStr\": dtypes_str(var),\\n        }\\n        for var in values if is_data_frame(var)\\n    ]\\n    result = {\"dataframes\": dataframes, \"user\": user}\\n    return json.dumps(result, ensure_ascii=False)\\n\\n\\nget_dataframes()', '_8': '{\"dataframes\": [], \"user\": \"ANTARIKSHYA\"}', '_i9': 'd1={1:\"abc\",2:\"def\",3:\"ghi\"}\\nit=iter(d1)\\nprint(next(it))\\nprint(next(it))', 'd1': {1: 'abc', 2: 'def', 3: 'ghi'}, '_i10': '\\nimport json\\nimport getpass\\nimport hashlib\\n\\ndef import_pandas_safely():\\n    try:\\n        return __import__(\\'pandas\\')\\n    except ImportError:\\n        return False\\n\\n\\n__pandas = import_pandas_safely()\\n\\n\\ndef is_data_frame(v: str):\\n    obj = eval(v)\\n    if  isinstance(obj, __pandas.core.frame.DataFrame) or isinstance(obj, __pandas.core.series.Series):\\n        return True\\n\\n\\ndef dataframe_columns(var):\\n    df = eval(var)\\n    if isinstance(df, __pandas.core.series.Series):\\n        return [[df.name, str(df.dtype)]]\\n    return list(map(lambda col: [col, str(df[col].dtype)], df.columns))\\n\\n\\ndef dtypes_str(frame):\\n    return str(eval(frame).dtypes)\\n\\ndef dataframe_hash(var):\\n    # Return a hash including the column names and number of rows\\n    df = eval(var)\\n    if isinstance(df, __pandas.core.series.Series):\\n        return hashlib.sha256(f\"{var}-{df.name},{len(df)}\".encode(\\'utf-8\\')).hexdigest()\\n    return hashlib.sha256(f\"{var}-{\\',\\'.join(df.columns)},{len(df)}\".encode(\\'utf-8\\')).hexdigest()\\n\\ndef get_dataframes():\\n    if __pandas is None:\\n        return []\\n    user = getpass.getuser()\\n    values = %who_ls\\n    dataframes = [\\n        {\\n            \"name\": var,\\n            \"type\": type(eval(var)).__name__,\\n            \"hash\": dataframe_hash(var),\\n            \"cols\": dataframe_columns(var),\\n            \"dtypesStr\": dtypes_str(var),\\n        }\\n        for var in values if is_data_frame(var)\\n    ]\\n    result = {\"dataframes\": dataframes, \"user\": user}\\n    return json.dumps(result, ensure_ascii=False)\\n\\n\\nget_dataframes()', '_10': '{\"dataframes\": [], \"user\": \"ANTARIKSHYA\"}', '_i11': '\\nimport json\\nimport getpass\\nimport hashlib\\n\\ndef import_pandas_safely():\\n    try:\\n        return __import__(\\'pandas\\')\\n    except ImportError:\\n        return False\\n\\n\\n__pandas = import_pandas_safely()\\n\\n\\ndef is_data_frame(v: str):\\n    obj = eval(v)\\n    if  isinstance(obj, __pandas.core.frame.DataFrame) or isinstance(obj, __pandas.core.series.Series):\\n        return True\\n\\n\\ndef dataframe_columns(var):\\n    df = eval(var)\\n    if isinstance(df, __pandas.core.series.Series):\\n        return [[df.name, str(df.dtype)]]\\n    return list(map(lambda col: [col, str(df[col].dtype)], df.columns))\\n\\n\\ndef dtypes_str(frame):\\n    return str(eval(frame).dtypes)\\n\\ndef dataframe_hash(var):\\n    # Return a hash including the column names and number of rows\\n    df = eval(var)\\n    if isinstance(df, __pandas.core.series.Series):\\n        return hashlib.sha256(f\"{var}-{df.name},{len(df)}\".encode(\\'utf-8\\')).hexdigest()\\n    return hashlib.sha256(f\"{var}-{\\',\\'.join(df.columns)},{len(df)}\".encode(\\'utf-8\\')).hexdigest()\\n\\ndef get_dataframes():\\n    if __pandas is None:\\n        return []\\n    user = getpass.getuser()\\n    values = %who_ls\\n    dataframes = [\\n        {\\n            \"name\": var,\\n            \"type\": type(eval(var)).__name__,\\n            \"hash\": dataframe_hash(var),\\n            \"cols\": dataframe_columns(var),\\n            \"dtypesStr\": dtypes_str(var),\\n        }\\n        for var in values if is_data_frame(var)\\n    ]\\n    result = {\"dataframes\": dataframes, \"user\": user}\\n    return json.dumps(result, ensure_ascii=False)\\n\\n\\nget_dataframes()', '_11': '{\"dataframes\": [], \"user\": \"ANTARIKSHYA\"}', '_i12': '\\nimport json\\nimport getpass\\nimport hashlib\\n\\ndef import_pandas_safely():\\n    try:\\n        return __import__(\\'pandas\\')\\n    except ImportError:\\n        return False\\n\\n\\n__pandas = import_pandas_safely()\\n\\n\\ndef is_data_frame(v: str):\\n    obj = eval(v)\\n    if  isinstance(obj, __pandas.core.frame.DataFrame) or isinstance(obj, __pandas.core.series.Series):\\n        return True\\n\\n\\ndef dataframe_columns(var):\\n    df = eval(var)\\n    if isinstance(df, __pandas.core.series.Series):\\n        return [[df.name, str(df.dtype)]]\\n    return list(map(lambda col: [col, str(df[col].dtype)], df.columns))\\n\\n\\ndef dtypes_str(frame):\\n    return str(eval(frame).dtypes)\\n\\ndef dataframe_hash(var):\\n    # Return a hash including the column names and number of rows\\n    df = eval(var)\\n    if isinstance(df, __pandas.core.series.Series):\\n        return hashlib.sha256(f\"{var}-{df.name},{len(df)}\".encode(\\'utf-8\\')).hexdigest()\\n    return hashlib.sha256(f\"{var}-{\\',\\'.join(df.columns)},{len(df)}\".encode(\\'utf-8\\')).hexdigest()\\n\\ndef get_dataframes():\\n    if __pandas is None:\\n        return []\\n    user = getpass.getuser()\\n    values = %who_ls\\n    dataframes = [\\n        {\\n            \"name\": var,\\n            \"type\": type(eval(var)).__name__,\\n            \"hash\": dataframe_hash(var),\\n            \"cols\": dataframe_columns(var),\\n            \"dtypesStr\": dtypes_str(var),\\n        }\\n        for var in values if is_data_frame(var)\\n    ]\\n    result = {\"dataframes\": dataframes, \"user\": user}\\n    return json.dumps(result, ensure_ascii=False)\\n\\n\\nget_dataframes()', '_12': '{\"dataframes\": [], \"user\": \"ANTARIKSHYA\"}', '_i13': 'r=range(5) #Generator Function\\nprint(r)', 'r': range(0, 5), '_i14': '\\nimport json\\nimport getpass\\nimport hashlib\\n\\ndef import_pandas_safely():\\n    try:\\n        return __import__(\\'pandas\\')\\n    except ImportError:\\n        return False\\n\\n\\n__pandas = import_pandas_safely()\\n\\n\\ndef is_data_frame(v: str):\\n    obj = eval(v)\\n    if  isinstance(obj, __pandas.core.frame.DataFrame) or isinstance(obj, __pandas.core.series.Series):\\n        return True\\n\\n\\ndef dataframe_columns(var):\\n    df = eval(var)\\n    if isinstance(df, __pandas.core.series.Series):\\n        return [[df.name, str(df.dtype)]]\\n    return list(map(lambda col: [col, str(df[col].dtype)], df.columns))\\n\\n\\ndef dtypes_str(frame):\\n    return str(eval(frame).dtypes)\\n\\ndef dataframe_hash(var):\\n    # Return a hash including the column names and number of rows\\n    df = eval(var)\\n    if isinstance(df, __pandas.core.series.Series):\\n        return hashlib.sha256(f\"{var}-{df.name},{len(df)}\".encode(\\'utf-8\\')).hexdigest()\\n    return hashlib.sha256(f\"{var}-{\\',\\'.join(df.columns)},{len(df)}\".encode(\\'utf-8\\')).hexdigest()\\n\\ndef get_dataframes():\\n    if __pandas is None:\\n        return []\\n    user = getpass.getuser()\\n    values = %who_ls\\n    dataframes = [\\n        {\\n            \"name\": var,\\n            \"type\": type(eval(var)).__name__,\\n            \"hash\": dataframe_hash(var),\\n            \"cols\": dataframe_columns(var),\\n            \"dtypesStr\": dtypes_str(var),\\n        }\\n        for var in values if is_data_frame(var)\\n    ]\\n    result = {\"dataframes\": dataframes, \"user\": user}\\n    return json.dumps(result, ensure_ascii=False)\\n\\n\\nget_dataframes()', '_14': '{\"dataframes\": [], \"user\": \"ANTARIKSHYA\"}', '_i15': 'r=range(5) #Generator Function\\nprint(r)\\nit=iter(r)\\nprint(next(it))\\nprint(next(it))', '_i16': '\\nimport json\\nimport getpass\\nimport hashlib\\n\\ndef import_pandas_safely():\\n    try:\\n        return __import__(\\'pandas\\')\\n    except ImportError:\\n        return False\\n\\n\\n__pandas = import_pandas_safely()\\n\\n\\ndef is_data_frame(v: str):\\n    obj = eval(v)\\n    if  isinstance(obj, __pandas.core.frame.DataFrame) or isinstance(obj, __pandas.core.series.Series):\\n        return True\\n\\n\\ndef dataframe_columns(var):\\n    df = eval(var)\\n    if isinstance(df, __pandas.core.series.Series):\\n        return [[df.name, str(df.dtype)]]\\n    return list(map(lambda col: [col, str(df[col].dtype)], df.columns))\\n\\n\\ndef dtypes_str(frame):\\n    return str(eval(frame).dtypes)\\n\\ndef dataframe_hash(var):\\n    # Return a hash including the column names and number of rows\\n    df = eval(var)\\n    if isinstance(df, __pandas.core.series.Series):\\n        return hashlib.sha256(f\"{var}-{df.name},{len(df)}\".encode(\\'utf-8\\')).hexdigest()\\n    return hashlib.sha256(f\"{var}-{\\',\\'.join(df.columns)},{len(df)}\".encode(\\'utf-8\\')).hexdigest()\\n\\ndef get_dataframes():\\n    if __pandas is None:\\n        return []\\n    user = getpass.getuser()\\n    values = %who_ls\\n    dataframes = [\\n        {\\n            \"name\": var,\\n            \"type\": type(eval(var)).__name__,\\n            \"hash\": dataframe_hash(var),\\n            \"cols\": dataframe_columns(var),\\n            \"dtypesStr\": dtypes_str(var),\\n        }\\n        for var in values if is_data_frame(var)\\n    ]\\n    result = {\"dataframes\": dataframes, \"user\": user}\\n    return json.dumps(result, ensure_ascii=False)\\n\\n\\nget_dataframes()', '_16': '{\"dataframes\": [], \"user\": \"ANTARIKSHYA\"}', '_i17': '#Writing own Generator Function\\ndef myrange(n):\\n    i=0\\n    while(i<n):\\n        yield i\\n        i+=1\\n\\nm=myrange(5)\\nprint(next(m))\\nprint(next(m))\\nprint(next(m))', 'myrange': <function myrange at 0x0000028FAE859800>, 'm': <generator object days at 0x0000028FAE2F9180>, '_i18': '\\nimport json\\nimport getpass\\nimport hashlib\\n\\ndef import_pandas_safely():\\n    try:\\n        return __import__(\\'pandas\\')\\n    except ImportError:\\n        return False\\n\\n\\n__pandas = import_pandas_safely()\\n\\n\\ndef is_data_frame(v: str):\\n    obj = eval(v)\\n    if  isinstance(obj, __pandas.core.frame.DataFrame) or isinstance(obj, __pandas.core.series.Series):\\n        return True\\n\\n\\ndef dataframe_columns(var):\\n    df = eval(var)\\n    if isinstance(df, __pandas.core.series.Series):\\n        return [[df.name, str(df.dtype)]]\\n    return list(map(lambda col: [col, str(df[col].dtype)], df.columns))\\n\\n\\ndef dtypes_str(frame):\\n    return str(eval(frame).dtypes)\\n\\ndef dataframe_hash(var):\\n    # Return a hash including the column names and number of rows\\n    df = eval(var)\\n    if isinstance(df, __pandas.core.series.Series):\\n        return hashlib.sha256(f\"{var}-{df.name},{len(df)}\".encode(\\'utf-8\\')).hexdigest()\\n    return hashlib.sha256(f\"{var}-{\\',\\'.join(df.columns)},{len(df)}\".encode(\\'utf-8\\')).hexdigest()\\n\\ndef get_dataframes():\\n    if __pandas is None:\\n        return []\\n    user = getpass.getuser()\\n    values = %who_ls\\n    dataframes = [\\n        {\\n            \"name\": var,\\n            \"type\": type(eval(var)).__name__,\\n            \"hash\": dataframe_hash(var),\\n            \"cols\": dataframe_columns(var),\\n            \"dtypesStr\": dtypes_str(var),\\n        }\\n        for var in values if is_data_frame(var)\\n    ]\\n    result = {\"dataframes\": dataframes, \"user\": user}\\n    return json.dumps(result, ensure_ascii=False)\\n\\n\\nget_dataframes()', '_18': '{\"dataframes\": [], \"user\": \"ANTARIKSHYA\"}', '_i19': '#Writing own Generator Function\\ndef myrange(n):\\n    i=0\\n    while(i<n):\\n        yield i\\n        i+=1\\n\\nm=myrange(5)\\nprint(next(m))\\nprint(next(m))\\nprint(next(m))\\nprint(next(m))', '_i20': '\\nimport json\\nimport getpass\\nimport hashlib\\n\\ndef import_pandas_safely():\\n    try:\\n        return __import__(\\'pandas\\')\\n    except ImportError:\\n        return False\\n\\n\\n__pandas = import_pandas_safely()\\n\\n\\ndef is_data_frame(v: str):\\n    obj = eval(v)\\n    if  isinstance(obj, __pandas.core.frame.DataFrame) or isinstance(obj, __pandas.core.series.Series):\\n        return True\\n\\n\\ndef dataframe_columns(var):\\n    df = eval(var)\\n    if isinstance(df, __pandas.core.series.Series):\\n        return [[df.name, str(df.dtype)]]\\n    return list(map(lambda col: [col, str(df[col].dtype)], df.columns))\\n\\n\\ndef dtypes_str(frame):\\n    return str(eval(frame).dtypes)\\n\\ndef dataframe_hash(var):\\n    # Return a hash including the column names and number of rows\\n    df = eval(var)\\n    if isinstance(df, __pandas.core.series.Series):\\n        return hashlib.sha256(f\"{var}-{df.name},{len(df)}\".encode(\\'utf-8\\')).hexdigest()\\n    return hashlib.sha256(f\"{var}-{\\',\\'.join(df.columns)},{len(df)}\".encode(\\'utf-8\\')).hexdigest()\\n\\ndef get_dataframes():\\n    if __pandas is None:\\n        return []\\n    user = getpass.getuser()\\n    values = %who_ls\\n    dataframes = [\\n        {\\n            \"name\": var,\\n            \"type\": type(eval(var)).__name__,\\n            \"hash\": dataframe_hash(var),\\n            \"cols\": dataframe_columns(var),\\n            \"dtypesStr\": dtypes_str(var),\\n        }\\n        for var in values if is_data_frame(var)\\n    ]\\n    result = {\"dataframes\": dataframes, \"user\": user}\\n    return json.dumps(result, ensure_ascii=False)\\n\\n\\nget_dataframes()', '_20': '{\"dataframes\": [], \"user\": \"ANTARIKSHYA\"}', '_i21': '#Writing own Generator Function\\ndef myrange(n):\\n    i=0\\n    while(i<n):\\n        yield i #important usage\\n        i+=1\\n\\nm=myrange(5)\\nprint(next(m))\\nprint(next(m))\\nprint(next(m))\\nprint(next(m))', '_i22': '\\nimport json\\nimport getpass\\nimport hashlib\\n\\ndef import_pandas_safely():\\n    try:\\n        return __import__(\\'pandas\\')\\n    except ImportError:\\n        return False\\n\\n\\n__pandas = import_pandas_safely()\\n\\n\\ndef is_data_frame(v: str):\\n    obj = eval(v)\\n    if  isinstance(obj, __pandas.core.frame.DataFrame) or isinstance(obj, __pandas.core.series.Series):\\n        return True\\n\\n\\ndef dataframe_columns(var):\\n    df = eval(var)\\n    if isinstance(df, __pandas.core.series.Series):\\n        return [[df.name, str(df.dtype)]]\\n    return list(map(lambda col: [col, str(df[col].dtype)], df.columns))\\n\\n\\ndef dtypes_str(frame):\\n    return str(eval(frame).dtypes)\\n\\ndef dataframe_hash(var):\\n    # Return a hash including the column names and number of rows\\n    df = eval(var)\\n    if isinstance(df, __pandas.core.series.Series):\\n        return hashlib.sha256(f\"{var}-{df.name},{len(df)}\".encode(\\'utf-8\\')).hexdigest()\\n    return hashlib.sha256(f\"{var}-{\\',\\'.join(df.columns)},{len(df)}\".encode(\\'utf-8\\')).hexdigest()\\n\\ndef get_dataframes():\\n    if __pandas is None:\\n        return []\\n    user = getpass.getuser()\\n    values = %who_ls\\n    dataframes = [\\n        {\\n            \"name\": var,\\n            \"type\": type(eval(var)).__name__,\\n            \"hash\": dataframe_hash(var),\\n            \"cols\": dataframe_columns(var),\\n            \"dtypesStr\": dtypes_str(var),\\n        }\\n        for var in values if is_data_frame(var)\\n    ]\\n    result = {\"dataframes\": dataframes, \"user\": user}\\n    return json.dumps(result, ensure_ascii=False)\\n\\n\\nget_dataframes()', '_22': '{\"dataframes\": [], \"user\": \"ANTARIKSHYA\"}', '_i23': 'li=[\"sun\",\"mon\",\"tue\",\"wed\",\"thu\",\"fri\",\"sat\"]\\ndef days():\\n    i=0\\n    while(true):\\n        if(i==7):\\n            i=0\\n        yield li[i]\\n        i+=1\\n\\nm=days()\\nprint(next(m))', 'li': ['sun', 'mon', 'tue', 'wed', 'thu', 'fri', 'sat'], 'days': <function days at 0x0000028FAFEDB9C0>, '_i24': '\\nimport json\\nimport getpass\\nimport hashlib\\n\\ndef import_pandas_safely():\\n    try:\\n        return __import__(\\'pandas\\')\\n    except ImportError:\\n        return False\\n\\n\\n__pandas = import_pandas_safely()\\n\\n\\ndef is_data_frame(v: str):\\n    obj = eval(v)\\n    if  isinstance(obj, __pandas.core.frame.DataFrame) or isinstance(obj, __pandas.core.series.Series):\\n        return True\\n\\n\\ndef dataframe_columns(var):\\n    df = eval(var)\\n    if isinstance(df, __pandas.core.series.Series):\\n        return [[df.name, str(df.dtype)]]\\n    return list(map(lambda col: [col, str(df[col].dtype)], df.columns))\\n\\n\\ndef dtypes_str(frame):\\n    return str(eval(frame).dtypes)\\n\\ndef dataframe_hash(var):\\n    # Return a hash including the column names and number of rows\\n    df = eval(var)\\n    if isinstance(df, __pandas.core.series.Series):\\n        return hashlib.sha256(f\"{var}-{df.name},{len(df)}\".encode(\\'utf-8\\')).hexdigest()\\n    return hashlib.sha256(f\"{var}-{\\',\\'.join(df.columns)},{len(df)}\".encode(\\'utf-8\\')).hexdigest()\\n\\ndef get_dataframes():\\n    if __pandas is None:\\n        return []\\n    user = getpass.getuser()\\n    values = %who_ls\\n    dataframes = [\\n        {\\n            \"name\": var,\\n            \"type\": type(eval(var)).__name__,\\n            \"hash\": dataframe_hash(var),\\n            \"cols\": dataframe_columns(var),\\n            \"dtypesStr\": dtypes_str(var),\\n        }\\n        for var in values if is_data_frame(var)\\n    ]\\n    result = {\"dataframes\": dataframes, \"user\": user}\\n    return json.dumps(result, ensure_ascii=False)\\n\\n\\nget_dataframes()', '_24': '{\"dataframes\": [], \"user\": \"ANTARIKSHYA\"}', '_i25': 'li=[\"sun\",\"mon\",\"tue\",\"wed\",\"thu\",\"fri\",\"sat\"]\\ndef days():\\n    i=0\\n    while(True):\\n        if(i==7):\\n            i=0\\n        yield li[i]\\n        i+=1\\n\\nm=days()\\nprint(next(m))', '_i26': '\\nimport json\\nimport getpass\\nimport hashlib\\n\\ndef import_pandas_safely():\\n    try:\\n        return __import__(\\'pandas\\')\\n    except ImportError:\\n        return False\\n\\n\\n__pandas = import_pandas_safely()\\n\\n\\ndef is_data_frame(v: str):\\n    obj = eval(v)\\n    if  isinstance(obj, __pandas.core.frame.DataFrame) or isinstance(obj, __pandas.core.series.Series):\\n        return True\\n\\n\\ndef dataframe_columns(var):\\n    df = eval(var)\\n    if isinstance(df, __pandas.core.series.Series):\\n        return [[df.name, str(df.dtype)]]\\n    return list(map(lambda col: [col, str(df[col].dtype)], df.columns))\\n\\n\\ndef dtypes_str(frame):\\n    return str(eval(frame).dtypes)\\n\\ndef dataframe_hash(var):\\n    # Return a hash including the column names and number of rows\\n    df = eval(var)\\n    if isinstance(df, __pandas.core.series.Series):\\n        return hashlib.sha256(f\"{var}-{df.name},{len(df)}\".encode(\\'utf-8\\')).hexdigest()\\n    return hashlib.sha256(f\"{var}-{\\',\\'.join(df.columns)},{len(df)}\".encode(\\'utf-8\\')).hexdigest()\\n\\ndef get_dataframes():\\n    if __pandas is None:\\n        return []\\n    user = getpass.getuser()\\n    values = %who_ls\\n    dataframes = [\\n        {\\n            \"name\": var,\\n            \"type\": type(eval(var)).__name__,\\n            \"hash\": dataframe_hash(var),\\n            \"cols\": dataframe_columns(var),\\n            \"dtypesStr\": dtypes_str(var),\\n        }\\n        for var in values if is_data_frame(var)\\n    ]\\n    result = {\"dataframes\": dataframes, \"user\": user}\\n    return json.dumps(result, ensure_ascii=False)\\n\\n\\nget_dataframes()', '_26': '{\"dataframes\": [], \"user\": \"ANTARIKSHYA\"}', '_i27': 'li=[\"sun\",\"mon\",\"tue\",\"wed\",\"thu\",\"fri\",\"sat\"]\\ndef days():\\n    i=0\\n    while(True):\\n        if(i==7):\\n            i=0\\n        yield li[i]\\n        i+=1\\n\\nm=days()\\nprint(next(m))\\nprint(next(m))\\nprint(next(m))\\nprint(next(m))\\nprint(next(m))\\nprint(next(m))\\nprint(next(m))\\nprint(next(m))\\nprint(next(m))\\nprint(next(m))', '_i28': '\\nimport json\\nimport getpass\\nimport hashlib\\n\\ndef import_pandas_safely():\\n    try:\\n        return __import__(\\'pandas\\')\\n    except ImportError:\\n        return False\\n\\n\\n__pandas = import_pandas_safely()\\n\\n\\ndef is_data_frame(v: str):\\n    obj = eval(v)\\n    if  isinstance(obj, __pandas.core.frame.DataFrame) or isinstance(obj, __pandas.core.series.Series):\\n        return True\\n\\n\\ndef dataframe_columns(var):\\n    df = eval(var)\\n    if isinstance(df, __pandas.core.series.Series):\\n        return [[df.name, str(df.dtype)]]\\n    return list(map(lambda col: [col, str(df[col].dtype)], df.columns))\\n\\n\\ndef dtypes_str(frame):\\n    return str(eval(frame).dtypes)\\n\\ndef dataframe_hash(var):\\n    # Return a hash including the column names and number of rows\\n    df = eval(var)\\n    if isinstance(df, __pandas.core.series.Series):\\n        return hashlib.sha256(f\"{var}-{df.name},{len(df)}\".encode(\\'utf-8\\')).hexdigest()\\n    return hashlib.sha256(f\"{var}-{\\',\\'.join(df.columns)},{len(df)}\".encode(\\'utf-8\\')).hexdigest()\\n\\ndef get_dataframes():\\n    if __pandas is None:\\n        return []\\n    user = getpass.getuser()\\n    values = %who_ls\\n    dataframes = [\\n        {\\n            \"name\": var,\\n            \"type\": type(eval(var)).__name__,\\n            \"hash\": dataframe_hash(var),\\n            \"cols\": dataframe_columns(var),\\n            \"dtypesStr\": dtypes_str(var),\\n        }\\n        for var in values if is_data_frame(var)\\n    ]\\n    result = {\"dataframes\": dataframes, \"user\": user}\\n    return json.dumps(result, ensure_ascii=False)\\n\\n\\nget_dataframes()', '_28': '{\"dataframes\": [], \"user\": \"ANTARIKSHYA\"}', '_i29': '\\nimport json\\nimport getpass\\nimport hashlib\\n\\ndef import_pandas_safely():\\n    try:\\n        return __import__(\\'pandas\\')\\n    except ImportError:\\n        return False\\n\\n\\n__pandas = import_pandas_safely()\\n\\n\\ndef is_data_frame(v: str):\\n    obj = eval(v)\\n    if  isinstance(obj, __pandas.core.frame.DataFrame) or isinstance(obj, __pandas.core.series.Series):\\n        return True\\n\\n\\ndef dataframe_columns(var):\\n    df = eval(var)\\n    if isinstance(df, __pandas.core.series.Series):\\n        return [[df.name, str(df.dtype)]]\\n    return list(map(lambda col: [col, str(df[col].dtype)], df.columns))\\n\\n\\ndef dtypes_str(frame):\\n    return str(eval(frame).dtypes)\\n\\ndef dataframe_hash(var):\\n    # Return a hash including the column names and number of rows\\n    df = eval(var)\\n    if isinstance(df, __pandas.core.series.Series):\\n        return hashlib.sha256(f\"{var}-{df.name},{len(df)}\".encode(\\'utf-8\\')).hexdigest()\\n    return hashlib.sha256(f\"{var}-{\\',\\'.join(df.columns)},{len(df)}\".encode(\\'utf-8\\')).hexdigest()\\n\\ndef get_dataframes():\\n    if __pandas is None:\\n        return []\\n    user = getpass.getuser()\\n    values = %who_ls\\n    dataframes = [\\n        {\\n            \"name\": var,\\n            \"type\": type(eval(var)).__name__,\\n            \"hash\": dataframe_hash(var),\\n            \"cols\": dataframe_columns(var),\\n            \"dtypesStr\": dtypes_str(var),\\n        }\\n        for var in values if is_data_frame(var)\\n    ]\\n    result = {\"dataframes\": dataframes, \"user\": user}\\n    return json.dumps(result, ensure_ascii=False)\\n\\n\\nget_dataframes()', '_29': '{\"dataframes\": [], \"user\": \"ANTARIKSHYA\"}', '_i30': 'g=5.25\\nprint(\"Outside-1:\",g)\\n\\ndef fun():\\n    a=10 #local variable\\n    print(\"Local:\",a)\\n    print(\"Global:\",g)\\n\\nfun()\\nprint(\"Outside-2:\",g)', 'g': 99, 'fun': <function fun at 0x0000028FAE859D00>, '_i31': '\\nimport json\\nimport getpass\\nimport hashlib\\n\\ndef import_pandas_safely():\\n    try:\\n        return __import__(\\'pandas\\')\\n    except ImportError:\\n        return False\\n\\n\\n__pandas = import_pandas_safely()\\n\\n\\ndef is_data_frame(v: str):\\n    obj = eval(v)\\n    if  isinstance(obj, __pandas.core.frame.DataFrame) or isinstance(obj, __pandas.core.series.Series):\\n        return True\\n\\n\\ndef dataframe_columns(var):\\n    df = eval(var)\\n    if isinstance(df, __pandas.core.series.Series):\\n        return [[df.name, str(df.dtype)]]\\n    return list(map(lambda col: [col, str(df[col].dtype)], df.columns))\\n\\n\\ndef dtypes_str(frame):\\n    return str(eval(frame).dtypes)\\n\\ndef dataframe_hash(var):\\n    # Return a hash including the column names and number of rows\\n    df = eval(var)\\n    if isinstance(df, __pandas.core.series.Series):\\n        return hashlib.sha256(f\"{var}-{df.name},{len(df)}\".encode(\\'utf-8\\')).hexdigest()\\n    return hashlib.sha256(f\"{var}-{\\',\\'.join(df.columns)},{len(df)}\".encode(\\'utf-8\\')).hexdigest()\\n\\ndef get_dataframes():\\n    if __pandas is None:\\n        return []\\n    user = getpass.getuser()\\n    values = %who_ls\\n    dataframes = [\\n        {\\n            \"name\": var,\\n            \"type\": type(eval(var)).__name__,\\n            \"hash\": dataframe_hash(var),\\n            \"cols\": dataframe_columns(var),\\n            \"dtypesStr\": dtypes_str(var),\\n        }\\n        for var in values if is_data_frame(var)\\n    ]\\n    result = {\"dataframes\": dataframes, \"user\": user}\\n    return json.dumps(result, ensure_ascii=False)\\n\\n\\nget_dataframes()', '_31': '{\"dataframes\": [], \"user\": \"ANTARIKSHYA\"}', '_i32': 'g=5.25\\nprint(\"Outside-1:\",g)\\n\\ndef fun():\\n    a=10 #local variable\\n    print(\"Local:\",a)\\n    print(\"Global:\",g)\\n\\nfun()\\nprint(\"Outside-2:\",g)', '_i33': '\\nimport json\\nimport getpass\\nimport hashlib\\n\\ndef import_pandas_safely():\\n    try:\\n        return __import__(\\'pandas\\')\\n    except ImportError:\\n        return False\\n\\n\\n__pandas = import_pandas_safely()\\n\\n\\ndef is_data_frame(v: str):\\n    obj = eval(v)\\n    if  isinstance(obj, __pandas.core.frame.DataFrame) or isinstance(obj, __pandas.core.series.Series):\\n        return True\\n\\n\\ndef dataframe_columns(var):\\n    df = eval(var)\\n    if isinstance(df, __pandas.core.series.Series):\\n        return [[df.name, str(df.dtype)]]\\n    return list(map(lambda col: [col, str(df[col].dtype)], df.columns))\\n\\n\\ndef dtypes_str(frame):\\n    return str(eval(frame).dtypes)\\n\\ndef dataframe_hash(var):\\n    # Return a hash including the column names and number of rows\\n    df = eval(var)\\n    if isinstance(df, __pandas.core.series.Series):\\n        return hashlib.sha256(f\"{var}-{df.name},{len(df)}\".encode(\\'utf-8\\')).hexdigest()\\n    return hashlib.sha256(f\"{var}-{\\',\\'.join(df.columns)},{len(df)}\".encode(\\'utf-8\\')).hexdigest()\\n\\ndef get_dataframes():\\n    if __pandas is None:\\n        return []\\n    user = getpass.getuser()\\n    values = %who_ls\\n    dataframes = [\\n        {\\n            \"name\": var,\\n            \"type\": type(eval(var)).__name__,\\n            \"hash\": dataframe_hash(var),\\n            \"cols\": dataframe_columns(var),\\n            \"dtypesStr\": dtypes_str(var),\\n        }\\n        for var in values if is_data_frame(var)\\n    ]\\n    result = {\"dataframes\": dataframes, \"user\": user}\\n    return json.dumps(result, ensure_ascii=False)\\n\\n\\nget_dataframes()', '_33': '{\"dataframes\": [], \"user\": \"ANTARIKSHYA\"}', '_i34': 'g=5.25\\nprint(\"Outside-1:\",g)\\n\\ndef fun():\\n    a=10 #local variable\\n    g=99\\n    print(\"Local:\",a)\\n    print(\"Global:\",g)\\n\\nfun()\\nprint(\"Outside-2:\",g)', '_i35': '\\nimport json\\nimport getpass\\nimport hashlib\\n\\ndef import_pandas_safely():\\n    try:\\n        return __import__(\\'pandas\\')\\n    except ImportError:\\n        return False\\n\\n\\n__pandas = import_pandas_safely()\\n\\n\\ndef is_data_frame(v: str):\\n    obj = eval(v)\\n    if  isinstance(obj, __pandas.core.frame.DataFrame) or isinstance(obj, __pandas.core.series.Series):\\n        return True\\n\\n\\ndef dataframe_columns(var):\\n    df = eval(var)\\n    if isinstance(df, __pandas.core.series.Series):\\n        return [[df.name, str(df.dtype)]]\\n    return list(map(lambda col: [col, str(df[col].dtype)], df.columns))\\n\\n\\ndef dtypes_str(frame):\\n    return str(eval(frame).dtypes)\\n\\ndef dataframe_hash(var):\\n    # Return a hash including the column names and number of rows\\n    df = eval(var)\\n    if isinstance(df, __pandas.core.series.Series):\\n        return hashlib.sha256(f\"{var}-{df.name},{len(df)}\".encode(\\'utf-8\\')).hexdigest()\\n    return hashlib.sha256(f\"{var}-{\\',\\'.join(df.columns)},{len(df)}\".encode(\\'utf-8\\')).hexdigest()\\n\\ndef get_dataframes():\\n    if __pandas is None:\\n        return []\\n    user = getpass.getuser()\\n    values = %who_ls\\n    dataframes = [\\n        {\\n            \"name\": var,\\n            \"type\": type(eval(var)).__name__,\\n            \"hash\": dataframe_hash(var),\\n            \"cols\": dataframe_columns(var),\\n            \"dtypesStr\": dtypes_str(var),\\n        }\\n        for var in values if is_data_frame(var)\\n    ]\\n    result = {\"dataframes\": dataframes, \"user\": user}\\n    return json.dumps(result, ensure_ascii=False)\\n\\n\\nget_dataframes()', '_35': '{\"dataframes\": [], \"user\": \"ANTARIKSHYA\"}', '_i36': 'g=5.25\\nprint(\"Outside-1:\",g)\\n\\ndef fun():\\n    global g\\n    a=10 #local variable\\n    g=99\\n    print(\"Local:\",a)\\n    print(\"Global:\",g)\\n\\nfun()\\nprint(\"Outside-2:\",g)', '_i37': '\\nimport json\\nimport getpass\\nimport hashlib\\n\\ndef import_pandas_safely():\\n    try:\\n        return __import__(\\'pandas\\')\\n    except ImportError:\\n        return False\\n\\n\\n__pandas = import_pandas_safely()\\n\\n\\ndef is_data_frame(v: str):\\n    obj = eval(v)\\n    if  isinstance(obj, __pandas.core.frame.DataFrame) or isinstance(obj, __pandas.core.series.Series):\\n        return True\\n\\n\\ndef dataframe_columns(var):\\n    df = eval(var)\\n    if isinstance(df, __pandas.core.series.Series):\\n        return [[df.name, str(df.dtype)]]\\n    return list(map(lambda col: [col, str(df[col].dtype)], df.columns))\\n\\n\\ndef dtypes_str(frame):\\n    return str(eval(frame).dtypes)\\n\\ndef dataframe_hash(var):\\n    # Return a hash including the column names and number of rows\\n    df = eval(var)\\n    if isinstance(df, __pandas.core.series.Series):\\n        return hashlib.sha256(f\"{var}-{df.name},{len(df)}\".encode(\\'utf-8\\')).hexdigest()\\n    return hashlib.sha256(f\"{var}-{\\',\\'.join(df.columns)},{len(df)}\".encode(\\'utf-8\\')).hexdigest()\\n\\ndef get_dataframes():\\n    if __pandas is None:\\n        return []\\n    user = getpass.getuser()\\n    values = %who_ls\\n    dataframes = [\\n        {\\n            \"name\": var,\\n            \"type\": type(eval(var)).__name__,\\n            \"hash\": dataframe_hash(var),\\n            \"cols\": dataframe_columns(var),\\n            \"dtypesStr\": dtypes_str(var),\\n        }\\n        for var in values if is_data_frame(var)\\n    ]\\n    result = {\"dataframes\": dataframes, \"user\": user}\\n    return json.dumps(result, ensure_ascii=False)\\n\\n\\nget_dataframes()', '_37': '{\"dataframes\": [], \"user\": \"ANTARIKSHYA\"}', '_i38': 'g=5.25\\nprint(\"Outside-1:\",g)\\n\\ndef fun():\\n    global g #emphasizing usage of Global Variable\\n    a=10 #local variable\\n    g=99\\n    print(\"Local:\",a)\\n    print(\"Global:\",g)\\n\\nfun()\\nprint(\"Outside-2:\",g)', '_i39': '\\nimport json\\nimport getpass\\nimport hashlib\\n\\ndef import_pandas_safely():\\n    try:\\n        return __import__(\\'pandas\\')\\n    except ImportError:\\n        return False\\n\\n\\n__pandas = import_pandas_safely()\\n\\n\\ndef is_data_frame(v: str):\\n    obj = eval(v)\\n    if  isinstance(obj, __pandas.core.frame.DataFrame) or isinstance(obj, __pandas.core.series.Series):\\n        return True\\n\\n\\ndef dataframe_columns(var):\\n    df = eval(var)\\n    if isinstance(df, __pandas.core.series.Series):\\n        return [[df.name, str(df.dtype)]]\\n    return list(map(lambda col: [col, str(df[col].dtype)], df.columns))\\n\\n\\ndef dtypes_str(frame):\\n    return str(eval(frame).dtypes)\\n\\ndef dataframe_hash(var):\\n    # Return a hash including the column names and number of rows\\n    df = eval(var)\\n    if isinstance(df, __pandas.core.series.Series):\\n        return hashlib.sha256(f\"{var}-{df.name},{len(df)}\".encode(\\'utf-8\\')).hexdigest()\\n    return hashlib.sha256(f\"{var}-{\\',\\'.join(df.columns)},{len(df)}\".encode(\\'utf-8\\')).hexdigest()\\n\\ndef get_dataframes():\\n    if __pandas is None:\\n        return []\\n    user = getpass.getuser()\\n    values = %who_ls\\n    dataframes = [\\n        {\\n            \"name\": var,\\n            \"type\": type(eval(var)).__name__,\\n            \"hash\": dataframe_hash(var),\\n            \"cols\": dataframe_columns(var),\\n            \"dtypesStr\": dtypes_str(var),\\n        }\\n        for var in values if is_data_frame(var)\\n    ]\\n    result = {\"dataframes\": dataframes, \"user\": user}\\n    return json.dumps(result, ensure_ascii=False)\\n\\n\\nget_dataframes()', '_39': '{\"dataframes\": [], \"user\": \"ANTARIKSHYA\"}', '_i40': '\\nimport json\\nimport getpass\\nimport hashlib\\n\\ndef import_pandas_safely():\\n    try:\\n        return __import__(\\'pandas\\')\\n    except ImportError:\\n        return False\\n\\n\\n__pandas = import_pandas_safely()\\n\\n\\ndef is_data_frame(v: str):\\n    obj = eval(v)\\n    if  isinstance(obj, __pandas.core.frame.DataFrame) or isinstance(obj, __pandas.core.series.Series):\\n        return True\\n\\n\\ndef dataframe_columns(var):\\n    df = eval(var)\\n    if isinstance(df, __pandas.core.series.Series):\\n        return [[df.name, str(df.dtype)]]\\n    return list(map(lambda col: [col, str(df[col].dtype)], df.columns))\\n\\n\\ndef dtypes_str(frame):\\n    return str(eval(frame).dtypes)\\n\\ndef dataframe_hash(var):\\n    # Return a hash including the column names and number of rows\\n    df = eval(var)\\n    if isinstance(df, __pandas.core.series.Series):\\n        return hashlib.sha256(f\"{var}-{df.name},{len(df)}\".encode(\\'utf-8\\')).hexdigest()\\n    return hashlib.sha256(f\"{var}-{\\',\\'.join(df.columns)},{len(df)}\".encode(\\'utf-8\\')).hexdigest()\\n\\ndef get_dataframes():\\n    if __pandas is None:\\n        return []\\n    user = getpass.getuser()\\n    values = %who_ls\\n    dataframes = [\\n        {\\n            \"name\": var,\\n            \"type\": type(eval(var)).__name__,\\n            \"hash\": dataframe_hash(var),\\n            \"cols\": dataframe_columns(var),\\n            \"dtypesStr\": dtypes_str(var),\\n        }\\n        for var in values if is_data_frame(var)\\n    ]\\n    result = {\"dataframes\": dataframes, \"user\": user}\\n    return json.dumps(result, ensure_ascii=False)\\n\\n\\nget_dataframes()', '_40': '{\"dataframes\": [], \"user\": \"ANTARIKSHYA\"}', '_i41': 'x=10,y=2.5,z=\"False\"\\n\\ndef fun():\\n    a=10,b=25.36,c=True\\n    print(locals)\\n    print(globals)\\n\\nfun()', '_i42': '\\nimport json\\nimport getpass\\nimport hashlib\\n\\ndef import_pandas_safely():\\n    try:\\n        return __import__(\\'pandas\\')\\n    except ImportError:\\n        return False\\n\\n\\n__pandas = import_pandas_safely()\\n\\n\\ndef is_data_frame(v: str):\\n    obj = eval(v)\\n    if  isinstance(obj, __pandas.core.frame.DataFrame) or isinstance(obj, __pandas.core.series.Series):\\n        return True\\n\\n\\ndef dataframe_columns(var):\\n    df = eval(var)\\n    if isinstance(df, __pandas.core.series.Series):\\n        return [[df.name, str(df.dtype)]]\\n    return list(map(lambda col: [col, str(df[col].dtype)], df.columns))\\n\\n\\ndef dtypes_str(frame):\\n    return str(eval(frame).dtypes)\\n\\ndef dataframe_hash(var):\\n    # Return a hash including the column names and number of rows\\n    df = eval(var)\\n    if isinstance(df, __pandas.core.series.Series):\\n        return hashlib.sha256(f\"{var}-{df.name},{len(df)}\".encode(\\'utf-8\\')).hexdigest()\\n    return hashlib.sha256(f\"{var}-{\\',\\'.join(df.columns)},{len(df)}\".encode(\\'utf-8\\')).hexdigest()\\n\\ndef get_dataframes():\\n    if __pandas is None:\\n        return []\\n    user = getpass.getuser()\\n    values = %who_ls\\n    dataframes = [\\n        {\\n            \"name\": var,\\n            \"type\": type(eval(var)).__name__,\\n            \"hash\": dataframe_hash(var),\\n            \"cols\": dataframe_columns(var),\\n            \"dtypesStr\": dtypes_str(var),\\n        }\\n        for var in values if is_data_frame(var)\\n    ]\\n    result = {\"dataframes\": dataframes, \"user\": user}\\n    return json.dumps(result, ensure_ascii=False)\\n\\n\\nget_dataframes()', '_42': '{\"dataframes\": [], \"user\": \"ANTARIKSHYA\"}', '_i43': 'x=10\\ny=2.5\\nz=\"False\"\\n\\ndef fun():\\n    a=10,b=25.36,c=True\\n    print(locals)\\n    print(globals)\\n\\nfun()', '_i44': '\\nimport json\\nimport getpass\\nimport hashlib\\n\\ndef import_pandas_safely():\\n    try:\\n        return __import__(\\'pandas\\')\\n    except ImportError:\\n        return False\\n\\n\\n__pandas = import_pandas_safely()\\n\\n\\ndef is_data_frame(v: str):\\n    obj = eval(v)\\n    if  isinstance(obj, __pandas.core.frame.DataFrame) or isinstance(obj, __pandas.core.series.Series):\\n        return True\\n\\n\\ndef dataframe_columns(var):\\n    df = eval(var)\\n    if isinstance(df, __pandas.core.series.Series):\\n        return [[df.name, str(df.dtype)]]\\n    return list(map(lambda col: [col, str(df[col].dtype)], df.columns))\\n\\n\\ndef dtypes_str(frame):\\n    return str(eval(frame).dtypes)\\n\\ndef dataframe_hash(var):\\n    # Return a hash including the column names and number of rows\\n    df = eval(var)\\n    if isinstance(df, __pandas.core.series.Series):\\n        return hashlib.sha256(f\"{var}-{df.name},{len(df)}\".encode(\\'utf-8\\')).hexdigest()\\n    return hashlib.sha256(f\"{var}-{\\',\\'.join(df.columns)},{len(df)}\".encode(\\'utf-8\\')).hexdigest()\\n\\ndef get_dataframes():\\n    if __pandas is None:\\n        return []\\n    user = getpass.getuser()\\n    values = %who_ls\\n    dataframes = [\\n        {\\n            \"name\": var,\\n            \"type\": type(eval(var)).__name__,\\n            \"hash\": dataframe_hash(var),\\n            \"cols\": dataframe_columns(var),\\n            \"dtypesStr\": dtypes_str(var),\\n        }\\n        for var in values if is_data_frame(var)\\n    ]\\n    result = {\"dataframes\": dataframes, \"user\": user}\\n    return json.dumps(result, ensure_ascii=False)\\n\\n\\nget_dataframes()', '_44': '{\"dataframes\": [], \"user\": \"ANTARIKSHYA\"}', '_i45': 'x=10\\ny=2.5\\nz=\"False\"\\n\\ndef fun():\\n    a=10\\n    b=25.36\\n    c=True\\n    print(locals)\\n    print(globals)\\n\\nfun()', 'x': 10, 'y': 2.5, 'z': 'False', '_i46': '\\nimport json\\nimport getpass\\nimport hashlib\\n\\ndef import_pandas_safely():\\n    try:\\n        return __import__(\\'pandas\\')\\n    except ImportError:\\n        return False\\n\\n\\n__pandas = import_pandas_safely()\\n\\n\\ndef is_data_frame(v: str):\\n    obj = eval(v)\\n    if  isinstance(obj, __pandas.core.frame.DataFrame) or isinstance(obj, __pandas.core.series.Series):\\n        return True\\n\\n\\ndef dataframe_columns(var):\\n    df = eval(var)\\n    if isinstance(df, __pandas.core.series.Series):\\n        return [[df.name, str(df.dtype)]]\\n    return list(map(lambda col: [col, str(df[col].dtype)], df.columns))\\n\\n\\ndef dtypes_str(frame):\\n    return str(eval(frame).dtypes)\\n\\ndef dataframe_hash(var):\\n    # Return a hash including the column names and number of rows\\n    df = eval(var)\\n    if isinstance(df, __pandas.core.series.Series):\\n        return hashlib.sha256(f\"{var}-{df.name},{len(df)}\".encode(\\'utf-8\\')).hexdigest()\\n    return hashlib.sha256(f\"{var}-{\\',\\'.join(df.columns)},{len(df)}\".encode(\\'utf-8\\')).hexdigest()\\n\\ndef get_dataframes():\\n    if __pandas is None:\\n        return []\\n    user = getpass.getuser()\\n    values = %who_ls\\n    dataframes = [\\n        {\\n            \"name\": var,\\n            \"type\": type(eval(var)).__name__,\\n            \"hash\": dataframe_hash(var),\\n            \"cols\": dataframe_columns(var),\\n            \"dtypesStr\": dtypes_str(var),\\n        }\\n        for var in values if is_data_frame(var)\\n    ]\\n    result = {\"dataframes\": dataframes, \"user\": user}\\n    return json.dumps(result, ensure_ascii=False)\\n\\n\\nget_dataframes()', '_46': '{\"dataframes\": [], \"user\": \"ANTARIKSHYA\"}', '_i47': 'x=10\\ny=2.5\\nz=\"False\"\\n\\ndef fun():\\n    a=10\\n    b=25.36\\n    c=True\\n    print(locals())\\n    print(globals())\\n\\nfun()'}\n"
     ]
    }
   ],
   "source": [
    "x=10\n",
    "y=2.5\n",
    "z=\"False\"\n",
    "\n",
    "def fun():\n",
    "    a=10\n",
    "    b=25.36\n",
    "    c=True\n",
    "    print(locals())\n",
    "    print(globals())\n",
    "\n",
    "fun()"
   ]
  },
  {
   "cell_type": "markdown",
   "id": "53557597-6eb8-49a2-97be-6b588252e13c",
   "metadata": {},
   "source": [
    "so it gives in the form of a dictionary with pre-defined global variable dictionaries before declared ones"
   ]
  },
  {
   "cell_type": "markdown",
   "id": "d956abea-b0d2-48de-8103-c63be4c52ca3",
   "metadata": {},
   "source": [
    "**Recursive Functions can also be written just like C++ or C**"
   ]
  },
  {
   "cell_type": "markdown",
   "id": "8649f339-fa2a-4405-8bc0-60763a88a01d",
   "metadata": {},
   "source": [
    "### Mathematical Functions"
   ]
  },
  {
   "cell_type": "code",
   "execution_count": 59,
   "id": "b5751969-b992-470c-b01b-001c8c331392",
   "metadata": {},
   "outputs": [
    {
     "name": "stdout",
     "output_type": "stream",
     "text": [
      "5.0\n",
      "32\n"
     ]
    }
   ],
   "source": [
    "#absolute value\n",
    "print(abs(3+4j))\n",
    "print(abs(-32))"
   ]
  },
  {
   "cell_type": "code",
   "execution_count": 63,
   "id": "4b279521-21fc-4ece-8c8a-d11520d659b3",
   "metadata": {},
   "outputs": [
    {
     "name": "stdout",
     "output_type": "stream",
     "text": [
      "100\n",
      "0.02040816326530612\n",
      "1\n"
     ]
    }
   ],
   "source": [
    "#power pow(base,exp,mod=\"None\")\n",
    "print(pow(10,2)) #100\n",
    "print(pow(7,-2))\n",
    "print(pow(10,12,3)) #%3"
   ]
  },
  {
   "cell_type": "code",
   "execution_count": 69,
   "id": "fa8d6856-2b8d-4ae5-b82a-e72d07dd29ac",
   "metadata": {},
   "outputs": [
    {
     "name": "stdout",
     "output_type": "stream",
     "text": [
      "5\n",
      "4\n"
     ]
    }
   ],
   "source": [
    "print(round(4.7))\n",
    "print(round(4.5)) #for point5 it takes even number nearer to it, significant digit rounding "
   ]
  },
  {
   "cell_type": "code",
   "execution_count": 71,
   "id": "dc20a315-6289-4c04-a8f7-3391865fd43d",
   "metadata": {},
   "outputs": [
    {
     "data": {
      "text/plain": [
       "3.545"
      ]
     },
     "execution_count": 71,
     "metadata": {},
     "output_type": "execute_result"
    }
   ],
   "source": [
    "round(3.545123,3)"
   ]
  },
  {
   "cell_type": "code",
   "execution_count": 75,
   "id": "dce371eb-f795-4d4d-8b22-715934f2f260",
   "metadata": {},
   "outputs": [
    {
     "data": {
      "text/plain": [
       "(3, 3)"
      ]
     },
     "execution_count": 75,
     "metadata": {},
     "output_type": "execute_result"
    }
   ],
   "source": [
    "divmod(15,4) #gives division and mod "
   ]
  },
  {
   "cell_type": "code",
   "execution_count": 81,
   "id": "597fa715-4a14-4a3f-a848-c1188d42f107",
   "metadata": {},
   "outputs": [
    {
     "data": {
      "text/plain": [
       "-10"
      ]
     },
     "execution_count": 81,
     "metadata": {},
     "output_type": "execute_result"
    }
   ],
   "source": [
    "# min([-10,3,7,8,9,-2],*key=None,default=None) --> keyword compulsory after list\n",
    "min([-10,3,7,8,9,-2],key=None,default=None)"
   ]
  },
  {
   "cell_type": "code",
   "execution_count": 83,
   "id": "dc87f47a-1ba1-4e41-abd7-2a3d251d0ee5",
   "metadata": {},
   "outputs": [
    {
     "data": {
      "text/plain": [
       "'Empty List'"
      ]
     },
     "execution_count": 83,
     "metadata": {},
     "output_type": "execute_result"
    }
   ],
   "source": [
    "min([],default=\"Empty List\")"
   ]
  },
  {
   "cell_type": "code",
   "execution_count": 87,
   "id": "553edaf0-76d1-47ae-920d-6771627f35ad",
   "metadata": {},
   "outputs": [
    {
     "data": {
      "text/plain": [
       "0"
      ]
     },
     "execution_count": 87,
     "metadata": {},
     "output_type": "execute_result"
    }
   ],
   "source": [
    "min([-10,2,3,-1,0,-4,-12],key=abs,default=\"Empty\")"
   ]
  },
  {
   "cell_type": "code",
   "execution_count": 93,
   "id": "a73df087-b1a5-4f0d-9f87-950e593032e1",
   "metadata": {},
   "outputs": [
    {
     "data": {
      "text/plain": [
       "3"
      ]
     },
     "execution_count": 93,
     "metadata": {},
     "output_type": "execute_result"
    }
   ],
   "source": [
    "max([-10,2,3,-1,0,-4,-12],key=None,default=\"Empty\")"
   ]
  },
  {
   "cell_type": "code",
   "execution_count": 95,
   "id": "db07d63d-a264-4c0a-9f65-da0fe9576386",
   "metadata": {},
   "outputs": [
    {
     "data": {
      "text/plain": [
       "10"
      ]
     },
     "execution_count": 95,
     "metadata": {},
     "output_type": "execute_result"
    }
   ],
   "source": [
    "sum([10,-2,4,-19],start=17)"
   ]
  },
  {
   "cell_type": "code",
   "execution_count": 97,
   "id": "caef6484-d262-4c1f-bbeb-2d1e7723965a",
   "metadata": {},
   "outputs": [
    {
     "data": {
      "text/plain": [
       "26.0"
      ]
     },
     "execution_count": 97,
     "metadata": {},
     "output_type": "execute_result"
    }
   ],
   "source": [
    "eval(\"10+20*4/5\")"
   ]
  },
  {
   "cell_type": "code",
   "execution_count": 101,
   "id": "6aa00862-10ba-48bc-9d05-fc06edd0fa58",
   "metadata": {},
   "outputs": [],
   "source": [
    "global_dict={\"a\":1,\"b\":2,\"c\":4}\n",
    "local_dict={\"d\":5}"
   ]
  },
  {
   "cell_type": "code",
   "execution_count": 103,
   "id": "3d0444fc-cdb6-4231-b1d7-e61e60088917",
   "metadata": {},
   "outputs": [
    {
     "data": {
      "text/plain": [
       "12"
      ]
     },
     "execution_count": 103,
     "metadata": {},
     "output_type": "execute_result"
    }
   ],
   "source": [
    "eval(\"a+b+c+d\",global_dict,local_dict)"
   ]
  },
  {
   "cell_type": "markdown",
   "id": "fd554805-a2d0-4412-97c2-a30056b320a2",
   "metadata": {},
   "source": [
    "### Object & Attribute Function- Built in\n"
   ]
  },
  {
   "cell_type": "code",
   "execution_count": 108,
   "id": "e62616ec-790a-4f6b-9e61-e05757840293",
   "metadata": {},
   "outputs": [
    {
     "name": "stdout",
     "output_type": "stream",
     "text": [
      "<class 'float'>\n",
      "<class 'tuple'>\n",
      "<class 'list'>\n"
     ]
    }
   ],
   "source": [
    "a=15.23\n",
    "n=(12,25,6)\n",
    "print(type(a))\n",
    "print(type(n))\n",
    "print(type([12,25]))"
   ]
  },
  {
   "cell_type": "code",
   "execution_count": 110,
   "id": "7cfc4a18-3a50-4e53-a193-bca3f2e79e86",
   "metadata": {},
   "outputs": [
    {
     "name": "stdout",
     "output_type": "stream",
     "text": [
      "True\n",
      "True\n"
     ]
    }
   ],
   "source": [
    "a=\"brrbrrpatapim\"\n",
    "print(isinstance(a,str))\n",
    "print(isinstance(a,(int,float,str)))\n"
   ]
  },
  {
   "cell_type": "code",
   "execution_count": 114,
   "id": "c7f6327e-0b92-4975-bd2e-1fc6246f4ae7",
   "metadata": {},
   "outputs": [
    {
     "name": "stdout",
     "output_type": "stream",
     "text": [
      "True\n",
      "True\n",
      "False\n"
     ]
    }
   ],
   "source": [
    "a=\"11\"\n",
    "print(hasattr(a,\"find\"))\n",
    "print(hasattr(a,\"lower\"))\n",
    "print(hasattr(a,\"search\"))"
   ]
  },
  {
   "cell_type": "code",
   "execution_count": 120,
   "id": "9f5613bf-577d-4928-9047-d6b6ff074bd3",
   "metadata": {},
   "outputs": [
    {
     "data": {
      "text/plain": [
       "3.141592653589793"
      ]
     },
     "execution_count": 120,
     "metadata": {},
     "output_type": "execute_result"
    }
   ],
   "source": [
    "import math\n",
    "getattr(math,'pi')"
   ]
  },
  {
   "cell_type": "code",
   "execution_count": 122,
   "id": "251191f7-3a57-41e2-ae8c-0af5ea2cecb2",
   "metadata": {},
   "outputs": [
    {
     "data": {
      "text/plain": [
       "7.0"
      ]
     },
     "execution_count": 122,
     "metadata": {},
     "output_type": "execute_result"
    }
   ],
   "source": [
    "getattr(math,'sqrt')(49)"
   ]
  },
  {
   "cell_type": "code",
   "execution_count": 124,
   "id": "1f19813a-2a8c-4952-981c-b148599325fb",
   "metadata": {},
   "outputs": [
    {
     "data": {
      "text/plain": [
       "['__doc__',\n",
       " '__loader__',\n",
       " '__name__',\n",
       " '__package__',\n",
       " '__spec__',\n",
       " 'acos',\n",
       " 'acosh',\n",
       " 'asin',\n",
       " 'asinh',\n",
       " 'atan',\n",
       " 'atan2',\n",
       " 'atanh',\n",
       " 'cbrt',\n",
       " 'ceil',\n",
       " 'comb',\n",
       " 'copysign',\n",
       " 'cos',\n",
       " 'cosh',\n",
       " 'degrees',\n",
       " 'dist',\n",
       " 'e',\n",
       " 'erf',\n",
       " 'erfc',\n",
       " 'exp',\n",
       " 'exp2',\n",
       " 'expm1',\n",
       " 'fabs',\n",
       " 'factorial',\n",
       " 'floor',\n",
       " 'fmod',\n",
       " 'frexp',\n",
       " 'fsum',\n",
       " 'gamma',\n",
       " 'gcd',\n",
       " 'hypot',\n",
       " 'inf',\n",
       " 'isclose',\n",
       " 'isfinite',\n",
       " 'isinf',\n",
       " 'isnan',\n",
       " 'isqrt',\n",
       " 'lcm',\n",
       " 'ldexp',\n",
       " 'lgamma',\n",
       " 'log',\n",
       " 'log10',\n",
       " 'log1p',\n",
       " 'log2',\n",
       " 'modf',\n",
       " 'nan',\n",
       " 'nextafter',\n",
       " 'perm',\n",
       " 'pi',\n",
       " 'pow',\n",
       " 'prod',\n",
       " 'radians',\n",
       " 'remainder',\n",
       " 'sin',\n",
       " 'sinh',\n",
       " 'sqrt',\n",
       " 'sumprod',\n",
       " 'tan',\n",
       " 'tanh',\n",
       " 'tau',\n",
       " 'trunc',\n",
       " 'ulp']"
      ]
     },
     "execution_count": 124,
     "metadata": {},
     "output_type": "execute_result"
    }
   ],
   "source": [
    "dir(math)"
   ]
  },
  {
   "cell_type": "code",
   "execution_count": 132,
   "id": "0eba0d85-b8d4-4a88-934a-23aafcf2494b",
   "metadata": {},
   "outputs": [
    {
     "data": {
      "text/plain": [
       "['Blueprint',\n",
       " 'Config',\n",
       " 'Flask',\n",
       " 'Request',\n",
       " 'Response',\n",
       " '__builtins__',\n",
       " '__cached__',\n",
       " '__doc__',\n",
       " '__file__',\n",
       " '__getattr__',\n",
       " '__loader__',\n",
       " '__name__',\n",
       " '__package__',\n",
       " '__path__',\n",
       " '__spec__',\n",
       " 'abort',\n",
       " 'after_this_request',\n",
       " 'annotations',\n",
       " 'app',\n",
       " 'appcontext_popped',\n",
       " 'appcontext_pushed',\n",
       " 'appcontext_tearing_down',\n",
       " 'before_render_template',\n",
       " 'blueprints',\n",
       " 'cli',\n",
       " 'config',\n",
       " 'copy_current_request_context',\n",
       " 'ctx',\n",
       " 'current_app',\n",
       " 'flash',\n",
       " 'g',\n",
       " 'get_flashed_messages',\n",
       " 'get_template_attribute',\n",
       " 'globals',\n",
       " 'got_request_exception',\n",
       " 'has_app_context',\n",
       " 'has_request_context',\n",
       " 'helpers',\n",
       " 'json',\n",
       " 'jsonify',\n",
       " 'logging',\n",
       " 'make_response',\n",
       " 'message_flashed',\n",
       " 'redirect',\n",
       " 'render_template',\n",
       " 'render_template_string',\n",
       " 'request',\n",
       " 'request_finished',\n",
       " 'request_started',\n",
       " 'request_tearing_down',\n",
       " 'sansio',\n",
       " 'send_file',\n",
       " 'send_from_directory',\n",
       " 'session',\n",
       " 'sessions',\n",
       " 'signals',\n",
       " 'stream_template',\n",
       " 'stream_template_string',\n",
       " 'stream_with_context',\n",
       " 't',\n",
       " 'template_rendered',\n",
       " 'templating',\n",
       " 'typing',\n",
       " 'url_for',\n",
       " 'wrappers']"
      ]
     },
     "execution_count": 132,
     "metadata": {},
     "output_type": "execute_result"
    }
   ],
   "source": [
    "import flask\n",
    "dir(flask)"
   ]
  },
  {
   "cell_type": "code",
   "execution_count": 138,
   "id": "7c752ac2-8ad9-4ed5-8e93-267496049920",
   "metadata": {},
   "outputs": [
    {
     "name": "stdout",
     "output_type": "stream",
     "text": [
      "140728464976600\n",
      "140728464976600\n",
      "False\n"
     ]
    }
   ],
   "source": [
    "a,b=10,10\n",
    "print(id(a))\n",
    "print(id(b))\n",
    "c=[1,2,3,4]\n",
    "d=[1,2,3,4]\n",
    "print(c is d)"
   ]
  },
  {
   "cell_type": "code",
   "execution_count": 140,
   "id": "3af0aa3d-2bdd-446b-b9fc-b682e3dc362f",
   "metadata": {},
   "outputs": [
    {
     "name": "stdout",
     "output_type": "stream",
     "text": [
      "'hello world'\n"
     ]
    }
   ],
   "source": [
    "h=\"hello world\"\n",
    "print(repr(h))"
   ]
  },
  {
   "cell_type": "markdown",
   "id": "f9b72734-43d7-4bc1-9752-5de0f2fabad9",
   "metadata": {},
   "source": [
    "### Iteration & Sequence Functions"
   ]
  },
  {
   "cell_type": "code",
   "execution_count": 151,
   "id": "93f6c34b-0fe2-4b57-9432-d5f834978bc6",
   "metadata": {},
   "outputs": [
    {
     "data": {
      "text/plain": [
       "[89, 12, 4, -3, 1]"
      ]
     },
     "execution_count": 151,
     "metadata": {},
     "output_type": "execute_result"
    }
   ],
   "source": [
    "list1=[-3,4,12,1,89]\n",
    "sorted(list1,key=abs,reverse=True)"
   ]
  },
  {
   "cell_type": "code",
   "execution_count": 155,
   "id": "5321ce3a-e5c4-45f1-a0a6-4a3977a2eb96",
   "metadata": {},
   "outputs": [
    {
     "data": {
      "text/plain": [
       "[89, 1, 12, 4, -3]"
      ]
     },
     "execution_count": 155,
     "metadata": {},
     "output_type": "execute_result"
    }
   ],
   "source": [
    "list1=[-3,4,12,1,89]\n",
    "list2=reversed(list1)\n",
    "list(list2)"
   ]
  },
  {
   "cell_type": "code",
   "execution_count": 165,
   "id": "a5db5022-a63f-453c-a7e1-84dee9d12f5f",
   "metadata": {},
   "outputs": [
    {
     "data": {
      "text/plain": [
       "[-3, 4, 12, 1, 89]"
      ]
     },
     "execution_count": 165,
     "metadata": {},
     "output_type": "execute_result"
    }
   ],
   "source": [
    "list1=[-3,4,12,1,89]\n",
    "uv=slice(0,5,1)\n",
    "list1[uv]"
   ]
  },
  {
   "cell_type": "code",
   "execution_count": 167,
   "id": "16a1d444-13f7-4661-bbbd-197d169ce6b6",
   "metadata": {},
   "outputs": [
    {
     "data": {
      "text/plain": [
       "-3"
      ]
     },
     "execution_count": 167,
     "metadata": {},
     "output_type": "execute_result"
    }
   ],
   "source": [
    "list1=[-3,4,12,1,89]\n",
    "it=iter(list1)\n",
    "next(it)"
   ]
  },
  {
   "cell_type": "markdown",
   "id": "2d29edf8-5de6-41c5-ae13-a962ac26f0db",
   "metadata": {},
   "source": [
    "## Module"
   ]
  },
  {
   "cell_type": "code",
   "execution_count": 173,
   "id": "21598811-4fb5-436c-ab20-e7f6381d99fe",
   "metadata": {},
   "outputs": [],
   "source": [
    "import math\n",
    "import flask as fl\n",
    "from datetime import *"
   ]
  },
  {
   "cell_type": "markdown",
   "id": "41617770-b1bf-4462-b424-de843b20eb6c",
   "metadata": {},
   "source": [
    "Every Python Program can act as a module also"
   ]
  },
  {
   "cell_type": "code",
   "execution_count": 187,
   "id": "2edc9f6c-965f-4973-a76c-3c5a1f9448aa",
   "metadata": {},
   "outputs": [
    {
     "name": "stdout",
     "output_type": "stream",
     "text": [
      "Addition is : 15\n",
      "Subtraction is : 5\n"
     ]
    }
   ],
   "source": [
    "data=100\n",
    "def add(a,b):\n",
    "    return a+b\n",
    "def sub(a,b):\n",
    "    return a-b\n",
    "\n",
    "print(\"Addition is :\",add(10,5))\n",
    "print(\"Subtraction is :\",sub(10,5))"
   ]
  },
  {
   "cell_type": "markdown",
   "id": "e7ae1c3c-d487-4144-9e5f-30956dc5296b",
   "metadata": {},
   "source": [
    "Saving this as *myprogram.py*"
   ]
  },
  {
   "cell_type": "code",
   "execution_count": null,
   "id": "abc77761-f6f5-43a6-989e-7d1414b0f833",
   "metadata": {},
   "outputs": [],
   "source": [
    "#In a file named main.py\n",
    "\n",
    "import myprogram as m\n",
    "print(\"Data:\",m.data)\n",
    "print(\"Add=\",m.add(15,20))\n",
    "print(\"Sub=\",m.sub(20,15))"
   ]
  },
  {
   "cell_type": "code",
   "execution_count": null,
   "id": "4788a3b9-abc4-4cf2-82ee-529ac2595dd2",
   "metadata": {},
   "outputs": [],
   "source": [
    "#Output\n",
    "Addition is 15\n",
    "Subtraction is 5\n",
    "Data:100\n",
    "Add=35\n",
    "Sub=5"
   ]
  },
  {
   "cell_type": "markdown",
   "id": "5a8947a8-5574-4f29-8598-a626f55a490e",
   "metadata": {},
   "source": [
    "Hence Output will also contain imported module's contents & execute it's code"
   ]
  },
  {
   "cell_type": "markdown",
   "id": "c0374919-e4c5-4d04-9762-c0014f79a6a6",
   "metadata": {},
   "source": [
    "Now if I want to omit the imported module's code execution"
   ]
  },
  {
   "cell_type": "markdown",
   "id": "968c2dc5-3822-4a38-b889-51384a6a522b",
   "metadata": {},
   "source": [
    "Every python program has a built in \"__name__\" function which displays \"__main__\" if it is itself running else display's it's name when imported.\n",
    "SO I can modify it's program as"
   ]
  },
  {
   "cell_type": "code",
   "execution_count": 189,
   "id": "f84c417f-503c-4ff4-ac49-ac899da6dbd4",
   "metadata": {},
   "outputs": [
    {
     "name": "stdout",
     "output_type": "stream",
     "text": [
      "Addition is : 15\n",
      "Subtraction is : 5\n"
     ]
    }
   ],
   "source": [
    "data=100\n",
    "def add(a,b):\n",
    "    return a+b\n",
    "def sub(a,b):\n",
    "    return a-b\n",
    "if(__name__ == \"__main__\"):\n",
    "    print(\"Addition is :\",add(10,5))\n",
    "    print(\"Subtraction is :\",sub(10,5))"
   ]
  },
  {
   "cell_type": "markdown",
   "id": "d8f042e3-7d1b-4cb2-9c3a-4982213fd85d",
   "metadata": {},
   "source": [
    "### Functions as Objects"
   ]
  },
  {
   "cell_type": "markdown",
   "id": "2eff1f06-22e0-4b37-8e68-e05f7f4dd2d2",
   "metadata": {},
   "source": [
    "First Class Functions in Python acting as Objects (sort of Macros)"
   ]
  },
  {
   "cell_type": "code",
   "execution_count": 198,
   "id": "d4117ffe-dcd4-49e3-856f-3a4a5ec6ec41",
   "metadata": {},
   "outputs": [
    {
     "name": "stdout",
     "output_type": "stream",
     "text": [
      "My name\n"
     ]
    }
   ],
   "source": [
    "def fun():\n",
    "    print(\"My name\")\n",
    "\n",
    "f=fun\n",
    "f()"
   ]
  },
  {
   "cell_type": "code",
   "execution_count": 203,
   "id": "cf134910-ac6a-45cc-bfae-2f78e864be0c",
   "metadata": {},
   "outputs": [
    {
     "name": "stdout",
     "output_type": "stream",
     "text": [
      "__main__\n"
     ]
    }
   ],
   "source": [
    "print(__name__)"
   ]
  },
  {
   "cell_type": "code",
   "execution_count": 205,
   "id": "99179785-eba2-4442-bdf8-8a7b5cdf101f",
   "metadata": {},
   "outputs": [
    {
     "name": "stdout",
     "output_type": "stream",
     "text": [
      "Prints the values to a stream, or to sys.stdout by default.\n",
      "\n",
      "  sep\n",
      "    string inserted between values, default a space.\n",
      "  end\n",
      "    string appended after the last value, default a newline.\n",
      "  file\n",
      "    a file-like object (stream); defaults to the current sys.stdout.\n",
      "  flush\n",
      "    whether to forcibly flush the stream.\n"
     ]
    }
   ],
   "source": [
    "print(print.__doc__)"
   ]
  },
  {
   "cell_type": "markdown",
   "id": "6a6f4212-67e6-4556-b3bb-7c577f15017a",
   "metadata": {},
   "source": [
    "### Nested Functions"
   ]
  },
  {
   "cell_type": "code",
   "execution_count": 208,
   "id": "8c34c44a-294e-4fd3-ac61-ce3d351706cb",
   "metadata": {},
   "outputs": [
    {
     "name": "stdout",
     "output_type": "stream",
     "text": [
      "72\n"
     ]
    }
   ],
   "source": [
    "def totalarea(l,b,h):\n",
    "    def area(d1,d2):\n",
    "        return d1*d2\n",
    "    return 2*(area(l,b)+area(b,h)+area(l,h))\n",
    "print(totalarea(2,3,6))"
   ]
  },
  {
   "cell_type": "markdown",
   "id": "60355d04-7419-4195-97d3-063b542e9108",
   "metadata": {},
   "source": [
    "Only Outer Function can be called in Nested Functions & Inner Function can only be called within the outer function itself.|"
   ]
  },
  {
   "cell_type": "markdown",
   "id": "a38993ad-f44c-41f2-8ab8-ca571da6a356",
   "metadata": {},
   "source": [
    "### Function as Parameter"
   ]
  },
  {
   "cell_type": "code",
   "execution_count": 214,
   "id": "568fc7a5-6834-43e0-81ec-9dfe0b09fe16",
   "metadata": {},
   "outputs": [
    {
     "name": "stdout",
     "output_type": "stream",
     "text": [
      "22 12\n"
     ]
    }
   ],
   "source": [
    "def add(x,y):\n",
    "    return x+y\n",
    "def sub(x,y):\n",
    "    return x-y\n",
    "def arithmetic(f,x,y):\n",
    "    return f(x,y)\n",
    "a=arithmetic(add,10,12)\n",
    "b=arithmetic(sub,25,13)\n",
    "print(a,b)"
   ]
  },
  {
   "cell_type": "markdown",
   "id": "0fcc1e9f-92a2-49de-a830-a925a1d17ad6",
   "metadata": {},
   "source": [
    "### Returning Function"
   ]
  },
  {
   "cell_type": "code",
   "execution_count": 255,
   "id": "2b340a07-cb2f-4bca-ac8d-3b2a10b6da70",
   "metadata": {},
   "outputs": [
    {
     "name": "stdout",
     "output_type": "stream",
     "text": [
      "Message Received\n"
     ]
    }
   ],
   "source": [
    "def Outer():\n",
    "    def Inner():\n",
    "        print(\"Message Received\")\n",
    "    return Inner\n",
    "\n",
    "p=Outer()\n",
    "p()"
   ]
  },
  {
   "cell_type": "code",
   "execution_count": 253,
   "id": "1f4c65e9-2ed0-4998-b1eb-c64cf8e0a165",
   "metadata": {},
   "outputs": [],
   "source": [
    "import builtins\n",
    "print = builtins.print"
   ]
  },
  {
   "cell_type": "markdown",
   "id": "fa4f79bc-2d7c-4616-a604-0a3b264f2d10",
   "metadata": {},
   "source": [
    "### Closure Functions"
   ]
  },
  {
   "cell_type": "markdown",
   "id": "1ee7107f-dfc5-45b7-94c7-050859b8a483",
   "metadata": {},
   "source": [
    "Nested Function\n",
    "\n",
    "Returning Function\n",
    "\n",
    "Inner Function access Outer Function Variable"
   ]
  },
  {
   "cell_type": "code",
   "execution_count": 262,
   "id": "1f2d11d5-7a68-480d-973e-9a948df66aa1",
   "metadata": {},
   "outputs": [
    {
     "name": "stdout",
     "output_type": "stream",
     "text": [
      "++++++++++\n",
      "Welcome\n",
      "**********\n"
     ]
    }
   ],
   "source": [
    "def Outer():\n",
    "    msg=\"Welcome\"\n",
    "    def Inner():\n",
    "        print(\"+\" * 10)\n",
    "        print(msg)\n",
    "        print(\"*\" * 10)\n",
    "    return Inner\n",
    "f=Outer()\n",
    "f()"
   ]
  },
  {
   "cell_type": "code",
   "execution_count": 264,
   "id": "dc60b9e1-c297-4fab-86bd-927037741649",
   "metadata": {},
   "outputs": [
    {
     "name": "stdout",
     "output_type": "stream",
     "text": [
      "++++++++++\n",
      "python\n",
      "**********\n"
     ]
    }
   ],
   "source": [
    "def Outer(msg):\n",
    "    def Inner():\n",
    "        print(\"+\" * 10)\n",
    "        print(msg)\n",
    "        print(\"*\" * 10)\n",
    "    return Inner\n",
    "f=Outer(\"python\")\n",
    "f()"
   ]
  },
  {
   "cell_type": "markdown",
   "id": "b0447fff-24f4-492d-b9f4-b980426fa3e7",
   "metadata": {},
   "source": [
    "## Decorator Function"
   ]
  },
  {
   "cell_type": "markdown",
   "id": "bc40cd30-166a-478d-b92e-e3cff8c0d7e4",
   "metadata": {},
   "source": [
    "Closure Function + Function as Parameter"
   ]
  },
  {
   "cell_type": "code",
   "execution_count": 271,
   "id": "eaa6841d-9fe8-4822-ab72-264fd72fa425",
   "metadata": {},
   "outputs": [
    {
     "name": "stdout",
     "output_type": "stream",
     "text": [
      "+++++\n",
      "Welcome\n",
      "*****\n"
     ]
    }
   ],
   "source": [
    "def Outer(f):\n",
    "    def Inner():\n",
    "        print(\"+\" * 5)\n",
    "        f()\n",
    "        print(\"*\" * 5)\n",
    "\n",
    "    return Inner\n",
    "\n",
    "def display():\n",
    "    print(\"Welcome\")\n",
    "\n",
    "r=Outer(display)\n",
    "r()"
   ]
  },
  {
   "cell_type": "markdown",
   "id": "117003ff-2175-4bdf-b838-fed4f04172d4",
   "metadata": {},
   "source": [
    "Now I can alter definition and mechanism of display function"
   ]
  },
  {
   "cell_type": "code",
   "execution_count": 276,
   "id": "6a6ee271-b3ec-4b8b-b116-1fc53467e856",
   "metadata": {},
   "outputs": [
    {
     "name": "stdout",
     "output_type": "stream",
     "text": [
      "+++++\n",
      "Welcome\n",
      "*****\n"
     ]
    }
   ],
   "source": [
    "def Outer(f):\n",
    "    def Inner():\n",
    "        print(\"+\" * 5)\n",
    "        f()\n",
    "        print(\"*\" * 5)\n",
    "\n",
    "    return Inner\n",
    "\n",
    "def display():\n",
    "    print(\"Welcome\")\n",
    "\n",
    "display=Outer(display)\n",
    "display()"
   ]
  },
  {
   "cell_type": "markdown",
   "id": "ce969272-3ebb-42d4-aa10-b0301cc8de2b",
   "metadata": {},
   "source": [
    "Again I can run the Outer function without de-reffering"
   ]
  },
  {
   "cell_type": "code",
   "execution_count": 278,
   "id": "1dcd06bf-04c4-485c-8801-f8711f7168d3",
   "metadata": {},
   "outputs": [
    {
     "name": "stdout",
     "output_type": "stream",
     "text": [
      "+++++\n",
      "Welcome\n",
      "*****\n"
     ]
    }
   ],
   "source": [
    "def Outer(f):\n",
    "    def Inner():\n",
    "        print(\"+\" * 5)\n",
    "        f()\n",
    "        print(\"*\" * 5)\n",
    "\n",
    "    return Inner\n",
    "\n",
    "@Outer #REFERENCING\n",
    "def display():\n",
    "    print(\"Welcome\")\n",
    "\n",
    "#display=Outer(display)\n",
    "display()"
   ]
  },
  {
   "cell_type": "markdown",
   "id": "4dc1e155-25db-4c5b-b781-8b7878056a99",
   "metadata": {},
   "source": [
    "## Lambda Functions"
   ]
  },
  {
   "cell_type": "markdown",
   "id": "41e6cd0d-68cb-42f4-9fa7-c1c0345e0e6c",
   "metadata": {},
   "source": [
    "Used in Functional Programming,Single Line-Simple Anonymous Program"
   ]
  },
  {
   "cell_type": "code",
   "execution_count": 2,
   "id": "548acca2-5eea-4097-904c-9078754266b8",
   "metadata": {},
   "outputs": [
    {
     "name": "stdout",
     "output_type": "stream",
     "text": [
      "10\n"
     ]
    }
   ],
   "source": [
    "a = lambda x : x*2\n",
    "print(a(5))"
   ]
  },
  {
   "cell_type": "code",
   "execution_count": 287,
   "id": "d5fe95f5-75f1-4471-aa76-0452bb9ec2cd",
   "metadata": {},
   "outputs": [
    {
     "name": "stdout",
     "output_type": "stream",
     "text": [
      "7\n"
     ]
    }
   ],
   "source": [
    "print((lambda x,y : x+y)(2,5))"
   ]
  },
  {
   "cell_type": "code",
   "execution_count": 293,
   "id": "3a7ab11f-6b30-486f-a131-6eebba13d7c7",
   "metadata": {},
   "outputs": [
    {
     "name": "stdout",
     "output_type": "stream",
     "text": [
      "[2, 4, 6, 8]\n"
     ]
    }
   ],
   "source": [
    "l1=[1,2,3,4,5,6,7,8,9]\n",
    "s = filter(lambda x : x%2==0 ,l1)\n",
    "f=list(s)\n",
    "print(f)"
   ]
  },
  {
   "cell_type": "code",
   "execution_count": 12,
   "id": "386af3de-fb86-4f24-9e2c-cb2335f79884",
   "metadata": {},
   "outputs": [
    {
     "name": "stdout",
     "output_type": "stream",
     "text": [
      "[12, -3]\n"
     ]
    }
   ],
   "source": [
    "k = filter(lambda  x  : x%3==0, [12,2,4,98,-3])\n",
    "print(list(k))"
   ]
  },
  {
   "cell_type": "code",
   "execution_count": 14,
   "id": "bd162dc7-a616-4a3c-9d72-f0deb821565f",
   "metadata": {},
   "outputs": [
    {
     "name": "stdout",
     "output_type": "stream",
     "text": [
      "[-1, -2, -3, -4]\n"
     ]
    }
   ],
   "source": [
    "l1=[1,2,3,4]\n",
    "l2=list(map(lambda x:-x,l1))\n",
    "print(l2)"
   ]
  },
  {
   "cell_type": "code",
   "execution_count": 18,
   "id": "a1158ffa-095e-42d3-9717-bf645879ed84",
   "metadata": {},
   "outputs": [
    {
     "name": "stdout",
     "output_type": "stream",
     "text": [
      "[-1, 2, -3, 4, -5, 6, -7, 8, -9, 10]\n"
     ]
    }
   ],
   "source": [
    "#make a new list if no. is odd->-ve otherwise +ve\n",
    "l1=[1,2,3,4,5,6,7,8,9,10]\n",
    "l2=list(map(lambda x : -x if x%2==1 else x,l1))\n",
    "print(l2)\n"
   ]
  },
  {
   "cell_type": "code",
   "execution_count": 24,
   "id": "dec63aac-1591-4a7c-8946-9bc5627fdb82",
   "metadata": {},
   "outputs": [
    {
     "name": "stdout",
     "output_type": "stream",
     "text": [
      "[[1, 2, 'Three'], [2, 4, 'Six'], [1, 7, 'Eight']]\n"
     ]
    }
   ],
   "source": [
    "l1=[[1,2,\"Three\"],[2,4,\"Six\"],[1,7,\"Eight\"]]\n",
    "l2=sorted(l1,key=lambda x:x[0]+x[1],reverse=False)\n",
    "print(l2)"
   ]
  },
  {
   "cell_type": "markdown",
   "id": "7dc6542a-a647-4a40-84ff-8a6568e90ab6",
   "metadata": {},
   "source": [
    "## Caller Class"
   ]
  },
  {
   "cell_type": "code",
   "execution_count": 32,
   "id": "09d232c3-e6a0-4220-a30c-8514259a5aca",
   "metadata": {},
   "outputs": [
    {
     "name": "stdout",
     "output_type": "stream",
     "text": [
      "Friday\n"
     ]
    }
   ],
   "source": [
    "class day:\n",
    "    def __init__(self):\n",
    "        self.days={1:\"Monday\",2:\"Tuesday\",3:\"Wednesday\",4:\"Thursday\",5:\"Friday\",6:\"Saturday\",7:\"Sunday\"}\n",
    "    def __call__(self,dayno):\n",
    "        return self.days[dayno]\n",
    "d=day() #d object of class day\n",
    "print(d(5)) #d object works as a function itself and calls the __call__ function"
   ]
  },
  {
   "cell_type": "markdown",
   "id": "801024ae-e85b-4b1d-8825-e07a27883915",
   "metadata": {},
   "source": [
    "# Exception Handling"
   ]
  },
  {
   "cell_type": "markdown",
   "id": "3536e655-2ed8-4e1c-a8e5-7896bf166fe1",
   "metadata": {},
   "source": [
    "There are 3 Types of Errors -- Syntax Error, Logical Error & Runtime Error"
   ]
  },
  {
   "cell_type": "markdown",
   "id": "3f3c0b07-b684-4351-b971-e9cf85b9b45d",
   "metadata": {},
   "source": [
    "Developer faces Syntax Error (rectified by Interpretor/Compiler), Logical ERROR (rectified by Debugger) & User faces Runtime ERROR \n",
    "(rectified & Guided by Developer)"
   ]
  },
  {
   "cell_type": "markdown",
   "id": "42d7016b-717d-4124-bb25-502c87787901",
   "metadata": {},
   "source": [
    "Programmer has to make sure to write extra code to handle user-input situations while run-time. This is known as Exception Handling."
   ]
  },
  {
   "cell_type": "markdown",
   "id": "47fadb8a-e10a-4787-848a-76324e75c059",
   "metadata": {},
   "source": [
    "### Examples of Exception Handling"
   ]
  },
  {
   "cell_type": "markdown",
   "id": "3a6082c2-f87e-4533-be5f-bc66d807a465",
   "metadata": {},
   "source": [
    "Zero Division Error"
   ]
  },
  {
   "cell_type": "code",
   "execution_count": 40,
   "id": "cea0ab19-6ac0-401d-b0d6-f3ed734ff9ae",
   "metadata": {},
   "outputs": [
    {
     "name": "stdin",
     "output_type": "stream",
     "text": [
      "Enter Numerator: 12\n",
      "Enter Denominator: 0\n"
     ]
    },
    {
     "ename": "ZeroDivisionError",
     "evalue": "integer division or modulo by zero",
     "output_type": "error",
     "traceback": [
      "\u001b[1;31m---------------------------------------------------------------------------\u001b[0m",
      "\u001b[1;31mZeroDivisionError\u001b[0m                         Traceback (most recent call last)",
      "Cell \u001b[1;32mIn[40], line 3\u001b[0m\n\u001b[0;32m      1\u001b[0m a\u001b[38;5;241m=\u001b[39m\u001b[38;5;28mint\u001b[39m(\u001b[38;5;28minput\u001b[39m(\u001b[38;5;124m\"\u001b[39m\u001b[38;5;124mEnter Numerator:\u001b[39m\u001b[38;5;124m\"\u001b[39m))\n\u001b[0;32m      2\u001b[0m b\u001b[38;5;241m=\u001b[39m\u001b[38;5;28mint\u001b[39m(\u001b[38;5;28minput\u001b[39m(\u001b[38;5;124m\"\u001b[39m\u001b[38;5;124mEnter Denominator:\u001b[39m\u001b[38;5;124m\"\u001b[39m))\n\u001b[1;32m----> 3\u001b[0m c\u001b[38;5;241m=\u001b[39ma\u001b[38;5;241m/\u001b[39m\u001b[38;5;241m/\u001b[39mb\n\u001b[0;32m      4\u001b[0m \u001b[38;5;28mprint\u001b[39m(c)\n",
      "\u001b[1;31mZeroDivisionError\u001b[0m: integer division or modulo by zero"
     ]
    }
   ],
   "source": [
    "a=int(input(\"Enter Numerator:\"))\n",
    "b=int(input(\"Enter Denominator:\"))\n",
    "c=a//b\n",
    "print(c)"
   ]
  },
  {
   "cell_type": "markdown",
   "id": "dbd58178-b909-4c5f-a7b1-078cd85cd8ee",
   "metadata": {},
   "source": [
    "Type Error"
   ]
  },
  {
   "cell_type": "code",
   "execution_count": 47,
   "id": "d3135cb7-abd6-49cc-bb6c-8549f72ed640",
   "metadata": {},
   "outputs": [
    {
     "ename": "TypeError",
     "evalue": "unsupported operand type(s) for //: 'int' and 'str'",
     "output_type": "error",
     "traceback": [
      "\u001b[1;31m---------------------------------------------------------------------------\u001b[0m",
      "\u001b[1;31mTypeError\u001b[0m                                 Traceback (most recent call last)",
      "Cell \u001b[1;32mIn[47], line 3\u001b[0m\n\u001b[0;32m      1\u001b[0m a\u001b[38;5;241m=\u001b[39m\u001b[38;5;241m10\u001b[39m\n\u001b[0;32m      2\u001b[0m b\u001b[38;5;241m=\u001b[39m\u001b[38;5;124m\"\u001b[39m\u001b[38;5;124mx\u001b[39m\u001b[38;5;124m\"\u001b[39m\n\u001b[1;32m----> 3\u001b[0m c\u001b[38;5;241m=\u001b[39ma\u001b[38;5;241m/\u001b[39m\u001b[38;5;241m/\u001b[39mb\n\u001b[0;32m      4\u001b[0m \u001b[38;5;28mprint\u001b[39m(c)\n",
      "\u001b[1;31mTypeError\u001b[0m: unsupported operand type(s) for //: 'int' and 'str'"
     ]
    }
   ],
   "source": [
    "a=10\n",
    "b=\"x\"\n",
    "c=a//b\n",
    "print(c)"
   ]
  },
  {
   "cell_type": "markdown",
   "id": "3dc61166-7a9a-4771-afb0-c992e37b2787",
   "metadata": {},
   "source": [
    "Index Error"
   ]
  },
  {
   "cell_type": "code",
   "execution_count": 50,
   "id": "b5e5de39-b9b2-4888-aedc-2ab30249f374",
   "metadata": {},
   "outputs": [
    {
     "ename": "IndexError",
     "evalue": "list index out of range",
     "output_type": "error",
     "traceback": [
      "\u001b[1;31m---------------------------------------------------------------------------\u001b[0m",
      "\u001b[1;31mIndexError\u001b[0m                                Traceback (most recent call last)",
      "Cell \u001b[1;32mIn[50], line 2\u001b[0m\n\u001b[0;32m      1\u001b[0m l1\u001b[38;5;241m=\u001b[39m[\u001b[38;5;241m1\u001b[39m,\u001b[38;5;241m2\u001b[39m,\u001b[38;5;241m3\u001b[39m,\u001b[38;5;241m4\u001b[39m]\n\u001b[1;32m----> 2\u001b[0m \u001b[38;5;28mprint\u001b[39m(l1[\u001b[38;5;241m10\u001b[39m])\n",
      "\u001b[1;31mIndexError\u001b[0m: list index out of range"
     ]
    }
   ],
   "source": [
    "l1=[1,2,3,4]\n",
    "print(l1[10])"
   ]
  },
  {
   "cell_type": "markdown",
   "id": "6ad650d9-c90b-4c04-a229-cc46a5dd388f",
   "metadata": {},
   "source": [
    "Key Error"
   ]
  },
  {
   "cell_type": "code",
   "execution_count": 53,
   "id": "df86acc0-1bdc-419d-ac7c-157596b2af32",
   "metadata": {},
   "outputs": [
    {
     "ename": "KeyError",
     "evalue": "5",
     "output_type": "error",
     "traceback": [
      "\u001b[1;31m---------------------------------------------------------------------------\u001b[0m",
      "\u001b[1;31mKeyError\u001b[0m                                  Traceback (most recent call last)",
      "Cell \u001b[1;32mIn[53], line 2\u001b[0m\n\u001b[0;32m      1\u001b[0m d1\u001b[38;5;241m=\u001b[39m{\u001b[38;5;241m1\u001b[39m:\u001b[38;5;124m\"\u001b[39m\u001b[38;5;124mOne\u001b[39m\u001b[38;5;124m\"\u001b[39m,\u001b[38;5;241m2\u001b[39m:\u001b[38;5;124m\"\u001b[39m\u001b[38;5;124mTwo\u001b[39m\u001b[38;5;124m\"\u001b[39m,\u001b[38;5;241m3\u001b[39m:\u001b[38;5;124m\"\u001b[39m\u001b[38;5;124mThree\u001b[39m\u001b[38;5;124m\"\u001b[39m}\n\u001b[1;32m----> 2\u001b[0m \u001b[38;5;28mprint\u001b[39m(d1[\u001b[38;5;241m5\u001b[39m])\n",
      "\u001b[1;31mKeyError\u001b[0m: 5"
     ]
    }
   ],
   "source": [
    "d1={1:\"One\",2:\"Two\",3:\"Three\"}\n",
    "print(d1[5])"
   ]
  },
  {
   "cell_type": "markdown",
   "id": "7f90096c-62c8-4ade-9d9b-19a7a9e0cd91",
   "metadata": {},
   "source": [
    "Value Error"
   ]
  },
  {
   "cell_type": "code",
   "execution_count": 56,
   "id": "c2efcf6c-4acc-4eb7-846f-31f4724d751d",
   "metadata": {},
   "outputs": [
    {
     "ename": "ValueError",
     "evalue": "invalid literal for int() with base 10: 'xyz'",
     "output_type": "error",
     "traceback": [
      "\u001b[1;31m---------------------------------------------------------------------------\u001b[0m",
      "\u001b[1;31mValueError\u001b[0m                                Traceback (most recent call last)",
      "Cell \u001b[1;32mIn[56], line 1\u001b[0m\n\u001b[1;32m----> 1\u001b[0m \u001b[38;5;28mint\u001b[39m(\u001b[38;5;124m'\u001b[39m\u001b[38;5;124mxyz\u001b[39m\u001b[38;5;124m'\u001b[39m)\n",
      "\u001b[1;31mValueError\u001b[0m: invalid literal for int() with base 10: 'xyz'"
     ]
    }
   ],
   "source": [
    "int('xyz')"
   ]
  },
  {
   "cell_type": "markdown",
   "id": "202e91c5-05c7-4408-8228-5dd244b55b6a",
   "metadata": {},
   "source": [
    "Syntax Error"
   ]
  },
  {
   "cell_type": "code",
   "execution_count": 59,
   "id": "c39811fe-722b-483e-b611-df6d2d44d6ea",
   "metadata": {},
   "outputs": [
    {
     "ename": "SyntaxError",
     "evalue": "unterminated string literal (detected at line 1) (3687977365.py, line 1)",
     "output_type": "error",
     "traceback": [
      "\u001b[1;36m  Cell \u001b[1;32mIn[59], line 1\u001b[1;36m\u001b[0m\n\u001b[1;33m    int(\"xyz)\u001b[0m\n\u001b[1;37m        ^\u001b[0m\n\u001b[1;31mSyntaxError\u001b[0m\u001b[1;31m:\u001b[0m unterminated string literal (detected at line 1)\n"
     ]
    }
   ],
   "source": [
    "int(\"xyz)"
   ]
  },
  {
   "cell_type": "markdown",
   "id": "6b726ed9-c62d-4faf-a1a7-cac2d95ef08c",
   "metadata": {},
   "source": [
    "### Exception Handling"
   ]
  },
  {
   "cell_type": "code",
   "execution_count": 64,
   "id": "110279b8-168c-4b8f-9473-cfa847cca28b",
   "metadata": {},
   "outputs": [
    {
     "name": "stdout",
     "output_type": "stream",
     "text": [
      "Error\n",
      "End\n"
     ]
    }
   ],
   "source": [
    "a,b=10,0\n",
    "try:\n",
    "    c=a//b\n",
    "    print(c)\n",
    "except:\n",
    "    print(\"Error\")\n",
    "print(\"End\")"
   ]
  },
  {
   "cell_type": "code",
   "execution_count": 72,
   "id": "055818d2-e816-41c8-97b8-19da9be1d0c8",
   "metadata": {},
   "outputs": [
    {
     "name": "stdout",
     "output_type": "stream",
     "text": [
      "Error\n",
      "End of Program\n"
     ]
    }
   ],
   "source": [
    "l1=[1,2,3,4,5]\n",
    "try:\n",
    "    index=10\n",
    "    print(l1[index])\n",
    "    print(\"End of Try\")\n",
    "except:\n",
    "    print(\"Error\")\n",
    "print(\"End of Program\")"
   ]
  },
  {
   "cell_type": "markdown",
   "id": "b40a9b25-43a6-4e0f-bb14-d6ed73b1c59c",
   "metadata": {},
   "source": [
    "### Handling Multiple Exceptions"
   ]
  },
  {
   "cell_type": "code",
   "execution_count": 82,
   "id": "7491b302-93a7-4f4d-b3a8-37379a2959f5",
   "metadata": {},
   "outputs": [
    {
     "name": "stdout",
     "output_type": "stream",
     "text": [
      "Some Error\n",
      "End of Program\n"
     ]
    }
   ],
   "source": [
    "l1=[1,2,3,4,5,6]\n",
    "try:\n",
    "    index=int(\"abc\")\n",
    "    print(l1[index])\n",
    "    print(\"End of Try\")\n",
    "except TypeError:\n",
    "    print(\"index must be int\")\n",
    "except IndexError:\n",
    "    print(\"Enter Valid Index\")\n",
    "except:\n",
    "    print(\"Some Error\")\n",
    "\n",
    "print(\"End of Program\")"
   ]
  },
  {
   "cell_type": "code",
   "execution_count": 88,
   "id": "3b186bf8-f48a-49f2-b45e-5d8d6a9ae8db",
   "metadata": {},
   "outputs": [
    {
     "name": "stdout",
     "output_type": "stream",
     "text": [
      "list index out of range\n",
      "End of Program\n"
     ]
    }
   ],
   "source": [
    "l1=[1,2,3,4,5,6]\n",
    "try:\n",
    "    index=12\n",
    "    print(l1[index])\n",
    "    print(\"End of Try\")\n",
    "except TypeError as msg:\n",
    "    print(msg)\n",
    "except IndexError as ind:\n",
    "    print(ind)\n",
    "except:\n",
    "    print(\"Some Error\")\n",
    "\n",
    "print(\"End of Program\")"
   ]
  },
  {
   "cell_type": "code",
   "execution_count": 92,
   "id": "072ee63e-9e26-4168-bab3-1e53d76038b0",
   "metadata": {},
   "outputs": [
    {
     "name": "stdout",
     "output_type": "stream",
     "text": [
      "list indices must be integers or slices, not str\n",
      "End of Program\n"
     ]
    }
   ],
   "source": [
    "l1=[1,2,3,4,5,6]\n",
    "try:\n",
    "    index=\"abc\"\n",
    "    print(l1[index])\n",
    "    print(\"End of Try\")\n",
    "except TypeError as msg:\n",
    "    print(msg)\n",
    "except IndexError as ind:\n",
    "    print(ind)\n",
    "except:\n",
    "    print(\"Some Error\")\n",
    "\n",
    "print(\"End of Program\")"
   ]
  },
  {
   "cell_type": "code",
   "execution_count": 98,
   "id": "637ca08c-0ea0-431d-9aed-96c1a348522e",
   "metadata": {},
   "outputs": [
    {
     "name": "stdout",
     "output_type": "stream",
     "text": [
      "list index out of range\n",
      "End of Program\n"
     ]
    }
   ],
   "source": [
    "l1=[1,2,3,4,5,6]\n",
    "try:\n",
    "    index=12\n",
    "    print(l1[index])\n",
    "    print(\"End of Try\")\n",
    "except (TypeError,IndexError) as msg:\n",
    "    print(msg)\n",
    "except:\n",
    "    print(\"Some Error\")\n",
    "\n",
    "print(\"End of Program\")"
   ]
  },
  {
   "cell_type": "code",
   "execution_count": 96,
   "id": "8ead6401-8d81-48dc-9e0e-cf4d4d9bc674",
   "metadata": {},
   "outputs": [
    {
     "name": "stdout",
     "output_type": "stream",
     "text": [
      "list indices must be integers or slices, not str\n",
      "End of Program\n"
     ]
    }
   ],
   "source": [
    "l1=[1,2,3,4,5,6]\n",
    "try:\n",
    "    index=\"abc\"\n",
    "    print(l1[index])\n",
    "    print(\"End of Try\")\n",
    "except (TypeError,IndexError) as msg:\n",
    "    print(msg)\n",
    "except:\n",
    "    print(\"Some Error\")\n",
    "\n",
    "print(\"End of Program\")"
   ]
  },
  {
   "cell_type": "markdown",
   "id": "1cd36e5b-ad39-4661-b45b-665bebfacc1c",
   "metadata": {},
   "source": [
    "### Acceptable methods of Exception Handling"
   ]
  },
  {
   "cell_type": "code",
   "execution_count": 105,
   "id": "812853f3-b3b6-4f81-b23e-0cdb7e29ca5d",
   "metadata": {},
   "outputs": [
    {
     "name": "stdout",
     "output_type": "stream",
     "text": [
      "Div by zero\n"
     ]
    }
   ],
   "source": [
    "def div(a,b):\n",
    "    if b!=0:\n",
    "        return a//b\n",
    "    else:\n",
    "        return -1\n",
    "r=div(10,0)\n",
    "if r==-1:\n",
    "    print(\"Div by zero\")\n",
    "else:\n",
    "    print(r)"
   ]
  },
  {
   "cell_type": "code",
   "execution_count": 107,
   "id": "d9940a6e-fb8b-443d-bfff-9430b01729c9",
   "metadata": {},
   "outputs": [
    {
     "name": "stdout",
     "output_type": "stream",
     "text": [
      "2\n"
     ]
    }
   ],
   "source": [
    "def div(a,b):\n",
    "    if b!=0:\n",
    "        return a//b\n",
    "    else:\n",
    "        return -1\n",
    "r=div(10,5)\n",
    "if r==-1:\n",
    "    print(\"Div by zero\")\n",
    "else:\n",
    "    print(r)"
   ]
  },
  {
   "cell_type": "markdown",
   "id": "47afb79f-a0ec-4941-b749-101d63fbe951",
   "metadata": {},
   "source": [
    "But again if 10,-10 it would give -1 which would indicate div by zero, hence the thing is wrong."
   ]
  },
  {
   "cell_type": "code",
   "execution_count": 119,
   "id": "fcaa9469-9d7c-4561-b518-b7e4963501e8",
   "metadata": {},
   "outputs": [
    {
     "name": "stdout",
     "output_type": "stream",
     "text": [
      "Division by Zero\n"
     ]
    }
   ],
   "source": [
    "def div(a,b):\n",
    "    if b!=0:\n",
    "        return a//b\n",
    "    else:\n",
    "        raise ZeroDivisionError\n",
    "try:\n",
    "    r=div(10,0)\n",
    "    print(r)\n",
    "    print(\"end\")\n",
    "except:\n",
    "    print(\"Division by Zero\")"
   ]
  },
  {
   "cell_type": "code",
   "execution_count": 122,
   "id": "c51a40d5-db68-444a-9aa9-1c477377364a",
   "metadata": {},
   "outputs": [
    {
     "name": "stdout",
     "output_type": "stream",
     "text": [
      "-1\n",
      "end\n"
     ]
    }
   ],
   "source": [
    "def div(a,b):\n",
    "    if b!=0:\n",
    "        return a//b\n",
    "    else:\n",
    "        raise ZeroDivisionError\n",
    "try:\n",
    "    r=div(10,-10)\n",
    "    print(r)\n",
    "    print(\"end\")\n",
    "except:\n",
    "    print(\"Division by Zero\")"
   ]
  },
  {
   "cell_type": "markdown",
   "id": "efdbcddc-1bbb-4bea-8d69-5cdd5b98ba1b",
   "metadata": {},
   "source": [
    "### Else block"
   ]
  },
  {
   "cell_type": "code",
   "execution_count": 124,
   "id": "c87146f0-1ac9-423c-b3f2-c0a356bb19ad",
   "metadata": {},
   "outputs": [
    {
     "name": "stdout",
     "output_type": "stream",
     "text": [
      "-1\n",
      "end\n"
     ]
    }
   ],
   "source": [
    "def div(a,b):\n",
    "    if b!=0:\n",
    "        return a//b\n",
    "    else:\n",
    "        raise ZeroDivisionError\n",
    "try:\n",
    "    r=div(10,-10)\n",
    "except:\n",
    "    print(\"Division by Zero\")\n",
    "else:\n",
    "    print(r)\n",
    "    print(\"end\")"
   ]
  },
  {
   "cell_type": "markdown",
   "id": "10cd35b8-d608-4546-8d48-30c6b48b7494",
   "metadata": {},
   "source": [
    "After try block, if no exceptions arise, else block is executed always, hence we can just pass the exception deciding code in try block and write the rest code in else block as a continuation if the condition is followed"
   ]
  },
  {
   "cell_type": "markdown",
   "id": "c0a94807-e6fd-480e-866f-a8c0f047ccfa",
   "metadata": {},
   "source": [
    "### Finally Block"
   ]
  },
  {
   "cell_type": "markdown",
   "id": "24defc5a-6774-4880-bb96-bcc8896b47a4",
   "metadata": {},
   "source": [
    "Finally block is always executed irrespective of working of try or except block"
   ]
  },
  {
   "cell_type": "code",
   "execution_count": 160,
   "id": "4cbb8ac8-8889-4b44-9061-a412407161e2",
   "metadata": {},
   "outputs": [
    {
     "name": "stdout",
     "output_type": "stream",
     "text": [
      "Function Ended\n"
     ]
    },
    {
     "ename": "ValueError",
     "evalue": "invalid literal for int() with base 10: 'abc'",
     "output_type": "error",
     "traceback": [
      "\u001b[1;31m---------------------------------------------------------------------------\u001b[0m",
      "\u001b[1;31mValueError\u001b[0m                                Traceback (most recent call last)",
      "Cell \u001b[1;32mIn[160], line 9\u001b[0m\n\u001b[0;32m      7\u001b[0m     \u001b[38;5;28;01mfinally\u001b[39;00m:\n\u001b[0;32m      8\u001b[0m         \u001b[38;5;28mprint\u001b[39m(\u001b[38;5;124m\"\u001b[39m\u001b[38;5;124mFunction Ended\u001b[39m\u001b[38;5;124m\"\u001b[39m)\n\u001b[1;32m----> 9\u001b[0m a\u001b[38;5;241m=\u001b[39mfun()\n\u001b[0;32m     10\u001b[0m \u001b[38;5;28mprint\u001b[39m(a)\n",
      "Cell \u001b[1;32mIn[160], line 6\u001b[0m, in \u001b[0;36mfun\u001b[1;34m()\u001b[0m\n\u001b[0;32m      4\u001b[0m     \u001b[38;5;28;01mreturn\u001b[39;00m res\n\u001b[0;32m      5\u001b[0m \u001b[38;5;28;01mexcept\u001b[39;00m \u001b[38;5;167;01mException\u001b[39;00m \u001b[38;5;28;01mas\u001b[39;00m e:\n\u001b[1;32m----> 6\u001b[0m     \u001b[38;5;28;01mraise\u001b[39;00m e\n\u001b[0;32m      7\u001b[0m \u001b[38;5;28;01mfinally\u001b[39;00m:\n\u001b[0;32m      8\u001b[0m     \u001b[38;5;28mprint\u001b[39m(\u001b[38;5;124m\"\u001b[39m\u001b[38;5;124mFunction Ended\u001b[39m\u001b[38;5;124m\"\u001b[39m)\n",
      "Cell \u001b[1;32mIn[160], line 3\u001b[0m, in \u001b[0;36mfun\u001b[1;34m()\u001b[0m\n\u001b[0;32m      1\u001b[0m \u001b[38;5;28;01mdef\u001b[39;00m \u001b[38;5;21mfun\u001b[39m():\n\u001b[0;32m      2\u001b[0m     \u001b[38;5;28;01mtry\u001b[39;00m:\n\u001b[1;32m----> 3\u001b[0m         res\u001b[38;5;241m=\u001b[39m\u001b[38;5;28mint\u001b[39m(\u001b[38;5;124m\"\u001b[39m\u001b[38;5;124mabc\u001b[39m\u001b[38;5;124m\"\u001b[39m)\n\u001b[0;32m      4\u001b[0m         \u001b[38;5;28;01mreturn\u001b[39;00m res\n\u001b[0;32m      5\u001b[0m     \u001b[38;5;28;01mexcept\u001b[39;00m \u001b[38;5;167;01mException\u001b[39;00m \u001b[38;5;28;01mas\u001b[39;00m e:\n",
      "\u001b[1;31mValueError\u001b[0m: invalid literal for int() with base 10: 'abc'"
     ]
    }
   ],
   "source": [
    "def fun():\n",
    "    try:\n",
    "        res=int(\"abc\")\n",
    "        return res\n",
    "    except Exception as e:\n",
    "        raise e\n",
    "    finally:\n",
    "        print(\"Function Ended\")\n",
    "a=fun()\n",
    "print(a)"
   ]
  },
  {
   "cell_type": "markdown",
   "id": "399c489a-c743-4494-b60f-eb5a80261a33",
   "metadata": {},
   "source": [
    "### User Defined Exceptions"
   ]
  },
  {
   "cell_type": "code",
   "execution_count": 162,
   "id": "9a36c35f-0784-4290-9976-ebb0b0374bc4",
   "metadata": {},
   "outputs": [
    {
     "ename": "NegativeError",
     "evalue": "-ve Dimensions",
     "output_type": "error",
     "traceback": [
      "\u001b[1;31m---------------------------------------------------------------------------\u001b[0m",
      "\u001b[1;31mNegativeError\u001b[0m                             Traceback (most recent call last)",
      "Cell \u001b[1;32mIn[162], line 10\u001b[0m\n\u001b[0;32m      7\u001b[0m     \u001b[38;5;28;01melse\u001b[39;00m:\n\u001b[0;32m      8\u001b[0m         \u001b[38;5;28;01mraise\u001b[39;00m NegativeError(\u001b[38;5;124m\"\u001b[39m\u001b[38;5;124m-ve Dimensions\u001b[39m\u001b[38;5;124m\"\u001b[39m)\n\u001b[1;32m---> 10\u001b[0m area(\u001b[38;5;241m-\u001b[39m\u001b[38;5;241m2\u001b[39m,\u001b[38;5;241m3\u001b[39m)\n",
      "Cell \u001b[1;32mIn[162], line 8\u001b[0m, in \u001b[0;36marea\u001b[1;34m(l, b)\u001b[0m\n\u001b[0;32m      6\u001b[0m     \u001b[38;5;28;01mreturn\u001b[39;00m l\u001b[38;5;241m*\u001b[39mb\n\u001b[0;32m      7\u001b[0m \u001b[38;5;28;01melse\u001b[39;00m:\n\u001b[1;32m----> 8\u001b[0m     \u001b[38;5;28;01mraise\u001b[39;00m NegativeError(\u001b[38;5;124m\"\u001b[39m\u001b[38;5;124m-ve Dimensions\u001b[39m\u001b[38;5;124m\"\u001b[39m)\n",
      "\u001b[1;31mNegativeError\u001b[0m: -ve Dimensions"
     ]
    }
   ],
   "source": [
    "class NegativeError(Exception):\n",
    "    pass\n",
    "\n",
    "def area(l,b):\n",
    "    if(l>=0 and b>0):\n",
    "        return l*b\n",
    "    else:\n",
    "        raise NegativeError(\"-ve Dimensions\")\n",
    "\n",
    "area(-2,3)"
   ]
  },
  {
   "cell_type": "code",
   "execution_count": 168,
   "id": "fed2922b-4456-45ce-b85e-932c53ed9a82",
   "metadata": {},
   "outputs": [
    {
     "ename": "NegativeError",
     "evalue": "-ve Dimensions",
     "output_type": "error",
     "traceback": [
      "\u001b[1;31m---------------------------------------------------------------------------\u001b[0m",
      "\u001b[1;31mNegativeError\u001b[0m                             Traceback (most recent call last)",
      "Cell \u001b[1;32mIn[168], line 13\u001b[0m\n\u001b[0;32m     10\u001b[0m     \u001b[38;5;28;01melse\u001b[39;00m:\n\u001b[0;32m     11\u001b[0m         \u001b[38;5;28;01mraise\u001b[39;00m NegativeError()\n\u001b[1;32m---> 13\u001b[0m area(\u001b[38;5;241m-\u001b[39m\u001b[38;5;241m2\u001b[39m,\u001b[38;5;241m3\u001b[39m)\n",
      "Cell \u001b[1;32mIn[168], line 11\u001b[0m, in \u001b[0;36marea\u001b[1;34m(l, b)\u001b[0m\n\u001b[0;32m      9\u001b[0m     \u001b[38;5;28;01mreturn\u001b[39;00m l\u001b[38;5;241m*\u001b[39mb\n\u001b[0;32m     10\u001b[0m \u001b[38;5;28;01melse\u001b[39;00m:\n\u001b[1;32m---> 11\u001b[0m     \u001b[38;5;28;01mraise\u001b[39;00m NegativeError()\n",
      "\u001b[1;31mNegativeError\u001b[0m: -ve Dimensions"
     ]
    }
   ],
   "source": [
    "class NegativeError(Exception):\n",
    "    def __init__(self):\n",
    "        self.msg=\"-ve Dimensions\"\n",
    "    def __str__(self):\n",
    "        return self.msg\n",
    "\n",
    "def area(l,b):\n",
    "    if(l>=0 and b>0):\n",
    "        return l*b\n",
    "    else:\n",
    "        raise NegativeError()\n",
    "\n",
    "area(-2,3)"
   ]
  },
  {
   "cell_type": "markdown",
   "id": "f310867d-4648-46e4-8263-ca02459bb428",
   "metadata": {},
   "source": [
    "### Nested Try Except"
   ]
  },
  {
   "cell_type": "code",
   "execution_count": 177,
   "id": "ed9b87f2-0811-482a-8cc3-f4d6f5c15440",
   "metadata": {},
   "outputs": [
    {
     "name": "stdin",
     "output_type": "stream",
     "text": [
      "Enter index: abc\n"
     ]
    },
    {
     "name": "stdout",
     "output_type": "stream",
     "text": [
      "invalid literal for int() with base 10: 'abc'\n"
     ]
    }
   ],
   "source": [
    "l1=[1,2,3,4,5,6]\n",
    "try:\n",
    "    index=int(input(\"Enter index:\"))\n",
    "    print(l1[index])\n",
    "except ValueError as e:\n",
    "    print(e)\n",
    "except IndexError as e:\n",
    "    print(e)\n",
    "except TypeError as e:\n",
    "    print(e)"
   ]
  },
  {
   "cell_type": "code",
   "execution_count": 179,
   "id": "ccd00fcf-cf6e-4bc0-833c-a1df42b8290b",
   "metadata": {},
   "outputs": [
    {
     "name": "stdin",
     "output_type": "stream",
     "text": [
      "Enter index: 12\n"
     ]
    },
    {
     "name": "stdout",
     "output_type": "stream",
     "text": [
      "list index out of range\n"
     ]
    }
   ],
   "source": [
    "l1=[1,2,3,4,5,6]\n",
    "try:\n",
    "    index=int(input(\"Enter index:\"))\n",
    "    print(l1[index])\n",
    "except ValueError as e:\n",
    "    print(e)\n",
    "except IndexError as e:\n",
    "    print(e)\n",
    "except TypeError as e:\n",
    "    print(e)"
   ]
  },
  {
   "cell_type": "code",
   "execution_count": 183,
   "id": "a470bfed-0e84-4ed6-a013-df9ec451dbb0",
   "metadata": {},
   "outputs": [
    {
     "name": "stdin",
     "output_type": "stream",
     "text": [
      "Enter index: 12\n"
     ]
    },
    {
     "name": "stdout",
     "output_type": "stream",
     "text": [
      "list index out of range\n"
     ]
    }
   ],
   "source": [
    "l1=[1,2,3,4,5,6]\n",
    "try:\n",
    "    try:\n",
    "        index=int(input(\"Enter index:\"))\n",
    "    except ValueError as e:\n",
    "        print(e)\n",
    "    print(l1[index])\n",
    "except IndexError as e:\n",
    "    print(e)"
   ]
  },
  {
   "cell_type": "code",
   "execution_count": 187,
   "id": "15ee9758-2418-4ef4-ba64-7569dfb5cf4e",
   "metadata": {},
   "outputs": [
    {
     "name": "stdin",
     "output_type": "stream",
     "text": [
      "Enter index: abc\n"
     ]
    },
    {
     "name": "stdout",
     "output_type": "stream",
     "text": [
      "invalid literal for int() with base 10: 'abc'\n",
      "list index out of range\n"
     ]
    }
   ],
   "source": [
    "l1=[1,2,3,4,5,6]\n",
    "try:\n",
    "    try:\n",
    "        index=int(input(\"Enter index:\"))\n",
    "    except ValueError as e:\n",
    "        print(e)\n",
    "    print(l1[index])\n",
    "except IndexError as e:\n",
    "    print(e)\n",
    "except Exception as e:\n",
    "    print(e)"
   ]
  },
  {
   "cell_type": "markdown",
   "id": "26b40306-c07c-420d-9e16-cddbe79343a9",
   "metadata": {},
   "source": [
    "## File Handling"
   ]
  },
  {
   "cell_type": "code",
   "execution_count": null,
   "id": "6146f6e1-f7df-44c1-96eb-7ba701c5bede",
   "metadata": {},
   "outputs": [],
   "source": [
    "fp=open(\"abc.txt\",\"r\")\n",
    "str1=fp.read(32)\n",
    "print(str1)\n",
    "fp.close()"
   ]
  },
  {
   "cell_type": "code",
   "execution_count": null,
   "id": "94ba4798-a972-4168-a3cb-373e772bc16d",
   "metadata": {},
   "outputs": [],
   "source": [
    "#Append and read\n",
    "fp=open(\"abc.txt\",\"r\")\n",
    "str1=fp.read(32)\n",
    "print(str1)\n",
    "str2=input(\"Enter a string to write to the file: \")\n",
    "fp=open(\"abc.txt\",\"a\")\n",
    "fp.write(str2)\n",
    "fp=open(\"abc.txt\",\"r\")\n",
    "str3=fp.read()\n",
    "print(str3)\n",
    "fp.close()"
   ]
  },
  {
   "cell_type": "code",
   "execution_count": null,
   "id": "edc1cf5b-5180-4440-8434-2f8884834e43",
   "metadata": {},
   "outputs": [],
   "source": [
    "#The General abc.txt (Updated)\n",
    "This is a Python Text File and is a simple Test File.My name is Antarikshya MitraMy name is AntarikshyaMy name is Antarikshya Mitra\n"
   ]
  },
  {
   "cell_type": "markdown",
   "id": "56dfd306-bb8b-4dea-9c33-b8210ba4ceeb",
   "metadata": {},
   "source": [
    "Various Methods:-"
   ]
  },
  {
   "cell_type": "code",
   "execution_count": null,
   "id": "99f0e9a5-6f6d-4e9a-9ed6-ed2066d8153e",
   "metadata": {},
   "outputs": [],
   "source": [
    "file.read(len)\n",
    "file.write(str)\n",
    "file.close()\n",
    "file.readline(len)\n",
    "file.readlines(sizehint)\n",
    "file.flush() #clear the buffer memory\n",
    "file.seek(offset[,whence])\n",
    "file.tell()\n",
    "readable() #check whether the file is readable\n",
    "writable() #check whether the file is writable\n",
    "file.writelines(sequence)"
   ]
  },
  {
   "cell_type": "code",
   "execution_count": 198,
   "id": "bce937e9-4c14-4e31-9634-17dd147d68f2",
   "metadata": {},
   "outputs": [
    {
     "data": {
      "text/plain": [
       "_io.TextIOWrapper"
      ]
     },
     "execution_count": 198,
     "metadata": {},
     "output_type": "execute_result"
    }
   ],
   "source": [
    "file=open(\"abc.txt\",\"w\")\n",
    "type(file)"
   ]
  },
  {
   "cell_type": "code",
   "execution_count": 200,
   "id": "2069cb4e-6f13-4d84-93b6-c4e36c9a77a4",
   "metadata": {},
   "outputs": [
    {
     "data": {
      "text/plain": [
       "_io.TextIOWrapper"
      ]
     },
     "execution_count": 200,
     "metadata": {},
     "output_type": "execute_result"
    }
   ],
   "source": [
    "fp=open(\"abc.txt\",\"wb\")\n",
    "type(file)"
   ]
  },
  {
   "cell_type": "code",
   "execution_count": 208,
   "id": "a19e4e94-ae1e-4606-8592-c76ed8b0f93b",
   "metadata": {},
   "outputs": [
    {
     "name": "stdout",
     "output_type": "stream",
     "text": [
      "abc.text\n",
      "w\n",
      "False\n"
     ]
    }
   ],
   "source": [
    "fp=open(\"abc.text\",\"w\")\n",
    "print(fp.name)\n",
    "print(fp.mode)\n",
    "print(fp.closed)\n",
    "# Hence we can see details of the file through the file pointer"
   ]
  },
  {
   "cell_type": "code",
   "execution_count": null,
   "id": "889d1967-00af-40c9-a6d4-20a23bccaba4",
   "metadata": {},
   "outputs": [],
   "source": [
    "fp=open(\"abc.txt\",\"r\")\n",
    "str1=fp.readlines(20)\n",
    "print(str1)\n",
    "fp.close()"
   ]
  },
  {
   "cell_type": "code",
   "execution_count": null,
   "id": "d78ed0e8-3b2f-40fe-8a2b-62fa45f25518",
   "metadata": {},
   "outputs": [],
   "source": [
    "['Roses are red\\n', 'Violets are blue\\n'] #<---- Output\n",
    "# here it reads line in the form of a list"
   ]
  },
  {
   "cell_type": "code",
   "execution_count": null,
   "id": "a445eafd-38fd-4c03-bb38-f869afd7baf2",
   "metadata": {},
   "outputs": [],
   "source": [
    "fp=open(\"abc.txt\",\"r\")\n",
    "str1=fp.readlines()\n",
    "print(str1)\n",
    "fp.close()\n",
    "fp=open(\"abc.txt\",\"r\")\n",
    "str2=fp.readline()\n",
    "print(str2)\n",
    "fp.close()"
   ]
  },
  {
   "cell_type": "code",
   "execution_count": null,
   "id": "1e2a835e-7968-4c9b-963a-575cc9920922",
   "metadata": {},
   "outputs": [],
   "source": [
    "['Roses are red\\n', 'Violets are blue\\n', 'You love me\\n', 'And I love you'] #as a list (readlines)\n",
    "Roses are red #reads as an str"
   ]
  },
  {
   "cell_type": "code",
   "execution_count": null,
   "id": "5d4952bd-7719-4292-96f8-a7a86a793bdb",
   "metadata": {},
   "outputs": [],
   "source": [
    "fp=open(\"prop.txt\",\"w\")\n",
    "str1=\"This is a test file.\\nPython is great.\\nI am learning Python.\\n\"\n",
    "fp.write(str1)\n",
    "fp.close()\n",
    "list1=[\"This is a test file.\",\"Python is great.\",\"I am learning Python.\"]\n",
    "fp=open(\"prop.txt\",\"a\")\n",
    "fp.writelines(list1)\n",
    "fp.close()"
   ]
  },
  {
   "cell_type": "code",
   "execution_count": null,
   "id": "e2963658-6f51-40ec-99d6-73df62eac4f9",
   "metadata": {},
   "outputs": [],
   "source": [
    "This is a test file. ##Output in the file\n",
    "Python is great.\n",
    "I am learning Python.\n",
    "This is a test file.Python is great.I am learning Python."
   ]
  },
  {
   "cell_type": "markdown",
   "id": "9545d6ac-b1f7-4505-b129-a6531c24c04d",
   "metadata": {},
   "source": [
    "### Copying Binary File"
   ]
  },
  {
   "cell_type": "markdown",
   "id": "8e693e55-f5c2-4d93-b9f1-78383c573b10",
   "metadata": {},
   "source": [
    "Let's copy a picture of python logo(which I downloaded), Now I create a blank python-copy.png to copy the python-logo.png. Also I created logomaker.py to write the code for doing so."
   ]
  },
  {
   "cell_type": "code",
   "execution_count": null,
   "id": "30d1aa93-f324-4908-97d4-01f4572e4210",
   "metadata": {},
   "outputs": [],
   "source": [
    "fp=open(\"python-logo.png\",\"rb\")\n",
    "data=fp.read()\n",
    "cp=open(\"python-copy.png\",\"wb\")\n",
    "cp.write(data)\n",
    "cp.close()\n",
    "fp.close()"
   ]
  },
  {
   "cell_type": "markdown",
   "id": "bfa25811-3749-440c-8c1f-c5c354585c75",
   "metadata": {},
   "source": [
    "### Random Access Binary Files"
   ]
  },
  {
   "cell_type": "markdown",
   "id": "c5aaaf19-3f3a-4c6b-ba12-091f108b41a9",
   "metadata": {},
   "source": [
    "WE can write Binary files directly with:\n"
   ]
  },
  {
   "cell_type": "code",
   "execution_count": 216,
   "id": "24efaf90-f1c7-42ae-ad33-4ea2eb095d34",
   "metadata": {},
   "outputs": [],
   "source": [
    "with open(\"mybin\",\"wb\") as f: #in this we don't have to manually close the file, it would automatically close  \n",
    "    f.write(\"abcdefghij\".encode()) #or f.write(b\"abcdefghij\")"
   ]
  },
  {
   "cell_type": "code",
   "execution_count": 218,
   "id": "91bfa22b-66b3-4c8d-a5a6-c48b04ed4866",
   "metadata": {},
   "outputs": [
    {
     "name": "stdout",
     "output_type": "stream",
     "text": [
      "ab\n",
      "e\n",
      "gh\n"
     ]
    }
   ],
   "source": [
    "with open(\"mybin\",\"rb\") as f:\n",
    "    print(f.read(2).decode())  \n",
    "    f.seek(4,0) # Move the cursor to the 4th byte  from 0th position #0-->beginning, 1-->current position, 2-->end of file\n",
    "    print(f.read(1).decode())\n",
    "    f.seek(-4,2)\n",
    "    print(f.read(2).decode()) "
   ]
  },
  {
   "cell_type": "markdown",
   "id": "7c7af7a1-14f5-4b27-949e-87f596e81bc0",
   "metadata": {},
   "source": [
    "0th position means beginning of file\n",
    "\n",
    "1st position means current position\n",
    "\n",
    "2nd position means end position in the file"
   ]
  },
  {
   "cell_type": "markdown",
   "id": "622c33ab-b4c1-48f4-8e50-f836cf0731dc",
   "metadata": {},
   "source": [
    "### Pickle & Un-Pickle"
   ]
  },
  {
   "cell_type": "markdown",
   "id": "880136e9-3a91-4b1d-ab41-bf51e6053613",
   "metadata": {},
   "source": [
    "In Java,C++ this is called Serialization.\n",
    "\n",
    "IN Python, this is called Pickle & Un-Pickle. \n",
    "\n",
    "where you read object from a file and write object into a file"
   ]
  },
  {
   "cell_type": "markdown",
   "id": "2aa4b7e8-82db-4449-b211-88a89576be3a",
   "metadata": {},
   "source": [
    "This was in a file named student.py"
   ]
  },
  {
   "cell_type": "code",
   "execution_count": 223,
   "id": "8ed3ba02-c2c9-4c23-8826-894f05d73691",
   "metadata": {},
   "outputs": [],
   "source": [
    "class student:\n",
    "    def __init__(self,name,rollno,dept):\n",
    "        self.name = name\n",
    "        self.rollno = rollno\n",
    "        self.dept = dept\n",
    "    def display(self):\n",
    "        print(\"Name:\", self.name)\n",
    "        print(\"Roll No:\", self.rollno) \n",
    "        print(\"Department:\", self.dept)"
   ]
  },
  {
   "cell_type": "markdown",
   "id": "233bb932-f9f0-485c-8578-4b91cfca2cc4",
   "metadata": {},
   "source": [
    "This was in a file named storing.py"
   ]
  },
  {
   "cell_type": "code",
   "execution_count": 227,
   "id": "01a146aa-6983-4ff0-8f19-ac38a21d11b8",
   "metadata": {},
   "outputs": [],
   "source": [
    "import student, pickle\n",
    "\n",
    "list1=[student.student(\"Alice\", 101, \"CS\"), student.student(\"Bob\", 102, \"EE\"), student.student(\"Charlie\", 103, \"ME\")]\n",
    "with open(\"students.data\", \"wb\") as f:\n",
    "    for s in list1:\n",
    "        pickle.dump(s,f) #object and file handler as arguments\n"
   ]
  },
  {
   "cell_type": "markdown",
   "id": "46c5a7b8-b802-48dd-bc70-79b7cff308c1",
   "metadata": {},
   "source": [
    "This was in a file named reading.py"
   ]
  },
  {
   "cell_type": "code",
   "execution_count": 230,
   "id": "16e727b4-4496-4094-8817-6a78cc908d8b",
   "metadata": {},
   "outputs": [
    {
     "name": "stdout",
     "output_type": "stream",
     "text": [
      "Name: Alice\n",
      "Roll No: 101\n",
      "Department: CS\n",
      "Name: Bob\n",
      "Roll No: 102\n",
      "Department: EE\n",
      "Name: Charlie\n",
      "Roll No: 103\n",
      "Department: ME\n"
     ]
    }
   ],
   "source": [
    "import student,pickle\n",
    "\n",
    "with open(\"students.data\", \"rb\") as f:\n",
    "    for i in range(3):\n",
    "        s=pickle.load(f)\n",
    "        s.display()"
   ]
  },
  {
   "cell_type": "code",
   "execution_count": null,
   "id": "326e8a39-e413-452b-b9a3-45a440e36c34",
   "metadata": {},
   "outputs": [],
   "source": []
  }
 ],
 "metadata": {
  "kernelspec": {
   "display_name": "Python [conda env:base] *",
   "language": "python",
   "name": "conda-base-py"
  },
  "language_info": {
   "codemirror_mode": {
    "name": "ipython",
    "version": 3
   },
   "file_extension": ".py",
   "mimetype": "text/x-python",
   "name": "python",
   "nbconvert_exporter": "python",
   "pygments_lexer": "ipython3",
   "version": "3.12.7"
  }
 },
 "nbformat": 4,
 "nbformat_minor": 5
}
